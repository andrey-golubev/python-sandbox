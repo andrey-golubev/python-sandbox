{
 "cells": [
  {
   "cell_type": "markdown",
   "metadata": {},
   "source": [
    "# News similarity modelling\n",
    "\n",
    "[Dataset](https://www.kaggle.com/c/newssimil)"
   ]
  },
  {
   "cell_type": "code",
   "execution_count": 1,
   "metadata": {},
   "outputs": [],
   "source": [
    "import pandas as pd\n",
    "import csv\n",
    "import numpy as np\n",
    "import nltk"
   ]
  },
  {
   "cell_type": "code",
   "execution_count": 2,
   "metadata": {},
   "outputs": [
    {
     "name": "stdout",
     "output_type": "stream",
     "text": [
      "[nltk_data] Downloading package stopwords to\n",
      "[nltk_data]     /home/andrgolubev/nltk_data...\n",
      "[nltk_data]   Package stopwords is already up-to-date!\n"
     ]
    },
    {
     "data": {
      "text/plain": [
       "True"
      ]
     },
     "execution_count": 2,
     "metadata": {},
     "output_type": "execute_result"
    }
   ],
   "source": [
    "nltk.download('stopwords')"
   ]
  },
  {
   "cell_type": "code",
   "execution_count": 3,
   "metadata": {},
   "outputs": [
    {
     "name": "stdout",
     "output_type": "stream",
     "text": [
      "[nltk_data] Downloading package punkt to\n",
      "[nltk_data]     /home/andrgolubev/nltk_data...\n",
      "[nltk_data]   Package punkt is already up-to-date!\n"
     ]
    },
    {
     "data": {
      "text/plain": [
       "True"
      ]
     },
     "execution_count": 3,
     "metadata": {},
     "output_type": "execute_result"
    }
   ],
   "source": [
    "nltk.download('punkt')"
   ]
  },
  {
   "cell_type": "code",
   "execution_count": 8,
   "metadata": {},
   "outputs": [],
   "source": [
    "train_file = 'news_similarity_train.csv'"
   ]
  },
  {
   "cell_type": "code",
   "execution_count": 9,
   "metadata": {},
   "outputs": [],
   "source": [
    "news_df = pd.read_csv(train_file, sep=\",\",\n",
    "                      engine=\"c\",\n",
    "#                       names=['post_id','published_at','title','subtitle','content'],\n",
    "#                       dtype={\n",
    "#                           'post_id': np.int32,\n",
    "#                           'published_at': np.datetime64,\n",
    "#                           'title': str,\n",
    "#                           'subtitle': str,\n",
    "#                           'content': str\n",
    "#                       }\n",
    "#                       skiprows=skip\n",
    "                     )"
   ]
  },
  {
   "cell_type": "code",
   "execution_count": 10,
   "metadata": {},
   "outputs": [
    {
     "data": {
      "text/html": [
       "<div>\n",
       "<style scoped>\n",
       "    .dataframe tbody tr th:only-of-type {\n",
       "        vertical-align: middle;\n",
       "    }\n",
       "\n",
       "    .dataframe tbody tr th {\n",
       "        vertical-align: top;\n",
       "    }\n",
       "\n",
       "    .dataframe thead th {\n",
       "        text-align: right;\n",
       "    }\n",
       "</style>\n",
       "<table border=\"1\" class=\"dataframe\">\n",
       "  <thead>\n",
       "    <tr style=\"text-align: right;\">\n",
       "      <th></th>\n",
       "      <th>post_id</th>\n",
       "      <th>published_at</th>\n",
       "      <th>title</th>\n",
       "      <th>subtitle</th>\n",
       "      <th>content</th>\n",
       "    </tr>\n",
       "  </thead>\n",
       "  <tbody>\n",
       "    <tr>\n",
       "      <th>0</th>\n",
       "      <td>1</td>\n",
       "      <td>2017-01-01T00:05:00Z</td>\n",
       "      <td>Полиция Стамбула собирается штурмовать ночной ...</td>\n",
       "      <td>Согласно последним данным, в здании может нахо...</td>\n",
       "      <td>&lt;p&gt;Полиция Стамбула собирается штурмовать ночн...</td>\n",
       "    </tr>\n",
       "    <tr>\n",
       "      <th>1</th>\n",
       "      <td>2</td>\n",
       "      <td>2017-01-01T00:07:00Z</td>\n",
       "      <td>Расстрел посетителей в ночном клубе в Стамбуле...</td>\n",
       "      <td>Ранее сообщалось, что полицейские собираются ш...</td>\n",
       "      <td>&lt;p&gt;Опубликовано видео, где злоумышленник расст...</td>\n",
       "    </tr>\n",
       "    <tr>\n",
       "      <th>2</th>\n",
       "      <td>3</td>\n",
       "      <td>2017-01-01T00:21:00Z</td>\n",
       "      <td>Губернатор Стамбула: При нападении на ночной к...</td>\n",
       "      <td>Ранее сообщалось, что от 40 до 60 человек полу...</td>\n",
       "      <td>&lt;p&gt;Губернатор Стамбула &lt;span&gt;Васип Шахин&lt;/span...</td>\n",
       "    </tr>\n",
       "    <tr>\n",
       "      <th>3</th>\n",
       "      <td>4</td>\n",
       "      <td>2017-01-01T00:29:00Z</td>\n",
       "      <td>Губернатор Стамбула назвал террористической ат...</td>\n",
       "      <td>Согласно последним данным, погибло минимум 35 ...</td>\n",
       "      <td>&lt;p&gt;Губернатор Стамбула Васип Шахин назвал терр...</td>\n",
       "    </tr>\n",
       "    <tr>\n",
       "      <th>4</th>\n",
       "      <td>5</td>\n",
       "      <td>2017-01-01T00:47:00Z</td>\n",
       "      <td>Очевидцы: В ночной клуб в Стамбуле проходили б...</td>\n",
       "      <td>Ранее губернатор Стамбула Васип Шахин назвал п...</td>\n",
       "      <td>&lt;p&gt;Посетители стамбульского клуба \"Рейна\", на ...</td>\n",
       "    </tr>\n",
       "  </tbody>\n",
       "</table>\n",
       "</div>"
      ],
      "text/plain": [
       "   post_id          published_at  \\\n",
       "0        1  2017-01-01T00:05:00Z   \n",
       "1        2  2017-01-01T00:07:00Z   \n",
       "2        3  2017-01-01T00:21:00Z   \n",
       "3        4  2017-01-01T00:29:00Z   \n",
       "4        5  2017-01-01T00:47:00Z   \n",
       "\n",
       "                                               title  \\\n",
       "0  Полиция Стамбула собирается штурмовать ночной ...   \n",
       "1  Расстрел посетителей в ночном клубе в Стамбуле...   \n",
       "2  Губернатор Стамбула: При нападении на ночной к...   \n",
       "3  Губернатор Стамбула назвал террористической ат...   \n",
       "4  Очевидцы: В ночной клуб в Стамбуле проходили б...   \n",
       "\n",
       "                                            subtitle  \\\n",
       "0  Согласно последним данным, в здании может нахо...   \n",
       "1  Ранее сообщалось, что полицейские собираются ш...   \n",
       "2  Ранее сообщалось, что от 40 до 60 человек полу...   \n",
       "3  Согласно последним данным, погибло минимум 35 ...   \n",
       "4  Ранее губернатор Стамбула Васип Шахин назвал п...   \n",
       "\n",
       "                                             content  \n",
       "0  <p>Полиция Стамбула собирается штурмовать ночн...  \n",
       "1  <p>Опубликовано видео, где злоумышленник расст...  \n",
       "2  <p>Губернатор Стамбула <span>Васип Шахин</span...  \n",
       "3  <p>Губернатор Стамбула Васип Шахин назвал терр...  \n",
       "4  <p>Посетители стамбульского клуба \"Рейна\", на ...  "
      ]
     },
     "execution_count": 10,
     "metadata": {},
     "output_type": "execute_result"
    }
   ],
   "source": [
    "news_df.head()"
   ]
  },
  {
   "cell_type": "code",
   "execution_count": 11,
   "metadata": {},
   "outputs": [],
   "source": [
    "import json\n",
    "def get_json(myjson):\n",
    "  try:\n",
    "    return json.loads(myjson)\n",
    "  except ValueError:\n",
    "    return None"
   ]
  },
  {
   "cell_type": "code",
   "execution_count": 8,
   "metadata": {},
   "outputs": [
    {
     "name": "stdout",
     "output_type": "stream",
     "text": [
      "True\n",
      "False\n"
     ]
    }
   ],
   "source": [
    "print(get_json(news_df['content'][103325]) is not None)\n",
    "print(get_json(news_df['content'][0]) is not None)"
   ]
  },
  {
   "cell_type": "code",
   "execution_count": 21,
   "metadata": {},
   "outputs": [
    {
     "data": {
      "text/plain": [
       "'21-летняя Райли Хемсон два года назад весила 115 кг\\nДевушка занялась фитнесом и стала описывать всё, что с ней происходит, в соцсетях\\nВо время своей работы парамедиком Хемсон сталкивалась с людьми, страдающими от избытка веса\\nРайли делилась с подписчиками в \"Инстаграме\" не только своими успехами, но и переживаниями, ошибками\\nОна начала активно пропагандировать здоровый образ жизни и идею о том, что надо любить своё тело и заботиться о нём на всех этапах жизни\\nНе смотря на то что девушка является вегетарианкой, она набрала лишний вес из-за частого употребления пиццы и прочей вредной еды\\nРайли вдохновила многих людей своими усилиями вести здоровый образ жизни. За год девушка потеряла 25 кг\\nВ результате на страницу девушки в \"Инстаграме\" подписалось более 15 тыс. человек'"
      ]
     },
     "execution_count": 21,
     "metadata": {},
     "output_type": "execute_result"
    }
   ],
   "source": [
    "j = get_json(news_df['content'][103297])\n",
    "full_j = [row[\"value\"][\"blocks\"][0][\"text\"] for row in j if row[\"type\"] == \"TEXT\" or row[\"type\"] == \"SUBTITLE\"]\n",
    "\"\\n\".join(full_j)"
   ]
  },
  {
   "cell_type": "code",
   "execution_count": 20,
   "metadata": {},
   "outputs": [
    {
     "data": {
      "text/plain": [
       "'Президент США Барак Обама, генсек НАТО Йенс Столтенберг и глава европейской дипломатии Федерика Могерини выразили соболезнования в связи с терактом в Стамбуле.\\n— Трагическое начало 2017 года в Стамбуле. Мои мысли сейчас с теми, кого затронуло это нападение в то время, когда они праздновали Новый год, — написал Йенс Столтенберг на своей страничке в \"Твиттере\".\\n \\nБарак Обама, в свою очередь, распорядился немедленно оказать всю необходимую помощь Турции после случившегося теракта в Стамбуле.\\nФедерика Могерини также сказала, что этот год начался с трагических событий в Турции.\\n— 2017 год начался с атаки на Стамбул. Наши мысли с погибшими и их родными. Мы продолжим работать над предотвращением таких трагедий, — написала Могерини в своём \"Твиттере\".\\n \\nНапомним, что в результате вооружённого нападения на элитный ночной клуб \"Рейна\" в Стамбуле погибли не менее 35 человек. За последними новостями по этой теме следите в нашей текстовой трансляции.'"
      ]
     },
     "execution_count": 20,
     "metadata": {},
     "output_type": "execute_result"
    }
   ],
   "source": [
    "from bs4 import BeautifulSoup\n",
    "soup = BeautifulSoup(news_df['content'][16], 'html.parser')\n",
    "soup.get_text().replace(u'\\xa0', u' ')"
   ]
  },
  {
   "cell_type": "code",
   "execution_count": 85,
   "metadata": {},
   "outputs": [
    {
     "data": {
      "text/plain": [
       "'<p>Полиция Стамбула собирается штурмовать ночной клуб, где произошло нападение. Согласно последним данным, минимум один злоумышленник находится в здании. Ранено, по разным данным, от 40 до 60 человек.</p>\\n<p>Жертвами стали не менее четырёх человек. Среди погибших — один полицейский.</p>\\n<p>Во время празднеств\\xa0в клубе \"Рейна\" находилось до 800 человек. Неизвестные произвели множество выстрелов и, как сообщается, взорвали две гранаты.</p>'"
      ]
     },
     "execution_count": 85,
     "metadata": {},
     "output_type": "execute_result"
    }
   ],
   "source": [
    "news_df['content'][0]"
   ]
  },
  {
   "cell_type": "code",
   "execution_count": 12,
   "metadata": {},
   "outputs": [],
   "source": [
    "from pymystem3 import Mystem\n",
    "m = Mystem()"
   ]
  },
  {
   "cell_type": "code",
   "execution_count": 6,
   "metadata": {},
   "outputs": [],
   "source": [
    "lemmas = m.lemmatize(news_df['title'][0])"
   ]
  },
  {
   "cell_type": "code",
   "execution_count": 7,
   "metadata": {},
   "outputs": [
    {
     "name": "stdout",
     "output_type": "stream",
     "text": [
      "['полиция', ' ', 'стамбул', ' ', 'собираться', ' ', 'штурмовать', ' ', 'ночной', ' ', 'клуб', ', ', 'где', ' ', 'происходить', ' ', 'нападение', '\\n']\n"
     ]
    }
   ],
   "source": [
    "print(lemmas)"
   ]
  },
  {
   "cell_type": "code",
   "execution_count": 13,
   "metadata": {},
   "outputs": [
    {
     "name": "stdout",
     "output_type": "stream",
     "text": [
      "{'его', 'такой', 'этой', 'уж', 'чего', 'для', 'себе', 'лучше', 'я', 'там', 'ж', 'им', 'без', 'чтобы', 'него', 'между', 'да', 'даже', 'тебя', 'до', 'конечно', 'если', 'мы', 'ничего', 'нибудь', 'наконец', 'более', 'этом', 'или', 'совсем', 'к', 'они', 'ей', 'тут', 'этот', 'может', 'что', 'вы', 'на', 'все', 'опять', 'будет', 'всю', 'за', 'с', 'нельзя', 'вас', 'какая', 'она', 'где', 'тоже', 'то', 'куда', 'но', 'про', 'о', 'когда', 'под', 'мой', 'он', 'зачем', 'над', 'будто', 'нее', 'впрочем', 'и', 'так', 'кто', 'тем', 'два', 'чуть', 'ну', 'не', 'а', 'от', 'по', 'ли', 'как', 'быть', 'их', 'раз', 'перед', 'том', 'всегда', 'моя', 'ее', 'них', 'у', 'эту', 'здесь', 'ни', 'только', 'один', 'вдруг', 'нас', 'после', 'еще', 'того', 'себя', 'уже', 'почти', 'этого', 'какой', 'из', 'потому', 'со', 'ним', 'вам', 'надо', 'свою', 'три', 'мне', 'вот', 'теперь', 'ты', 'чтоб', 'эти', 'было', 'ней', 'был', 'ведь', 'ему', 'были', 'тогда', 'чем', 'всех', 'меня', 'больше', 'сам', 'при', 'бы', 'в', 'можно', 'другой', 'была', 'хоть', 'никогда', 'всего', 'разве', 'через', 'нет', 'во', 'много', 'же', 'хорошо', 'об', 'есть', 'тот', 'сейчас', 'потом', 'иногда'}\n"
     ]
    }
   ],
   "source": [
    "from nltk import word_tokenize\n",
    "from nltk.corpus import stopwords\n",
    "stop_words = set(stopwords.words('russian'))\n",
    "print(stop_words)"
   ]
  },
  {
   "cell_type": "code",
   "execution_count": 14,
   "metadata": {},
   "outputs": [],
   "source": [
    "import re\n",
    "def lemmatize_filter(mstem_instance, text, stop_words):\n",
    "    lemmatized = pd.Series([''.join(mstem_instance.lemmatize(text_row)) for text_row in text])\n",
    "    filtered = []\n",
    "    for row in lemmatized:\n",
    "        filtered.append(' '.join([word for word in re.split(\" |, |\\n |:\", row) if word and word not in stop_words]))\n",
    "    return pd.Series(filtered)"
   ]
  },
  {
   "cell_type": "code",
   "execution_count": 17,
   "metadata": {},
   "outputs": [],
   "source": [
    "all_lemmas = lemmatize_filter(m, news_df['title'], stop_words)"
   ]
  },
  {
   "cell_type": "code",
   "execution_count": 12,
   "metadata": {},
   "outputs": [
    {
     "data": {
      "text/plain": [
       "0         полиция стамбул собираться штурмовать ночной к...\n",
       "1         расстрел посетитель ночной клуб стамбул попада...\n",
       "2         губернатор стамбул нападение ночной клуб погиб...\n",
       "3         губернатор стамбул называть террористический а...\n",
       "4         очевидец ночной клуб стамбул проходить беспреп...\n",
       "5         турецкий клуб который атаковать террорист серь...\n",
       "6         опубликовывать видео клуб \"рейн\" несколько час...\n",
       "7            турецкий сми запрещать писать теракт стамбул\\n\n",
       "8         губернатор стамбул рассказывать нападение клуб...\n",
       "9         опубликовывать видео начало атака ночной клуб ...\n",
       "10        власть стамбул озвучивать официальный версия н...\n",
       "11            сша небо сталкиваться легкомоторный самолет\\n\n",
       "12        руководство клуб \"рейн\" предупреждать подготов...\n",
       "13        экс-голкипер ска бобровский становиться герой ...\n",
       "14         четыре человек пострадать взрыв петарда москва\\n\n",
       "15        сми среди ранить ночной клуб стамбул иностранец\\n\n",
       "16        обама могерини столтенберг выражать соболезнов...\n",
       "17        сми следствие проверять такси который террорис...\n",
       "18        лицо предполагать террорист стамбул попадать к...\n",
       "19        новогодний ночь человек погибать дтп автобус б...\n",
       "20        сми сообщать ликвидация убийца ночной клуб ста...\n",
       "21        трамп сервер демократический партия атаковать ...\n",
       "22        китай человек погибать семеро ранить взрыв общ...\n",
       "23            россия чиновник повышать пенсионный возраст\\n\n",
       "24              столкновение самолет сша погибать человек\\n\n",
       "25        эрдоган проинформировать нападение ночной клуб...\n",
       "26        россиянин список жертва теракт ночной клуб ста...\n",
       "27        ким чен Ын новогодний обращение называть кндр ...\n",
       "28        германия скоростной магистраль происходить мас...\n",
       "29        петербуржец замечать олень гулять крыша многоэ...\n",
       "                                ...                        \n",
       "100737    вегетарианка располнеть 115 кг год скидывать 2...\n",
       "100738    генсек оон канун новый год заявлять рост ксено...\n",
       "100739    работа система жизнеобеспечение москва праздни...\n",
       "100740    президент иран называть участие протест консти...\n",
       "100741    фото собака пятно вид лого Apple подымать наст...\n",
       "100742    аэропорт волгоград эвакуировать сообщение мини...\n",
       "100743    верховный муфтий россия поздравлять верующий м...\n",
       "100744    медведев пожелать россиянин новый возможность ...\n",
       "100745    хабиб нурмагомед макгрегор вернуться подраться...\n",
       "100746    большинство житель сша называть 2017 год беспо...\n",
       "100747     парк москва стартовать праздничный мероприятие\\n\n",
       "100748    открытый горение склад лакокрасочный материал ...\n",
       "100749    москва проверять 10 здание сообщение \"минирова...\n",
       "100750          космонавт поздравлять россиянин новый год\\n\n",
       "100751    путин пожелать россиянин здоровье взаимопонима...\n",
       "100752    коста-рика крушение самолет погибать 12 человек\\n\n",
       "100753         макрон называть 2018 год решающий евросоюз\\n\n",
       "100754       красный площадь прогреметь праздничный салют\\n\n",
       "100755             россия проиндексировать пенсия военный\\n\n",
       "100756    лукашенко призывать белорус сделать страна обр...\n",
       "100757     житель москва выпрыгивать окно спасаться пожар\\n\n",
       "100758    пользователь WhatsApp пожаловаться проблема ра...\n",
       "100759                   россия увеличивать оклад военный\\n\n",
       "100760                трамп заявлять 2018 год великий сша\\n\n",
       "100761    появляться видео место падение мужчина окно го...\n",
       "100762    свердловский область загораться бензовоз — вид...\n",
       "100763                  житель россия встречать новый год\\n\n",
       "100764    крушение самолет запад коста-рика погибать куз...\n",
       "100765    собянин пожелать москвич здоровье благополучие...\n",
       "100766        порошенко поздравлять житель крым новый год\\n\n",
       "Length: 100767, dtype: object"
      ]
     },
     "execution_count": 12,
     "metadata": {},
     "output_type": "execute_result"
    }
   ],
   "source": [
    "all_lemmas"
   ]
  },
  {
   "cell_type": "code",
   "execution_count": 13,
   "metadata": {},
   "outputs": [
    {
     "data": {
      "text/plain": [
       "0    Полиция Стамбула собирается штурмовать ночной ...\n",
       "1    Расстрел посетителей в ночном клубе в Стамбуле...\n",
       "2    Губернатор Стамбула: При нападении на ночной к...\n",
       "3    Губернатор Стамбула назвал террористической ат...\n",
       "4    Очевидцы: В ночной клуб в Стамбуле проходили б...\n",
       "Name: title, dtype: object"
      ]
     },
     "execution_count": 13,
     "metadata": {},
     "output_type": "execute_result"
    }
   ],
   "source": [
    "news_df['title'].head()"
   ]
  },
  {
   "cell_type": "code",
   "execution_count": 18,
   "metadata": {},
   "outputs": [],
   "source": [
    "news_df['title'] = all_lemmas"
   ]
  },
  {
   "cell_type": "code",
   "execution_count": 19,
   "metadata": {},
   "outputs": [
    {
     "data": {
      "text/plain": [
       "0    полиция стамбул собираться штурмовать ночной к...\n",
       "1    расстрел посетитель ночной клуб стамбул попада...\n",
       "2    губернатор стамбул нападение ночной клуб погиб...\n",
       "3    губернатор стамбул называть террористический а...\n",
       "4    очевидец ночной клуб стамбул проходить беспреп...\n",
       "Name: title, dtype: object"
      ]
     },
     "execution_count": 19,
     "metadata": {},
     "output_type": "execute_result"
    }
   ],
   "source": [
    "news_df['title'].head()"
   ]
  },
  {
   "cell_type": "code",
   "execution_count": 20,
   "metadata": {},
   "outputs": [],
   "source": [
    "# json parser\n",
    "def json_parse(json_object, concat_str=\"\\n\"):\n",
    "    text_from_json = [e[\"value\"][\"blocks\"][0][\"text\"] for e in json_object if e[\"type\"] == \"TEXT\" or e[\"type\"] == \"SUBTITLE\"]\n",
    "    return concat_str.join(text_from_json)"
   ]
  },
  {
   "cell_type": "code",
   "execution_count": 21,
   "metadata": {},
   "outputs": [],
   "source": [
    "# html cleaner\n",
    "def html_clean(html_string):\n",
    "    from bs4 import BeautifulSoup\n",
    "    return BeautifulSoup(html_string, \"html.parser\").get_text().replace(u'\\xa0', u' ')"
   ]
  },
  {
   "cell_type": "code",
   "execution_count": 22,
   "metadata": {},
   "outputs": [],
   "source": [
    "import math\n",
    "def extract_text(raw_text):\n",
    "    counter = 0\n",
    "    extracted = []\n",
    "    for row in raw_text:\n",
    "        if row.__class__.__name__ == 'float':\n",
    "            extracted.append(\"\")\n",
    "            continue\n",
    "        j = get_json(row)\n",
    "        counter += 1\n",
    "        if j is None: # html\n",
    "            extracted.append(html_clean(row))\n",
    "        else: # json\n",
    "            extracted.append(json_parse(j))\n",
    "        pass\n",
    "    return pd.Series(extracted)"
   ]
  },
  {
   "cell_type": "code",
   "execution_count": 23,
   "metadata": {},
   "outputs": [
    {
     "name": "stderr",
     "output_type": "stream",
     "text": [
      "/usr/local/lib/python3.5/dist-packages/bs4/__init__.py:282: UserWarning: \"https://life.ru/oskarvote/\" looks like a URL. Beautiful Soup is not an HTTP client. You should probably use an HTTP client like requests to get the document behind the URL, and feed that document to Beautiful Soup.\n",
      "  ' that document to Beautiful Soup.' % decoded_markup\n",
      "/usr/local/lib/python3.5/dist-packages/bs4/__init__.py:282: UserWarning: \"https://projects.life.ru/apocalypse/\" looks like a URL. Beautiful Soup is not an HTTP client. You should probably use an HTTP client like requests to get the document behind the URL, and feed that document to Beautiful Soup.\n",
      "  ' that document to Beautiful Soup.' % decoded_markup\n",
      "/usr/local/lib/python3.5/dist-packages/bs4/__init__.py:282: UserWarning: \"https://vk.com/videos-24199209?z=video-24199209_456242732%2Fclub24199209%2Fpl_-24199209_-2\" looks like a URL. Beautiful Soup is not an HTTP client. You should probably use an HTTP client like requests to get the document behind the URL, and feed that document to Beautiful Soup.\n",
      "  ' that document to Beautiful Soup.' % decoded_markup\n",
      "/usr/local/lib/python3.5/dist-packages/bs4/__init__.py:282: UserWarning: \"https://life.ru/buzovalive\" looks like a URL. Beautiful Soup is not an HTTP client. You should probably use an HTTP client like requests to get the document behind the URL, and feed that document to Beautiful Soup.\n",
      "  ' that document to Beautiful Soup.' % decoded_markup\n",
      "/usr/local/lib/python3.5/dist-packages/bs4/__init__.py:282: UserWarning: \"https://vk.com/life\" looks like a URL. Beautiful Soup is not an HTTP client. You should probably use an HTTP client like requests to get the document behind the URL, and feed that document to Beautiful Soup.\n",
      "  ' that document to Beautiful Soup.' % decoded_markup\n",
      "/usr/local/lib/python3.5/dist-packages/bs4/__init__.py:282: UserWarning: \"https://life.ru/ranch\" looks like a URL. Beautiful Soup is not an HTTP client. You should probably use an HTTP client like requests to get the document behind the URL, and feed that document to Beautiful Soup.\n",
      "  ' that document to Beautiful Soup.' % decoded_markup\n",
      "/usr/local/lib/python3.5/dist-packages/bs4/__init__.py:282: UserWarning: \"https://life.ru/empire\" looks like a URL. Beautiful Soup is not an HTTP client. You should probably use an HTTP client like requests to get the document behind the URL, and feed that document to Beautiful Soup.\n",
      "  ' that document to Beautiful Soup.' % decoded_markup\n",
      "/usr/local/lib/python3.5/dist-packages/bs4/__init__.py:282: UserWarning: \"https://goodgamestudios.onelink.me/77113242?pid=GGS_BizDev&amp;af_siteid=366069\" looks like a URL. Beautiful Soup is not an HTTP client. You should probably use an HTTP client like requests to get the document behind the URL, and feed that document to Beautiful Soup.\n",
      "  ' that document to Beautiful Soup.' % decoded_markup\n",
      "/usr/local/lib/python3.5/dist-packages/bs4/__init__.py:282: UserWarning: \"https://life.ru/legendsofhonor\" looks like a URL. Beautiful Soup is not an HTTP client. You should probably use an HTTP client like requests to get the document behind the URL, and feed that document to Beautiful Soup.\n",
      "  ' that document to Beautiful Soup.' % decoded_markup\n",
      "/usr/local/lib/python3.5/dist-packages/bs4/__init__.py:282: UserWarning: \"https://life.ru/poker\" looks like a URL. Beautiful Soup is not an HTTP client. You should probably use an HTTP client like requests to get the document behind the URL, and feed that document to Beautiful Soup.\n",
      "  ' that document to Beautiful Soup.' % decoded_markup\n",
      "/usr/local/lib/python3.5/dist-packages/bs4/__init__.py:282: UserWarning: \"http://a.imperiaonline.org/iosrct/affiliate/iosrcn/liferu\" looks like a URL. Beautiful Soup is not an HTTP client. You should probably use an HTTP client like requests to get the document behind the URL, and feed that document to Beautiful Soup.\n",
      "  ' that document to Beautiful Soup.' % decoded_markup\n",
      "/usr/local/lib/python3.5/dist-packages/bs4/__init__.py:282: UserWarning: \"http://a.gameofemperors.com/iosrct/affiliate/iosrcn/liferu/gId/ge\" looks like a URL. Beautiful Soup is not an HTTP client. You should probably use an HTTP client like requests to get the document behind the URL, and feed that document to Beautiful Soup.\n",
      "  ' that document to Beautiful Soup.' % decoded_markup\n",
      "/usr/local/lib/python3.5/dist-packages/bs4/__init__.py:282: UserWarning: \"https://a.imperialhero.org/?a_aid=liferu\" looks like a URL. Beautiful Soup is not an HTTP client. You should probably use an HTTP client like requests to get the document behind the URL, and feed that document to Beautiful Soup.\n",
      "  ' that document to Beautiful Soup.' % decoded_markup\n",
      "/usr/local/lib/python3.5/dist-packages/bs4/__init__.py:282: UserWarning: \"https://life.ru/t/gigapixel/football\" looks like a URL. Beautiful Soup is not an HTTP client. You should probably use an HTTP client like requests to get the document behind the URL, and feed that document to Beautiful Soup.\n",
      "  ' that document to Beautiful Soup.' % decoded_markup\n",
      "/usr/local/lib/python3.5/dist-packages/bs4/__init__.py:282: UserWarning: \"https://life.ru/t/gigapixel/9may\" looks like a URL. Beautiful Soup is not an HTTP client. You should probably use an HTTP client like requests to get the document behind the URL, and feed that document to Beautiful Soup.\n",
      "  ' that document to Beautiful Soup.' % decoded_markup\n",
      "/usr/local/lib/python3.5/dist-packages/bs4/__init__.py:282: UserWarning: \"https://life.ru/t/gigapixel/spartakchampion\" looks like a URL. Beautiful Soup is not an HTTP client. You should probably use an HTTP client like requests to get the document behind the URL, and feed that document to Beautiful Soup.\n",
      "  ' that document to Beautiful Soup.' % decoded_markup\n",
      "/usr/local/lib/python3.5/dist-packages/bs4/__init__.py:282: UserWarning: \"https://life.ru/t/gigapixel/nikolaychudotvorets\" looks like a URL. Beautiful Soup is not an HTTP client. You should probably use an HTTP client like requests to get the document behind the URL, and feed that document to Beautiful Soup.\n",
      "  ' that document to Beautiful Soup.' % decoded_markup\n",
      "/usr/local/lib/python3.5/dist-packages/bs4/__init__.py:282: UserWarning: \"https://life.ru/t/gigapixel/hotelukraina60let\" looks like a URL. Beautiful Soup is not an HTTP client. You should probably use an HTTP client like requests to get the document behind the URL, and feed that document to Beautiful Soup.\n",
      "  ' that document to Beautiful Soup.' % decoded_markup\n",
      "/usr/local/lib/python3.5/dist-packages/bs4/__init__.py:282: UserWarning: \"https://life.ru/t/gigapixel/veloparad\" looks like a URL. Beautiful Soup is not an HTTP client. You should probably use an HTTP client like requests to get the document behind the URL, and feed that document to Beautiful Soup.\n",
      "  ' that document to Beautiful Soup.' % decoded_markup\n",
      "/usr/local/lib/python3.5/dist-packages/bs4/__init__.py:282: UserWarning: \"https://life.ru/t/gigapixel/mitingtverskaya12iyunya\" looks like a URL. Beautiful Soup is not an HTTP client. You should probably use an HTTP client like requests to get the document behind the URL, and feed that document to Beautiful Soup.\n",
      "  ' that document to Beautiful Soup.' % decoded_markup\n",
      "/usr/local/lib/python3.5/dist-packages/bs4/__init__.py:282: UserWarning: \"https://life.ru/t/gigapixel/alyeparusa2017\" looks like a URL. Beautiful Soup is not an HTTP client. You should probably use an HTTP client like requests to get the document behind the URL, and feed that document to Beautiful Soup.\n",
      "  ' that document to Beautiful Soup.' % decoded_markup\n",
      "/usr/local/lib/python3.5/dist-packages/bs4/__init__.py:282: UserWarning: \"https://life.ru/t/gigapixel/urazabayram2017\" looks like a URL. Beautiful Soup is not an HTTP client. You should probably use an HTTP client like requests to get the document behind the URL, and feed that document to Beautiful Soup.\n",
      "  ' that document to Beautiful Soup.' % decoded_markup\n"
     ]
    }
   ],
   "source": [
    "try_ex = extract_text(news_df['content'])"
   ]
  },
  {
   "cell_type": "code",
   "execution_count": 24,
   "metadata": {},
   "outputs": [],
   "source": [
    "news_df['content'] = try_ex"
   ]
  },
  {
   "cell_type": "code",
   "execution_count": 25,
   "metadata": {},
   "outputs": [
    {
     "name": "stdout",
     "output_type": "stream",
     "text": [
      "(102205, 5)\n",
      "(103327, 5)\n"
     ]
    }
   ],
   "source": [
    "print(news_df[news_df['content'] != \"\"].shape)\n",
    "print(news_df.shape)"
   ]
  },
  {
   "cell_type": "code",
   "execution_count": 21,
   "metadata": {},
   "outputs": [],
   "source": [
    "# TODO: should work?\n",
    "# news_df = news_df[news_df['content'] != \"\"]\n",
    "# news_df = news_df[news_df['content'] != \" \"]"
   ]
  },
  {
   "cell_type": "code",
   "execution_count": 26,
   "metadata": {},
   "outputs": [
    {
     "data": {
      "text/html": [
       "<div>\n",
       "<style scoped>\n",
       "    .dataframe tbody tr th:only-of-type {\n",
       "        vertical-align: middle;\n",
       "    }\n",
       "\n",
       "    .dataframe tbody tr th {\n",
       "        vertical-align: top;\n",
       "    }\n",
       "\n",
       "    .dataframe thead th {\n",
       "        text-align: right;\n",
       "    }\n",
       "</style>\n",
       "<table border=\"1\" class=\"dataframe\">\n",
       "  <thead>\n",
       "    <tr style=\"text-align: right;\">\n",
       "      <th></th>\n",
       "      <th>post_id</th>\n",
       "      <th>published_at</th>\n",
       "      <th>title</th>\n",
       "      <th>subtitle</th>\n",
       "      <th>content</th>\n",
       "    </tr>\n",
       "  </thead>\n",
       "  <tbody>\n",
       "    <tr>\n",
       "      <th>0</th>\n",
       "      <td>1</td>\n",
       "      <td>2017-01-01T00:05:00Z</td>\n",
       "      <td>полиция стамбул собираться штурмовать ночной к...</td>\n",
       "      <td>Согласно последним данным, в здании может нахо...</td>\n",
       "      <td>Полиция Стамбула собирается штурмовать ночной ...</td>\n",
       "    </tr>\n",
       "    <tr>\n",
       "      <th>1</th>\n",
       "      <td>2</td>\n",
       "      <td>2017-01-01T00:07:00Z</td>\n",
       "      <td>расстрел посетитель ночной клуб стамбул попада...</td>\n",
       "      <td>Ранее сообщалось, что полицейские собираются ш...</td>\n",
       "      <td>Опубликовано видео, где злоумышленник расстрел...</td>\n",
       "    </tr>\n",
       "    <tr>\n",
       "      <th>2</th>\n",
       "      <td>3</td>\n",
       "      <td>2017-01-01T00:21:00Z</td>\n",
       "      <td>губернатор стамбул нападение ночной клуб погиб...</td>\n",
       "      <td>Ранее сообщалось, что от 40 до 60 человек полу...</td>\n",
       "      <td>Губернатор Стамбула Васип Шахин заявил, что пр...</td>\n",
       "    </tr>\n",
       "    <tr>\n",
       "      <th>3</th>\n",
       "      <td>4</td>\n",
       "      <td>2017-01-01T00:29:00Z</td>\n",
       "      <td>губернатор стамбул называть террористический а...</td>\n",
       "      <td>Согласно последним данным, погибло минимум 35 ...</td>\n",
       "      <td>Губернатор Стамбула Васип Шахин назвал террори...</td>\n",
       "    </tr>\n",
       "    <tr>\n",
       "      <th>4</th>\n",
       "      <td>5</td>\n",
       "      <td>2017-01-01T00:47:00Z</td>\n",
       "      <td>очевидец ночной клуб стамбул проходить беспреп...</td>\n",
       "      <td>Ранее губернатор Стамбула Васип Шахин назвал п...</td>\n",
       "      <td>Посетители стамбульского клуба \"Рейна\", на кот...</td>\n",
       "    </tr>\n",
       "  </tbody>\n",
       "</table>\n",
       "</div>"
      ],
      "text/plain": [
       "   post_id          published_at  \\\n",
       "0        1  2017-01-01T00:05:00Z   \n",
       "1        2  2017-01-01T00:07:00Z   \n",
       "2        3  2017-01-01T00:21:00Z   \n",
       "3        4  2017-01-01T00:29:00Z   \n",
       "4        5  2017-01-01T00:47:00Z   \n",
       "\n",
       "                                               title  \\\n",
       "0  полиция стамбул собираться штурмовать ночной к...   \n",
       "1  расстрел посетитель ночной клуб стамбул попада...   \n",
       "2  губернатор стамбул нападение ночной клуб погиб...   \n",
       "3  губернатор стамбул называть террористический а...   \n",
       "4  очевидец ночной клуб стамбул проходить беспреп...   \n",
       "\n",
       "                                            subtitle  \\\n",
       "0  Согласно последним данным, в здании может нахо...   \n",
       "1  Ранее сообщалось, что полицейские собираются ш...   \n",
       "2  Ранее сообщалось, что от 40 до 60 человек полу...   \n",
       "3  Согласно последним данным, погибло минимум 35 ...   \n",
       "4  Ранее губернатор Стамбула Васип Шахин назвал п...   \n",
       "\n",
       "                                             content  \n",
       "0  Полиция Стамбула собирается штурмовать ночной ...  \n",
       "1  Опубликовано видео, где злоумышленник расстрел...  \n",
       "2  Губернатор Стамбула Васип Шахин заявил, что пр...  \n",
       "3  Губернатор Стамбула Васип Шахин назвал террори...  \n",
       "4  Посетители стамбульского клуба \"Рейна\", на кот...  "
      ]
     },
     "execution_count": 26,
     "metadata": {},
     "output_type": "execute_result"
    }
   ],
   "source": [
    "news_df.head()"
   ]
  },
  {
   "cell_type": "code",
   "execution_count": 27,
   "metadata": {},
   "outputs": [
    {
     "data": {
      "text/plain": [
       "103327"
      ]
     },
     "execution_count": 27,
     "metadata": {},
     "output_type": "execute_result"
    }
   ],
   "source": [
    "news_df.shape[0]"
   ]
  },
  {
   "cell_type": "code",
   "execution_count": 24,
   "metadata": {},
   "outputs": [],
   "source": [
    "news_df.to_csv('news_similarity_train_upd.csv', sep=',')"
   ]
  },
  {
   "cell_type": "code",
   "execution_count": 43,
   "metadata": {},
   "outputs": [
    {
     "data": {
      "text/plain": [
       "Index(['Unnamed: 0', 'post_id', 'published_at', 'title', 'subtitle',\n",
       "       'content'],\n",
       "      dtype='object')"
      ]
     },
     "execution_count": 43,
     "metadata": {},
     "output_type": "execute_result"
    }
   ],
   "source": [
    "news_df.columns"
   ]
  },
  {
   "cell_type": "code",
   "execution_count": null,
   "metadata": {},
   "outputs": [],
   "source": []
  },
  {
   "cell_type": "code",
   "execution_count": 28,
   "metadata": {},
   "outputs": [],
   "source": [
    "new_content = lemmatize_filter(m, news_df['content'], stop_words)"
   ]
  },
  {
   "cell_type": "code",
   "execution_count": 39,
   "metadata": {},
   "outputs": [
    {
     "data": {
      "text/plain": [
       "0         полиция стамбул собираться штурмовать ночной к...\n",
       "1         опубликовывать видео злоумышленник расстрелива...\n",
       "2         губернатор стамбул васип шахин заявлять нападе...\n",
       "3         губернатор стамбул васип шахин называть террор...\n",
       "4         посетитель стамбульский клуб \"рейн\" который со...\n",
       "5         клуб \"рейн\" который сегодня совершать вооружат...\n",
       "6         опубликовывать видео стамбульский клуб \"рейн\" ...\n",
       "7         официальный власть турция экстренно издали нов...\n",
       "8         слово губернатор стамбул васип шахин атака эли...\n",
       "9         сеть появляться видео начало атака ночной клуб...\n",
       "10        губернатор стамбул васип шахин рассказывать по...\n",
       "11        американский город маккинни небо сталкиваться ...\n",
       "12        хозяин ночной клуб \"рейн\" стамбул мехмет кочар...\n",
       "13        бывший голкипер петербургский ска сергей бобро...\n",
       "14        медучреждение подмосковье обращаться четыре че...\n",
       "15        среди получать ранение клуб \"рейн\" стамбул гра...\n",
       "16        президент сша барак обама генсек нато йенс сто...\n",
       "17        террорист который совершать нападение стамбуль...\n",
       "18        камера видеонаблюдение зафиксировать лицо пред...\n",
       "19        улица белый кун новогодний ночь автобус сталки...\n",
       "20        правоохранитель ликвидировать террорист устраи...\n",
       "21        избранный президент сша дональд трамп заявлять...\n",
       "22        человек погибать семеро получать ранение резул...\n",
       "23        1 январь россия вступать сила закон \"о страхов...\n",
       "24        столкновение легкомоторный самолет американски...\n",
       "25        президент турция реджеп тайип эрдоган режим ре...\n",
       "26        генконсульство рф стамбул сообщать среди погиб...\n",
       "27        глава северный корея ким чен Ын новогодний обр...\n",
       "28        скоростной трасса недалеко немецкий город бад-...\n",
       "29        житель северный столица обнаруживать олень кот...\n",
       "                                ...                        \n",
       "103297    21-летний райли хемсон год назад весить 115 кг...\n",
       "103298    генеральный секретарь оон антониу гутерриш сво...\n",
       "103299    власть столица организовывать специальный штаб...\n",
       "103300    президент иран хасан рухани прокомментировать ...\n",
       "103301    пользователь Reddit ник DanceBattleNinja выкла...\n",
       "103302    пассажир сотрудник международный аэропорт волг...\n",
       "103303    верховный муфтий россия талгат таджуддин поздр...\n",
       "103304    глава правительство рф дмитрий медведев поздра...\n",
       "103305    — прежде спасибо поздравление поддержка. это н...\n",
       "103306    половина житель сша считать уходить год беспок...\n",
       "103307    парк столица стартовать праздничный мероприяти...\n",
       "103308    открытый горение склад лакокрасочный материал ...\n",
       "103309    неизвестный сообщать \"минирование\" сразу 12 ре...\n",
       "103310    член экипаж международный космический станция ...\n",
       "103311    президент россия владимир путин поздравлять ро...\n",
       "103312    коста-рика разбиваться малогабаритный самолет ...\n",
       "103313    новый 2018 год становиться решающий развитие е...\n",
       "103314    центр москва прогреметь праздничный салют.\\nса...\n",
       "103315    военный пенсия первый месяц 2018 год который п...\n",
       "103316    наступать 2018 год житель белоруссия предстоят...\n",
       "103317    мужчина выпрыгивать окно квартира третий этаж ...\n",
       "103318    пользователь мессенджер WhatsApp разный страна...\n",
       "103319    1 январь 2018 год вырастать размер денежный до...\n",
       "103320    президент сша дональд трамп пожелать счастливы...\n",
       "103321    мужчина выпрыгивать окно гореть квартира север...\n",
       "103322    свердловский область бензовоз вылетать обочина...\n",
       "103323    житель калининградский область последний росси...\n",
       "103324    крушение самолет коста-рика погибать двоюродны...\n",
       "103325    мэр москва сергей собянин поздравлять москвич ...\n",
       "103326    президент украина петр порошенко свой новогодн...\n",
       "Length: 103327, dtype: object"
      ]
     },
     "execution_count": 39,
     "metadata": {},
     "output_type": "execute_result"
    }
   ],
   "source": [
    "new_content"
   ]
  },
  {
   "cell_type": "code",
   "execution_count": 29,
   "metadata": {},
   "outputs": [],
   "source": [
    "news_df['content'] = new_content"
   ]
  },
  {
   "cell_type": "code",
   "execution_count": 30,
   "metadata": {},
   "outputs": [],
   "source": [
    "news_df.to_csv('news_similarity_train_upd.csv', sep=',')"
   ]
  },
  {
   "cell_type": "code",
   "execution_count": 31,
   "metadata": {},
   "outputs": [],
   "source": [
    "sample_file = 'news_similarity_sample.csv'\n",
    "sample_df = pd.read_csv(sample_file, sep=\",\", engine=\"c\")"
   ]
  },
  {
   "cell_type": "code",
   "execution_count": 49,
   "metadata": {},
   "outputs": [
    {
     "data": {
      "text/plain": [
       "Index(['id', 'similarity'], dtype='object')"
      ]
     },
     "execution_count": 49,
     "metadata": {},
     "output_type": "execute_result"
    }
   ],
   "source": [
    "sample_df.columns"
   ]
  },
  {
   "cell_type": "code",
   "execution_count": 33,
   "metadata": {},
   "outputs": [
    {
     "name": "stdout",
     "output_type": "stream",
     "text": [
      "            id  similarity\n",
      "0  38277_31392         0.5\n",
      "1  79621_65626         0.5\n",
      "2  61134_17553         0.5\n",
      "3  56944_64787         0.5\n",
      "4   48365_7040         0.5\n",
      "Index(['id', 'similarity'], dtype='object')\n"
     ]
    }
   ],
   "source": [
    "print(sample_df.head())\n",
    "print(sample_df.columns)"
   ]
  },
  {
   "cell_type": "code",
   "execution_count": 34,
   "metadata": {},
   "outputs": [
    {
     "data": {
      "text/plain": [
       "'полиция стамбул собираться штурмовать ночной клуб происходить нападение. согласно последний данные минимум злоумышленник находиться здание. ранить разный данные 40 60 человек.\\nжертва становиться мало четыре человек. среди погибший — полицейский.\\nво время празднество клуб \"рейн\" находиться 800 человек. неизвестный производить множество выстрел сообщаться взрывать граната.\\n'"
      ]
     },
     "execution_count": 34,
     "metadata": {},
     "output_type": "execute_result"
    }
   ],
   "source": [
    "news_df['content'][0]"
   ]
  },
  {
   "cell_type": "code",
   "execution_count": 35,
   "metadata": {},
   "outputs": [],
   "source": [
    "from sklearn.feature_extraction.text import CountVectorizer\n",
    "title_vect = CountVectorizer().fit(news_df['title'])\n",
    "content_vect = CountVectorizer().fit(news_df['content'])\n",
    "titles = title_vect.transform(news_df['title'])\n",
    "contents = content_vect.transform(news_df['content'])"
   ]
  },
  {
   "cell_type": "code",
   "execution_count": 64,
   "metadata": {},
   "outputs": [
    {
     "data": {
      "text/html": [
       "<div>\n",
       "<style scoped>\n",
       "    .dataframe tbody tr th:only-of-type {\n",
       "        vertical-align: middle;\n",
       "    }\n",
       "\n",
       "    .dataframe tbody tr th {\n",
       "        vertical-align: top;\n",
       "    }\n",
       "\n",
       "    .dataframe thead th {\n",
       "        text-align: right;\n",
       "    }\n",
       "</style>\n",
       "<table border=\"1\" class=\"dataframe\">\n",
       "  <thead>\n",
       "    <tr style=\"text-align: right;\">\n",
       "      <th></th>\n",
       "      <th>Unnamed: 0</th>\n",
       "      <th>post_id</th>\n",
       "      <th>published_at</th>\n",
       "      <th>title</th>\n",
       "      <th>subtitle</th>\n",
       "      <th>content</th>\n",
       "    </tr>\n",
       "  </thead>\n",
       "  <tbody>\n",
       "    <tr>\n",
       "      <th>36512</th>\n",
       "      <td>38276</td>\n",
       "      <td>38277</td>\n",
       "      <td>2017-04-18T10:54:00Z</td>\n",
       "      <td>70% молодой водитель нравиться электромобиль\\n</td>\n",
       "      <td>Большая часть водителей, получающих права, не ...</td>\n",
       "      <td>итог опрос портал Driving-Tests большой часть ...</td>\n",
       "    </tr>\n",
       "  </tbody>\n",
       "</table>\n",
       "</div>"
      ],
      "text/plain": [
       "       Unnamed: 0  post_id          published_at  \\\n",
       "36512       38276    38277  2017-04-18T10:54:00Z   \n",
       "\n",
       "                                                title  \\\n",
       "36512  70% молодой водитель нравиться электромобиль\\n   \n",
       "\n",
       "                                                subtitle  \\\n",
       "36512  Большая часть водителей, получающих права, не ...   \n",
       "\n",
       "                                                 content  \n",
       "36512  итог опрос портал Driving-Tests большой часть ...  "
      ]
     },
     "execution_count": 64,
     "metadata": {},
     "output_type": "execute_result"
    }
   ],
   "source": [
    "# news_df.loc[news_df['post_id'] == sample_df['id'][0].split(\"_\")[0]]\n",
    "news_df.loc[news_df['post_id'] == 38277]"
   ]
  },
  {
   "cell_type": "code",
   "execution_count": 36,
   "metadata": {},
   "outputs": [],
   "source": [
    "def get_index(df, post_id, col='post_id'):\n",
    "    return df.index[df[col] == post_id][0]"
   ]
  },
  {
   "cell_type": "code",
   "execution_count": 37,
   "metadata": {},
   "outputs": [],
   "source": [
    "# int(sample_df['id'][0].split(\"_\")[0])\n",
    "\n",
    "def elem(arr, index):\n",
    "    return int(arr.split(\"_\")[index])"
   ]
  },
  {
   "cell_type": "code",
   "execution_count": 61,
   "metadata": {},
   "outputs": [
    {
     "data": {
      "text/plain": [
       "36512"
      ]
     },
     "execution_count": 61,
     "metadata": {},
     "output_type": "execute_result"
    }
   ],
   "source": [
    "get_index(news_df, 38277)"
   ]
  },
  {
   "cell_type": "code",
   "execution_count": 63,
   "metadata": {},
   "outputs": [
    {
     "data": {
      "text/plain": [
       "Unnamed: 0                                                  38276\n",
       "post_id                                                     38277\n",
       "published_at                                 2017-04-18T10:54:00Z\n",
       "title              70% молодой водитель нравиться электромобиль\\n\n",
       "subtitle        Большая часть водителей, получающих права, не ...\n",
       "content         итог опрос портал Driving-Tests большой часть ...\n",
       "Name: 36512, dtype: object"
      ]
     },
     "execution_count": 63,
     "metadata": {},
     "output_type": "execute_result"
    }
   ],
   "source": [
    "news_df.loc[36512]"
   ]
  },
  {
   "cell_type": "code",
   "execution_count": 81,
   "metadata": {},
   "outputs": [
    {
     "name": "stdout",
     "output_type": "stream",
     "text": [
      "\n"
     ]
    }
   ],
   "source": [
    "# print(titles[36512] != title_vect.transform(news_df['title'])[36512])\n",
    "# print(news_df['title'][36512])"
   ]
  },
  {
   "cell_type": "code",
   "execution_count": 40,
   "metadata": {},
   "outputs": [],
   "source": [
    "from sklearn.metrics.pairwise import cosine_similarity\n",
    "# float(cosine_similarity(titles[get_index(news_df, elem(sample_df['id'][i], 0))], titles[get_index(news_df, elem(sample_df['id'][i], 1))]))"
   ]
  },
  {
   "cell_type": "code",
   "execution_count": null,
   "metadata": {},
   "outputs": [],
   "source": [
    "title_similarities = []\n",
    "content_similarities = []\n",
    "total_similarity = []\n",
    "for id_pair in sample_df['id']:\n",
    "    first_index = get_index(news_df, elem(id_pair, 0))\n",
    "    second_index = get_index(news_df, elem(id_pair, 1))\n",
    "    title_sim = float(cosine_similarity(titles[first_index], titles[second_index]))\n",
    "    content_sim = float(cosine_similarity(contents[first_index], contents[second_index]))\n",
    "    title_weight = 0.5\n",
    "    if title_sim != float(0) and content_sim != float(0):\n",
    "        title_sim *= title_weight\n",
    "        content_sim *= float(1) - title_weight\n",
    "    title_similarities.append(title_sim)\n",
    "    content_similarities.append(content_sim)\n",
    "    total_similarity.append(title_sim + content_sim)\n",
    "    pass"
   ]
  },
  {
   "cell_type": "code",
   "execution_count": null,
   "metadata": {},
   "outputs": [],
   "source": [
    "sample_df['similarity'] = pd.Series(total_similarity)\n",
    "sample_df.head()"
   ]
  },
  {
   "cell_type": "code",
   "execution_count": 69,
   "metadata": {},
   "outputs": [],
   "source": [
    "sample_df.to_csv('news_ag_submission10.csv', sep=',')"
   ]
  },
  {
   "cell_type": "code",
   "execution_count": null,
   "metadata": {},
   "outputs": [],
   "source": []
  }
 ],
 "metadata": {
  "kernelspec": {
   "display_name": "Python 3",
   "language": "python",
   "name": "python3"
  },
  "language_info": {
   "codemirror_mode": {
    "name": "ipython",
    "version": 3
   },
   "file_extension": ".py",
   "mimetype": "text/x-python",
   "name": "python",
   "nbconvert_exporter": "python",
   "pygments_lexer": "ipython3",
   "version": "3.5.2"
  }
 },
 "nbformat": 4,
 "nbformat_minor": 2
}
