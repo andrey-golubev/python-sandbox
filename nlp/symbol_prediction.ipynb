{
 "cells": [
  {
   "cell_type": "code",
   "execution_count": 2,
   "metadata": {},
   "outputs": [],
   "source": [
    "import pandas as pd\n",
    "import numpy as np"
   ]
  },
  {
   "cell_type": "code",
   "execution_count": 3,
   "metadata": {},
   "outputs": [],
   "source": [
    "test_file = 'symbol_prediction_test.csv'"
   ]
  },
  {
   "cell_type": "code",
   "execution_count": 4,
   "metadata": {},
   "outputs": [],
   "source": [
    "test_df = pd.read_csv(test_file, sep=',', engine='c')"
   ]
  },
  {
   "cell_type": "code",
   "execution_count": 5,
   "metadata": {},
   "outputs": [
    {
     "data": {
      "text/html": [
       "<div>\n",
       "<style scoped>\n",
       "    .dataframe tbody tr th:only-of-type {\n",
       "        vertical-align: middle;\n",
       "    }\n",
       "\n",
       "    .dataframe tbody tr th {\n",
       "        vertical-align: top;\n",
       "    }\n",
       "\n",
       "    .dataframe thead th {\n",
       "        text-align: right;\n",
       "    }\n",
       "</style>\n",
       "<table border=\"1\" class=\"dataframe\">\n",
       "  <thead>\n",
       "    <tr style=\"text-align: right;\">\n",
       "      <th></th>\n",
       "      <th>id</th>\n",
       "      <th>text</th>\n",
       "    </tr>\n",
       "  </thead>\n",
       "  <tbody>\n",
       "    <tr>\n",
       "      <th>0</th>\n",
       "      <td>1</td>\n",
       "      <td>\"Take care, Lenox,\" exclaimed Zaidie, taking a...</td>\n",
       "    </tr>\n",
       "    <tr>\n",
       "      <th>1</th>\n",
       "      <td>2</td>\n",
       "      <td>We followed him. When the three of us were bac...</td>\n",
       "    </tr>\n",
       "    <tr>\n",
       "      <th>2</th>\n",
       "      <td>3</td>\n",
       "      <td>Ten years ago Lavalle, \"that imperturbable dre...</td>\n",
       "    </tr>\n",
       "    <tr>\n",
       "      <th>3</th>\n",
       "      <td>4</td>\n",
       "      <td>\"I think I'd rather se■ what the rings are lik...</td>\n",
       "    </tr>\n",
       "    <tr>\n",
       "      <th>4</th>\n",
       "      <td>5</td>\n",
       "      <td>Surprisingly, she did shut up. Gordon went to ...</td>\n",
       "    </tr>\n",
       "  </tbody>\n",
       "</table>\n",
       "</div>"
      ],
      "text/plain": [
       "   id                                               text\n",
       "0   1  \"Take care, Lenox,\" exclaimed Zaidie, taking a...\n",
       "1   2  We followed him. When the three of us were bac...\n",
       "2   3  Ten years ago Lavalle, \"that imperturbable dre...\n",
       "3   4  \"I think I'd rather se■ what the rings are lik...\n",
       "4   5  Surprisingly, she did shut up. Gordon went to ..."
      ]
     },
     "execution_count": 5,
     "metadata": {},
     "output_type": "execute_result"
    }
   ],
   "source": [
    "test_df.head()"
   ]
  },
  {
   "cell_type": "code",
   "execution_count": 75,
   "metadata": {},
   "outputs": [
    {
     "data": {
      "text/plain": [
       "'\"Larr■,\" I said gently, \"I was there.\"'"
      ]
     },
     "execution_count": 75,
     "metadata": {},
     "output_type": "execute_result"
    }
   ],
   "source": [
    "test_df['text'][33]"
   ]
  },
  {
   "cell_type": "code",
   "execution_count": 6,
   "metadata": {},
   "outputs": [],
   "source": [
    "missing_symbol = '■'"
   ]
  },
  {
   "cell_type": "code",
   "execution_count": 7,
   "metadata": {},
   "outputs": [],
   "source": [
    "from gensim.models import Word2Vec"
   ]
  },
  {
   "cell_type": "code",
   "execution_count": 10,
   "metadata": {},
   "outputs": [],
   "source": [
    "import hunspell\n",
    "spellchecker = hunspell.HunSpell('hunspell/en_GB-large.dic', 'hunspell/en_GB-large.aff')"
   ]
  },
  {
   "cell_type": "code",
   "execution_count": 70,
   "metadata": {},
   "outputs": [
    {
     "data": {
      "text/plain": [
       "'Larry'"
      ]
     },
     "execution_count": 70,
     "metadata": {},
     "output_type": "execute_result"
    }
   ],
   "source": [
    "spellchecker.suggest('Larr■')[0]"
   ]
  },
  {
   "cell_type": "code",
   "execution_count": null,
   "metadata": {},
   "outputs": [],
   "source": []
  },
  {
   "cell_type": "code",
   "execution_count": 54,
   "metadata": {
    "scrolled": true
   },
   "outputs": [
    {
     "name": "stdout",
     "output_type": "stream",
     "text": [
      "['see', 'sea', 'sen', 'ser', 'set', 'sec', 'sem', 'sew']\n",
      "22\n",
      "23\n",
      "19\n",
      "se■\n",
      "se : False\n",
      "  : True\n"
     ]
    }
   ],
   "source": [
    "print(spellchecker.suggest('se■'))\n",
    "print(test_df['text'][3].find(missing_symbol))\n",
    "print(test_df['text'][3].find(' ', 22))\n",
    "print(test_df['text'][3].rfind(' ', 0, 22))\n",
    "print(test_df['text'][3][19:24].strip())\n",
    "# print(test_df['text'][3][19:24].strip(), ':', spellchecker.spell(test_df['text'][3][19:24].strip()))\n",
    "print(test_df['text'][3][19:22].strip(), ':', spellchecker.spell(test_df['text'][3][19:22].strip()))\n",
    "print(test_df['text'][3][23:24], ':', spellchecker.spell(test_df['text'][3][23:24]))"
   ]
  },
  {
   "cell_type": "code",
   "execution_count": null,
   "metadata": {},
   "outputs": [
    {
     "name": "stdout",
     "output_type": "stream",
     "text": [
      "Error at index: 18\n",
      "Error at index: 20\n",
      "Error at index: 24\n",
      "Error at index: 33\n",
      "Error at index: 61\n",
      "Error at index: 109\n",
      "Error at index: 112\n",
      "Error at index: 122\n",
      "Error at index: 138\n",
      "Error at index: 145\n",
      "Error at index: 185\n",
      "Error at index: 188\n",
      "Error at index: 191\n",
      "Error at index: 204\n",
      "Error at index: 230\n",
      "Error at index: 239\n",
      "Error at index: 243\n",
      "Error at index: 261\n",
      "Error at index: 273\n",
      "Error at index: 284\n",
      "Error at index: 298\n",
      "Error at index: 306\n",
      "Error at index: 360\n",
      "Error at index: 366\n",
      "Error at index: 371\n",
      "Error at index: 380\n",
      "Error at index: 389\n",
      "Error at index: 392\n",
      "Error at index: 410\n",
      "Error at index: 412\n",
      "Error at index: 417\n",
      "Error at index: 430\n"
     ]
    }
   ],
   "source": [
    "space_symbol = ' '\n",
    "empty_symbol = ''\n",
    "indices = []\n",
    "predicted_symbols = []\n",
    "for index, line in enumerate(test_df['text']):\n",
    "    indices.append(index+1)\n",
    "    index_of_missing = line.find(missing_symbol)\n",
    "    index_of_prev_space = line.rfind(space_symbol, 0, index_of_missing)\n",
    "    index_of_next_space = line.find(space_symbol, index_of_missing+1)\n",
    "    prev_word = line[index_of_prev_space:index_of_missing].strip()\n",
    "    next_word = line[index_of_missing+1:index_of_next_space+1].strip()\n",
    "    # if missing_symbol is a delimiter - store ' ' as a prediction\n",
    "    if (prev_word and spellchecker.spell(prev_word)) and (next_word and spellchecker.spell(next_word)):\n",
    "        predicted_symbols.append(space_symbol)\n",
    "        continue\n",
    "    else:\n",
    "        word_with_missing_symbol = line[index_of_prev_space:index_of_next_space]\n",
    "        index_of_missing = word_with_missing_symbol.find(missing_symbol)\n",
    "        if index_of_missing == -1:\n",
    "            print('Error at index:', index)\n",
    "            predicted_symbols.append(space_symbol)\n",
    "        else:\n",
    "            all_suggested = spellchecker.suggest(word_with_missing_symbol)\n",
    "#             print('for', word_with_missing_symbol, ':', )\n",
    "            if not all_suggested:\n",
    "                predicted_symbols.append(empty_symbol)\n",
    "                continue\n",
    "            suggested = spellchecker.suggest(word_with_missing_symbol)[0]\n",
    "#             print('at', index, ':', suggested, '| index:', index_of_missing-1)\n",
    "            if index_of_missing >= len(suggested):\n",
    "                predicted_symbols.append(empty_symbol)\n",
    "            else:\n",
    "                predicted_symbols.append(suggested[index_of_missing-1])"
   ]
  },
  {
   "cell_type": "code",
   "execution_count": null,
   "metadata": {},
   "outputs": [],
   "source": [
    "predictions = pd.DataFrame({'id': indices, 'y': predicted_symbols})\n",
    "predictions.to_csv('symbol_prediction_sumb1.csv', sep=',')"
   ]
  },
  {
   "cell_type": "code",
   "execution_count": null,
   "metadata": {},
   "outputs": [],
   "source": []
  }
 ],
 "metadata": {
  "kernelspec": {
   "display_name": "Python 3",
   "language": "python",
   "name": "python3"
  },
  "language_info": {
   "codemirror_mode": {
    "name": "ipython",
    "version": 3
   },
   "file_extension": ".py",
   "mimetype": "text/x-python",
   "name": "python",
   "nbconvert_exporter": "python",
   "pygments_lexer": "ipython3",
   "version": "3.5.2"
  }
 },
 "nbformat": 4,
 "nbformat_minor": 2
}
