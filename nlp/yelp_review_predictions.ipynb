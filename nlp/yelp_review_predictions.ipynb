{
 "cells": [
  {
   "cell_type": "markdown",
   "metadata": {},
   "source": [
    "# Yelp review binary predictions\n",
    "\n",
    "The task is to predict if review is positive or negative using bag-of-words model on [this dataset](https://www.kaggle.com/c/yelp-reviews)"
   ]
  },
  {
   "cell_type": "code",
   "execution_count": 3,
   "metadata": {},
   "outputs": [],
   "source": [
    "import pandas as pd\n",
    "import csv\n",
    "import numpy as np"
   ]
  },
  {
   "cell_type": "code",
   "execution_count": 4,
   "metadata": {},
   "outputs": [],
   "source": [
    "filename = 'yelp_reviews_train.csv'"
   ]
  },
  {
   "cell_type": "code",
   "execution_count": 5,
   "metadata": {},
   "outputs": [],
   "source": [
    "n_lines = sum(1 for row in csv.reader(open(filename)))"
   ]
  },
  {
   "cell_type": "code",
   "execution_count": 6,
   "metadata": {},
   "outputs": [
    {
     "data": {
      "text/plain": [
       "4084562"
      ]
     },
     "execution_count": 6,
     "metadata": {},
     "output_type": "execute_result"
    }
   ],
   "source": [
    "n_lines -= 1\n",
    "n_lines"
   ]
  },
  {
   "cell_type": "code",
   "execution_count": 35,
   "metadata": {},
   "outputs": [
    {
     "data": {
      "text/plain": [
       "204228"
      ]
     },
     "execution_count": 35,
     "metadata": {},
     "output_type": "execute_result"
    }
   ],
   "source": [
    "n_needed_lines = int(n_lines * 0.05)\n",
    "n_needed_lines"
   ]
  },
  {
   "cell_type": "code",
   "execution_count": 36,
   "metadata": {},
   "outputs": [],
   "source": [
    "import random"
   ]
  },
  {
   "cell_type": "code",
   "execution_count": 37,
   "metadata": {},
   "outputs": [],
   "source": [
    "# skip = sorted(random.sample(range(1, n_lines+1), n_lines-n_needed_lines))"
   ]
  },
  {
   "cell_type": "code",
   "execution_count": 38,
   "metadata": {},
   "outputs": [
    {
     "data": {
      "text/plain": [
       "3880334"
      ]
     },
     "execution_count": 38,
     "metadata": {},
     "output_type": "execute_result"
    }
   ],
   "source": [
    "skip = n_lines - n_needed_lines\n",
    "skip"
   ]
  },
  {
   "cell_type": "code",
   "execution_count": 39,
   "metadata": {},
   "outputs": [],
   "source": [
    "reviews_df = pd.read_csv(filename, sep=\",\",\n",
    "                         engine=\"c\",\n",
    "                         header=None,\n",
    "                         names=['id', 'text', 'is_positive'],\n",
    "                         dtype={\n",
    "                             'id': np.int32,\n",
    "                             'text': str,\n",
    "                             'is_positive': np.int8\n",
    "                         },\n",
    "                         skiprows=skip)"
   ]
  },
  {
   "cell_type": "code",
   "execution_count": 40,
   "metadata": {},
   "outputs": [
    {
     "data": {
      "text/plain": [
       "(204229, 3)"
      ]
     },
     "execution_count": 40,
     "metadata": {},
     "output_type": "execute_result"
    }
   ],
   "source": [
    "reviews_df.shape"
   ]
  },
  {
   "cell_type": "code",
   "execution_count": 41,
   "metadata": {},
   "outputs": [
    {
     "name": "stdout",
     "output_type": "stream",
     "text": [
      "Index(['id', 'text', 'is_positive'], dtype='object')\n",
      "        id                                               text  is_positive\n",
      "0  3880334  Just had a very good meal here last night. It'...            1\n",
      "1  3880335  I had the pleasure of working with Ritchie car...            1\n",
      "2  3880336  This place has some of the best burgers hands ...            1\n",
      "3  3880337  My favorite coffee place for studying in the n...            1\n",
      "4  3880338  Location is perfectly in plain site of Davisvi...            1\n"
     ]
    }
   ],
   "source": [
    "print(reviews_df.columns)\n",
    "print(reviews_df.head())"
   ]
  },
  {
   "cell_type": "code",
   "execution_count": 42,
   "metadata": {},
   "outputs": [
    {
     "data": {
      "text/plain": [
       "0    1\n",
       "1    1\n",
       "2    1\n",
       "3    1\n",
       "4    1\n",
       "Name: is_positive, dtype: int8"
      ]
     },
     "execution_count": 42,
     "metadata": {},
     "output_type": "execute_result"
    }
   ],
   "source": [
    "Y = reviews_df['is_positive']\n",
    "Y.head()"
   ]
  },
  {
   "cell_type": "code",
   "execution_count": 43,
   "metadata": {},
   "outputs": [
    {
     "data": {
      "text/plain": [
       "0    Just had a very good meal here last night. It'...\n",
       "1    I had the pleasure of working with Ritchie car...\n",
       "2    This place has some of the best burgers hands ...\n",
       "3    My favorite coffee place for studying in the n...\n",
       "4    Location is perfectly in plain site of Davisvi...\n",
       "Name: text, dtype: object"
      ]
     },
     "execution_count": 43,
     "metadata": {},
     "output_type": "execute_result"
    }
   ],
   "source": [
    "X = reviews_df.drop('is_positive', axis=1)\n",
    "X.head()['text']"
   ]
  },
  {
   "cell_type": "code",
   "execution_count": 44,
   "metadata": {},
   "outputs": [],
   "source": [
    "from sklearn.pipeline import Pipeline\n",
    "from sklearn.neighbors import KNeighborsClassifier\n",
    "from sklearn.feature_extraction.text import CountVectorizer\n",
    "from sklearn.feature_extraction.text import TfidfVectorizer"
   ]
  },
  {
   "cell_type": "code",
   "execution_count": 45,
   "metadata": {},
   "outputs": [],
   "source": [
    "from sklearn.linear_model import SGDClassifier\n",
    "from sklearn.linear_model import RidgeClassifier\n",
    "from sklearn.linear_model import Lasso, LassoCV\n",
    "pipeline = Pipeline([\n",
    "    ('vect', TfidfVectorizer()),\n",
    "#     ('clf', KNeighborsClassifier())\n",
    "#     ('clf', SGDClassifier())\n",
    "    ('clf', RidgeClassifier(solver='sag', alpha=1.0))\n",
    "])"
   ]
  },
  {
   "cell_type": "code",
   "execution_count": null,
   "metadata": {},
   "outputs": [],
   "source": [
    "min_df_options = [1, 2]#, 5]\n",
    "# n_neighbours_options = [5, 7, 10, 17, 20, 27]\n",
    "param_grid = {\n",
    "    'vect__min_df': min_df_options,\n",
    "    'vect__use_idf': (True, False),\n",
    "#     'clf__n_neighbors': n_neighbours_options\n",
    "#     'clf__alpha': (0.00001, 0.000001),\n",
    "#     'clf__penalty': ('l2', 'elasticnet'),\n",
    "#     'clf__alpha': (0.1, 0.5, 1.0, 5.0, 10.0),\n",
    "#     'clf__solver': ('svd', 'cholesky', 'lsqr', 'sparse_cg', 'sag', 'saga')\n",
    "#     'clf__class_weight': ({0: 0.3, 1: 0.7}, {0: 0.5, 1: 0.5})\n",
    "}\n",
    "# vectorizer = CountVectorizer()\n",
    "# tfidf = TfidfVectorizer(use_idf=False)\n",
    "# termdoc_matrix = vectorizer.fit_transform(X['text'])\n",
    "# termdoc_tfidf = tfidf.fit_transform(X['text'])\n",
    "# print(termdoc_matrix.shape, termdoc_tfidf.shape, Y.shape)"
   ]
  },
  {
   "cell_type": "code",
   "execution_count": null,
   "metadata": {},
   "outputs": [],
   "source": [
    "from sklearn.metrics import roc_auc_score\n",
    "def score_auc(estimator, X, y):\n",
    "    y_score = estimator.predict_proba(X)\n",
    "    return roc_auc_score(y, y_score)"
   ]
  },
  {
   "cell_type": "code",
   "execution_count": null,
   "metadata": {},
   "outputs": [],
   "source": [
    "from sklearn.model_selection import GridSearchCV\n",
    "grid = GridSearchCV(pipeline, param_grid=param_grid, scoring='roc_auc', iid=False)"
   ]
  },
  {
   "cell_type": "code",
   "execution_count": null,
   "metadata": {},
   "outputs": [],
   "source": [
    "# grid.fit(x_train['text'], y_train)\n",
    "# grid.fit(termdoc_tfidf, Y)\n",
    "grid.fit(X['text'], Y)"
   ]
  },
  {
   "cell_type": "code",
   "execution_count": 23,
   "metadata": {},
   "outputs": [
    {
     "name": "stdout",
     "output_type": "stream",
     "text": [
      "Pipeline(memory=None,\n",
      "     steps=[('vect', TfidfVectorizer(analyzer='word', binary=False, decode_error='strict',\n",
      "        dtype=<class 'numpy.int64'>, encoding='utf-8', input='content',\n",
      "        lowercase=True, max_df=1.0, max_features=None, min_df=5,\n",
      "        ngram_range=(1, 1), norm='l2', preprocessor=None, smooth_idf=True,\n",
      "  ...ntercept=True, max_iter=None, normalize=False,\n",
      "        random_state=None, solver='sag', tol=0.001))])\n"
     ]
    }
   ],
   "source": [
    "print(grid.best_estimator_)"
   ]
  },
  {
   "cell_type": "code",
   "execution_count": 24,
   "metadata": {},
   "outputs": [
    {
     "data": {
      "text/plain": [
       "{'clf__alpha': 1.0,\n",
       " 'clf__class_weight': {0: 0.5, 1: 0.5},\n",
       " 'vect__min_df': 5,\n",
       " 'vect__use_idf': True}"
      ]
     },
     "execution_count": 24,
     "metadata": {},
     "output_type": "execute_result"
    }
   ],
   "source": [
    "grid.best_params_"
   ]
  },
  {
   "cell_type": "code",
   "execution_count": 48,
   "metadata": {},
   "outputs": [],
   "source": [
    "pipeline_cv = Pipeline([\n",
    "    ('vect', TfidfVectorizer(min_df=3, use_idf=False)),\n",
    "#     ('clf', SGDClassifier(alpha=1e-05, penalty='l2'))\n",
    "#     ('clf', RidgeClassifier(solver='sag', alpha=1.0, class_weight={0: 0.5, 1: 0.5}))\n",
    "    ('clf', Lasso())\n",
    "])"
   ]
  },
  {
   "cell_type": "code",
   "execution_count": 49,
   "metadata": {},
   "outputs": [
    {
     "data": {
      "text/plain": [
       "Pipeline(memory=None,\n",
       "     steps=[('vect', TfidfVectorizer(analyzer='word', binary=False, decode_error='strict',\n",
       "        dtype=<class 'numpy.int64'>, encoding='utf-8', input='content',\n",
       "        lowercase=True, max_df=1.0, max_features=None, min_df=3,\n",
       "        ngram_range=(1, 1), norm='l2', preprocessor=None, smooth_idf=True,\n",
       "  ...e=False, precompute=False, random_state=None,\n",
       "   selection='cyclic', tol=0.0001, warm_start=False))])"
      ]
     },
     "execution_count": 49,
     "metadata": {},
     "output_type": "execute_result"
    }
   ],
   "source": [
    "pipeline_cv.fit(X['text'], Y)"
   ]
  },
  {
   "cell_type": "code",
   "execution_count": 50,
   "metadata": {},
   "outputs": [],
   "source": [
    "test_filename = 'yelp_review_test.csv'\n",
    "test_df = pd.read_csv(test_filename,\n",
    "                      sep=\",\",\n",
    "                      engine=\"c\",\n",
    "                      dtype={'id': np.int32, 'text': str})"
   ]
  },
  {
   "cell_type": "code",
   "execution_count": 51,
   "metadata": {},
   "outputs": [
    {
     "data": {
      "text/html": [
       "<div>\n",
       "<style scoped>\n",
       "    .dataframe tbody tr th:only-of-type {\n",
       "        vertical-align: middle;\n",
       "    }\n",
       "\n",
       "    .dataframe tbody tr th {\n",
       "        vertical-align: top;\n",
       "    }\n",
       "\n",
       "    .dataframe thead th {\n",
       "        text-align: right;\n",
       "    }\n",
       "</style>\n",
       "<table border=\"1\" class=\"dataframe\">\n",
       "  <thead>\n",
       "    <tr style=\"text-align: right;\">\n",
       "      <th></th>\n",
       "      <th>id</th>\n",
       "      <th>text</th>\n",
       "    </tr>\n",
       "  </thead>\n",
       "  <tbody>\n",
       "    <tr>\n",
       "      <th>0</th>\n",
       "      <td>4084563</td>\n",
       "      <td>Elite A/V did an amazing job installing two 65...</td>\n",
       "    </tr>\n",
       "    <tr>\n",
       "      <th>1</th>\n",
       "      <td>4084564</td>\n",
       "      <td>I've been searching for a great haircutter sin...</td>\n",
       "    </tr>\n",
       "    <tr>\n",
       "      <th>2</th>\n",
       "      <td>4084565</td>\n",
       "      <td>I am going to start with how horrible my exper...</td>\n",
       "    </tr>\n",
       "    <tr>\n",
       "      <th>3</th>\n",
       "      <td>4084566</td>\n",
       "      <td>I got the Maki and Tempura dinner for $20.00 a...</td>\n",
       "    </tr>\n",
       "    <tr>\n",
       "      <th>4</th>\n",
       "      <td>4084567</td>\n",
       "      <td>This place is okay... just a basic breakfast. ...</td>\n",
       "    </tr>\n",
       "  </tbody>\n",
       "</table>\n",
       "</div>"
      ],
      "text/plain": [
       "        id                                               text\n",
       "0  4084563  Elite A/V did an amazing job installing two 65...\n",
       "1  4084564  I've been searching for a great haircutter sin...\n",
       "2  4084565  I am going to start with how horrible my exper...\n",
       "3  4084566  I got the Maki and Tempura dinner for $20.00 a...\n",
       "4  4084567  This place is okay... just a basic breakfast. ..."
      ]
     },
     "execution_count": 51,
     "metadata": {},
     "output_type": "execute_result"
    }
   ],
   "source": [
    "test_df.head()"
   ]
  },
  {
   "cell_type": "code",
   "execution_count": 52,
   "metadata": {},
   "outputs": [
    {
     "data": {
      "text/html": [
       "<div>\n",
       "<style scoped>\n",
       "    .dataframe tbody tr th:only-of-type {\n",
       "        vertical-align: middle;\n",
       "    }\n",
       "\n",
       "    .dataframe tbody tr th {\n",
       "        vertical-align: top;\n",
       "    }\n",
       "\n",
       "    .dataframe thead th {\n",
       "        text-align: right;\n",
       "    }\n",
       "</style>\n",
       "<table border=\"1\" class=\"dataframe\">\n",
       "  <thead>\n",
       "    <tr style=\"text-align: right;\">\n",
       "      <th></th>\n",
       "      <th>id</th>\n",
       "      <th>is_positive</th>\n",
       "    </tr>\n",
       "  </thead>\n",
       "  <tbody>\n",
       "    <tr>\n",
       "      <th>0</th>\n",
       "      <td>4084563</td>\n",
       "      <td>0.738955</td>\n",
       "    </tr>\n",
       "    <tr>\n",
       "      <th>1</th>\n",
       "      <td>4084564</td>\n",
       "      <td>0.738955</td>\n",
       "    </tr>\n",
       "    <tr>\n",
       "      <th>2</th>\n",
       "      <td>4084565</td>\n",
       "      <td>0.738955</td>\n",
       "    </tr>\n",
       "    <tr>\n",
       "      <th>3</th>\n",
       "      <td>4084566</td>\n",
       "      <td>0.738955</td>\n",
       "    </tr>\n",
       "    <tr>\n",
       "      <th>4</th>\n",
       "      <td>4084567</td>\n",
       "      <td>0.738955</td>\n",
       "    </tr>\n",
       "  </tbody>\n",
       "</table>\n",
       "</div>"
      ],
      "text/plain": [
       "        id  is_positive\n",
       "0  4084563     0.738955\n",
       "1  4084564     0.738955\n",
       "2  4084565     0.738955\n",
       "3  4084566     0.738955\n",
       "4  4084567     0.738955"
      ]
     },
     "execution_count": 52,
     "metadata": {},
     "output_type": "execute_result"
    }
   ],
   "source": [
    "test_predictions = pipeline_cv.predict(test_df['text'])\n",
    "test_submission = pd.concat([test_df['id'], pd.Series(data=test_predictions)], axis=1, keys=['id', 'is_positive'])\n",
    "test_submission.head()"
   ]
  },
  {
   "cell_type": "code",
   "execution_count": 56,
   "metadata": {},
   "outputs": [
    {
     "name": "stdout",
     "output_type": "stream",
     "text": [
      "        id  is_positive\n",
      "0  4084563            1\n",
      "1  4084564            1\n",
      "2  4084565            1\n",
      "3  4084566            1\n",
      "4  4084567            1\n"
     ]
    }
   ],
   "source": [
    "tt = pd.concat([test_df['id'], pd.Series(data=[1 if v >= 0.5 else 0 for v in test_predictions])], axis=1, keys=['id', 'is_positive'])\n",
    "print(tt.head())\n",
    "tt.to_csv('ag_submission5.csv', sep=',')"
   ]
  },
  {
   "cell_type": "code",
   "execution_count": 55,
   "metadata": {},
   "outputs": [
    {
     "data": {
      "text/plain": [
       "{0.7389548007383868}"
      ]
     },
     "execution_count": 55,
     "metadata": {},
     "output_type": "execute_result"
    }
   ],
   "source": []
  },
  {
   "cell_type": "code",
   "execution_count": null,
   "metadata": {},
   "outputs": [],
   "source": []
  },
  {
   "cell_type": "code",
   "execution_count": null,
   "metadata": {},
   "outputs": [],
   "source": []
  },
  {
   "cell_type": "code",
   "execution_count": null,
   "metadata": {},
   "outputs": [],
   "source": []
  },
  {
   "cell_type": "code",
   "execution_count": null,
   "metadata": {},
   "outputs": [],
   "source": []
  },
  {
   "cell_type": "code",
   "execution_count": null,
   "metadata": {},
   "outputs": [],
   "source": []
  },
  {
   "cell_type": "code",
   "execution_count": null,
   "metadata": {},
   "outputs": [],
   "source": []
  },
  {
   "cell_type": "code",
   "execution_count": null,
   "metadata": {},
   "outputs": [],
   "source": []
  },
  {
   "cell_type": "code",
   "execution_count": 17,
   "metadata": {},
   "outputs": [
    {
     "data": {
      "text/plain": [
       "(163383, 92350)"
      ]
     },
     "execution_count": 17,
     "metadata": {},
     "output_type": "execute_result"
    }
   ],
   "source": [
    "from sklearn.feature_extraction.text import CountVectorizer\n",
    "count_vect = CountVectorizer()\n",
    "sparse_matrix = count_vect.fit_transform(x_train['text'])\n",
    "sparse_matrix.shape"
   ]
  },
  {
   "cell_type": "code",
   "execution_count": 18,
   "metadata": {},
   "outputs": [],
   "source": [
    "from sklearn.feature_extraction.text import TfidfTransformer"
   ]
  },
  {
   "cell_type": "code",
   "execution_count": 19,
   "metadata": {},
   "outputs": [
    {
     "data": {
      "text/plain": [
       "(163383, 92350)"
      ]
     },
     "execution_count": 19,
     "metadata": {},
     "output_type": "execute_result"
    }
   ],
   "source": [
    "tfidf_transformer = TfidfTransformer(use_idf=False)\n",
    "sparse_matrix_tfidf = tfidf_transformer.fit_transform(sparse_matrix)\n",
    "sparse_matrix_tfidf.shape"
   ]
  },
  {
   "cell_type": "code",
   "execution_count": 20,
   "metadata": {},
   "outputs": [],
   "source": [
    "from sklearn.naive_bayes import MultinomialNB\n",
    "clf = MultinomialNB().fit(sparse_matrix_tfidf, y_train)"
   ]
  },
  {
   "cell_type": "code",
   "execution_count": 23,
   "metadata": {},
   "outputs": [
    {
     "data": {
      "text/plain": [
       "GridSearchCV(cv=None, error_score='raise',\n",
       "       estimator=MultinomialNB(alpha=1.0, class_prior=None, fit_prior=True),\n",
       "       fit_params=None, iid=True, n_jobs=1,\n",
       "       param_grid={'alpha': [1.0, 2.0, 3.0]}, pre_dispatch='2*n_jobs',\n",
       "       refit=True, return_train_score='warn', scoring=None, verbose=0)"
      ]
     },
     "execution_count": 23,
     "metadata": {},
     "output_type": "execute_result"
    }
   ],
   "source": [
    "from sklearn.model_selection import GridSearchCV\n",
    "grid = GridSearchCV(MultinomialNB(), param_grid={'alpha': [1.0, 2.0, 3.0]}, cv=None)\n",
    "grid.fit(sparse_matrix_tfidf, y_train)"
   ]
  },
  {
   "cell_type": "code",
   "execution_count": 33,
   "metadata": {},
   "outputs": [
    {
     "name": "stdout",
     "output_type": "stream",
     "text": [
      "0.21755629410648603 1.0\n"
     ]
    }
   ],
   "source": [
    "best_cv_err = 1 - grid.best_score_\n",
    "best_n_neighbours = grid.best_estimator_.alpha\n",
    "print(best_cv_err, best_n_neighbours)\n",
    "\n",
    "clf_smart = MultinomialNB(alpha=grid.best_estimator_.alpha).fit(sparse_matrix_tfidf, y_train)\n",
    "err_train_smart = np.mean(y_train != clf_smart.predict(sparse_matrix_tfidf))"
   ]
  },
  {
   "cell_type": "code",
   "execution_count": 34,
   "metadata": {},
   "outputs": [
    {
     "data": {
      "text/plain": [
       "81517"
      ]
     },
     "execution_count": 34,
     "metadata": {},
     "output_type": "execute_result"
    }
   ],
   "source": [
    "test_filename = 'yelp_review_test.csv'"
   ]
  },
  {
   "cell_type": "code",
   "execution_count": 35,
   "metadata": {},
   "outputs": [],
   "source": [
    "test_df = pd.read_csv(test_filename,\n",
    "                      sep=\",\",\n",
    "                      engine=\"c\",\n",
    "                      dtype={'id': np.int32, 'text': str})"
   ]
  },
  {
   "cell_type": "code",
   "execution_count": 36,
   "metadata": {},
   "outputs": [
    {
     "name": "stdout",
     "output_type": "stream",
     "text": [
      "Index(['id', 'text'], dtype='object')\n",
      "        id                                               text\n",
      "0  4084563  Elite A/V did an amazing job installing two 65...\n",
      "1  4084564  I've been searching for a great haircutter sin...\n",
      "2  4084565  I am going to start with how horrible my exper...\n",
      "3  4084566  I got the Maki and Tempura dinner for $20.00 a...\n",
      "4  4084567  This place is okay... just a basic breakfast. ...\n"
     ]
    }
   ],
   "source": [
    "print(test_df.columns)\n",
    "print(test_df.head())"
   ]
  },
  {
   "cell_type": "code",
   "execution_count": 37,
   "metadata": {},
   "outputs": [
    {
     "data": {
      "text/plain": [
       "(81516, 92350)"
      ]
     },
     "execution_count": 37,
     "metadata": {},
     "output_type": "execute_result"
    }
   ],
   "source": [
    "test_tfidf = tfidf_transformer.transform(count_vect.transform(test_df['text']))\n",
    "test_tfidf.shape"
   ]
  },
  {
   "cell_type": "code",
   "execution_count": 38,
   "metadata": {},
   "outputs": [
    {
     "data": {
      "text/plain": [
       "array([1, 1, 1, ..., 1, 1, 0], dtype=int8)"
      ]
     },
     "execution_count": 38,
     "metadata": {},
     "output_type": "execute_result"
    }
   ],
   "source": [
    "test_predictions = clf_smart.predict(test_tfidf)\n",
    "test_predictions"
   ]
  },
  {
   "cell_type": "code",
   "execution_count": 39,
   "metadata": {},
   "outputs": [],
   "source": [
    "clf_smart = MultinomialNB().fit(sparse_matrix_tfidf, y_train)"
   ]
  },
  {
   "cell_type": "code",
   "execution_count": 40,
   "metadata": {},
   "outputs": [
    {
     "data": {
      "text/plain": [
       "array([1, 1, 1, ..., 1, 1, 0], dtype=int8)"
      ]
     },
     "execution_count": 40,
     "metadata": {},
     "output_type": "execute_result"
    }
   ],
   "source": [
    "test_predictions = clf_smart.predict(test_tfidf)\n",
    "test_predictions"
   ]
  },
  {
   "cell_type": "code",
   "execution_count": 42,
   "metadata": {},
   "outputs": [
    {
     "name": "stdout",
     "output_type": "stream",
     "text": [
      "(81516,) (81516,)\n"
     ]
    }
   ],
   "source": [
    "print(test_df['id'].shape, test_predictions.shape)"
   ]
  },
  {
   "cell_type": "code",
   "execution_count": 44,
   "metadata": {},
   "outputs": [
    {
     "data": {
      "text/html": [
       "<div>\n",
       "<style scoped>\n",
       "    .dataframe tbody tr th:only-of-type {\n",
       "        vertical-align: middle;\n",
       "    }\n",
       "\n",
       "    .dataframe tbody tr th {\n",
       "        vertical-align: top;\n",
       "    }\n",
       "\n",
       "    .dataframe thead th {\n",
       "        text-align: right;\n",
       "    }\n",
       "</style>\n",
       "<table border=\"1\" class=\"dataframe\">\n",
       "  <thead>\n",
       "    <tr style=\"text-align: right;\">\n",
       "      <th></th>\n",
       "      <th>id</th>\n",
       "      <th>is_positive</th>\n",
       "    </tr>\n",
       "  </thead>\n",
       "  <tbody>\n",
       "    <tr>\n",
       "      <th>0</th>\n",
       "      <td>4084563</td>\n",
       "      <td>1</td>\n",
       "    </tr>\n",
       "    <tr>\n",
       "      <th>1</th>\n",
       "      <td>4084564</td>\n",
       "      <td>1</td>\n",
       "    </tr>\n",
       "    <tr>\n",
       "      <th>2</th>\n",
       "      <td>4084565</td>\n",
       "      <td>1</td>\n",
       "    </tr>\n",
       "    <tr>\n",
       "      <th>3</th>\n",
       "      <td>4084566</td>\n",
       "      <td>1</td>\n",
       "    </tr>\n",
       "    <tr>\n",
       "      <th>4</th>\n",
       "      <td>4084567</td>\n",
       "      <td>1</td>\n",
       "    </tr>\n",
       "  </tbody>\n",
       "</table>\n",
       "</div>"
      ],
      "text/plain": [
       "        id  is_positive\n",
       "0  4084563            1\n",
       "1  4084564            1\n",
       "2  4084565            1\n",
       "3  4084566            1\n",
       "4  4084567            1"
      ]
     },
     "execution_count": 44,
     "metadata": {},
     "output_type": "execute_result"
    }
   ],
   "source": [
    "test_submission = pd.concat([test_df['id'], pd.Series(data=test_predictions)], axis=1, keys=['id', 'is_positive'])\n",
    "test_submission.head()"
   ]
  },
  {
   "cell_type": "code",
   "execution_count": 45,
   "metadata": {},
   "outputs": [],
   "source": [
    "test_submission.to_csv('ag_submission.csv', sep=',')"
   ]
  },
  {
   "cell_type": "code",
   "execution_count": 49,
   "metadata": {},
   "outputs": [
    {
     "name": "stdout",
     "output_type": "stream",
     "text": [
      "(204229, 102759)\n"
     ]
    },
    {
     "data": {
      "text/plain": [
       "(204229, 102759)"
      ]
     },
     "execution_count": 49,
     "metadata": {},
     "output_type": "execute_result"
    }
   ],
   "source": [
    "test1_count_vect = CountVectorizer()\n",
    "test1_sparse_matrix = test1_count_vect.fit_transform(X['text'])\n",
    "print(test1_sparse_matrix.shape)\n",
    "\n",
    "test1_tfidf = TfidfTransformer(use_idf=False)\n",
    "test1_sparse_matrix_tfidf = test1_tfidf.fit_transform(test1_sparse_matrix)\n",
    "test1_sparse_matrix_tfidf.shape"
   ]
  },
  {
   "cell_type": "code",
   "execution_count": 56,
   "metadata": {},
   "outputs": [],
   "source": [
    "from sklearn.linear_model import Lasso\n",
    "lasso_clf = Lasso(normalize=True).fit(test1_sparse_matrix_tfidf, Y)"
   ]
  },
  {
   "cell_type": "code",
   "execution_count": 57,
   "metadata": {},
   "outputs": [],
   "source": [
    "from sklearn.feature_extraction.text import TfidfVectorizer\n",
    "test1_tfidf2 = TfidfVectorizer().fit(X['text'])\n",
    "test1_tdata = test1_tfidf2.transform(test_df['text'])\n",
    "\n",
    "test1_pred = lasso_clf.predict(test1_tdata)\n",
    "test1_subm = pd.concat([test_df['id'], pd.Series(data=test1_pred)], axis=1, keys=['id', 'is_positive'])\n",
    "test1_subm.to_csv('ag_submission2.csv', sep=',')"
   ]
  },
  {
   "cell_type": "code",
   "execution_count": 58,
   "metadata": {},
   "outputs": [
    {
     "data": {
      "text/plain": [
       "array([0.7389548, 0.7389548, 0.7389548, 0.7389548, 0.7389548, 0.7389548,\n",
       "       0.7389548, 0.7389548, 0.7389548, 0.7389548])"
      ]
     },
     "execution_count": 58,
     "metadata": {},
     "output_type": "execute_result"
    }
   ],
   "source": [
    "test1_pred[:10]"
   ]
  },
  {
   "cell_type": "code",
   "execution_count": null,
   "metadata": {},
   "outputs": [],
   "source": []
  }
 ],
 "metadata": {
  "kernelspec": {
   "display_name": "Python 3",
   "language": "python",
   "name": "python3"
  }
 },
 "nbformat": 4,
 "nbformat_minor": 2
}
