{
 "cells": [
  {
   "cell_type": "markdown",
   "metadata": {},
   "source": [
    "# Ансамбли решающих функций (классификаторов)\n",
    "\n",
    "На сегодняшний день существуют два подхода:\n",
    "    \n",
    "* Баггинг (построение независимых классификаторов):\n",
    "        - Bagging\n",
    "        - Random Forests\n",
    "        - ...\n",
    "* Бустинг (новые классификаторы знают об ошибках других и учатся на их ошибках):\n",
    "        - AdaBoost\n",
    "        - Gradient Boosting\n",
    "        - ...\n",
    "\n",
    "\n",
    "Dataset: [armenian pubs](https://www.kaggle.com/erikhambardzumyan/pubs)\n",
    "\n",
    "Подробнее о данных можно узнать в [первой работе](https://github.com/andrgolubev/python-sandbox/blob/master/data_analysis_1.ipynb)"
   ]
  },
  {
   "cell_type": "markdown",
   "metadata": {},
   "source": [
    "## Плюсы и минусы ансамблей деревьев решений\n",
    "\n",
    "** Плюсы **:\n",
    "\n",
    "* Все достоинства деревьев решений сохраняются (кроме возможности интерпретации решающего правила - но остается возможность определения значимости признаков)\n",
    "* Хорошее (часто рекордное) качество предсказания\n",
    "* Random Forest (почти) не переобучается (GBT, AdaBoost - чуть похуже)\n",
    "\n",
    "** Минусы **:\n",
    "\n",
    "* GBT, AdaBoost - много параметров, которые надо подбирать\n",
    "* Медленно обучаются (особенно GBT, который требует обычно много деревьев)"
   ]
  },
  {
   "cell_type": "code",
   "execution_count": 1,
   "metadata": {
    "collapsed": true
   },
   "outputs": [],
   "source": [
    "import numpy as np\n",
    "import matplotlib.pyplot as plt\n",
    "import pandas as pd\n",
    "%matplotlib inline"
   ]
  },
  {
   "cell_type": "code",
   "execution_count": 18,
   "metadata": {},
   "outputs": [
    {
     "name": "stdout",
     "output_type": "stream",
     "text": [
      "122 53\n"
     ]
    }
   ],
   "source": [
    "import data_retrieve as dr\n",
    "X, data = dr.parse_and_prepare(\"armenian_pubs.csv\", sep=\",\", engine=\"python\")\n",
    "Y = None\n",
    "Y_numeric = data['wts']\n",
    "Y_mean = np.mean(Y_numeric)\n",
    "Y = pd.Series(['C1' if val <= Y_mean else 'C2' for val in Y_numeric])\n",
    "intY = pd.Series([0 if val is 'C1' else 1 for val in Y])\n",
    "feature_names = X.columns\n",
    "\n",
    "from sklearn.model_selection import train_test_split\n",
    "# constant random_state to have repeatability\n",
    "X_train, X_test, Y_train, Y_test = train_test_split(X, Y, train_size=0.7, random_state=7)\n",
    "N_train, _ = X_train.shape\n",
    "N_test, _ = X_test.shape\n",
    "intY = pd.Series([0 if val is 'C1' else 1 for val in Y_train])\n",
    "intY_test = pd.Series([0 if val is 'C1' else 1 for val in Y_test])\n",
    "print(N_train, N_test)"
   ]
  },
  {
   "cell_type": "markdown",
   "metadata": {},
   "source": [
    "## Random Forest\n",
    "\n",
    "Ансамбль параллельно обучаемых «независимых» деревьев решений.\n",
    "\n",
    "Независимое построение определенного количества $M = {}$`n_estimators` (по умолчанию, 10) деревьев:\n",
    "\n",
    "Генерация случайной bootstrap-подвыборки (по умолчанию, ее мощность равна $\\sqrt{N}$) из обучающей выборки и построение дерева решений по данной подвыборке (в каждом\n",
    "новом узле дерева переменная для разбиения выбирается не из всех признаков, а из\n",
    "случайно выбранного их подмножества небольшой мощности)."
   ]
  },
  {
   "cell_type": "code",
   "execution_count": 19,
   "metadata": {},
   "outputs": [
    {
     "data": {
      "text/plain": [
       "RandomForestClassifier(bootstrap=True, class_weight=None, criterion='gini',\n",
       "            max_depth=None, max_features='auto', max_leaf_nodes=None,\n",
       "            min_impurity_split=1e-07, min_samples_leaf=1,\n",
       "            min_samples_split=2, min_weight_fraction_leaf=0.0,\n",
       "            n_estimators=700, n_jobs=1, oob_score=False, random_state=None,\n",
       "            verbose=0, warm_start=False)"
      ]
     },
     "execution_count": 19,
     "metadata": {},
     "output_type": "execute_result"
    }
   ],
   "source": [
    "from sklearn.ensemble import RandomForestClassifier\n",
    "rf_model = RandomForestClassifier(n_estimators=700)\n",
    "rf_model.fit(X_train, Y_train)"
   ]
  },
  {
   "cell_type": "code",
   "execution_count": 20,
   "metadata": {},
   "outputs": [
    {
     "name": "stdout",
     "output_type": "stream",
     "text": [
      "0.0 0.528301886792\n"
     ]
    }
   ],
   "source": [
    "err_train = np.mean(Y_train != rf_model.predict(X_train))\n",
    "err_test = np.mean(Y_test != rf_model.predict(X_test))\n",
    "print(err_train, err_test)"
   ]
  },
  {
   "cell_type": "markdown",
   "metadata": {},
   "source": [
    "## AdaBoost\n",
    "\n",
    "Будем использовать веса $w_1,w_2, \\dots ,w_N$.\n",
    "\n",
    "На первой итерации $w_i = 1/N$ ($i = 1, 2, \\dots ,N$) и алгоритм построения $f_1$ работает в\n",
    "обычном режиме.\n",
    "На $m$-й итерации увеличиваются веса тех прецедентов, на которых на $(m − 1)$-й\n",
    "итерации была допущена ошибка, и уменьшаются веса тех прецедентов, которые на\n",
    "предыдущей итерации были классифицированы правильно.\n",
    "\n",
    "На $m$-й итерации ищем классификатор $f_m$, минимизирующий ошибку\n",
    "$$\n",
    "{\\rm err}_m = \\sum_{f_m(x^{(i)}) \\ne y^{(i)}} w_i\n",
    "$$\n"
   ]
  },
  {
   "cell_type": "code",
   "execution_count": 21,
   "metadata": {},
   "outputs": [
    {
     "data": {
      "text/plain": [
       "AdaBoostClassifier(algorithm='SAMME.R', base_estimator=None,\n",
       "          learning_rate=1.0, n_estimators=700, random_state=None)"
      ]
     },
     "execution_count": 21,
     "metadata": {},
     "output_type": "execute_result"
    }
   ],
   "source": [
    "from sklearn.ensemble import AdaBoostClassifier\n",
    "adab_model = AdaBoostClassifier(n_estimators=700)\n",
    "adab_model.fit(X_train, Y_train)"
   ]
  },
  {
   "cell_type": "code",
   "execution_count": 22,
   "metadata": {},
   "outputs": [
    {
     "name": "stdout",
     "output_type": "stream",
     "text": [
      "0.139344262295 0.509433962264\n"
     ]
    }
   ],
   "source": [
    "err_train = np.mean(Y_train != adab_model.predict(X_train))\n",
    "err_test = np.mean(Y_test != adab_model.predict(X_test))\n",
    "print(err_train, err_test)"
   ]
  },
  {
   "cell_type": "markdown",
   "metadata": {},
   "source": [
    "## Gradient Boosting\n",
    "\n",
    "На каждой итерации строится новый классификатор, аппроксимирующий значение градиента функции потерь"
   ]
  },
  {
   "cell_type": "code",
   "execution_count": 23,
   "metadata": {},
   "outputs": [
    {
     "data": {
      "text/plain": [
       "GradientBoostingClassifier(criterion='friedman_mse', init=None,\n",
       "              learning_rate=0.1, loss='deviance', max_depth=3,\n",
       "              max_features=None, max_leaf_nodes=None,\n",
       "              min_impurity_split=1e-07, min_samples_leaf=1,\n",
       "              min_samples_split=2, min_weight_fraction_leaf=0.0,\n",
       "              n_estimators=700, presort='auto', random_state=None,\n",
       "              subsample=1.0, verbose=0, warm_start=False)"
      ]
     },
     "execution_count": 23,
     "metadata": {},
     "output_type": "execute_result"
    }
   ],
   "source": [
    "from sklearn.ensemble import GradientBoostingClassifier\n",
    "gdb_model = GradientBoostingClassifier(n_estimators=700)\n",
    "gdb_model.fit(X_train, Y_train)"
   ]
  },
  {
   "cell_type": "code",
   "execution_count": 24,
   "metadata": {},
   "outputs": [
    {
     "name": "stdout",
     "output_type": "stream",
     "text": [
      "0.0 0.547169811321\n"
     ]
    }
   ],
   "source": [
    "err_train = np.mean(Y_train != gdb_model.predict(X_train))\n",
    "err_test = np.mean(Y_test != gdb_model.predict(X_test))\n",
    "print(err_train, err_test)"
   ]
  },
  {
   "cell_type": "code",
   "execution_count": 38,
   "metadata": {},
   "outputs": [
    {
     "data": {
      "application/vnd.jupyter.widget-view+json": {
       "model_id": "c1538cee0791436aab79e2dca66a3124"
      }
     },
     "metadata": {},
     "output_type": "display_data"
    },
    {
     "data": {
      "image/png": "[encoded data removed]",
      "text/plain": [
       "<matplotlib.figure.Figure at 0x7f9790e1ab00>"
      ]
     },
     "metadata": {},
     "output_type": "display_data"
    }
   ],
   "source": [
    "from ipywidgets import interact\n",
    "\n",
    "defines = {\n",
    "    'random_forest': {\n",
    "        'ctor': RandomForestClassifier\n",
    "    },\n",
    "    'ada_boost': {\n",
    "        'ctor': AdaBoostClassifier\n",
    "    },\n",
    "    'gradient_boosting': {\n",
    "        'ctor': GradientBoostingClassifier\n",
    "    }\n",
    "}\n",
    "\n",
    "names = X.columns\n",
    "_, n_features = X.shape\n",
    "def print_svc_data(model='random_forest', graph='hist', n_estimators=700):\n",
    "    model_defines = defines[model]\n",
    "    tree_model = model_defines['ctor'](n_estimators=n_estimators)\n",
    "    tree_model.fit(X_train, Y_train)\n",
    "    Y_train_predict = tree_model.predict(X_train)\n",
    "    Y_test_predict = tree_model.predict(X_test)\n",
    "    err_train = np.mean(Y_train != Y_train_predict)\n",
    "    err_test = np.mean(Y_test != Y_test_predict)\n",
    "    print(f\"Errors: train - {err_train} | test - {err_test}\")\n",
    "    from sklearn.metrics import confusion_matrix\n",
    "    cm_train = confusion_matrix(Y_train_predict, Y_train)\n",
    "    print(\"Train data Confusion Matrix:\\n\", cm_train)\n",
    "    cm_test = confusion_matrix(Y_test_predict, Y_test)\n",
    "    print(\"Test data Confusion Matrix:\\n\", cm_test)\n",
    "    \n",
    "    tnr_tr = 1 - float(cm_train[1, 0])/(cm_train[0, 0] + cm_train[1, 0])\n",
    "    tpr_tr = 1 - float(cm_train[0, 1])/(cm_train[0, 1] + cm_train[1, 1])\n",
    "    print(f\"Train data: Specificity={tnr_tr} | Sensitivity={tpr_tr}\")\n",
    "    tnr_tst = 1 - float(cm_test[1, 0])/(cm_test[0, 0] + cm_test[1, 0])\n",
    "    tpr_tst = 1 - float(cm_test[0, 1])/(cm_test[0, 1] + cm_test[1, 1])\n",
    "    print(f\"Test data: Specificity={tnr_tst} | Sensitivity={tpr_tst}\")\n",
    "    probability = tree_model.predict_proba(X_test)[:, 1]\n",
    "    from sklearn.metrics import roc_curve\n",
    "    fpr, tpr, thresholds = roc_curve(intY_test, probability)\n",
    "    \n",
    "    importances = tree_model.feature_importances_\n",
    "    indices = np.argsort(importances)[:-11:-1]\n",
    "    print(\"Feature ranking:\")\n",
    "    for f in range(10):\n",
    "        print(\"%2d. feature '%5s' (%f)\" % (f + 1, names[indices[f]], importances[indices[f]]))\n",
    "    \n",
    "    if graph is 'hist':\n",
    "        plt.hist(probability[Y_test == 'C1'], color = 'b', alpha = 0.4, normed = False)\n",
    "        plt.hist(probability[Y_test == 'C2'], color = 'r', alpha = 0.4, normed = False)\n",
    "        pass\n",
    "    else:\n",
    "        from sklearn.metrics import roc_curve\n",
    "        fpr, tpr, thresholds = roc_curve(intY_test, probability)\n",
    "        plt.title('Receiver Operating Characteristic')\n",
    "        plt.plot(np.concatenate(([0], fpr)), np.concatenate(([0], tpr)))\n",
    "        #plt.plot(fpr, tpr)\n",
    "        plt.xlabel('False Positive Rate (1 - Specificity)')\n",
    "        plt.ylabel('True Positive Rate (Sensitivity)')\n",
    "        plt.plot([0, 1], [0, 1], 'k--')\n",
    "        plt.axis([-0.05, 1.05, -0.05, 1.05])\n",
    "        from sklearn.metrics import auc\n",
    "        print(\"Area Under Curve: \", auc(fpr, tpr))\n",
    "        pass\n",
    "    pass\n",
    "\n",
    "interact(print_svc_data, model=defines.keys(), graph=['hist', 'roc'], n_estimators=(1, 2500, 1))\n",
    "pass"
   ]
  }
 ],
 "metadata": {
  "kernelspec": {
   "display_name": "Python 3",
   "language": "python",
   "name": "python3"
  },
  "language_info": {
   "codemirror_mode": {
    "name": "ipython",
    "version": 3
   },
   "file_extension": ".py",
   "mimetype": "text/x-python",
   "name": "python",
   "nbconvert_exporter": "python",
   "pygments_lexer": "ipython3",
   "version": "3.6.1"
  }
 },
 "nbformat": 4,
 "nbformat_minor": 2
}
