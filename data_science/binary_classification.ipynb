{
 "cells": [
  {
   "cell_type": "code",
   "execution_count": 1,
   "metadata": {},
   "outputs": [],
   "source": [
    "import pandas as pd\n",
    "import csv\n",
    "import numpy as np"
   ]
  },
  {
   "cell_type": "code",
   "execution_count": 2,
   "metadata": {},
   "outputs": [],
   "source": [
    "train = 'train.txt'\n",
    "labels = 'train_labels.txt'"
   ]
  },
  {
   "cell_type": "code",
   "execution_count": 28,
   "metadata": {},
   "outputs": [],
   "source": [
    "train_df = pd.read_csv(train, sep=\" \", engine=\"c\", header=None)"
   ]
  },
  {
   "cell_type": "code",
   "execution_count": 29,
   "metadata": {},
   "outputs": [
    {
     "data": {
      "text/html": [
       "<div>\n",
       "<style scoped>\n",
       "    .dataframe tbody tr th:only-of-type {\n",
       "        vertical-align: middle;\n",
       "    }\n",
       "\n",
       "    .dataframe tbody tr th {\n",
       "        vertical-align: top;\n",
       "    }\n",
       "\n",
       "    .dataframe thead th {\n",
       "        text-align: right;\n",
       "    }\n",
       "</style>\n",
       "<table border=\"1\" class=\"dataframe\">\n",
       "  <thead>\n",
       "    <tr style=\"text-align: right;\">\n",
       "      <th></th>\n",
       "      <th>0</th>\n",
       "      <th>1</th>\n",
       "      <th>2</th>\n",
       "      <th>3</th>\n",
       "      <th>4</th>\n",
       "      <th>5</th>\n",
       "      <th>6</th>\n",
       "      <th>7</th>\n",
       "      <th>8</th>\n",
       "      <th>9</th>\n",
       "    </tr>\n",
       "  </thead>\n",
       "  <tbody>\n",
       "    <tr>\n",
       "      <th>0</th>\n",
       "      <td>120.3882</td>\n",
       "      <td>67.1368</td>\n",
       "      <td>3.6905</td>\n",
       "      <td>0.1128</td>\n",
       "      <td>0.0481</td>\n",
       "      <td>-155.5746</td>\n",
       "      <td>35.3004</td>\n",
       "      <td>47.8095</td>\n",
       "      <td>3.8760</td>\n",
       "      <td>289.0430</td>\n",
       "    </tr>\n",
       "    <tr>\n",
       "      <th>1</th>\n",
       "      <td>28.5322</td>\n",
       "      <td>15.1782</td>\n",
       "      <td>2.6686</td>\n",
       "      <td>0.4306</td>\n",
       "      <td>0.2399</td>\n",
       "      <td>30.9627</td>\n",
       "      <td>21.7936</td>\n",
       "      <td>21.9248</td>\n",
       "      <td>62.7504</td>\n",
       "      <td>254.0526</td>\n",
       "    </tr>\n",
       "    <tr>\n",
       "      <th>2</th>\n",
       "      <td>38.8799</td>\n",
       "      <td>21.5881</td>\n",
       "      <td>3.0573</td>\n",
       "      <td>0.2025</td>\n",
       "      <td>0.1047</td>\n",
       "      <td>18.7566</td>\n",
       "      <td>-24.0106</td>\n",
       "      <td>11.6233</td>\n",
       "      <td>0.7040</td>\n",
       "      <td>185.2510</td>\n",
       "    </tr>\n",
       "    <tr>\n",
       "      <th>3</th>\n",
       "      <td>28.8255</td>\n",
       "      <td>16.7964</td>\n",
       "      <td>2.6642</td>\n",
       "      <td>0.3402</td>\n",
       "      <td>0.1701</td>\n",
       "      <td>3.6149</td>\n",
       "      <td>-18.2080</td>\n",
       "      <td>9.8634</td>\n",
       "      <td>2.4949</td>\n",
       "      <td>213.1690</td>\n",
       "    </tr>\n",
       "    <tr>\n",
       "      <th>4</th>\n",
       "      <td>20.7522</td>\n",
       "      <td>8.9492</td>\n",
       "      <td>2.3874</td>\n",
       "      <td>0.6434</td>\n",
       "      <td>0.3586</td>\n",
       "      <td>24.0649</td>\n",
       "      <td>10.5927</td>\n",
       "      <td>1.8768</td>\n",
       "      <td>36.3060</td>\n",
       "      <td>126.3930</td>\n",
       "    </tr>\n",
       "  </tbody>\n",
       "</table>\n",
       "</div>"
      ],
      "text/plain": [
       "          0        1       2       3       4         5        6        7  \\\n",
       "0  120.3882  67.1368  3.6905  0.1128  0.0481 -155.5746  35.3004  47.8095   \n",
       "1   28.5322  15.1782  2.6686  0.4306  0.2399   30.9627  21.7936  21.9248   \n",
       "2   38.8799  21.5881  3.0573  0.2025  0.1047   18.7566 -24.0106  11.6233   \n",
       "3   28.8255  16.7964  2.6642  0.3402  0.1701    3.6149 -18.2080   9.8634   \n",
       "4   20.7522   8.9492  2.3874  0.6434  0.3586   24.0649  10.5927   1.8768   \n",
       "\n",
       "         8         9  \n",
       "0   3.8760  289.0430  \n",
       "1  62.7504  254.0526  \n",
       "2   0.7040  185.2510  \n",
       "3   2.4949  213.1690  \n",
       "4  36.3060  126.3930  "
      ]
     },
     "execution_count": 29,
     "metadata": {},
     "output_type": "execute_result"
    }
   ],
   "source": [
    "train_df.head()"
   ]
  },
  {
   "cell_type": "code",
   "execution_count": 5,
   "metadata": {},
   "outputs": [
    {
     "data": {
      "text/plain": [
       "(15000, 10)"
      ]
     },
     "execution_count": 5,
     "metadata": {},
     "output_type": "execute_result"
    }
   ],
   "source": [
    "train_df.shape"
   ]
  },
  {
   "cell_type": "code",
   "execution_count": 6,
   "metadata": {},
   "outputs": [],
   "source": [
    "labels_df = pd.Series(pd.read_csv(labels, sep=\" \", engine=\"c\", header=None)[0])"
   ]
  },
  {
   "cell_type": "code",
   "execution_count": 7,
   "metadata": {},
   "outputs": [
    {
     "data": {
      "text/plain": [
       "0    1\n",
       "1    1\n",
       "2    0\n",
       "3    0\n",
       "4    1\n",
       "Name: 0, dtype: int64"
      ]
     },
     "execution_count": 7,
     "metadata": {},
     "output_type": "execute_result"
    }
   ],
   "source": [
    "labels_df.head()"
   ]
  },
  {
   "cell_type": "markdown",
   "metadata": {},
   "source": [
    "Normalization:"
   ]
  },
  {
   "cell_type": "code",
   "execution_count": 8,
   "metadata": {},
   "outputs": [],
   "source": [
    "from sklearn import preprocessing\n",
    "train_df = pd.DataFrame(preprocessing.MinMaxScaler().fit_transform(train_df))"
   ]
  },
  {
   "cell_type": "code",
   "execution_count": 9,
   "metadata": {},
   "outputs": [
    {
     "data": {
      "text/html": [
       "<div>\n",
       "<style scoped>\n",
       "    .dataframe tbody tr th:only-of-type {\n",
       "        vertical-align: middle;\n",
       "    }\n",
       "\n",
       "    .dataframe tbody tr th {\n",
       "        vertical-align: top;\n",
       "    }\n",
       "\n",
       "    .dataframe thead th {\n",
       "        text-align: right;\n",
       "    }\n",
       "</style>\n",
       "<table border=\"1\" class=\"dataframe\">\n",
       "  <thead>\n",
       "    <tr style=\"text-align: right;\">\n",
       "      <th></th>\n",
       "      <th>0</th>\n",
       "      <th>1</th>\n",
       "      <th>2</th>\n",
       "      <th>3</th>\n",
       "      <th>4</th>\n",
       "      <th>5</th>\n",
       "      <th>6</th>\n",
       "      <th>7</th>\n",
       "      <th>8</th>\n",
       "      <th>9</th>\n",
       "    </tr>\n",
       "  </thead>\n",
       "  <tbody>\n",
       "    <tr>\n",
       "      <th>0</th>\n",
       "      <td>0.346150</td>\n",
       "      <td>0.261862</td>\n",
       "      <td>0.516422</td>\n",
       "      <td>0.113107</td>\n",
       "      <td>0.070825</td>\n",
       "      <td>0.287144</td>\n",
       "      <td>0.643887</td>\n",
       "      <td>0.673694</td>\n",
       "      <td>0.043067</td>\n",
       "      <td>0.582183</td>\n",
       "    </tr>\n",
       "    <tr>\n",
       "      <th>1</th>\n",
       "      <td>0.065218</td>\n",
       "      <td>0.059202</td>\n",
       "      <td>0.213772</td>\n",
       "      <td>0.474366</td>\n",
       "      <td>0.355016</td>\n",
       "      <td>0.469097</td>\n",
       "      <td>0.620195</td>\n",
       "      <td>0.604959</td>\n",
       "      <td>0.697227</td>\n",
       "      <td>0.511392</td>\n",
       "    </tr>\n",
       "    <tr>\n",
       "      <th>2</th>\n",
       "      <td>0.096865</td>\n",
       "      <td>0.084203</td>\n",
       "      <td>0.328891</td>\n",
       "      <td>0.215073</td>\n",
       "      <td>0.154690</td>\n",
       "      <td>0.457191</td>\n",
       "      <td>0.539851</td>\n",
       "      <td>0.577604</td>\n",
       "      <td>0.007822</td>\n",
       "      <td>0.372196</td>\n",
       "    </tr>\n",
       "    <tr>\n",
       "      <th>3</th>\n",
       "      <td>0.066115</td>\n",
       "      <td>0.065513</td>\n",
       "      <td>0.212469</td>\n",
       "      <td>0.371604</td>\n",
       "      <td>0.251593</td>\n",
       "      <td>0.442421</td>\n",
       "      <td>0.550029</td>\n",
       "      <td>0.572931</td>\n",
       "      <td>0.027721</td>\n",
       "      <td>0.428678</td>\n",
       "    </tr>\n",
       "    <tr>\n",
       "      <th>4</th>\n",
       "      <td>0.041424</td>\n",
       "      <td>0.034906</td>\n",
       "      <td>0.130490</td>\n",
       "      <td>0.716267</td>\n",
       "      <td>0.530893</td>\n",
       "      <td>0.462369</td>\n",
       "      <td>0.600547</td>\n",
       "      <td>0.551723</td>\n",
       "      <td>0.403400</td>\n",
       "      <td>0.253117</td>\n",
       "    </tr>\n",
       "  </tbody>\n",
       "</table>\n",
       "</div>"
      ],
      "text/plain": [
       "          0         1         2         3         4         5         6  \\\n",
       "0  0.346150  0.261862  0.516422  0.113107  0.070825  0.287144  0.643887   \n",
       "1  0.065218  0.059202  0.213772  0.474366  0.355016  0.469097  0.620195   \n",
       "2  0.096865  0.084203  0.328891  0.215073  0.154690  0.457191  0.539851   \n",
       "3  0.066115  0.065513  0.212469  0.371604  0.251593  0.442421  0.550029   \n",
       "4  0.041424  0.034906  0.130490  0.716267  0.530893  0.462369  0.600547   \n",
       "\n",
       "          7         8         9  \n",
       "0  0.673694  0.043067  0.582183  \n",
       "1  0.604959  0.697227  0.511392  \n",
       "2  0.577604  0.007822  0.372196  \n",
       "3  0.572931  0.027721  0.428678  \n",
       "4  0.551723  0.403400  0.253117  "
      ]
     },
     "execution_count": 9,
     "metadata": {},
     "output_type": "execute_result"
    }
   ],
   "source": [
    "train_df.head()"
   ]
  },
  {
   "cell_type": "markdown",
   "metadata": {},
   "source": [
    "### KNN"
   ]
  },
  {
   "cell_type": "code",
   "execution_count": 12,
   "metadata": {},
   "outputs": [],
   "source": [
    "from sklearn.model_selection import GridSearchCV, RandomizedSearchCV\n",
    "from sklearn.neighbors import KNeighborsClassifier"
   ]
  },
  {
   "cell_type": "markdown",
   "metadata": {},
   "source": [
    "Results *before* parameter search:"
   ]
  },
  {
   "cell_type": "code",
   "execution_count": 13,
   "metadata": {},
   "outputs": [
    {
     "name": "stdout",
     "output_type": "stream",
     "text": [
      "0.8306\n",
      "{}\n"
     ]
    }
   ],
   "source": [
    "knn_grid_naive = GridSearchCV(KNeighborsClassifier(), param_grid={})\n",
    "knn_grid_naive.fit(train_df, labels_df)\n",
    "print(knn_grid_naive.best_score_)\n",
    "print(knn_grid_naive.best_params_)"
   ]
  },
  {
   "cell_type": "code",
   "execution_count": 14,
   "metadata": {},
   "outputs": [
    {
     "name": "stdout",
     "output_type": "stream",
     "text": [
      "Mean cross-validation error: 0.1694\n"
     ]
    }
   ],
   "source": [
    "print('Mean cross-validation error:', 1.0 - knn_grid_naive.best_score_)"
   ]
  },
  {
   "cell_type": "markdown",
   "metadata": {},
   "source": [
    "Results *after* parameter search:"
   ]
  },
  {
   "cell_type": "code",
   "execution_count": 32,
   "metadata": {},
   "outputs": [
    {
     "name": "stdout",
     "output_type": "stream",
     "text": [
      "0.8411333333333333\n",
      "{'p': 1, 'n_neighbors': 16, 'weights': 'distance'}\n"
     ]
    }
   ],
   "source": [
    "from sklearn.neighbors import KNeighborsClassifier\n",
    "\n",
    "knn_neighbors = [\n",
    "#     7,\n",
    "    16\n",
    "]\n",
    "for i in range(10,50,5):\n",
    "    knn_neighbors.append(i+1)\n",
    "\n",
    "knn_cv_params = {\n",
    "    'n_neighbors': knn_neighbors,\n",
    "#     'algorithm': ['ball_tree', 'kd_tree', 'brute'],\n",
    "    'p': [1, 2, 3],\n",
    "    'weights': ['uniform', 'distance']\n",
    "}\n",
    "\n",
    "knn_grid = GridSearchCV(KNeighborsClassifier(), param_grid=knn_cv_params)\n",
    "knn_grid.fit(train_df, labels_df)\n",
    "print(knn_grid.best_score_)\n",
    "print(knn_grid.best_params_)"
   ]
  },
  {
   "cell_type": "code",
   "execution_count": 33,
   "metadata": {},
   "outputs": [
    {
     "name": "stdout",
     "output_type": "stream",
     "text": [
      "Mean cross-validation error: 0.1588666666666667\n"
     ]
    }
   ],
   "source": [
    "print('Mean cross-validation error:', 1.0 - knn_grid.best_score_)"
   ]
  },
  {
   "cell_type": "markdown",
   "metadata": {},
   "source": [
    "### SVM"
   ]
  },
  {
   "cell_type": "markdown",
   "metadata": {},
   "source": [
    "Results *before* parameter search:"
   ]
  },
  {
   "cell_type": "code",
   "execution_count": 21,
   "metadata": {},
   "outputs": [
    {
     "name": "stdout",
     "output_type": "stream",
     "text": [
      "0.8166666666666667\n",
      "{}\n"
     ]
    }
   ],
   "source": [
    "svm_grid_naive = GridSearchCV(SVC(), param_grid={})\n",
    "svm_grid_naive.fit(train_df, labels_df)\n",
    "print(svm_grid_naive.best_score_)\n",
    "print(svm_grid_naive.best_params_)"
   ]
  },
  {
   "cell_type": "code",
   "execution_count": 34,
   "metadata": {},
   "outputs": [
    {
     "name": "stdout",
     "output_type": "stream",
     "text": [
      "Mean cross-validation error: 0.18333333333333335\n"
     ]
    }
   ],
   "source": [
    "print('Mean cross-validation error:', 1.0 - svm_grid_naive.best_score_)"
   ]
  },
  {
   "cell_type": "markdown",
   "metadata": {},
   "source": [
    "Results *after* parameter search:"
   ]
  },
  {
   "cell_type": "code",
   "execution_count": 12,
   "metadata": {},
   "outputs": [
    {
     "name": "stdout",
     "output_type": "stream",
     "text": [
      "0.8408\n",
      "{'probability': True}\n"
     ]
    }
   ],
   "source": [
    "from sklearn.svm import SVC\n",
    "\n",
    "svm_cv_params = {\n",
    "#     'kernel': ['linear', 'poly', 'rbf', 'sigmoid'],\n",
    "    'probability': [True, False]\n",
    "#     'C': [0.1, 0.5, 1.0]\n",
    "}\n",
    "\n",
    "svm_grid = GridSearchCV(SVC(cache_size=512, C=15.0, kernel='rbf'), param_grid=svm_cv_params)\n",
    "svm_grid.fit(train_df, labels_df)\n",
    "print(svm_grid.best_score_)\n",
    "print(svm_grid.best_params_)"
   ]
  },
  {
   "cell_type": "code",
   "execution_count": 35,
   "metadata": {},
   "outputs": [
    {
     "name": "stdout",
     "output_type": "stream",
     "text": [
      "Mean cross-validation error: 0.1592\n"
     ]
    }
   ],
   "source": [
    "print('Mean cross-validation error:', 1.0 - svm_grid.best_score_)"
   ]
  },
  {
   "cell_type": "markdown",
   "metadata": {},
   "source": [
    "### Random Forest"
   ]
  },
  {
   "cell_type": "markdown",
   "metadata": {},
   "source": [
    "Results *before* parameter search:"
   ]
  },
  {
   "cell_type": "code",
   "execution_count": 22,
   "metadata": {},
   "outputs": [
    {
     "name": "stdout",
     "output_type": "stream",
     "text": [
      "0.8656666666666667\n",
      "{}\n"
     ]
    }
   ],
   "source": [
    "rf_grid_naive = GridSearchCV(RandomForestClassifier(), param_grid={})\n",
    "rf_grid_naive.fit(train_df, labels_df)\n",
    "print(rf_grid_naive.best_score_)\n",
    "print(rf_grid_naive.best_params_)"
   ]
  },
  {
   "cell_type": "code",
   "execution_count": 36,
   "metadata": {},
   "outputs": [
    {
     "name": "stdout",
     "output_type": "stream",
     "text": [
      "Mean cross-validation error: 0.1343333333333333\n"
     ]
    }
   ],
   "source": [
    "print('Mean cross-validation error:', 1.0 - rf_grid_naive.best_score_)"
   ]
  },
  {
   "cell_type": "markdown",
   "metadata": {},
   "source": [
    "Results *after* parameter search:"
   ]
  },
  {
   "cell_type": "code",
   "execution_count": 13,
   "metadata": {},
   "outputs": [
    {
     "name": "stdout",
     "output_type": "stream",
     "text": [
      "0.8763333333333333\n",
      "{'n_estimators': 100, 'criterion': 'gini', 'max_features': 'sqrt'}\n"
     ]
    }
   ],
   "source": [
    "from sklearn.ensemble import RandomForestClassifier\n",
    "\n",
    "rf_cv_params = {\n",
    "    'n_estimators': [100, 300, 500],\n",
    "    'criterion': ['gini', 'entropy'],\n",
    "    'max_features': ['sqrt', 'log2', None]\n",
    "}\n",
    "\n",
    "rf_grid = GridSearchCV(RandomForestClassifier(), param_grid=rf_cv_params)\n",
    "rf_grid.fit(train_df, labels_df)\n",
    "print(rf_grid.best_score_)\n",
    "print(rf_grid.best_params_)"
   ]
  },
  {
   "cell_type": "code",
   "execution_count": 37,
   "metadata": {},
   "outputs": [
    {
     "name": "stdout",
     "output_type": "stream",
     "text": [
      "Mean cross-validation error: 0.1236666666666667\n"
     ]
    }
   ],
   "source": [
    "print('Mean cross-validation error:', 1.0 - rf_grid.best_score_)"
   ]
  },
  {
   "cell_type": "markdown",
   "metadata": {},
   "source": [
    "### Gradient Boosting Trees"
   ]
  },
  {
   "cell_type": "markdown",
   "metadata": {},
   "source": [
    "Results *before* parameter search:"
   ]
  },
  {
   "cell_type": "code",
   "execution_count": 23,
   "metadata": {},
   "outputs": [
    {
     "name": "stdout",
     "output_type": "stream",
     "text": [
      "0.8700666666666667\n",
      "{}\n"
     ]
    }
   ],
   "source": [
    "gbt_grid_naive = GridSearchCV(GradientBoostingClassifier(), param_grid={})\n",
    "gbt_grid_naive.fit(train_df, labels_df)\n",
    "print(gbt_grid_naive.best_score_)\n",
    "print(gbt_grid_naive.best_params_)"
   ]
  },
  {
   "cell_type": "code",
   "execution_count": 38,
   "metadata": {
    "scrolled": true
   },
   "outputs": [
    {
     "name": "stdout",
     "output_type": "stream",
     "text": [
      "Mean cross-validation error: 0.12993333333333335\n"
     ]
    }
   ],
   "source": [
    "print('Mean cross-validation error:', 1.0 - gbt_grid_naive.best_score_)"
   ]
  },
  {
   "cell_type": "markdown",
   "metadata": {},
   "source": [
    "Results *after* parameter search:"
   ]
  },
  {
   "cell_type": "code",
   "execution_count": 14,
   "metadata": {},
   "outputs": [
    {
     "name": "stdout",
     "output_type": "stream",
     "text": [
      "0.8823333333333333\n",
      "{'n_estimators': 1100, 'max_features': 'log2', 'loss': 'deviance'}\n"
     ]
    }
   ],
   "source": [
    "from sklearn.ensemble import GradientBoostingClassifier\n",
    "\n",
    "gbt_cv_params = {\n",
    "    'loss': ['deviance', 'exponential'],\n",
    "#     'n_estimators': [100, 300, 500, 700],\n",
    "    'n_estimators': [700, 900, 1100],\n",
    "    'max_features': ['sqrt', 'log2', None]\n",
    "}\n",
    "\n",
    "gbt_grid = GridSearchCV(GradientBoostingClassifier(), param_grid=gbt_cv_params)\n",
    "gbt_grid.fit(train_df, labels_df)\n",
    "print(gbt_grid.best_score_)\n",
    "print(gbt_grid.best_params_)"
   ]
  },
  {
   "cell_type": "code",
   "execution_count": 39,
   "metadata": {},
   "outputs": [
    {
     "name": "stdout",
     "output_type": "stream",
     "text": [
      "Mean cross-validation error: 0.1176666666666667\n"
     ]
    }
   ],
   "source": [
    "print('Mean cross-validation error:', 1.0 - gbt_grid.best_score_)"
   ]
  },
  {
   "cell_type": "markdown",
   "metadata": {},
   "source": [
    "### Best classifier"
   ]
  },
  {
   "cell_type": "markdown",
   "metadata": {},
   "source": [
    "From the cross-validation, the best found classifier is `GradientBoostingClassifier()`\n",
    "\n",
    "With params:"
   ]
  },
  {
   "cell_type": "code",
   "execution_count": 24,
   "metadata": {},
   "outputs": [
    {
     "data": {
      "text/plain": [
       "{'loss': 'deviance', 'max_features': 'log2', 'n_estimators': 1100}"
      ]
     },
     "execution_count": 24,
     "metadata": {},
     "output_type": "execute_result"
    }
   ],
   "source": [
    "gbt_grid.best_params_"
   ]
  },
  {
   "cell_type": "markdown",
   "metadata": {},
   "source": [
    "Create instance of classifier with best found parameters and predict classes for test data:"
   ]
  },
  {
   "cell_type": "code",
   "execution_count": 17,
   "metadata": {},
   "outputs": [],
   "source": [
    "from sklearn.ensemble import GradientBoostingClassifier\n",
    "best_clf = GradientBoostingClassifier(n_estimators=1100, loss='deviance', max_features='log2')"
   ]
  },
  {
   "cell_type": "code",
   "execution_count": 19,
   "metadata": {},
   "outputs": [
    {
     "data": {
      "text/plain": [
       "(15000, 10)"
      ]
     },
     "execution_count": 19,
     "metadata": {},
     "output_type": "execute_result"
    }
   ],
   "source": [
    "shape_of_train = train_df.shape\n",
    "shape_of_train"
   ]
  },
  {
   "cell_type": "code",
   "execution_count": 31,
   "metadata": {},
   "outputs": [
    {
     "data": {
      "text/html": [
       "<div>\n",
       "<style scoped>\n",
       "    .dataframe tbody tr th:only-of-type {\n",
       "        vertical-align: middle;\n",
       "    }\n",
       "\n",
       "    .dataframe tbody tr th {\n",
       "        vertical-align: top;\n",
       "    }\n",
       "\n",
       "    .dataframe thead th {\n",
       "        text-align: right;\n",
       "    }\n",
       "</style>\n",
       "<table border=\"1\" class=\"dataframe\">\n",
       "  <thead>\n",
       "    <tr style=\"text-align: right;\">\n",
       "      <th></th>\n",
       "      <th>0</th>\n",
       "      <th>1</th>\n",
       "      <th>2</th>\n",
       "      <th>3</th>\n",
       "      <th>4</th>\n",
       "      <th>5</th>\n",
       "      <th>6</th>\n",
       "      <th>7</th>\n",
       "      <th>8</th>\n",
       "      <th>9</th>\n",
       "    </tr>\n",
       "  </thead>\n",
       "  <tbody>\n",
       "    <tr>\n",
       "      <th>0</th>\n",
       "      <td>16.1965</td>\n",
       "      <td>11.5351</td>\n",
       "      <td>2.2878</td>\n",
       "      <td>0.6082</td>\n",
       "      <td>0.3686</td>\n",
       "      <td>1.7609</td>\n",
       "      <td>-5.1272</td>\n",
       "      <td>-7.0963</td>\n",
       "      <td>10.7960</td>\n",
       "      <td>134.3410</td>\n",
       "    </tr>\n",
       "    <tr>\n",
       "      <th>1</th>\n",
       "      <td>50.9418</td>\n",
       "      <td>21.5709</td>\n",
       "      <td>3.2002</td>\n",
       "      <td>0.2315</td>\n",
       "      <td>0.1328</td>\n",
       "      <td>-16.3625</td>\n",
       "      <td>-44.7336</td>\n",
       "      <td>2.4560</td>\n",
       "      <td>2.8444</td>\n",
       "      <td>229.1480</td>\n",
       "    </tr>\n",
       "    <tr>\n",
       "      <th>2</th>\n",
       "      <td>10.6118</td>\n",
       "      <td>10.0548</td>\n",
       "      <td>2.2398</td>\n",
       "      <td>0.5855</td>\n",
       "      <td>0.3150</td>\n",
       "      <td>-2.8825</td>\n",
       "      <td>0.5839</td>\n",
       "      <td>4.4629</td>\n",
       "      <td>44.4008</td>\n",
       "      <td>187.5178</td>\n",
       "    </tr>\n",
       "    <tr>\n",
       "      <th>3</th>\n",
       "      <td>105.2990</td>\n",
       "      <td>63.2194</td>\n",
       "      <td>3.9254</td>\n",
       "      <td>0.1333</td>\n",
       "      <td>0.0709</td>\n",
       "      <td>26.6490</td>\n",
       "      <td>56.1306</td>\n",
       "      <td>-31.8837</td>\n",
       "      <td>25.8700</td>\n",
       "      <td>366.2470</td>\n",
       "    </tr>\n",
       "    <tr>\n",
       "      <th>4</th>\n",
       "      <td>36.2652</td>\n",
       "      <td>16.2752</td>\n",
       "      <td>2.6803</td>\n",
       "      <td>0.2651</td>\n",
       "      <td>0.1347</td>\n",
       "      <td>-1.7525</td>\n",
       "      <td>-15.3032</td>\n",
       "      <td>10.9965</td>\n",
       "      <td>5.0774</td>\n",
       "      <td>134.8040</td>\n",
       "    </tr>\n",
       "  </tbody>\n",
       "</table>\n",
       "</div>"
      ],
      "text/plain": [
       "          0        1       2       3       4        5        6        7  \\\n",
       "0   16.1965  11.5351  2.2878  0.6082  0.3686   1.7609  -5.1272  -7.0963   \n",
       "1   50.9418  21.5709  3.2002  0.2315  0.1328 -16.3625 -44.7336   2.4560   \n",
       "2   10.6118  10.0548  2.2398  0.5855  0.3150  -2.8825   0.5839   4.4629   \n",
       "3  105.2990  63.2194  3.9254  0.1333  0.0709  26.6490  56.1306 -31.8837   \n",
       "4   36.2652  16.2752  2.6803  0.2651  0.1347  -1.7525 -15.3032  10.9965   \n",
       "\n",
       "         8         9  \n",
       "0  10.7960  134.3410  \n",
       "1   2.8444  229.1480  \n",
       "2  44.4008  187.5178  \n",
       "3  25.8700  366.2470  \n",
       "4   5.0774  134.8040  "
      ]
     },
     "execution_count": 31,
     "metadata": {},
     "output_type": "execute_result"
    }
   ],
   "source": [
    "test = 'test.txt'\n",
    "test_df = pd.read_csv(test, sep=\" \", engine=\"c\", header=None)\n",
    "# test_df = pd.DataFrame(preprocessing.MinMaxScaler().fit_transform(test_df))\n",
    "test_df.head()"
   ]
  },
  {
   "cell_type": "markdown",
   "metadata": {},
   "source": [
    "Train/Test normalization to have correct generalized parameters:"
   ]
  },
  {
   "cell_type": "code",
   "execution_count": 32,
   "metadata": {},
   "outputs": [
    {
     "data": {
      "text/html": [
       "<div>\n",
       "<style scoped>\n",
       "    .dataframe tbody tr th:only-of-type {\n",
       "        vertical-align: middle;\n",
       "    }\n",
       "\n",
       "    .dataframe tbody tr th {\n",
       "        vertical-align: top;\n",
       "    }\n",
       "\n",
       "    .dataframe thead th {\n",
       "        text-align: right;\n",
       "    }\n",
       "</style>\n",
       "<table border=\"1\" class=\"dataframe\">\n",
       "  <thead>\n",
       "    <tr style=\"text-align: right;\">\n",
       "      <th></th>\n",
       "      <th>0</th>\n",
       "      <th>1</th>\n",
       "      <th>2</th>\n",
       "      <th>3</th>\n",
       "      <th>4</th>\n",
       "      <th>5</th>\n",
       "      <th>6</th>\n",
       "      <th>7</th>\n",
       "      <th>8</th>\n",
       "      <th>9</th>\n",
       "    </tr>\n",
       "  </thead>\n",
       "  <tbody>\n",
       "    <tr>\n",
       "      <th>0</th>\n",
       "      <td>120.3882</td>\n",
       "      <td>67.1368</td>\n",
       "      <td>3.6905</td>\n",
       "      <td>0.1128</td>\n",
       "      <td>0.0481</td>\n",
       "      <td>-155.5746</td>\n",
       "      <td>35.3004</td>\n",
       "      <td>47.8095</td>\n",
       "      <td>3.8760</td>\n",
       "      <td>289.0430</td>\n",
       "    </tr>\n",
       "    <tr>\n",
       "      <th>1</th>\n",
       "      <td>28.5322</td>\n",
       "      <td>15.1782</td>\n",
       "      <td>2.6686</td>\n",
       "      <td>0.4306</td>\n",
       "      <td>0.2399</td>\n",
       "      <td>30.9627</td>\n",
       "      <td>21.7936</td>\n",
       "      <td>21.9248</td>\n",
       "      <td>62.7504</td>\n",
       "      <td>254.0526</td>\n",
       "    </tr>\n",
       "    <tr>\n",
       "      <th>2</th>\n",
       "      <td>38.8799</td>\n",
       "      <td>21.5881</td>\n",
       "      <td>3.0573</td>\n",
       "      <td>0.2025</td>\n",
       "      <td>0.1047</td>\n",
       "      <td>18.7566</td>\n",
       "      <td>-24.0106</td>\n",
       "      <td>11.6233</td>\n",
       "      <td>0.7040</td>\n",
       "      <td>185.2510</td>\n",
       "    </tr>\n",
       "    <tr>\n",
       "      <th>3</th>\n",
       "      <td>28.8255</td>\n",
       "      <td>16.7964</td>\n",
       "      <td>2.6642</td>\n",
       "      <td>0.3402</td>\n",
       "      <td>0.1701</td>\n",
       "      <td>3.6149</td>\n",
       "      <td>-18.2080</td>\n",
       "      <td>9.8634</td>\n",
       "      <td>2.4949</td>\n",
       "      <td>213.1690</td>\n",
       "    </tr>\n",
       "    <tr>\n",
       "      <th>4</th>\n",
       "      <td>20.7522</td>\n",
       "      <td>8.9492</td>\n",
       "      <td>2.3874</td>\n",
       "      <td>0.6434</td>\n",
       "      <td>0.3586</td>\n",
       "      <td>24.0649</td>\n",
       "      <td>10.5927</td>\n",
       "      <td>1.8768</td>\n",
       "      <td>36.3060</td>\n",
       "      <td>126.3930</td>\n",
       "    </tr>\n",
       "  </tbody>\n",
       "</table>\n",
       "</div>"
      ],
      "text/plain": [
       "          0        1       2       3       4         5        6        7  \\\n",
       "0  120.3882  67.1368  3.6905  0.1128  0.0481 -155.5746  35.3004  47.8095   \n",
       "1   28.5322  15.1782  2.6686  0.4306  0.2399   30.9627  21.7936  21.9248   \n",
       "2   38.8799  21.5881  3.0573  0.2025  0.1047   18.7566 -24.0106  11.6233   \n",
       "3   28.8255  16.7964  2.6642  0.3402  0.1701    3.6149 -18.2080   9.8634   \n",
       "4   20.7522   8.9492  2.3874  0.6434  0.3586   24.0649  10.5927   1.8768   \n",
       "\n",
       "         8         9  \n",
       "0   3.8760  289.0430  \n",
       "1  62.7504  254.0526  \n",
       "2   0.7040  185.2510  \n",
       "3   2.4949  213.1690  \n",
       "4  36.3060  126.3930  "
      ]
     },
     "execution_count": 32,
     "metadata": {},
     "output_type": "execute_result"
    }
   ],
   "source": [
    "train_test_df = pd.concat([train_df, test_df])\n",
    "train_test_df.head()"
   ]
  },
  {
   "cell_type": "code",
   "execution_count": 33,
   "metadata": {},
   "outputs": [
    {
     "data": {
      "text/html": [
       "<div>\n",
       "<style scoped>\n",
       "    .dataframe tbody tr th:only-of-type {\n",
       "        vertical-align: middle;\n",
       "    }\n",
       "\n",
       "    .dataframe tbody tr th {\n",
       "        vertical-align: top;\n",
       "    }\n",
       "\n",
       "    .dataframe thead th {\n",
       "        text-align: right;\n",
       "    }\n",
       "</style>\n",
       "<table border=\"1\" class=\"dataframe\">\n",
       "  <thead>\n",
       "    <tr style=\"text-align: right;\">\n",
       "      <th></th>\n",
       "      <th>0</th>\n",
       "      <th>1</th>\n",
       "      <th>2</th>\n",
       "      <th>3</th>\n",
       "      <th>4</th>\n",
       "      <th>5</th>\n",
       "      <th>6</th>\n",
       "      <th>7</th>\n",
       "      <th>8</th>\n",
       "      <th>9</th>\n",
       "    </tr>\n",
       "  </thead>\n",
       "  <tbody>\n",
       "    <tr>\n",
       "      <th>0</th>\n",
       "      <td>0.351946</td>\n",
       "      <td>0.261862</td>\n",
       "      <td>0.517209</td>\n",
       "      <td>0.113308</td>\n",
       "      <td>0.070825</td>\n",
       "      <td>0.292639</td>\n",
       "      <td>0.643887</td>\n",
       "      <td>0.657698</td>\n",
       "      <td>0.043067</td>\n",
       "      <td>0.582183</td>\n",
       "    </tr>\n",
       "    <tr>\n",
       "      <th>1</th>\n",
       "      <td>0.073505</td>\n",
       "      <td>0.059202</td>\n",
       "      <td>0.215050</td>\n",
       "      <td>0.474486</td>\n",
       "      <td>0.355016</td>\n",
       "      <td>0.473189</td>\n",
       "      <td>0.620195</td>\n",
       "      <td>0.590595</td>\n",
       "      <td>0.697227</td>\n",
       "      <td>0.511392</td>\n",
       "    </tr>\n",
       "    <tr>\n",
       "      <th>2</th>\n",
       "      <td>0.104871</td>\n",
       "      <td>0.084203</td>\n",
       "      <td>0.329982</td>\n",
       "      <td>0.215252</td>\n",
       "      <td>0.154690</td>\n",
       "      <td>0.461375</td>\n",
       "      <td>0.539851</td>\n",
       "      <td>0.563890</td>\n",
       "      <td>0.007822</td>\n",
       "      <td>0.372196</td>\n",
       "    </tr>\n",
       "    <tr>\n",
       "      <th>3</th>\n",
       "      <td>0.074394</td>\n",
       "      <td>0.065513</td>\n",
       "      <td>0.213749</td>\n",
       "      <td>0.371747</td>\n",
       "      <td>0.251593</td>\n",
       "      <td>0.446719</td>\n",
       "      <td>0.550029</td>\n",
       "      <td>0.559327</td>\n",
       "      <td>0.027721</td>\n",
       "      <td>0.428678</td>\n",
       "    </tr>\n",
       "    <tr>\n",
       "      <th>4</th>\n",
       "      <td>0.049921</td>\n",
       "      <td>0.034906</td>\n",
       "      <td>0.131904</td>\n",
       "      <td>0.716331</td>\n",
       "      <td>0.530893</td>\n",
       "      <td>0.466513</td>\n",
       "      <td>0.600547</td>\n",
       "      <td>0.538623</td>\n",
       "      <td>0.403400</td>\n",
       "      <td>0.253117</td>\n",
       "    </tr>\n",
       "  </tbody>\n",
       "</table>\n",
       "</div>"
      ],
      "text/plain": [
       "          0         1         2         3         4         5         6  \\\n",
       "0  0.351946  0.261862  0.517209  0.113308  0.070825  0.292639  0.643887   \n",
       "1  0.073505  0.059202  0.215050  0.474486  0.355016  0.473189  0.620195   \n",
       "2  0.104871  0.084203  0.329982  0.215252  0.154690  0.461375  0.539851   \n",
       "3  0.074394  0.065513  0.213749  0.371747  0.251593  0.446719  0.550029   \n",
       "4  0.049921  0.034906  0.131904  0.716331  0.530893  0.466513  0.600547   \n",
       "\n",
       "          7         8         9  \n",
       "0  0.657698  0.043067  0.582183  \n",
       "1  0.590595  0.697227  0.511392  \n",
       "2  0.563890  0.007822  0.372196  \n",
       "3  0.559327  0.027721  0.428678  \n",
       "4  0.538623  0.403400  0.253117  "
      ]
     },
     "execution_count": 33,
     "metadata": {},
     "output_type": "execute_result"
    }
   ],
   "source": [
    "from sklearn import preprocessing\n",
    "train_test_df = pd.DataFrame(preprocessing.MinMaxScaler().fit_transform(train_test_df))\n",
    "train_test_df.head()"
   ]
  },
  {
   "cell_type": "code",
   "execution_count": 26,
   "metadata": {},
   "outputs": [
    {
     "name": "stdout",
     "output_type": "stream",
     "text": [
      "(15000, 10)\n",
      "(4020, 10)\n",
      "(19020, 10)\n"
     ]
    }
   ],
   "source": [
    "print(train_df.shape)\n",
    "print(test_df.shape)\n",
    "print(train_test_df.shape)"
   ]
  },
  {
   "cell_type": "code",
   "execution_count": 35,
   "metadata": {},
   "outputs": [],
   "source": [
    "train_df = train_test_df[:shape_of_train[0]]\n",
    "test_df = train_test_df[shape_of_train[0]:]"
   ]
  },
  {
   "cell_type": "code",
   "execution_count": 37,
   "metadata": {},
   "outputs": [
    {
     "data": {
      "text/html": [
       "<div>\n",
       "<style scoped>\n",
       "    .dataframe tbody tr th:only-of-type {\n",
       "        vertical-align: middle;\n",
       "    }\n",
       "\n",
       "    .dataframe tbody tr th {\n",
       "        vertical-align: top;\n",
       "    }\n",
       "\n",
       "    .dataframe thead th {\n",
       "        text-align: right;\n",
       "    }\n",
       "</style>\n",
       "<table border=\"1\" class=\"dataframe\">\n",
       "  <thead>\n",
       "    <tr style=\"text-align: right;\">\n",
       "      <th></th>\n",
       "      <th>0</th>\n",
       "      <th>1</th>\n",
       "      <th>2</th>\n",
       "      <th>3</th>\n",
       "      <th>4</th>\n",
       "      <th>5</th>\n",
       "      <th>6</th>\n",
       "      <th>7</th>\n",
       "      <th>8</th>\n",
       "      <th>9</th>\n",
       "    </tr>\n",
       "  </thead>\n",
       "  <tbody>\n",
       "    <tr>\n",
       "      <th>0</th>\n",
       "      <td>0.351946</td>\n",
       "      <td>0.261862</td>\n",
       "      <td>0.517209</td>\n",
       "      <td>0.113308</td>\n",
       "      <td>0.070825</td>\n",
       "      <td>0.292639</td>\n",
       "      <td>0.643887</td>\n",
       "      <td>0.657698</td>\n",
       "      <td>0.043067</td>\n",
       "      <td>0.582183</td>\n",
       "    </tr>\n",
       "    <tr>\n",
       "      <th>1</th>\n",
       "      <td>0.073505</td>\n",
       "      <td>0.059202</td>\n",
       "      <td>0.215050</td>\n",
       "      <td>0.474486</td>\n",
       "      <td>0.355016</td>\n",
       "      <td>0.473189</td>\n",
       "      <td>0.620195</td>\n",
       "      <td>0.590595</td>\n",
       "      <td>0.697227</td>\n",
       "      <td>0.511392</td>\n",
       "    </tr>\n",
       "    <tr>\n",
       "      <th>2</th>\n",
       "      <td>0.104871</td>\n",
       "      <td>0.084203</td>\n",
       "      <td>0.329982</td>\n",
       "      <td>0.215252</td>\n",
       "      <td>0.154690</td>\n",
       "      <td>0.461375</td>\n",
       "      <td>0.539851</td>\n",
       "      <td>0.563890</td>\n",
       "      <td>0.007822</td>\n",
       "      <td>0.372196</td>\n",
       "    </tr>\n",
       "    <tr>\n",
       "      <th>3</th>\n",
       "      <td>0.074394</td>\n",
       "      <td>0.065513</td>\n",
       "      <td>0.213749</td>\n",
       "      <td>0.371747</td>\n",
       "      <td>0.251593</td>\n",
       "      <td>0.446719</td>\n",
       "      <td>0.550029</td>\n",
       "      <td>0.559327</td>\n",
       "      <td>0.027721</td>\n",
       "      <td>0.428678</td>\n",
       "    </tr>\n",
       "    <tr>\n",
       "      <th>4</th>\n",
       "      <td>0.049921</td>\n",
       "      <td>0.034906</td>\n",
       "      <td>0.131904</td>\n",
       "      <td>0.716331</td>\n",
       "      <td>0.530893</td>\n",
       "      <td>0.466513</td>\n",
       "      <td>0.600547</td>\n",
       "      <td>0.538623</td>\n",
       "      <td>0.403400</td>\n",
       "      <td>0.253117</td>\n",
       "    </tr>\n",
       "  </tbody>\n",
       "</table>\n",
       "</div>"
      ],
      "text/plain": [
       "          0         1         2         3         4         5         6  \\\n",
       "0  0.351946  0.261862  0.517209  0.113308  0.070825  0.292639  0.643887   \n",
       "1  0.073505  0.059202  0.215050  0.474486  0.355016  0.473189  0.620195   \n",
       "2  0.104871  0.084203  0.329982  0.215252  0.154690  0.461375  0.539851   \n",
       "3  0.074394  0.065513  0.213749  0.371747  0.251593  0.446719  0.550029   \n",
       "4  0.049921  0.034906  0.131904  0.716331  0.530893  0.466513  0.600547   \n",
       "\n",
       "          7         8         9  \n",
       "0  0.657698  0.043067  0.582183  \n",
       "1  0.590595  0.697227  0.511392  \n",
       "2  0.563890  0.007822  0.372196  \n",
       "3  0.559327  0.027721  0.428678  \n",
       "4  0.538623  0.403400  0.253117  "
      ]
     },
     "execution_count": 37,
     "metadata": {},
     "output_type": "execute_result"
    }
   ],
   "source": [
    "train_df.head()"
   ]
  },
  {
   "cell_type": "code",
   "execution_count": 36,
   "metadata": {},
   "outputs": [
    {
     "name": "stdout",
     "output_type": "stream",
     "text": [
      "(15000, 10)\n",
      "(4020, 10)\n"
     ]
    }
   ],
   "source": [
    "print(train_df.shape)\n",
    "print(test_df.shape)"
   ]
  },
  {
   "cell_type": "code",
   "execution_count": 38,
   "metadata": {},
   "outputs": [
    {
     "data": {
      "text/plain": [
       "GradientBoostingClassifier(criterion='friedman_mse', init=None,\n",
       "              learning_rate=0.1, loss='deviance', max_depth=3,\n",
       "              max_features='log2', max_leaf_nodes=None,\n",
       "              min_impurity_decrease=0.0, min_impurity_split=None,\n",
       "              min_samples_leaf=1, min_samples_split=2,\n",
       "              min_weight_fraction_leaf=0.0, n_estimators=1100,\n",
       "              presort='auto', random_state=None, subsample=1.0, verbose=0,\n",
       "              warm_start=False)"
      ]
     },
     "execution_count": 38,
     "metadata": {},
     "output_type": "execute_result"
    }
   ],
   "source": [
    "best_clf.fit(train_df, labels_df)"
   ]
  },
  {
   "cell_type": "markdown",
   "metadata": {},
   "source": [
    "Importance of each feature:"
   ]
  },
  {
   "cell_type": "code",
   "execution_count": 39,
   "metadata": {},
   "outputs": [
    {
     "data": {
      "text/plain": [
       "array([0.13659357, 0.12716586, 0.10788468, 0.09532121, 0.09137675,\n",
       "       0.07290855, 0.10025731, 0.06263149, 0.1024914 , 0.10336916])"
      ]
     },
     "execution_count": 39,
     "metadata": {},
     "output_type": "execute_result"
    }
   ],
   "source": [
    "best_clf.feature_importances_"
   ]
  },
  {
   "cell_type": "code",
   "execution_count": 40,
   "metadata": {},
   "outputs": [],
   "source": [
    "test_labels_df = pd.Series(best_clf.predict(test_df))"
   ]
  },
  {
   "cell_type": "code",
   "execution_count": 41,
   "metadata": {},
   "outputs": [
    {
     "data": {
      "text/plain": [
       "0    0\n",
       "1    0\n",
       "2    1\n",
       "3    1\n",
       "4    0\n",
       "dtype: int64"
      ]
     },
     "execution_count": 41,
     "metadata": {},
     "output_type": "execute_result"
    }
   ],
   "source": [
    "test_labels_df.head()"
   ]
  },
  {
   "cell_type": "code",
   "execution_count": 43,
   "metadata": {},
   "outputs": [],
   "source": [
    "test_labels_df.to_csv('test_labels.csv', sep=',')"
   ]
  },
  {
   "cell_type": "code",
   "execution_count": null,
   "metadata": {},
   "outputs": [],
   "source": []
  }
 ],
 "metadata": {
  "kernelspec": {
   "display_name": "Python 3",
   "language": "python",
   "name": "python3"
  },
  "language_info": {
   "codemirror_mode": {
    "name": "ipython",
    "version": 3
   },
   "file_extension": ".py",
   "mimetype": "text/x-python",
   "name": "python",
   "nbconvert_exporter": "python",
   "pygments_lexer": "ipython3",
   "version": "3.5.2"
  }
 },
 "nbformat": 4,
 "nbformat_minor": 2
}
