{
 "cells": [
  {
   "cell_type": "code",
   "execution_count": 2,
   "metadata": {},
   "outputs": [],
   "source": [
    "import pandas as pd\n",
    "import csv\n",
    "import numpy as np"
   ]
  },
  {
   "cell_type": "code",
   "execution_count": 3,
   "metadata": {},
   "outputs": [],
   "source": [
    "train = 'train.txt'\n",
    "labels = 'train_labels.txt'"
   ]
  },
  {
   "cell_type": "code",
   "execution_count": 4,
   "metadata": {},
   "outputs": [],
   "source": [
    "train_df = pd.read_csv(train, sep=\" \", engine=\"c\", header=None)"
   ]
  },
  {
   "cell_type": "code",
   "execution_count": 5,
   "metadata": {},
   "outputs": [
    {
     "data": {
      "text/html": [
       "<div>\n",
       "<style scoped>\n",
       "    .dataframe tbody tr th:only-of-type {\n",
       "        vertical-align: middle;\n",
       "    }\n",
       "\n",
       "    .dataframe tbody tr th {\n",
       "        vertical-align: top;\n",
       "    }\n",
       "\n",
       "    .dataframe thead th {\n",
       "        text-align: right;\n",
       "    }\n",
       "</style>\n",
       "<table border=\"1\" class=\"dataframe\">\n",
       "  <thead>\n",
       "    <tr style=\"text-align: right;\">\n",
       "      <th></th>\n",
       "      <th>0</th>\n",
       "      <th>1</th>\n",
       "      <th>2</th>\n",
       "      <th>3</th>\n",
       "      <th>4</th>\n",
       "      <th>5</th>\n",
       "      <th>6</th>\n",
       "      <th>7</th>\n",
       "      <th>8</th>\n",
       "      <th>9</th>\n",
       "    </tr>\n",
       "  </thead>\n",
       "  <tbody>\n",
       "    <tr>\n",
       "      <th>0</th>\n",
       "      <td>120.3882</td>\n",
       "      <td>67.1368</td>\n",
       "      <td>3.6905</td>\n",
       "      <td>0.1128</td>\n",
       "      <td>0.0481</td>\n",
       "      <td>-155.5746</td>\n",
       "      <td>35.3004</td>\n",
       "      <td>47.8095</td>\n",
       "      <td>3.8760</td>\n",
       "      <td>289.0430</td>\n",
       "    </tr>\n",
       "    <tr>\n",
       "      <th>1</th>\n",
       "      <td>28.5322</td>\n",
       "      <td>15.1782</td>\n",
       "      <td>2.6686</td>\n",
       "      <td>0.4306</td>\n",
       "      <td>0.2399</td>\n",
       "      <td>30.9627</td>\n",
       "      <td>21.7936</td>\n",
       "      <td>21.9248</td>\n",
       "      <td>62.7504</td>\n",
       "      <td>254.0526</td>\n",
       "    </tr>\n",
       "    <tr>\n",
       "      <th>2</th>\n",
       "      <td>38.8799</td>\n",
       "      <td>21.5881</td>\n",
       "      <td>3.0573</td>\n",
       "      <td>0.2025</td>\n",
       "      <td>0.1047</td>\n",
       "      <td>18.7566</td>\n",
       "      <td>-24.0106</td>\n",
       "      <td>11.6233</td>\n",
       "      <td>0.7040</td>\n",
       "      <td>185.2510</td>\n",
       "    </tr>\n",
       "    <tr>\n",
       "      <th>3</th>\n",
       "      <td>28.8255</td>\n",
       "      <td>16.7964</td>\n",
       "      <td>2.6642</td>\n",
       "      <td>0.3402</td>\n",
       "      <td>0.1701</td>\n",
       "      <td>3.6149</td>\n",
       "      <td>-18.2080</td>\n",
       "      <td>9.8634</td>\n",
       "      <td>2.4949</td>\n",
       "      <td>213.1690</td>\n",
       "    </tr>\n",
       "    <tr>\n",
       "      <th>4</th>\n",
       "      <td>20.7522</td>\n",
       "      <td>8.9492</td>\n",
       "      <td>2.3874</td>\n",
       "      <td>0.6434</td>\n",
       "      <td>0.3586</td>\n",
       "      <td>24.0649</td>\n",
       "      <td>10.5927</td>\n",
       "      <td>1.8768</td>\n",
       "      <td>36.3060</td>\n",
       "      <td>126.3930</td>\n",
       "    </tr>\n",
       "  </tbody>\n",
       "</table>\n",
       "</div>"
      ],
      "text/plain": [
       "          0        1       2       3       4         5        6        7  \\\n",
       "0  120.3882  67.1368  3.6905  0.1128  0.0481 -155.5746  35.3004  47.8095   \n",
       "1   28.5322  15.1782  2.6686  0.4306  0.2399   30.9627  21.7936  21.9248   \n",
       "2   38.8799  21.5881  3.0573  0.2025  0.1047   18.7566 -24.0106  11.6233   \n",
       "3   28.8255  16.7964  2.6642  0.3402  0.1701    3.6149 -18.2080   9.8634   \n",
       "4   20.7522   8.9492  2.3874  0.6434  0.3586   24.0649  10.5927   1.8768   \n",
       "\n",
       "         8         9  \n",
       "0   3.8760  289.0430  \n",
       "1  62.7504  254.0526  \n",
       "2   0.7040  185.2510  \n",
       "3   2.4949  213.1690  \n",
       "4  36.3060  126.3930  "
      ]
     },
     "execution_count": 5,
     "metadata": {},
     "output_type": "execute_result"
    }
   ],
   "source": [
    "train_df.head()"
   ]
  },
  {
   "cell_type": "code",
   "execution_count": 18,
   "metadata": {},
   "outputs": [
    {
     "data": {
      "text/plain": [
       "(15000, 10)"
      ]
     },
     "execution_count": 18,
     "metadata": {},
     "output_type": "execute_result"
    }
   ],
   "source": [
    "train_df.shape"
   ]
  },
  {
   "cell_type": "code",
   "execution_count": 6,
   "metadata": {},
   "outputs": [],
   "source": [
    "labels_df = pd.Series(pd.read_csv(labels, sep=\" \", engine=\"c\", header=None)[0])"
   ]
  },
  {
   "cell_type": "code",
   "execution_count": 7,
   "metadata": {},
   "outputs": [
    {
     "data": {
      "text/plain": [
       "0    1\n",
       "1    1\n",
       "2    0\n",
       "3    0\n",
       "4    1\n",
       "Name: 0, dtype: int64"
      ]
     },
     "execution_count": 7,
     "metadata": {},
     "output_type": "execute_result"
    }
   ],
   "source": [
    "labels_df.head()"
   ]
  },
  {
   "cell_type": "markdown",
   "metadata": {},
   "source": [
    "Normalize all columns to equalize the feature space vectors:"
   ]
  },
  {
   "cell_type": "code",
   "execution_count": 8,
   "metadata": {},
   "outputs": [],
   "source": [
    "from sklearn import preprocessing\n",
    "train_df = pd.DataFrame(preprocessing.MinMaxScaler().fit_transform(train_df))"
   ]
  },
  {
   "cell_type": "code",
   "execution_count": 9,
   "metadata": {},
   "outputs": [
    {
     "data": {
      "text/html": [
       "<div>\n",
       "<style scoped>\n",
       "    .dataframe tbody tr th:only-of-type {\n",
       "        vertical-align: middle;\n",
       "    }\n",
       "\n",
       "    .dataframe tbody tr th {\n",
       "        vertical-align: top;\n",
       "    }\n",
       "\n",
       "    .dataframe thead th {\n",
       "        text-align: right;\n",
       "    }\n",
       "</style>\n",
       "<table border=\"1\" class=\"dataframe\">\n",
       "  <thead>\n",
       "    <tr style=\"text-align: right;\">\n",
       "      <th></th>\n",
       "      <th>0</th>\n",
       "      <th>1</th>\n",
       "      <th>2</th>\n",
       "      <th>3</th>\n",
       "      <th>4</th>\n",
       "      <th>5</th>\n",
       "      <th>6</th>\n",
       "      <th>7</th>\n",
       "      <th>8</th>\n",
       "      <th>9</th>\n",
       "    </tr>\n",
       "  </thead>\n",
       "  <tbody>\n",
       "    <tr>\n",
       "      <th>0</th>\n",
       "      <td>0.346150</td>\n",
       "      <td>0.261862</td>\n",
       "      <td>0.516422</td>\n",
       "      <td>0.113107</td>\n",
       "      <td>0.070825</td>\n",
       "      <td>0.287144</td>\n",
       "      <td>0.643887</td>\n",
       "      <td>0.673694</td>\n",
       "      <td>0.043067</td>\n",
       "      <td>0.582183</td>\n",
       "    </tr>\n",
       "    <tr>\n",
       "      <th>1</th>\n",
       "      <td>0.065218</td>\n",
       "      <td>0.059202</td>\n",
       "      <td>0.213772</td>\n",
       "      <td>0.474366</td>\n",
       "      <td>0.355016</td>\n",
       "      <td>0.469097</td>\n",
       "      <td>0.620195</td>\n",
       "      <td>0.604959</td>\n",
       "      <td>0.697227</td>\n",
       "      <td>0.511392</td>\n",
       "    </tr>\n",
       "    <tr>\n",
       "      <th>2</th>\n",
       "      <td>0.096865</td>\n",
       "      <td>0.084203</td>\n",
       "      <td>0.328891</td>\n",
       "      <td>0.215073</td>\n",
       "      <td>0.154690</td>\n",
       "      <td>0.457191</td>\n",
       "      <td>0.539851</td>\n",
       "      <td>0.577604</td>\n",
       "      <td>0.007822</td>\n",
       "      <td>0.372196</td>\n",
       "    </tr>\n",
       "    <tr>\n",
       "      <th>3</th>\n",
       "      <td>0.066115</td>\n",
       "      <td>0.065513</td>\n",
       "      <td>0.212469</td>\n",
       "      <td>0.371604</td>\n",
       "      <td>0.251593</td>\n",
       "      <td>0.442421</td>\n",
       "      <td>0.550029</td>\n",
       "      <td>0.572931</td>\n",
       "      <td>0.027721</td>\n",
       "      <td>0.428678</td>\n",
       "    </tr>\n",
       "    <tr>\n",
       "      <th>4</th>\n",
       "      <td>0.041424</td>\n",
       "      <td>0.034906</td>\n",
       "      <td>0.130490</td>\n",
       "      <td>0.716267</td>\n",
       "      <td>0.530893</td>\n",
       "      <td>0.462369</td>\n",
       "      <td>0.600547</td>\n",
       "      <td>0.551723</td>\n",
       "      <td>0.403400</td>\n",
       "      <td>0.253117</td>\n",
       "    </tr>\n",
       "  </tbody>\n",
       "</table>\n",
       "</div>"
      ],
      "text/plain": [
       "          0         1         2         3         4         5         6  \\\n",
       "0  0.346150  0.261862  0.516422  0.113107  0.070825  0.287144  0.643887   \n",
       "1  0.065218  0.059202  0.213772  0.474366  0.355016  0.469097  0.620195   \n",
       "2  0.096865  0.084203  0.328891  0.215073  0.154690  0.457191  0.539851   \n",
       "3  0.066115  0.065513  0.212469  0.371604  0.251593  0.442421  0.550029   \n",
       "4  0.041424  0.034906  0.130490  0.716267  0.530893  0.462369  0.600547   \n",
       "\n",
       "          7         8         9  \n",
       "0  0.673694  0.043067  0.582183  \n",
       "1  0.604959  0.697227  0.511392  \n",
       "2  0.577604  0.007822  0.372196  \n",
       "3  0.572931  0.027721  0.428678  \n",
       "4  0.551723  0.403400  0.253117  "
      ]
     },
     "execution_count": 9,
     "metadata": {},
     "output_type": "execute_result"
    }
   ],
   "source": [
    "train_df.head()"
   ]
  },
  {
   "cell_type": "markdown",
   "metadata": {},
   "source": [
    "1. KNN\n",
    "2. SVM\n",
    "3. Random Forest\n",
    "4. Gradient Boosting Trees"
   ]
  },
  {
   "cell_type": "code",
   "execution_count": 16,
   "metadata": {},
   "outputs": [],
   "source": [
    "from sklearn.model_selection import GridSearchCV, RandomizedSearchCV"
   ]
  },
  {
   "cell_type": "code",
   "execution_count": 21,
   "metadata": {},
   "outputs": [
    {
     "name": "stdout",
     "output_type": "stream",
     "text": [
      "0.8392\n",
      "{'weights': 'distance', 'p': 1, 'n_neighbors': 7}\n"
     ]
    }
   ],
   "source": [
    "from sklearn.neighbors import KNeighborsClassifier\n",
    "\n",
    "knn_neighbors = []\n",
    "for i in range(9):\n",
    "    knn_neighbors.append(i+1)\n",
    "\n",
    "knn_cv_params = {\n",
    "    'n_neighbors': knn_neighbors,\n",
    "#     'algorithm': ['ball_tree', 'kd_tree', 'brute'],\n",
    "    'p': [1, 2, 3],\n",
    "    'weights': ['uniform', 'distance']\n",
    "}\n",
    "\n",
    "knn_grid = GridSearchCV(KNeighborsClassifier(), param_grid=knn_cv_params)\n",
    "knn_grid.fit(train_df, labels_df)\n",
    "print(knn_grid.best_score_)\n",
    "print(knn_grid.best_params_)"
   ]
  },
  {
   "cell_type": "code",
   "execution_count": null,
   "metadata": {},
   "outputs": [],
   "source": []
  },
  {
   "cell_type": "code",
   "execution_count": 54,
   "metadata": {},
   "outputs": [
    {
     "name": "stdout",
     "output_type": "stream",
     "text": [
      "0.8408\n",
      "{'class_weight': None, 'probability': True}\n"
     ]
    }
   ],
   "source": [
    "from sklearn.svm import SVC\n",
    "\n",
    "svm_cv_params = {\n",
    "#     'kernel': ['linear', 'poly', 'rbf', 'sigmoid'],\n",
    "    'probability': [True, False]\n",
    "#     'C': [0.1, 0.5, 1.0]\n",
    "}\n",
    "\n",
    "svm_grid = GridSearchCV(SVC(cache_size=512, C=15.0, kernel='rbf'), param_grid=svm_cv_params)\n",
    "svm_grid.fit(train_df, labels_df)\n",
    "print(svm_grid.best_score_)\n",
    "print(svm_grid.best_params_)"
   ]
  },
  {
   "cell_type": "code",
   "execution_count": null,
   "metadata": {},
   "outputs": [],
   "source": []
  },
  {
   "cell_type": "code",
   "execution_count": 60,
   "metadata": {},
   "outputs": [
    {
     "name": "stdout",
     "output_type": "stream",
     "text": [
      "0.8767333333333334\n",
      "{'max_features': 'log2', 'criterion': 'gini', 'n_estimators': 100}\n"
     ]
    }
   ],
   "source": [
    "from sklearn.ensemble import RandomForestClassifier\n",
    "\n",
    "rf_cv_params = {\n",
    "    'n_estimators': [100, 300, 500],\n",
    "    'criterion': ['gini', 'entropy'],\n",
    "    'max_features': ['sqrt', 'log2', None]\n",
    "}\n",
    "\n",
    "rf_grid = GridSearchCV(RandomForestClassifier(), param_grid=rf_cv_params)\n",
    "rf_grid.fit(train_df, labels_df)\n",
    "print(rf_grid.best_score_)\n",
    "print(rf_grid.best_params_)"
   ]
  },
  {
   "cell_type": "code",
   "execution_count": null,
   "metadata": {},
   "outputs": [],
   "source": []
  },
  {
   "cell_type": "code",
   "execution_count": 64,
   "metadata": {},
   "outputs": [
    {
     "name": "stdout",
     "output_type": "stream",
     "text": [
      "0.882\n",
      "{'loss': 'deviance', 'max_features': 'sqrt', 'n_estimators': 1100}\n"
     ]
    }
   ],
   "source": [
    "from sklearn.ensemble import GradientBoostingClassifier\n",
    "\n",
    "gbt_cv_params = {\n",
    "    'loss': ['deviance', 'exponential'],\n",
    "#     'n_estimators': [100, 300, 500, 700],\n",
    "    'n_estimators': [700, 900, 1100],\n",
    "    'max_features': ['sqrt', 'log2', None]\n",
    "}\n",
    "\n",
    "gbt_grid = GridSearchCV(GradientBoostingClassifier(), param_grid=gbt_cv_params)\n",
    "gbt_grid.fit(train_df, labels_df)\n",
    "print(gbt_grid.best_score_)\n",
    "print(gbt_grid.best_params_)"
   ]
  },
  {
   "cell_type": "code",
   "execution_count": null,
   "metadata": {},
   "outputs": [],
   "source": []
  }
 ],
 "metadata": {
  "kernelspec": {
   "display_name": "Python 3",
   "language": "python",
   "name": "python3"
  },
  "language_info": {
   "codemirror_mode": {
    "name": "ipython",
    "version": 3
   },
   "file_extension": ".py",
   "mimetype": "text/x-python",
   "name": "python",
   "nbconvert_exporter": "python",
   "pygments_lexer": "ipython3",
   "version": "3.5.2"
  }
 },
 "nbformat": 4,
 "nbformat_minor": 2
}
