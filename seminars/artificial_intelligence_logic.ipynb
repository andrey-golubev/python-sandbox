{
 "cells": [
  {
   "cell_type": "code",
   "execution_count": 2,
   "metadata": {},
   "outputs": [],
   "source": [
    "from pyknow import *\n",
    "from random import choice"
   ]
  },
  {
   "cell_type": "markdown",
   "metadata": {},
   "source": [
    "# PyKnow\n",
    "\n",
    "[`pyknow`](https://github.com/buguroo/pyknow/) is a Python library for building expert systems"
   ]
  },
  {
   "cell_type": "markdown",
   "metadata": {},
   "source": [
    "# Road crossing example\n",
    "\n",
    "This example shows how simple agent given basic rules can behave in an environment which is a traffic light\n",
    "\n",
    "Rules:\n",
    "* If current color is `red`, don't walk\n",
    "* If current color is `green`, walk\n",
    "* If current color is `yellow` or `blinking-yellow`, be cautious"
   ]
  },
  {
   "cell_type": "markdown",
   "metadata": {},
   "source": [
    "### Prerequisites"
   ]
  },
  {
   "cell_type": "code",
   "execution_count": 18,
   "metadata": {},
   "outputs": [],
   "source": [
    "from enum import Enum\n",
    "class Color(Enum):\n",
    "    Red = 0\n",
    "    Green = 1\n",
    "    Yellow = 2\n",
    "    BlinkingYellow = 3\n",
    "\n",
    "    @staticmethod\n",
    "    def all_colors():\n",
    "        return [Color.Red, Color.Green, Color.Yellow, Color.BlinkingYellow]\n",
    "    \n",
    "    @staticmethod\n",
    "    def text(color):\n",
    "        return {\n",
    "            Color.Red: 'red',\n",
    "            Color.Green: 'green',\n",
    "            Color.Yellow: 'yellow',\n",
    "            Color.BlinkingYellow: 'blinking-yellow',\n",
    "        }.get(color, 'unknown')"
   ]
  },
  {
   "cell_type": "code",
   "execution_count": 35,
   "metadata": {},
   "outputs": [],
   "source": [
    "class TrafficLight():\n",
    "    def __init__(self, color):\n",
    "        self.__curr_color = color\n",
    "    \n",
    "    def __next(self):\n",
    "        return {\n",
    "            Color.Red: (Color.Green, 500),\n",
    "            Color.Green: (Color.Yellow, 500),\n",
    "            Color.Yellow: (Color.BlinkingYellow, 200),\n",
    "            Color.BlinkingYellow: (Color.Red, 100),\n",
    "        }.get(self.__curr_color, None)\n",
    "    \n",
    "    def update(self):\n",
    "        next_color, msec = self.__next()\n",
    "        self.__curr_color = next_color\n",
    "        return next_color, msec"
   ]
  },
  {
   "cell_type": "markdown",
   "metadata": {},
   "source": [
    "### PyKnow usage"
   ]
  },
  {
   "cell_type": "code",
   "execution_count": 33,
   "metadata": {},
   "outputs": [],
   "source": [
    "class Light(Fact):\n",
    "    \"\"\"Info about the traffic light.\"\"\"\n",
    "    pass\n",
    "\n",
    "\n",
    "class RobotCrossStreet(KnowledgeEngine):\n",
    "    @Rule(AS.light << Light(color=Color.Green))\n",
    "    def green_light(self, light):\n",
    "        print(\"Agent: Walk, light is\", Color.text(light[\"color\"]))\n",
    "\n",
    "    @Rule(AS.light << Light(color=Color.Red))\n",
    "    def red_light(self, light):\n",
    "        print(\"Agent: Don't walk, light is\", Color.text(light[\"color\"]))\n",
    "\n",
    "    @Rule(AS.light << Light(color=L(Color.Yellow) | L(Color.BlinkingYellow)))\n",
    "    def cautious(self, light):\n",
    "        print(\"Agent: Be cautious, light is\", Color.text(light[\"color\"]))"
   ]
  },
  {
   "cell_type": "markdown",
   "metadata": {},
   "source": [
    "### Run"
   ]
  },
  {
   "cell_type": "code",
   "execution_count": 38,
   "metadata": {},
   "outputs": [
    {
     "name": "stdout",
     "output_type": "stream",
     "text": [
      "Starting color: Color.Green\n",
      "Current color: yellow\n",
      "Agent: Be cautious, light is yellow\n",
      "----------------------------------------------------------------------------------------------------\n",
      "Current color: blinking-yellow\n",
      "Agent: Be cautious, light is blinking-yellow\n",
      "----------------------------------------------------------------------------------------------------\n",
      "Current color: red\n",
      "Agent: Don't walk, light is red\n",
      "----------------------------------------------------------------------------------------------------\n",
      "Current color: green\n",
      "Agent: Walk, light is green\n",
      "----------------------------------------------------------------------------------------------------\n",
      "Current color: yellow\n",
      "Agent: Be cautious, light is yellow\n",
      "----------------------------------------------------------------------------------------------------\n",
      "Current color: blinking-yellow\n",
      "Agent: Be cautious, light is blinking-yellow\n",
      "----------------------------------------------------------------------------------------------------\n",
      "Current color: red\n",
      "Agent: Don't walk, light is red\n",
      "----------------------------------------------------------------------------------------------------\n",
      "Current color: green\n",
      "Agent: Walk, light is green\n",
      "----------------------------------------------------------------------------------------------------\n",
      "Current color: yellow\n",
      "Agent: Be cautious, light is yellow\n",
      "----------------------------------------------------------------------------------------------------\n",
      "Current color: blinking-yellow\n",
      "Agent: Be cautious, light is blinking-yellow\n",
      "----------------------------------------------------------------------------------------------------\n"
     ]
    }
   ],
   "source": [
    "from time import sleep\n",
    "engine = RobotCrossStreet()\n",
    "times = 10\n",
    "start = choice(Color.all_colors())\n",
    "print('Starting color:', start)\n",
    "state_machine = TrafficLight(start)\n",
    "for i in range(times):\n",
    "    curr_color, msec = state_machine.update()\n",
    "    sec = msec / 1000\n",
    "    sleep(sec)\n",
    "    print('Current color:', Color.text(curr_color))\n",
    "    engine.reset()\n",
    "    engine.declare(Light(color=curr_color))\n",
    "    engine.run()\n",
    "    print('-'*100)"
   ]
  },
  {
   "cell_type": "code",
   "execution_count": null,
   "metadata": {},
   "outputs": [],
   "source": []
  }
 ],
 "metadata": {
  "kernelspec": {
   "display_name": "Python 3",
   "language": "python",
   "name": "python3"
  },
  "language_info": {
   "codemirror_mode": {
    "name": "ipython",
    "version": 3
   },
   "file_extension": ".py",
   "mimetype": "text/x-python",
   "name": "python",
   "nbconvert_exporter": "python",
   "pygments_lexer": "ipython3",
   "version": "3.6.5"
  }
 },
 "nbformat": 4,
 "nbformat_minor": 2
}
