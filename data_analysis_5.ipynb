{
 "cells": [
  {
   "cell_type": "markdown",
   "metadata": {},
   "source": [
    "# Наивный байесовский классификатор\n",
    "\n",
    "Dataset: [armenian pubs](https://www.kaggle.com/erikhambardzumyan/pubs)\n",
    "\n",
    "Подробнее о данных можно узнать в [первой работе](https://github.com/andrgolubev/python-sandbox/blob/master/data_analysis_1.ipynb)"
   ]
  },
  {
   "cell_type": "code",
   "execution_count": 1,
   "metadata": {
    "collapsed": true
   },
   "outputs": [],
   "source": [
    "import numpy as np\n",
    "import matplotlib.pyplot as plt\n",
    "import pandas as pd\n",
    "%matplotlib inline"
   ]
  },
  {
   "cell_type": "code",
   "execution_count": 2,
   "metadata": {
    "collapsed": false
   },
   "outputs": [
    {
     "name": "stdout",
     "output_type": "stream",
     "text": [
      "Index(['age', 'income', 'occupation_CEO',\n",
      "       'occupation_Entrepreneur_/_Software_Engineer', 'occupation_Student',\n",
      "       'occupation_Student_+_working', 'occupation_Working',\n",
      "       'occupation_Working', 'occupation_army', 'freq_Several_times_a_week',\n",
      "       'freq_Several_times_in_a_month', 'freq_rarely', 'prim_imp_Environment',\n",
      "       'prim_imp_Menu', 'prim_imp_Music', 'prim_imp_Pricing',\n",
      "       'sec_imp_Environment', 'sec_imp_Menu', 'sec_imp_Music',\n",
      "       'sec_imp_Pricing', 'stratum_Capital', 'stratum_Rural', 'stratum_Urban',\n",
      "       'lifestyle_Adventure/traveling/exploring', 'lifestyle_Art',\n",
      "       'lifestyle_Business_sports_dance', 'lifestyle_Busy',\n",
      "       'lifestyle_Nightlife', 'lifestyle_Passive', 'lifestyle_Rock_punk',\n",
      "       'lifestyle_Sport', 'lifestyle_Sport_art_traveling', 'lifestyle_Student',\n",
      "       'occasions_Birthdays', 'occasions_For_listening__good_music',\n",
      "       'occasions_Hang_outs_with_friends', 'occasions_Never',\n",
      "       'occasions_Nowere', 'occasions_Special_events/parties',\n",
      "       'occasions_chem_aycelum', 'gender'],\n",
      "      dtype='object')\n"
     ]
    }
   ],
   "source": [
    "import data_retrieve as dr\n",
    "X, data = dr.parse_and_prepare(\"armenian_pubs.csv\", sep=\",\", engine=\"python\")\n",
    "Y = None\n",
    "Y_numeric = data['wts']\n",
    "Y_mean = np.mean(Y_numeric)\n",
    "Y = pd.Series(['C1' if val <= Y_mean else 'C2' for val in Y_numeric])\n",
    "intY = pd.Series([0 if val is 'C1' else 1 for val in Y])\n",
    "feature_names = X.columns\n",
    "print(feature_names)"
   ]
  },
  {
   "cell_type": "markdown",
   "metadata": {},
   "source": [
    "#### Разбиение на обучающую и тестовую выборки"
   ]
  },
  {
   "cell_type": "code",
   "execution_count": 3,
   "metadata": {
    "collapsed": false
   },
   "outputs": [
    {
     "name": "stdout",
     "output_type": "stream",
     "text": [
      "122 53\n"
     ]
    }
   ],
   "source": [
    "from sklearn.model_selection import train_test_split\n",
    "# constant random_state to have repeatability\n",
    "X_train, X_test, Y_train, Y_test = train_test_split(X, Y, train_size=0.7, random_state=7)\n",
    "N_train, _ = X_train.shape\n",
    "N_test, _ = X_test.shape\n",
    "intY = pd.Series([0 if val is 'C1' else 1 for val in Y_train])\n",
    "print(N_train, N_test)"
   ]
  },
  {
   "cell_type": "markdown",
   "metadata": {},
   "source": [
    "#### Инициализация"
   ]
  },
  {
   "cell_type": "code",
   "execution_count": 4,
   "metadata": {
    "collapsed": false
   },
   "outputs": [
    {
     "data": {
      "text/plain": [
       "GaussianNB(priors=None)"
      ]
     },
     "execution_count": 4,
     "metadata": {},
     "output_type": "execute_result"
    }
   ],
   "source": [
    "from sklearn.naive_bayes import BernoulliNB, GaussianNB, MultinomialNB\n",
    "gnb_model = GaussianNB()\n",
    "gnb_model.fit(X_train, Y_train)"
   ]
  },
  {
   "cell_type": "code",
   "execution_count": 5,
   "metadata": {
    "collapsed": false
   },
   "outputs": [
    {
     "data": {
      "text/plain": [
       "<matplotlib.collections.PathCollection at 0x7f5e76dea4e0>"
      ]
     },
     "execution_count": 5,
     "metadata": {},
     "output_type": "execute_result"
    },
    {
     "data": {
      "image/png": "[encoded data removed]",
      "text/plain": [
       "<matplotlib.figure.Figure at 0x7f5e76e56630>"
      ]
     },
     "metadata": {},
     "output_type": "display_data"
    }
   ],
   "source": [
    "import mysk\n",
    "\n",
    "vX = X_train.values\n",
    "colors = np.array(['b', 'r'])[intY]\n",
    "plt.scatter(vX[:, 0], vX[:, 1], color = colors)\n",
    "# mysk.draw_sep_curve(gnb_model)\n",
    "# plt.scatter(gnb_model.theta_[:, 0], gnb_model.theta_[:, 40], color = ['b', 'r'], s = 100)"
   ]
  },
  {
   "cell_type": "markdown",
   "metadata": {},
   "source": [
    "#### Средние значения признаков в получившейся модели для заданных классов"
   ]
  },
  {
   "cell_type": "code",
   "execution_count": 6,
   "metadata": {
    "collapsed": false
   },
   "outputs": [
    {
     "data": {
      "text/plain": [
       "array([[ 0.12333333,  0.01308642,  0.        ,  0.        ,  0.77777778,\n",
       "         0.19444444,  0.01388889,  0.        ,  0.01388889,  0.09722222,\n",
       "         0.48611111,  0.41666667,  0.69444444,  0.04166667,  0.20833333,\n",
       "         0.05555556,  0.16666667,  0.19444444,  0.38888889,  0.25      ,\n",
       "         0.81944444,  0.        ,  0.18055556,  0.20833333,  0.18055556,\n",
       "         0.        ,  0.41666667,  0.04166667,  0.01388889,  0.02777778,\n",
       "         0.05555556,  0.        ,  0.        ,  0.04166667,  0.01388889,\n",
       "         0.77777778,  0.01388889,  0.01388889,  0.09722222,  0.01388889,\n",
       "         0.65277778],\n",
       "       [ 0.1624    ,  0.03806844,  0.02      ,  0.02      ,  0.56      ,\n",
       "         0.3       ,  0.08      ,  0.02      ,  0.        ,  0.06      ,\n",
       "         0.32      ,  0.62      ,  0.76      ,  0.        ,  0.2       ,\n",
       "         0.04      ,  0.14      ,  0.3       ,  0.36      ,  0.2       ,\n",
       "         0.82      ,  0.        ,  0.18      ,  0.2       ,  0.08      ,\n",
       "         0.02      ,  0.5       ,  0.02      ,  0.        ,  0.06      ,\n",
       "         0.08      ,  0.        ,  0.02      ,  0.1       ,  0.        ,\n",
       "         0.82      ,  0.        ,  0.        ,  0.08      ,  0.        ,\n",
       "         0.44      ]])"
      ]
     },
     "execution_count": 6,
     "metadata": {},
     "output_type": "execute_result"
    }
   ],
   "source": [
    "gnb_model.theta_"
   ]
  },
  {
   "cell_type": "markdown",
   "metadata": {},
   "source": [
    "#### Ошибки"
   ]
  },
  {
   "cell_type": "code",
   "execution_count": 7,
   "metadata": {
    "collapsed": false
   },
   "outputs": [
    {
     "name": "stdout",
     "output_type": "stream",
     "text": [
      "0.524590163934 0.433962264151\n"
     ]
    }
   ],
   "source": [
    "err_train = np.mean(Y_train != gnb_model.predict(X_train))\n",
    "err_test = np.mean(Y_test != gnb_model.predict(X_test))\n",
    "print(err_train, err_test)"
   ]
  },
  {
   "cell_type": "code",
   "execution_count": 8,
   "metadata": {
    "collapsed": false
   },
   "outputs": [
    {
     "data": {
      "text/plain": [
       "array([[  2.78888914e-03,   2.54671794e-04,   2.50000000e-10,\n",
       "          2.50000000e-10,   1.72839506e-01,   1.56635803e-01,\n",
       "          1.36959879e-02,   2.50000000e-10,   1.36959879e-02,\n",
       "          8.77700620e-02,   2.49807099e-01,   2.43055556e-01,\n",
       "          2.12191358e-01,   3.99305558e-02,   1.64930556e-01,\n",
       "          5.24691361e-02,   1.38888889e-01,   1.56635803e-01,\n",
       "          2.37654321e-01,   1.87500000e-01,   1.47955247e-01,\n",
       "          2.50000000e-10,   1.47955247e-01,   1.64930556e-01,\n",
       "          1.47955247e-01,   2.50000000e-10,   2.43055556e-01,\n",
       "          3.99305558e-02,   1.36959879e-02,   2.70061731e-02,\n",
       "          5.24691361e-02,   2.50000000e-10,   2.50000000e-10,\n",
       "          3.99305558e-02,   1.36959879e-02,   1.72839506e-01,\n",
       "          1.36959879e-02,   1.36959879e-02,   8.77700620e-02,\n",
       "          1.36959879e-02,   2.26658951e-01],\n",
       "       [  2.19142403e-02,   1.92086952e-02,   1.96000002e-02,\n",
       "          1.96000002e-02,   2.46400000e-01,   2.10000000e-01,\n",
       "          7.36000003e-02,   1.96000002e-02,   2.50000000e-10,\n",
       "          5.64000003e-02,   2.17600000e-01,   2.35600000e-01,\n",
       "          1.82400000e-01,   2.50000000e-10,   1.60000000e-01,\n",
       "          3.84000003e-02,   1.20400000e-01,   2.10000000e-01,\n",
       "          2.30400000e-01,   1.60000000e-01,   1.47600000e-01,\n",
       "          2.50000000e-10,   1.47600000e-01,   1.60000000e-01,\n",
       "          7.36000003e-02,   1.96000002e-02,   2.50000000e-01,\n",
       "          1.96000002e-02,   2.50000000e-10,   5.64000003e-02,\n",
       "          7.36000003e-02,   2.50000000e-10,   1.96000002e-02,\n",
       "          9.00000002e-02,   2.50000000e-10,   1.47600000e-01,\n",
       "          2.50000000e-10,   2.50000000e-10,   7.36000003e-02,\n",
       "          2.50000000e-10,   2.46400000e-01]])"
      ]
     },
     "execution_count": 8,
     "metadata": {},
     "output_type": "execute_result"
    }
   ],
   "source": [
    "gnb_model.sigma_"
   ]
  },
  {
   "cell_type": "code",
   "execution_count": 9,
   "metadata": {
    "collapsed": false,
    "scrolled": true
   },
   "outputs": [
    {
     "name": "stdout",
     "output_type": "stream",
     "text": [
      "Class counts:  [ 72.  50.]\n",
      "Priors:  [ 0.59016393  0.40983607]\n"
     ]
    }
   ],
   "source": [
    "print(\"Class counts: \", gnb_model.class_count_)\n",
    "print(\"Priors: \", gnb_model.class_prior_)"
   ]
  },
  {
   "cell_type": "markdown",
   "metadata": {},
   "source": [
    "### Confusion matrix, специфичность, чувствительность"
   ]
  },
  {
   "cell_type": "markdown",
   "metadata": {},
   "source": [
    "Confusion matrix имеет вид (для двух классов):\n",
    "$\n",
    "\\begin{array}{|c|c|}\n",
    "\\hline\n",
    "{\\rm TN} & {\\rm FN} \\\\\n",
    "\\hline\n",
    "{\\rm FP} & {\\rm TP} \\\\\n",
    "\\hline\n",
    "\\end{array}\n",
    "$\n",
    "\n",
    "${\\rm TN}$ – true negative\n",
    "${\\rm FP}$ – false positive\n",
    "${\\rm FN}$ – false negative\n",
    "${\\rm TP}$ – true positive\n",
    "\n",
    "\n",
    "${\\rm FP}$ – _ложные тревоги_ (ошибки 1-го рода или $\\alpha$-ошибки)\n",
    "\n",
    "${\\rm FN}$ – _промахи_ (ошибки 2-го рода или $\\beta$-ошибки)\n",
    "\n",
    "$\\alpha = {\\rm FPR} = \\frac{{\\rm FP}}{{\\rm TN}+{\\rm FP}}$ – вероятность ошибки первого рода (_уровень значимости_)\n",
    "\n",
    "$\\beta = {\\rm FNR} = \\frac{{\\rm FN}}{{\\rm FN}+{\\rm TP}}$ – вероятность ошибки второго рода\n",
    "\n",
    "${\\rm TNR} = \\frac{{\\rm TN}}{{\\rm TN}+{\\rm FP}} = 1 - {\\rm FPR}$ – _специфичность_\n",
    "\n",
    "${\\rm TPR} = {\\rm recall} = \\frac{{\\rm TP}}{{\\rm FN}+{\\rm TP}} = 1 - {\\rm FNR}$ – _чувствительность_\n",
    "\n",
    "\n",
    "Еще:\n",
    "\n",
    "${\\rm error} = \\frac{{\\rm FP} + {\\rm FN}}{{\\rm TP} + {\\rm TN} + {\\rm FP} + {\\rm FN}}$ \n",
    "\n",
    "${\\rm accuracy} = \\frac{{\\rm TP} + {\\rm TN}}{{\\rm TP} + {\\rm TN} + {\\rm FP} + {\\rm FN}} = 1 - {\\rm error}$ \n",
    "\n",
    "${\\rm precision} = \\frac{{\\rm TP}}{{\\rm FP}+{\\rm TP}}$ \n",
    "\n",
    "$F_1 = 2\\cdot\\frac{{\\rm precision}\\cdot{\\rm recall}}{{\\rm precision}+{\\rm recall}}$ \n"
   ]
  },
  {
   "cell_type": "markdown",
   "metadata": {},
   "source": [
    "#### Использование различных классификаторов"
   ]
  },
  {
   "cell_type": "code",
   "execution_count": 11,
   "metadata": {
    "collapsed": false
   },
   "outputs": [
    {
     "data": {
      "application/vnd.jupyter.widget-view+json": {
       "model_id": "5bbdf53032184bec8e96d9ee1034f545"
      }
     },
     "metadata": {},
     "output_type": "display_data"
    },
    {
     "data": {
      "image/png": "[encoded data removed]",
      "text/plain": [
       "<matplotlib.figure.Figure at 0x7f5e733ec400>"
      ]
     },
     "metadata": {},
     "output_type": "display_data"
    },
    {
     "data": {
      "image/png": "[encoded data removed]",
      "text/plain": [
       "<matplotlib.figure.Figure at 0x7f5e73547e10>"
      ]
     },
     "metadata": {},
     "output_type": "display_data"
    }
   ],
   "source": [
    "from ipywidgets import interact\n",
    "\n",
    "\n",
    "defines = {\n",
    "    'gaussian': {\n",
    "        'ctor': GaussianNB,\n",
    "        'priors': True\n",
    "    },\n",
    "    'bernoulli': {\n",
    "        'ctor': BernoulliNB,\n",
    "        'priors': False\n",
    "    },\n",
    "    'multinomial': {\n",
    "        'ctor': MultinomialNB,\n",
    "        'priors': False\n",
    "    }\n",
    "}\n",
    "\n",
    "_, n_features = X.shape\n",
    "intY_test = pd.Series([0 if val is 'C1' else 1 for val in Y_test])\n",
    "def print_svc_data(model='gaussian', graph='hist'):\n",
    "    model_defines = defines[model]\n",
    "    nb_model = model_defines['ctor']()\n",
    "    nb_model.fit(X_train, Y_train)\n",
    "    Y_train_predict = nb_model.predict(X_train)\n",
    "    Y_test_predict = nb_model.predict(X_test)\n",
    "    err_train = np.mean(Y_train != Y_train_predict)\n",
    "    err_test = np.mean(Y_test != Y_test_predict)\n",
    "    print(f\"Errors: train - {err_train} | test - {err_test}\")\n",
    "    print(\"Class counts: \", nb_model.class_count_)\n",
    "    if model_defines['priors']:\n",
    "        print(\"Priors: \", nb_model.class_prior_)\n",
    "        pass\n",
    "    from sklearn.metrics import confusion_matrix\n",
    "    cm_train = confusion_matrix(Y_train_predict, Y_train)\n",
    "    print(\"Train data Confusion Matrix:\\n\", cm_train)\n",
    "    cm_test = confusion_matrix(Y_test_predict, Y_test)\n",
    "    print(\"Test data Confusion Matrix:\\n\", cm_test)\n",
    "    \n",
    "    tnr_tr = 1 - float(cm_train[1, 0])/(cm_train[0, 0] + cm_train[1, 0])\n",
    "    tpr_tr = 1 - float(cm_train[0, 1])/(cm_train[0, 1] + cm_train[1, 1])\n",
    "    print(f\"Train data: Specificity={tnr_tr} | Sensitivity={tpr_tr}\")\n",
    "    tnr_tst = 1 - float(cm_test[1, 0])/(cm_test[0, 0] + cm_test[1, 0])\n",
    "    tpr_tst = 1 - float(cm_test[0, 1])/(cm_test[0, 1] + cm_test[1, 1])\n",
    "    print(f\"Test data: Specificity={tnr_tst} | Sensitivity={tpr_tst}\")\n",
    "    probability = nb_model.predict_proba(X_test)[:, 1]\n",
    "    from sklearn.metrics import roc_curve\n",
    "    fpr, tpr, thresholds = roc_curve(intY_test, probability)\n",
    "    print(\"                   Test data:\\n\")\n",
    "    if graph is 'hist':\n",
    "        plt.hist(probability[Y_test == 'C1'], color = 'b', alpha = 0.4, normed = False)\n",
    "        plt.hist(probability[Y_test == 'C2'], color = 'r', alpha = 0.4, normed = False)\n",
    "        pass\n",
    "    else:\n",
    "        from sklearn.metrics import roc_curve\n",
    "        fpr, tpr, thresholds = roc_curve(intY_test, probability)\n",
    "        plt.title('Receiver Operating Characteristic')\n",
    "        plt.plot(np.concatenate(([0], fpr)), np.concatenate(([0], tpr)))\n",
    "        #plt.plot(fpr, tpr)\n",
    "        plt.xlabel('False Positive Rate (1 - Specificity)')\n",
    "        plt.ylabel('True Positive Rate (Sensitivity)')\n",
    "        plt.plot([0, 1], [0, 1], 'k--')\n",
    "        plt.axis([-0.05, 1.05, -0.05, 1.05])\n",
    "        pass\n",
    "    from sklearn.metrics import auc\n",
    "    print(\"Area Under Curve: \", auc(fpr, tpr))\n",
    "    pass\n",
    "\n",
    "interact(print_svc_data, model=defines.keys(), graph=['hist', 'roc'])\n",
    "pass"
   ]
  }
 ],
 "metadata": {
  "kernelspec": {
   "display_name": "Python 3",
   "language": "python",
   "name": "python3"
  },
  "language_info": {
   "codemirror_mode": {
    "name": "ipython",
    "version": 3
   },
   "file_extension": ".py",
   "mimetype": "text/x-python",
   "name": "python",
   "nbconvert_exporter": "python",
   "pygments_lexer": "ipython3",
   "version": "3.6.3"
  }
 },
 "nbformat": 4,
 "nbformat_minor": 2
}
