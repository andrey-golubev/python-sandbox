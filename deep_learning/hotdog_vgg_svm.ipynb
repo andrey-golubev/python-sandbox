{
 "cells": [
  {
   "cell_type": "markdown",
   "metadata": {},
   "source": [
    "# Hotdog classification: Train SVM on top of VGG19 FC layer output*\n",
    "\n",
    "*Classifier of VGG19 updated to produce non-class-score output result"
   ]
  },
  {
   "cell_type": "code",
   "execution_count": 50,
   "metadata": {},
   "outputs": [],
   "source": [
    "import torch\n",
    "import torch.nn as nn\n",
    "import torch.nn.functional as F\n",
    "import torch.optim as optim\n",
    "from torchvision import datasets, models, transforms\n",
    "from torch.autograd import Variable\n",
    "import torchvision\n",
    "import numpy as np\n",
    "import os\n",
    "import time\n",
    "import copy\n",
    "import pandas as pd"
   ]
  },
  {
   "cell_type": "code",
   "execution_count": 2,
   "metadata": {},
   "outputs": [],
   "source": [
    "data_transforms = {\n",
    "    'train': transforms.Compose([\n",
    "        transforms.Resize(256),\n",
    "        transforms.CenterCrop(224),\n",
    "        transforms.ToTensor(),\n",
    "        transforms.Normalize([0.485, 0.456, 0.406], [0.229, 0.224, 0.225])\n",
    "    ])\n",
    "}"
   ]
  },
  {
   "cell_type": "code",
   "execution_count": 31,
   "metadata": {},
   "outputs": [
    {
     "name": "stdout",
     "output_type": "stream",
     "text": [
      "['hotdog', 'not_hotdog']\n"
     ]
    }
   ],
   "source": [
    "import sys\n",
    "if sys.platform == 'win32':\n",
    "    data_dir = 'E:\\GuestUbuntuShared\\hotdogs_dataset_train'\n",
    "else:\n",
    "    data_dir = os.path.join(os.environ['HOME'], 'hse/data/hotdogs_dataset_train')\n",
    "image_datasets = {x: datasets.ImageFolder(os.path.join(data_dir, x),\n",
    "                                          data_transforms[x])\n",
    "                  for x in ['train']}\n",
    "dataloaders = {x: torch.utils.data.DataLoader(image_datasets[x], batch_size=1,\n",
    "                                              shuffle=True, num_workers=4)\n",
    "              for x in ['train']}\n",
    "dataset_sizes = {x: len(image_datasets[x]) for x in ['train']}\n",
    "class_names = image_datasets['train'].classes\n",
    "print(class_names)\n",
    "device = torch.device(\"cuda:0\" if torch.cuda.is_available() else \"cpu\")"
   ]
  },
  {
   "cell_type": "code",
   "execution_count": 19,
   "metadata": {},
   "outputs": [
    {
     "name": "stdout",
     "output_type": "stream",
     "text": [
      "VGG(\n",
      "  (features): Sequential(\n",
      "    (0): Conv2d(3, 64, kernel_size=(3, 3), stride=(1, 1), padding=(1, 1))\n",
      "    (1): ReLU(inplace)\n",
      "    (2): Conv2d(64, 64, kernel_size=(3, 3), stride=(1, 1), padding=(1, 1))\n",
      "    (3): ReLU(inplace)\n",
      "    (4): MaxPool2d(kernel_size=2, stride=2, padding=0, dilation=1, ceil_mode=False)\n",
      "    (5): Conv2d(64, 128, kernel_size=(3, 3), stride=(1, 1), padding=(1, 1))\n",
      "    (6): ReLU(inplace)\n",
      "    (7): Conv2d(128, 128, kernel_size=(3, 3), stride=(1, 1), padding=(1, 1))\n",
      "    (8): ReLU(inplace)\n",
      "    (9): MaxPool2d(kernel_size=2, stride=2, padding=0, dilation=1, ceil_mode=False)\n",
      "    (10): Conv2d(128, 256, kernel_size=(3, 3), stride=(1, 1), padding=(1, 1))\n",
      "    (11): ReLU(inplace)\n",
      "    (12): Conv2d(256, 256, kernel_size=(3, 3), stride=(1, 1), padding=(1, 1))\n",
      "    (13): ReLU(inplace)\n",
      "    (14): Conv2d(256, 256, kernel_size=(3, 3), stride=(1, 1), padding=(1, 1))\n",
      "    (15): ReLU(inplace)\n",
      "    (16): Conv2d(256, 256, kernel_size=(3, 3), stride=(1, 1), padding=(1, 1))\n",
      "    (17): ReLU(inplace)\n",
      "    (18): MaxPool2d(kernel_size=2, stride=2, padding=0, dilation=1, ceil_mode=False)\n",
      "    (19): Conv2d(256, 512, kernel_size=(3, 3), stride=(1, 1), padding=(1, 1))\n",
      "    (20): ReLU(inplace)\n",
      "    (21): Conv2d(512, 512, kernel_size=(3, 3), stride=(1, 1), padding=(1, 1))\n",
      "    (22): ReLU(inplace)\n",
      "    (23): Conv2d(512, 512, kernel_size=(3, 3), stride=(1, 1), padding=(1, 1))\n",
      "    (24): ReLU(inplace)\n",
      "    (25): Conv2d(512, 512, kernel_size=(3, 3), stride=(1, 1), padding=(1, 1))\n",
      "    (26): ReLU(inplace)\n",
      "    (27): MaxPool2d(kernel_size=2, stride=2, padding=0, dilation=1, ceil_mode=False)\n",
      "    (28): Conv2d(512, 512, kernel_size=(3, 3), stride=(1, 1), padding=(1, 1))\n",
      "    (29): ReLU(inplace)\n",
      "    (30): Conv2d(512, 512, kernel_size=(3, 3), stride=(1, 1), padding=(1, 1))\n",
      "    (31): ReLU(inplace)\n",
      "    (32): Conv2d(512, 512, kernel_size=(3, 3), stride=(1, 1), padding=(1, 1))\n",
      "    (33): ReLU(inplace)\n",
      "    (34): Conv2d(512, 512, kernel_size=(3, 3), stride=(1, 1), padding=(1, 1))\n",
      "    (35): ReLU(inplace)\n",
      "    (36): MaxPool2d(kernel_size=2, stride=2, padding=0, dilation=1, ceil_mode=False)\n",
      "  )\n",
      "  (classifier): Sequential(\n",
      "    (0): Linear(in_features=25088, out_features=4096, bias=True)\n",
      "    (1): ReLU(inplace)\n",
      "    (2): Dropout(p=0.5)\n",
      "    (3): Linear(in_features=4096, out_features=4096, bias=True)\n",
      "    (4): ReLU(inplace)\n",
      "    (5): Dropout(p=0.5)\n",
      "    (6): Linear(in_features=4096, out_features=1000, bias=True)\n",
      "  )\n",
      ")\n"
     ]
    }
   ],
   "source": [
    "print(models.vgg19())"
   ]
  },
  {
   "cell_type": "markdown",
   "metadata": {},
   "source": [
    "### Update forward pass of VGG19"
   ]
  },
  {
   "cell_type": "code",
   "execution_count": 44,
   "metadata": {},
   "outputs": [],
   "source": [
    "for param in cnn.parameters():\n",
    "    param.requires_grad = False\n",
    "    \n",
    "def clear_last_layer(model):\n",
    "    del model.classifier[6]\n",
    "    del model.classifier[5]\n",
    "    del model.classifier[4]\n",
    "    return model\n",
    "\n",
    "cnn = clear_last_layer(models.vgg19(pretrained=True))\n",
    "    \n",
    "def custom_forward(x):\n",
    "    x = cnn.features(x)\n",
    "    x = x.view(x.size(0), -1)\n",
    "    x = cnn.classifier(x)\n",
    "    return x.cpu().data.numpy()[0]\n",
    "\n",
    "cnn.forward = custom_forward"
   ]
  },
  {
   "cell_type": "code",
   "execution_count": 45,
   "metadata": {},
   "outputs": [
    {
     "data": {
      "text/plain": [
       "Sequential(\n",
       "  (0): Linear(in_features=25088, out_features=4096, bias=True)\n",
       "  (1): ReLU(inplace)\n",
       "  (2): Dropout(p=0.5)\n",
       "  (3): Linear(in_features=4096, out_features=4096, bias=True)\n",
       ")"
      ]
     },
     "execution_count": 45,
     "metadata": {},
     "output_type": "execute_result"
    }
   ],
   "source": [
    "cnn.classifier"
   ]
  },
  {
   "cell_type": "code",
   "execution_count": 54,
   "metadata": {},
   "outputs": [],
   "source": [
    "# License: https://github.com/alexanderkuk/log-progress/blob/master/LICENSE\n",
    "def log_progress(sequence, every=None, size=None, name='Items'):\n",
    "    \"\"\"Progress bar for Jupyter Notebook\"\"\"\n",
    "    from ipywidgets import IntProgress, HTML, VBox\n",
    "    from IPython.display import display\n",
    "\n",
    "    is_iterator = False\n",
    "    if size is None:\n",
    "        try:\n",
    "            size = len(sequence)\n",
    "        except TypeError:\n",
    "            is_iterator = True\n",
    "    if size is not None:\n",
    "        if every is None:\n",
    "            if size <= 200:\n",
    "                every = 1\n",
    "            else:\n",
    "                every = int(size / 200)     # every 0.5%\n",
    "    else:\n",
    "        assert every is not None, 'sequence is iterator, set every'\n",
    "\n",
    "    if is_iterator:\n",
    "        progress = IntProgress(min=0, max=1, value=1)\n",
    "        progress.bar_style = 'info'\n",
    "    else:\n",
    "        progress = IntProgress(min=0, max=size, value=0)\n",
    "    label = HTML()\n",
    "    box = VBox(children=[label, progress])\n",
    "    display(box)\n",
    "\n",
    "    index = 0\n",
    "    try:\n",
    "        for index, record in enumerate(sequence, 1):\n",
    "            if index == 1 or index % every == 0:\n",
    "                if is_iterator:\n",
    "                    label.value = '{name}: {index} / ?'.format(\n",
    "                        name=name,\n",
    "                        index=index)\n",
    "                else:\n",
    "                    progress.value = index\n",
    "                    label.value = u'{name}: {index} / {size}'.format(\n",
    "                        name=name,\n",
    "                        index=index,\n",
    "                        size=size)\n",
    "            yield record\n",
    "    except:\n",
    "        progress.bar_style = 'danger'\n",
    "        raise\n",
    "    else:\n",
    "        progress.bar_style = 'success'\n",
    "        progress.value = index\n",
    "        label.value = \"{name}: {index}\".format(\n",
    "            name=name,\n",
    "            index=str(index or '?'))"
   ]
  },
  {
   "cell_type": "code",
   "execution_count": 48,
   "metadata": {},
   "outputs": [
    {
     "data": {
      "application/vnd.jupyter.widget-view+json": {
       "model_id": "45c1471d1f064170b9c5de1fb99d1870",
       "version_major": 2,
       "version_minor": 0
      },
      "text/plain": [
       "VBox(children=(HTML(value=''), IntProgress(value=0, max=1671)))"
      ]
     },
     "metadata": {},
     "output_type": "display_data"
    }
   ],
   "source": [
    "cnn = cnn.to(device)\n",
    "train_data = []\n",
    "train_labels = []\n",
    "for inputs, labels in log_progress(dataloaders['train'], every=5):\n",
    "    inputs = inputs.to(device)\n",
    "    train_data.append(cnn(inputs))\n",
    "    train_labels.append(labels.data.numpy()[0])"
   ]
  },
  {
   "cell_type": "code",
   "execution_count": 55,
   "metadata": {},
   "outputs": [],
   "source": [
    "train_df = pd.DataFrame(train_data)\n",
    "labels_df = pd.Series(train_labels)"
   ]
  },
  {
   "cell_type": "code",
   "execution_count": 56,
   "metadata": {},
   "outputs": [
    {
     "data": {
      "text/html": [
       "<div>\n",
       "<style scoped>\n",
       "    .dataframe tbody tr th:only-of-type {\n",
       "        vertical-align: middle;\n",
       "    }\n",
       "\n",
       "    .dataframe tbody tr th {\n",
       "        vertical-align: top;\n",
       "    }\n",
       "\n",
       "    .dataframe thead th {\n",
       "        text-align: right;\n",
       "    }\n",
       "</style>\n",
       "<table border=\"1\" class=\"dataframe\">\n",
       "  <thead>\n",
       "    <tr style=\"text-align: right;\">\n",
       "      <th></th>\n",
       "      <th>0</th>\n",
       "      <th>1</th>\n",
       "      <th>2</th>\n",
       "      <th>3</th>\n",
       "      <th>4</th>\n",
       "      <th>5</th>\n",
       "      <th>6</th>\n",
       "      <th>7</th>\n",
       "      <th>8</th>\n",
       "      <th>9</th>\n",
       "      <th>...</th>\n",
       "      <th>4086</th>\n",
       "      <th>4087</th>\n",
       "      <th>4088</th>\n",
       "      <th>4089</th>\n",
       "      <th>4090</th>\n",
       "      <th>4091</th>\n",
       "      <th>4092</th>\n",
       "      <th>4093</th>\n",
       "      <th>4094</th>\n",
       "      <th>4095</th>\n",
       "    </tr>\n",
       "  </thead>\n",
       "  <tbody>\n",
       "    <tr>\n",
       "      <th>0</th>\n",
       "      <td>-6.732235</td>\n",
       "      <td>-0.115475</td>\n",
       "      <td>-7.367240</td>\n",
       "      <td>-6.015232</td>\n",
       "      <td>-1.609133</td>\n",
       "      <td>-6.970767</td>\n",
       "      <td>-5.815784</td>\n",
       "      <td>3.400264</td>\n",
       "      <td>-8.163808</td>\n",
       "      <td>-4.497988</td>\n",
       "      <td>...</td>\n",
       "      <td>8.764155</td>\n",
       "      <td>-0.957648</td>\n",
       "      <td>-7.635461</td>\n",
       "      <td>-2.058371</td>\n",
       "      <td>-9.433183</td>\n",
       "      <td>-1.278329</td>\n",
       "      <td>2.609164</td>\n",
       "      <td>-1.215327</td>\n",
       "      <td>-5.124540</td>\n",
       "      <td>0.773738</td>\n",
       "    </tr>\n",
       "    <tr>\n",
       "      <th>1</th>\n",
       "      <td>-2.476744</td>\n",
       "      <td>-2.350722</td>\n",
       "      <td>-2.985142</td>\n",
       "      <td>-4.069021</td>\n",
       "      <td>-4.841514</td>\n",
       "      <td>-4.735853</td>\n",
       "      <td>-3.610507</td>\n",
       "      <td>0.274117</td>\n",
       "      <td>-6.328979</td>\n",
       "      <td>-3.687347</td>\n",
       "      <td>...</td>\n",
       "      <td>4.128976</td>\n",
       "      <td>0.733067</td>\n",
       "      <td>-5.086288</td>\n",
       "      <td>-5.086081</td>\n",
       "      <td>-4.106370</td>\n",
       "      <td>-1.170274</td>\n",
       "      <td>0.990233</td>\n",
       "      <td>-0.360534</td>\n",
       "      <td>-5.015172</td>\n",
       "      <td>1.644582</td>\n",
       "    </tr>\n",
       "    <tr>\n",
       "      <th>2</th>\n",
       "      <td>1.222328</td>\n",
       "      <td>-1.861529</td>\n",
       "      <td>0.373557</td>\n",
       "      <td>-6.381817</td>\n",
       "      <td>-4.266272</td>\n",
       "      <td>-4.156070</td>\n",
       "      <td>-1.971125</td>\n",
       "      <td>-2.656559</td>\n",
       "      <td>-2.522385</td>\n",
       "      <td>-1.621938</td>\n",
       "      <td>...</td>\n",
       "      <td>-2.502311</td>\n",
       "      <td>0.236949</td>\n",
       "      <td>-1.876375</td>\n",
       "      <td>-2.796245</td>\n",
       "      <td>-0.234787</td>\n",
       "      <td>-0.097991</td>\n",
       "      <td>1.026815</td>\n",
       "      <td>-4.200680</td>\n",
       "      <td>-1.127133</td>\n",
       "      <td>-0.279727</td>\n",
       "    </tr>\n",
       "    <tr>\n",
       "      <th>3</th>\n",
       "      <td>-1.120292</td>\n",
       "      <td>-0.335988</td>\n",
       "      <td>-2.142336</td>\n",
       "      <td>-1.229021</td>\n",
       "      <td>-1.567264</td>\n",
       "      <td>-0.797783</td>\n",
       "      <td>-2.187281</td>\n",
       "      <td>-1.618185</td>\n",
       "      <td>-2.833913</td>\n",
       "      <td>-2.300833</td>\n",
       "      <td>...</td>\n",
       "      <td>0.572388</td>\n",
       "      <td>1.747288</td>\n",
       "      <td>-3.676460</td>\n",
       "      <td>-1.040054</td>\n",
       "      <td>0.336179</td>\n",
       "      <td>0.050301</td>\n",
       "      <td>-1.865850</td>\n",
       "      <td>0.171282</td>\n",
       "      <td>-1.450607</td>\n",
       "      <td>-2.581167</td>\n",
       "    </tr>\n",
       "    <tr>\n",
       "      <th>4</th>\n",
       "      <td>-3.485689</td>\n",
       "      <td>-0.817867</td>\n",
       "      <td>-3.114861</td>\n",
       "      <td>-3.242221</td>\n",
       "      <td>-0.665309</td>\n",
       "      <td>-3.256441</td>\n",
       "      <td>-1.970002</td>\n",
       "      <td>2.749093</td>\n",
       "      <td>-3.946038</td>\n",
       "      <td>-0.904642</td>\n",
       "      <td>...</td>\n",
       "      <td>1.488968</td>\n",
       "      <td>0.723232</td>\n",
       "      <td>-2.759034</td>\n",
       "      <td>-1.401602</td>\n",
       "      <td>-3.439389</td>\n",
       "      <td>-1.088350</td>\n",
       "      <td>-2.176195</td>\n",
       "      <td>-0.520471</td>\n",
       "      <td>-0.882599</td>\n",
       "      <td>-1.668488</td>\n",
       "    </tr>\n",
       "  </tbody>\n",
       "</table>\n",
       "<p>5 rows × 4096 columns</p>\n",
       "</div>"
      ],
      "text/plain": [
       "       0         1         2         3         4         5         6     \\\n",
       "0 -6.732235 -0.115475 -7.367240 -6.015232 -1.609133 -6.970767 -5.815784   \n",
       "1 -2.476744 -2.350722 -2.985142 -4.069021 -4.841514 -4.735853 -3.610507   \n",
       "2  1.222328 -1.861529  0.373557 -6.381817 -4.266272 -4.156070 -1.971125   \n",
       "3 -1.120292 -0.335988 -2.142336 -1.229021 -1.567264 -0.797783 -2.187281   \n",
       "4 -3.485689 -0.817867 -3.114861 -3.242221 -0.665309 -3.256441 -1.970002   \n",
       "\n",
       "       7         8         9       ...         4086      4087      4088  \\\n",
       "0  3.400264 -8.163808 -4.497988    ...     8.764155 -0.957648 -7.635461   \n",
       "1  0.274117 -6.328979 -3.687347    ...     4.128976  0.733067 -5.086288   \n",
       "2 -2.656559 -2.522385 -1.621938    ...    -2.502311  0.236949 -1.876375   \n",
       "3 -1.618185 -2.833913 -2.300833    ...     0.572388  1.747288 -3.676460   \n",
       "4  2.749093 -3.946038 -0.904642    ...     1.488968  0.723232 -2.759034   \n",
       "\n",
       "       4089      4090      4091      4092      4093      4094      4095  \n",
       "0 -2.058371 -9.433183 -1.278329  2.609164 -1.215327 -5.124540  0.773738  \n",
       "1 -5.086081 -4.106370 -1.170274  0.990233 -0.360534 -5.015172  1.644582  \n",
       "2 -2.796245 -0.234787 -0.097991  1.026815 -4.200680 -1.127133 -0.279727  \n",
       "3 -1.040054  0.336179  0.050301 -1.865850  0.171282 -1.450607 -2.581167  \n",
       "4 -1.401602 -3.439389 -1.088350 -2.176195 -0.520471 -0.882599 -1.668488  \n",
       "\n",
       "[5 rows x 4096 columns]"
      ]
     },
     "execution_count": 56,
     "metadata": {},
     "output_type": "execute_result"
    }
   ],
   "source": [
    "train_df.head()"
   ]
  },
  {
   "cell_type": "code",
   "execution_count": 60,
   "metadata": {},
   "outputs": [
    {
     "data": {
      "text/plain": [
       "0    0\n",
       "1    0\n",
       "2    1\n",
       "3    1\n",
       "4    0\n",
       "dtype: int64"
      ]
     },
     "execution_count": 60,
     "metadata": {},
     "output_type": "execute_result"
    }
   ],
   "source": [
    "labels_df.head()"
   ]
  },
  {
   "cell_type": "markdown",
   "metadata": {},
   "source": [
    "## Classifier - SVC"
   ]
  },
  {
   "cell_type": "code",
   "execution_count": 101,
   "metadata": {},
   "outputs": [],
   "source": [
    "from sklearn.model_selection import RandomizedSearchCV, GridSearchCV\n",
    "from sklearn.svm import SVC\n",
    "import scipy as sp\n",
    "\n",
    "def random_search_cv():\n",
    "    return RandomizedSearchCV(\n",
    "        SVC(),\n",
    "        param_distributions = {\n",
    "            'C': sp.stats.uniform(loc=0.0001, scale=5.0),\n",
    "            'kernel': ['rbf', 'linear', 'poly', 'sigmoid'],\n",
    "        },\n",
    "        cv=None\n",
    "    )\n",
    "def grid_search_cv():\n",
    "    return GridSearchCV(\n",
    "        SVC(),\n",
    "        param_grid = {\n",
    "            'C': np.arange(0.1, 1.0, 0.1),\n",
    "            'kernel': ['rbf', 'linear'],\n",
    "        },\n",
    "        cv=None\n",
    "    )"
   ]
  },
  {
   "cell_type": "code",
   "execution_count": 59,
   "metadata": {},
   "outputs": [],
   "source": [
    "search = random_search_cv()"
   ]
  },
  {
   "cell_type": "code",
   "execution_count": 61,
   "metadata": {},
   "outputs": [
    {
     "data": {
      "text/plain": [
       "RandomizedSearchCV(cv=None, error_score='raise',\n",
       "          estimator=SVC(C=1.0, cache_size=200, class_weight=None, coef0=0.0,\n",
       "  decision_function_shape='ovr', degree=3, gamma='auto', kernel='rbf',\n",
       "  max_iter=-1, probability=False, random_state=None, shrinking=True,\n",
       "  tol=0.001, verbose=False),\n",
       "          fit_params=None, iid=True, n_iter=10, n_jobs=1,\n",
       "          param_distributions={'C': <scipy.stats._distn_infrastructure.rv_frozen object at 0x0000018B3FF223C8>, 'kernel': ['rbf', 'linear', 'poly', 'sigmoid']},\n",
       "          pre_dispatch='2*n_jobs', random_state=None, refit=True,\n",
       "          return_train_score='warn', scoring=None, verbose=0)"
      ]
     },
     "execution_count": 61,
     "metadata": {},
     "output_type": "execute_result"
    }
   ],
   "source": [
    "search.fit(train_df, labels_df)"
   ]
  },
  {
   "cell_type": "code",
   "execution_count": 78,
   "metadata": {},
   "outputs": [
    {
     "name": "stdout",
     "output_type": "stream",
     "text": [
      "0.02333931777378817\n",
      "0.9766606822262118\n",
      "{'C': 1.6696255302434393, 'kernel': 'linear'}\n"
     ]
    }
   ],
   "source": [
    "best_cv_err = 1 - search.best_score_\n",
    "print(best_cv_err)\n",
    "print(search.best_score_)\n",
    "print(search.best_params_)"
   ]
  },
  {
   "cell_type": "code",
   "execution_count": 85,
   "metadata": {
    "scrolled": true
   },
   "outputs": [
    {
     "data": {
      "text/plain": [
       "GridSearchCV(cv=None, error_score='raise',\n",
       "       estimator=SVC(C=1.0, cache_size=200, class_weight=None, coef0=0.0,\n",
       "  decision_function_shape='ovr', degree=3, gamma='auto', kernel='rbf',\n",
       "  max_iter=-1, probability=False, random_state=None, shrinking=True,\n",
       "  tol=0.001, verbose=False),\n",
       "       fit_params=None, iid=True, n_jobs=1,\n",
       "       param_grid={'C': array([0.1, 0.2, 0.3, 0.4, 0.5, 0.6, 0.7, 0.8, 0.9]), 'kernel': ['rbf', 'linear']},\n",
       "       pre_dispatch='2*n_jobs', refit=True, return_train_score='warn',\n",
       "       scoring=None, verbose=0)"
      ]
     },
     "execution_count": 85,
     "metadata": {},
     "output_type": "execute_result"
    }
   ],
   "source": [
    "detailed_search = grid_search_cv()\n",
    "detailed_search.fit(train_df, labels_df)"
   ]
  },
  {
   "cell_type": "code",
   "execution_count": 86,
   "metadata": {},
   "outputs": [
    {
     "name": "stdout",
     "output_type": "stream",
     "text": [
      "0.02333931777378817\n",
      "0.9766606822262118\n",
      "{'C': 0.1, 'kernel': 'linear'}\n"
     ]
    }
   ],
   "source": [
    "best_cv_err = 1 - detailed_search.best_score_\n",
    "print(best_cv_err)\n",
    "print(detailed_search.best_score_)\n",
    "print(detailed_search.best_params_)"
   ]
  },
  {
   "cell_type": "code",
   "execution_count": null,
   "metadata": {},
   "outputs": [],
   "source": []
  },
  {
   "cell_type": "code",
   "execution_count": null,
   "metadata": {},
   "outputs": [],
   "source": []
  }
 ],
 "metadata": {
  "kernelspec": {
   "display_name": "Python 3",
   "language": "python",
   "name": "python3"
  },
  "language_info": {
   "codemirror_mode": {
    "name": "ipython",
    "version": 3
   },
   "file_extension": ".py",
   "mimetype": "text/x-python",
   "name": "python",
   "nbconvert_exporter": "python",
   "pygments_lexer": "ipython3",
   "version": "3.6.5"
  }
 },
 "nbformat": 4,
 "nbformat_minor": 2
}
