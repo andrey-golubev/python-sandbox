{
 "cells": [
  {
   "cell_type": "code",
   "execution_count": 11,
   "metadata": {
    "collapsed": true,
    "scrolled": true
   },
   "outputs": [],
   "source": [
    "# import findspark\n",
    "# findspark.init()\n",
    "\n",
    "# import sys\n",
    "# from random import random\n",
    "# from operator import add\n",
    "\n",
    "# from pyspark.sql import SparkSession\n",
    "\n",
    "\n",
    "# if __name__ == \"__main__\":\n",
    "#     \"\"\"\n",
    "#         Usage: pi [partitions]\n",
    "#     \"\"\"\n",
    "#     spark = SparkSession\\\n",
    "#         .builder\\\n",
    "#         .appName(\"PythonPi\")\\\n",
    "#         .getOrCreate()\n",
    "\n",
    "#     partitions = 2 # int(sys.argv[1]) if len(sys.argv) > 1 else 2\n",
    "#     n = 100000 * partitions\n",
    "\n",
    "#     def f(_):\n",
    "#         x = random() * 2 - 1\n",
    "#         y = random() * 2 - 1\n",
    "#         return 1 if x ** 2 + y ** 2 <= 1 else 0\n",
    "\n",
    "#     count = spark.sparkContext.parallelize(range(1, n + 1), partitions).map(f).reduce(add)\n",
    "#     print(\"Pi is roughly %f\" % (4.0 * count / n))\n",
    "\n",
    "# spark.stop()"
   ]
  },
  {
   "cell_type": "code",
   "execution_count": 14,
   "metadata": {},
   "outputs": [
    {
     "data": {
      "text/html": [
       "\n",
       "        <div>\n",
       "            <p><b>SparkContext</b></p>\n",
       "\n",
       "            <p><a href=\"http://192.168.1.3:4040\">Spark UI</a></p>\n",
       "\n",
       "            <dl>\n",
       "              <dt>Version</dt>\n",
       "                <dd><code>v2.2.0</code></dd>\n",
       "              <dt>Master</dt>\n",
       "                <dd><code>local[2]</code></dd>\n",
       "              <dt>AppName</dt>\n",
       "                <dd><code>PySparkShell</code></dd>\n",
       "            </dl>\n",
       "        </div>\n",
       "        "
      ],
      "text/plain": [
       "<SparkContext master=local[2] appName=PySparkShell>"
      ]
     },
     "execution_count": 14,
     "metadata": {},
     "output_type": "execute_result"
    }
   ],
   "source": [
    "sc # automatically loaded"
   ]
  },
  {
   "cell_type": "markdown",
   "metadata": {},
   "source": [
    "Imports"
   ]
  },
  {
   "cell_type": "code",
   "execution_count": 83,
   "metadata": {
    "collapsed": true
   },
   "outputs": [],
   "source": [
    "import pandas as pd\n",
    "import numpy as np\n",
    "import matplotlib.pyplot as plt\n",
    "%matplotlib inline"
   ]
  },
  {
   "cell_type": "code",
   "execution_count": 41,
   "metadata": {
    "collapsed": true
   },
   "outputs": [],
   "source": [
    "from pyspark.sql import SparkSession\n",
    "import pyspark\n",
    "\n",
    "spark = SparkSession \\\n",
    "    .builder \\\n",
    "    .appName(\"Python Spark SQL basic example\") \\\n",
    "    .config(\"spark.some.config.option\", \"some-value\") \\\n",
    "    .getOrCreate()"
   ]
  },
  {
   "cell_type": "markdown",
   "metadata": {},
   "source": [
    "Parsing (as `.csv` with \";\" separator and a header)\n",
    "\n",
    "We get spark DataFrame after the parsing (not RDD)"
   ]
  },
  {
   "cell_type": "code",
   "execution_count": 272,
   "metadata": {},
   "outputs": [
    {
     "name": "stdout",
     "output_type": "stream",
     "text": [
      "Before cleaning\n",
      "Books count: 271379\n",
      "Users count: 278859\n",
      "Ratings count: 1149780\n",
      "After cleaning\n",
      "Books count: 271379\n",
      "Users count: 168096\n",
      "Ratings count: 1149780\n"
     ]
    }
   ],
   "source": [
    "books_url = \"./BX-Books.csv\"\n",
    "books_df = spark.read.csv(books_url, sep=\";\", header=True)\n",
    "users_url = \"./BX-Users.csv\"\n",
    "users_df = spark.read.csv(users_url, sep=\";\", header=True)\n",
    "ratings_url = \"./BX-Book-Ratings.csv\"\n",
    "ratings_df = spark.read.csv(ratings_url, sep=\";\", header=True)\n",
    "print(\"Before cleaning\")\n",
    "print(\"Books count: \" + str(books_df.count()))\n",
    "print(\"Users count: \" + str(users_df.count()))\n",
    "print(\"Ratings count: \" + str(ratings_df.count()))\n",
    "\n",
    "books_df = books_df.dropna()\n",
    "users_df = users_df.dropna()\n",
    "ratings_df = ratings_df.dropna()\n",
    "\n",
    "users_df = users_df.filter(users_df.Age != \"NULL\")\n",
    "\n",
    "print(\"After cleaning\")\n",
    "print(\"Books count: \" + str(books_df.count()))\n",
    "print(\"Users count: \" + str(users_df.count()))\n",
    "print(\"Ratings count: \" + str(ratings_df.count()))"
   ]
  },
  {
   "cell_type": "code",
   "execution_count": 70,
   "metadata": {},
   "outputs": [
    {
     "name": "stdout",
     "output_type": "stream",
     "text": [
      "DataFrame[ISBN: string, Book-Title: string, Book-Author: string, Year-Of-Publication: string, Publisher: string, Image-URL-S: string, Image-URL-M: string, Image-URL-L: string]\n",
      "DataFrame[User-ID: string, Location: string, Age: string]\n",
      "DataFrame[User-ID: string, ISBN: string, Book-Rating: string]\n"
     ]
    }
   ],
   "source": [
    "print(books_df)\n",
    "print(users_df)\n",
    "print(ratings_df)"
   ]
  },
  {
   "cell_type": "markdown",
   "metadata": {},
   "source": [
    "Column renaming"
   ]
  },
  {
   "cell_type": "code",
   "execution_count": 273,
   "metadata": {},
   "outputs": [
    {
     "name": "stdout",
     "output_type": "stream",
     "text": [
      "['ISBN', 'bookTitle', 'bookAuthor', 'yearOfPublication', 'publisher', 'imageUrlS', 'imageUrlM', 'imageUrlL'] ['userID', 'Location', 'Age'] ['userID', 'ISBN', 'bookRating']\n"
     ]
    }
   ],
   "source": [
    "books_cols = ['ISBN', 'bookTitle', 'bookAuthor', 'yearOfPublication', 'publisher', 'imageUrlS', 'imageUrlM', 'imageUrlL']\n",
    "users_cols = ['userID', 'Location', 'Age']\n",
    "ratings_cols = ['userID', 'ISBN', 'bookRating']\n",
    "\n",
    "old_books_cols = books_df.columns\n",
    "old_users_cols = users_df.columns\n",
    "old_ratings_cols = ratings_df.columns\n",
    "\n",
    "# books_df.toDF(*books_cols)\n",
    "books_df = pyspark.rdd.reduce(lambda data, i: data.withColumnRenamed(old_books_cols[i], books_cols[i]), range(len(old_books_cols)), books_df)\n",
    "users_df = pyspark.rdd.reduce(lambda data, i: data.withColumnRenamed(old_users_cols[i], users_cols[i]), range(len(old_users_cols)), users_df)\n",
    "ratings_df = pyspark.rdd.reduce(lambda data, i: data.withColumnRenamed(old_ratings_cols[i], ratings_cols[i]), range(len(old_ratings_cols)), ratings_df)\n",
    "\n",
    "print(books_df.columns, users_df.columns, ratings_df.columns)"
   ]
  },
  {
   "cell_type": "code",
   "execution_count": 274,
   "metadata": {},
   "outputs": [],
   "source": [
    "from pyspark.sql.types import DoubleType, DecimalType\n",
    "\n",
    "users_df = users_df.withColumn('Age', users_df['Age'].cast(DoubleType()))\n",
    "ratings_df = ratings_df.withColumn('bookRating', ratings_df['bookRating'].cast(DoubleType()))"
   ]
  },
  {
   "cell_type": "markdown",
   "metadata": {},
   "source": [
    "### Ratings ###"
   ]
  },
  {
   "cell_type": "code",
   "execution_count": 250,
   "metadata": {},
   "outputs": [
    {
     "data": {
      "image/png": "[encoded data removed]",
      "text/plain": [
       "<matplotlib.figure.Figure at 0x7fdf28ae6438>"
      ]
     },
     "metadata": {},
     "output_type": "display_data"
    }
   ],
   "source": [
    "from pyspark.sql.functions import col, countDistinct\n",
    "\n",
    "# a = ratings_df.agg(*(countDistinct(col(c)).alias(c) for c in ratings_df.columns if c == 'bookRating'))\n",
    "# ratings_df.agg(countDistinct(col(\"bookRating\")).alias(\"count\"))\n",
    "\n",
    "ratings_pd = ratings_df.toPandas()\n",
    "plt.rc(\"font\", size=15)\n",
    "ratings_pd.bookRating.value_counts(sort=False).plot(kind='bar')\n",
    "plt.title('Rating Distribution\\n')\n",
    "plt.xlabel('Rating')\n",
    "plt.ylabel('Count')\n",
    "# plt.savefig('system1.png', bbox_inches='tight')\n",
    "plt.show()"
   ]
  },
  {
   "cell_type": "markdown",
   "metadata": {},
   "source": [
    "### Age ###"
   ]
  },
  {
   "cell_type": "code",
   "execution_count": 251,
   "metadata": {},
   "outputs": [
    {
     "data": {
      "image/png": "[encoded data removed]",
      "text/plain": [
       "<matplotlib.figure.Figure at 0x7fdf4e2f9128>"
      ]
     },
     "metadata": {},
     "output_type": "display_data"
    }
   ],
   "source": [
    "from pyspark.sql.types import DoubleType\n",
    "users_pd = users_df.toPandas()\n",
    "pd.to_numeric(users_pd.Age).hist(bins=[0, 10, 20, 30, 40, 50, 100])\n",
    "plt.title('Age Distribution\\n')\n",
    "plt.xlabel('Age')\n",
    "plt.ylabel('Count')\n",
    "# plt.savefig('system2.png', bbox_inches='tight')\n",
    "plt.show()"
   ]
  },
  {
   "cell_type": "markdown",
   "metadata": {
    "collapsed": true
   },
   "source": [
    "## Correlation-based recommendations ##"
   ]
  },
  {
   "cell_type": "code",
   "execution_count": 275,
   "metadata": {
    "collapsed": true
   },
   "outputs": [],
   "source": [
    "ratings_pd = ratings_df.toPandas()\n",
    "\n",
    "gisbn_ratings_df = ratings_df.groupBy(['ISBN'])\n",
    "# average_rating = pd.DataFrame(ratings_pd.groupby('ISBN')['bookRating'].mean())\n",
    "average_rating = pd.DataFrame()\n",
    "# average_rating['ratingCount'] = pd.DataFrame(ratings_pd.groupby('ISBN')['bookRating'].count())\n",
    "# average_rating.sort_values('ratingCount', ascending=False).head()"
   ]
  },
  {
   "cell_type": "code",
   "execution_count": 290,
   "metadata": {},
   "outputs": [],
   "source": [
    "# avgs = gisbn_ratings_df.avg('bookRating').collect()\n",
    "# average_rating = pd.DataFrame()\n",
    "\n",
    "counts = gisbn_ratings_df.count().collect()\n",
    "ratingCount = [row['count'] for row in counts]\n",
    "average_rating['ratingCount'] = pd.DataFrame(ratingCount)"
   ]
  },
  {
   "cell_type": "markdown",
   "metadata": {},
   "source": [
    "2D array: userID / ISBN"
   ]
  },
  {
   "cell_type": "code",
   "execution_count": 255,
   "metadata": {
    "scrolled": true
   },
   "outputs": [
    {
     "name": "stdout",
     "output_type": "stream",
     "text": [
      "(905, 207699)\n"
     ]
    },
    {
     "data": {
      "text/html": [
       "<div>\n",
       "<style>\n",
       "    .dataframe thead tr:only-child th {\n",
       "        text-align: right;\n",
       "    }\n",
       "\n",
       "    .dataframe thead th {\n",
       "        text-align: left;\n",
       "    }\n",
       "\n",
       "    .dataframe tbody tr th {\n",
       "        vertical-align: top;\n",
       "    }\n",
       "</style>\n",
       "<table border=\"1\" class=\"dataframe\">\n",
       "  <thead>\n",
       "    <tr style=\"text-align: right;\">\n",
       "      <th>ISBN</th>\n",
       "      <th>0330299891</th>\n",
       "      <th>0375404120</th>\n",
       "      <th>0586045007</th>\n",
       "      <th>9022906116</th>\n",
       "      <th>9032803328</th>\n",
       "      <th>9044922564</th>\n",
       "      <th>9044922572</th>\n",
       "      <th>9044922718</th>\n",
       "      <th>9044923161</th>\n",
       "      <th>904492401X</th>\n",
       "      <th>...</th>\n",
       "      <th>THECATASTROPH</th>\n",
       "      <th>THEFLYINGACE</th>\n",
       "      <th>UNGRANDHOMMED</th>\n",
       "      <th>X000000000</th>\n",
       "      <th>YOUTELLEM,AND</th>\n",
       "      <th>ZR903CX0003</th>\n",
       "      <th>b00005wz75</th>\n",
       "      <th>cn108465</th>\n",
       "      <th>cn113107</th>\n",
       "      <th>Խcrosoft</th>\n",
       "    </tr>\n",
       "    <tr>\n",
       "      <th>userID</th>\n",
       "      <th></th>\n",
       "      <th></th>\n",
       "      <th></th>\n",
       "      <th></th>\n",
       "      <th></th>\n",
       "      <th></th>\n",
       "      <th></th>\n",
       "      <th></th>\n",
       "      <th></th>\n",
       "      <th></th>\n",
       "      <th></th>\n",
       "      <th></th>\n",
       "      <th></th>\n",
       "      <th></th>\n",
       "      <th></th>\n",
       "      <th></th>\n",
       "      <th></th>\n",
       "      <th></th>\n",
       "      <th></th>\n",
       "      <th></th>\n",
       "      <th></th>\n",
       "    </tr>\n",
       "  </thead>\n",
       "  <tbody>\n",
       "    <tr>\n",
       "      <th>100459</th>\n",
       "      <td>NaN</td>\n",
       "      <td>NaN</td>\n",
       "      <td>NaN</td>\n",
       "      <td>NaN</td>\n",
       "      <td>NaN</td>\n",
       "      <td>NaN</td>\n",
       "      <td>NaN</td>\n",
       "      <td>NaN</td>\n",
       "      <td>NaN</td>\n",
       "      <td>NaN</td>\n",
       "      <td>...</td>\n",
       "      <td>NaN</td>\n",
       "      <td>NaN</td>\n",
       "      <td>NaN</td>\n",
       "      <td>NaN</td>\n",
       "      <td>NaN</td>\n",
       "      <td>NaN</td>\n",
       "      <td>NaN</td>\n",
       "      <td>NaN</td>\n",
       "      <td>NaN</td>\n",
       "      <td>NaN</td>\n",
       "    </tr>\n",
       "    <tr>\n",
       "      <th>100644</th>\n",
       "      <td>NaN</td>\n",
       "      <td>NaN</td>\n",
       "      <td>NaN</td>\n",
       "      <td>NaN</td>\n",
       "      <td>NaN</td>\n",
       "      <td>NaN</td>\n",
       "      <td>NaN</td>\n",
       "      <td>NaN</td>\n",
       "      <td>NaN</td>\n",
       "      <td>NaN</td>\n",
       "      <td>...</td>\n",
       "      <td>NaN</td>\n",
       "      <td>NaN</td>\n",
       "      <td>NaN</td>\n",
       "      <td>NaN</td>\n",
       "      <td>NaN</td>\n",
       "      <td>NaN</td>\n",
       "      <td>NaN</td>\n",
       "      <td>NaN</td>\n",
       "      <td>NaN</td>\n",
       "      <td>NaN</td>\n",
       "    </tr>\n",
       "    <tr>\n",
       "      <th>100846</th>\n",
       "      <td>NaN</td>\n",
       "      <td>NaN</td>\n",
       "      <td>NaN</td>\n",
       "      <td>NaN</td>\n",
       "      <td>NaN</td>\n",
       "      <td>NaN</td>\n",
       "      <td>NaN</td>\n",
       "      <td>NaN</td>\n",
       "      <td>NaN</td>\n",
       "      <td>NaN</td>\n",
       "      <td>...</td>\n",
       "      <td>NaN</td>\n",
       "      <td>NaN</td>\n",
       "      <td>NaN</td>\n",
       "      <td>NaN</td>\n",
       "      <td>NaN</td>\n",
       "      <td>NaN</td>\n",
       "      <td>NaN</td>\n",
       "      <td>NaN</td>\n",
       "      <td>NaN</td>\n",
       "      <td>NaN</td>\n",
       "    </tr>\n",
       "    <tr>\n",
       "      <th>100906</th>\n",
       "      <td>NaN</td>\n",
       "      <td>NaN</td>\n",
       "      <td>NaN</td>\n",
       "      <td>NaN</td>\n",
       "      <td>NaN</td>\n",
       "      <td>NaN</td>\n",
       "      <td>NaN</td>\n",
       "      <td>NaN</td>\n",
       "      <td>NaN</td>\n",
       "      <td>NaN</td>\n",
       "      <td>...</td>\n",
       "      <td>NaN</td>\n",
       "      <td>NaN</td>\n",
       "      <td>NaN</td>\n",
       "      <td>NaN</td>\n",
       "      <td>NaN</td>\n",
       "      <td>NaN</td>\n",
       "      <td>NaN</td>\n",
       "      <td>NaN</td>\n",
       "      <td>NaN</td>\n",
       "      <td>NaN</td>\n",
       "    </tr>\n",
       "    <tr>\n",
       "      <th>101209</th>\n",
       "      <td>NaN</td>\n",
       "      <td>NaN</td>\n",
       "      <td>NaN</td>\n",
       "      <td>NaN</td>\n",
       "      <td>NaN</td>\n",
       "      <td>NaN</td>\n",
       "      <td>NaN</td>\n",
       "      <td>NaN</td>\n",
       "      <td>NaN</td>\n",
       "      <td>NaN</td>\n",
       "      <td>...</td>\n",
       "      <td>NaN</td>\n",
       "      <td>NaN</td>\n",
       "      <td>NaN</td>\n",
       "      <td>NaN</td>\n",
       "      <td>NaN</td>\n",
       "      <td>NaN</td>\n",
       "      <td>NaN</td>\n",
       "      <td>NaN</td>\n",
       "      <td>NaN</td>\n",
       "      <td>NaN</td>\n",
       "    </tr>\n",
       "  </tbody>\n",
       "</table>\n",
       "<p>5 rows × 207699 columns</p>\n",
       "</div>"
      ],
      "text/plain": [
       "ISBN     0330299891   0375404120   0586045007   9022906116   9032803328  \\\n",
       "userID                                                                    \n",
       "100459          NaN          NaN          NaN          NaN          NaN   \n",
       "100644          NaN          NaN          NaN          NaN          NaN   \n",
       "100846          NaN          NaN          NaN          NaN          NaN   \n",
       "100906          NaN          NaN          NaN          NaN          NaN   \n",
       "101209          NaN          NaN          NaN          NaN          NaN   \n",
       "\n",
       "ISBN     9044922564   9044922572   9044922718   9044923161   904492401X  \\\n",
       "userID                                                                    \n",
       "100459          NaN          NaN          NaN          NaN          NaN   \n",
       "100644          NaN          NaN          NaN          NaN          NaN   \n",
       "100846          NaN          NaN          NaN          NaN          NaN   \n",
       "100906          NaN          NaN          NaN          NaN          NaN   \n",
       "101209          NaN          NaN          NaN          NaN          NaN   \n",
       "\n",
       "ISBN      ...     THECATASTROPH  THEFLYINGACE  UNGRANDHOMMED  X000000000  \\\n",
       "userID    ...                                                              \n",
       "100459    ...               NaN           NaN            NaN         NaN   \n",
       "100644    ...               NaN           NaN            NaN         NaN   \n",
       "100846    ...               NaN           NaN            NaN         NaN   \n",
       "100906    ...               NaN           NaN            NaN         NaN   \n",
       "101209    ...               NaN           NaN            NaN         NaN   \n",
       "\n",
       "ISBN    YOUTELLEM,AND  ZR903CX0003  b00005wz75  cn108465  cn113107  Խcrosoft  \n",
       "userID                                                                        \n",
       "100459            NaN          NaN         NaN       NaN       NaN       NaN  \n",
       "100644            NaN          NaN         NaN       NaN       NaN       NaN  \n",
       "100846            NaN          NaN         NaN       NaN       NaN       NaN  \n",
       "100906            NaN          NaN         NaN       NaN       NaN       NaN  \n",
       "101209            NaN          NaN         NaN       NaN       NaN       NaN  \n",
       "\n",
       "[5 rows x 207699 columns]"
      ]
     },
     "execution_count": 255,
     "metadata": {},
     "output_type": "execute_result"
    }
   ],
   "source": [
    "counts1 = ratings_pd['userID'].value_counts()\n",
    "ratings_pd = ratings_pd[ratings_pd['userID'].isin(counts1[counts1 >= 200].index)]\n",
    "counts = ratings_pd['bookRating'].value_counts()\n",
    "ratings_pd = ratings_pd[ratings_pd['bookRating'].isin(counts[counts >= 100].index)]\n",
    "\n",
    "ratings_pivot = ratings_pd.pivot(index='userID', columns='ISBN').bookRating\n",
    "userID = ratings_pivot.index\n",
    "ISBN = ratings_pivot.columns\n",
    "print(ratings_pivot.shape)\n",
    "ratings_pivot.head()"
   ]
  },
  {
   "cell_type": "markdown",
   "metadata": {},
   "source": [
    "Correlated books to the most popular one - ISBN: 0971880107; Title: \"Wild Animus\":"
   ]
  },
  {
   "cell_type": "code",
   "execution_count": 289,
   "metadata": {},
   "outputs": [
    {
     "name": "stderr",
     "output_type": "stream",
     "text": [
      "/home/abay/.local/lib/python3.6/site-packages/numpy/lib/function_base.py:3154: RuntimeWarning: Degrees of freedom <= 0 for slice\n",
      "  c = cov(x, y, rowvar)\n",
      "/home/abay/.local/lib/python3.6/site-packages/numpy/lib/function_base.py:3088: RuntimeWarning: divide by zero encountered in double_scalars\n",
      "  c *= 1. / np.float64(fact)\n"
     ]
    },
    {
     "data": {
      "text/html": [
       "<div>\n",
       "<style>\n",
       "    .dataframe thead tr:only-child th {\n",
       "        text-align: right;\n",
       "    }\n",
       "\n",
       "    .dataframe thead th {\n",
       "        text-align: left;\n",
       "    }\n",
       "\n",
       "    .dataframe tbody tr th {\n",
       "        vertical-align: top;\n",
       "    }\n",
       "</style>\n",
       "<table border=\"1\" class=\"dataframe\">\n",
       "  <thead>\n",
       "    <tr style=\"text-align: right;\">\n",
       "      <th></th>\n",
       "      <th>pearsonR</th>\n",
       "      <th>ratingCount</th>\n",
       "    </tr>\n",
       "    <tr>\n",
       "      <th>ISBN</th>\n",
       "      <th></th>\n",
       "      <th></th>\n",
       "    </tr>\n",
       "  </thead>\n",
       "  <tbody>\n",
       "  </tbody>\n",
       "</table>\n",
       "</div>"
      ],
      "text/plain": [
       "Empty DataFrame\n",
       "Columns: [pearsonR, ratingCount]\n",
       "Index: []"
      ]
     },
     "execution_count": 289,
     "metadata": {},
     "output_type": "execute_result"
    }
   ],
   "source": [
    "book = ratings_pivot['0971880107']\n",
    "similar_to_chosen = ratings_pivot.corrwith(book)\n",
    "corr_books = pd.DataFrame(similar_to_chosen, columns=['pearsonR'])\n",
    "corr_books.dropna(inplace=True)\n",
    "corr_summary = corr_books.join(average_rating['ratingCount'])\n",
    "corr_summary[corr_summary['ratingCount']>=300].sort_values('pearsonR', ascending=False).head(10)"
   ]
  },
  {
   "cell_type": "code",
   "execution_count": null,
   "metadata": {
    "collapsed": true
   },
   "outputs": [],
   "source": []
  }
 ],
 "metadata": {
  "kernelspec": {
   "display_name": "Python 3",
   "language": "python",
   "name": "python3"
  },
  "language_info": {
   "codemirror_mode": {
    "name": "ipython",
    "version": 3
   },
   "file_extension": ".py",
   "mimetype": "text/x-python",
   "name": "python",
   "nbconvert_exporter": "python",
   "pygments_lexer": "ipython3",
   "version": "3.6.1"
  }
 },
 "nbformat": 4,
 "nbformat_minor": 2
}
