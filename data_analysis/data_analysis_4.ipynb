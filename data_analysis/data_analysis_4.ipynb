{
 "cells": [
  {
   "cell_type": "markdown",
   "metadata": {},
   "source": [
    "# Машина опорных векторов\n",
    "\n",
    "Dataset: [armenian pubs](https://www.kaggle.com/erikhambardzumyan/pubs)\n",
    "\n",
    "Подробнее о данных можно узнать в [первой работе](https://github.com/andrgolubev/python-sandbox/blob/master/data_analysis_1.ipynb)"
   ]
  },
  {
   "cell_type": "markdown",
   "metadata": {},
   "source": [
    "## Плюсы и минусы машины опорных векторов\n",
    "\n",
    "**Плюсы**\n",
    "\n",
    "* Эффективны в многомерных пространствах\n",
    "* Все еще эффективны, если N в N-мерном пространстве больше, чем количество примеров выборки\n",
    "* Можно использовать различные ядра (kernels) для улучшения результата (в том числе, свои собственные)\n",
    "\n",
    "**Минусы**\n",
    "\n",
    "* Если количество признаков много больше, чем количество примеров, можно ожидать переобучения (overfitting) при выборе ядер. Становится очень важна регуляризация\n",
    "* Сама машина опорных векторов не предоставляет вероятностных оценок"
   ]
  },
  {
   "cell_type": "markdown",
   "metadata": {},
   "source": [
    "#### Перекрывающиеся классы\n",
    "\n",
    "Математическая постановка задачи:\n",
    "$$ \n",
    "\\beta, \\beta_0, \\xi = \\mathop{\\rm argmin}_{\\beta, \\beta_0, \\xi} \\frac{1}{2} \\|\\beta\\|^2 \n",
    "+ C \\sum_{i=1}^N \\xi_i\n",
    "$$\n",
    "при ограничениях\n",
    "$$\n",
    "y^{(i)} (\\beta^{\\top}x^{(i)} + \\beta_0) \\ge 1 - \\xi_i,\n",
    "\\qquad\n",
    "\\xi_i \\ge 0\n",
    "\\qquad\n",
    "(i = 1,2,\\dots, N)\n",
    "$$"
   ]
  },
  {
   "cell_type": "code",
   "execution_count": 1,
   "metadata": {
    "collapsed": true
   },
   "outputs": [],
   "source": [
    "import numpy as np\n",
    "import matplotlib.pyplot as plt\n",
    "import pandas as pd\n",
    "%matplotlib inline"
   ]
  },
  {
   "cell_type": "markdown",
   "metadata": {},
   "source": [
    "### Наши данные"
   ]
  },
  {
   "cell_type": "code",
   "execution_count": 2,
   "metadata": {
    "collapsed": false
   },
   "outputs": [
    {
     "name": "stdout",
     "output_type": "stream",
     "text": [
      "Index(['age', 'income', 'occupation_CEO',\n",
      "       'occupation_Entrepreneur_/_Software_Engineer', 'occupation_Student',\n",
      "       'occupation_Student_+_working', 'occupation_Working',\n",
      "       'occupation_Working', 'occupation_army', 'freq_Several_times_a_week',\n",
      "       'freq_Several_times_in_a_month', 'freq_rarely', 'prim_imp_Environment',\n",
      "       'prim_imp_Menu', 'prim_imp_Music', 'prim_imp_Pricing',\n",
      "       'sec_imp_Environment', 'sec_imp_Menu', 'sec_imp_Music',\n",
      "       'sec_imp_Pricing', 'stratum_Capital', 'stratum_Rural', 'stratum_Urban',\n",
      "       'lifestyle_Adventure/traveling/exploring', 'lifestyle_Art',\n",
      "       'lifestyle_Business_sports_dance', 'lifestyle_Busy',\n",
      "       'lifestyle_Nightlife', 'lifestyle_Passive', 'lifestyle_Rock_punk',\n",
      "       'lifestyle_Sport', 'lifestyle_Sport_art_traveling', 'lifestyle_Student',\n",
      "       'occasions_Birthdays', 'occasions_For_listening__good_music',\n",
      "       'occasions_Hang_outs_with_friends', 'occasions_Never',\n",
      "       'occasions_Nowere', 'occasions_Special_events/parties',\n",
      "       'occasions_chem_aycelum', 'gender'],\n",
      "      dtype='object')\n"
     ]
    }
   ],
   "source": [
    "import data_retrieve as dr\n",
    "X, data = dr.parse_and_prepare(\"armenian_pubs.csv\", sep=\",\", engine=\"python\")\n",
    "Y = None\n",
    "Y_numeric = data['wts']\n",
    "Y_mean = np.mean(Y_numeric)\n",
    "Y = pd.Series(['C1' if val <= Y_mean else 'C2' for val in Y_numeric])\n",
    "intY = pd.Series([0 if val is 'C1' else 1 for val in Y])\n",
    "feature_names = X.columns\n",
    "print(feature_names)"
   ]
  },
  {
   "cell_type": "markdown",
   "metadata": {},
   "source": [
    "#### Разбиение на обучающую и тестовую выборки"
   ]
  },
  {
   "cell_type": "code",
   "execution_count": 4,
   "metadata": {
    "collapsed": false
   },
   "outputs": [
    {
     "name": "stdout",
     "output_type": "stream",
     "text": [
      "122 53\n"
     ]
    }
   ],
   "source": [
    "from sklearn.model_selection import train_test_split\n",
    "# constant random_state to have repeatability\n",
    "X_train, X_test, Y_train, Y_test = train_test_split(X, Y, train_size=0.7, random_state=7)\n",
    "N_train, _ = X_train.shape\n",
    "N_test, _ = X_test.shape\n",
    "intY = pd.Series([0 if val is 'C1' else 1 for val in Y_train])\n",
    "print(N_train, N_test)"
   ]
  },
  {
   "cell_type": "markdown",
   "metadata": {},
   "source": [
    "#### Инициализация"
   ]
  },
  {
   "cell_type": "code",
   "execution_count": 69,
   "metadata": {
    "collapsed": false
   },
   "outputs": [
    {
     "data": {
      "text/plain": [
       "SVC(C=1.0, cache_size=200, class_weight=None, coef0=0.0,\n",
       "  decision_function_shape=None, degree=3, gamma='auto', kernel='linear',\n",
       "  max_iter=-1, probability=False, random_state=None, shrinking=True,\n",
       "  tol=0.001, verbose=False)"
      ]
     },
     "execution_count": 69,
     "metadata": {},
     "output_type": "execute_result"
    }
   ],
   "source": [
    "from sklearn.svm import SVC # \"Support Vector Classifier\"\n",
    "svc_model = SVC(kernel = 'linear')\n",
    "svc_model.fit(X_train, Y_train)"
   ]
  },
  {
   "cell_type": "code",
   "execution_count": 72,
   "metadata": {
    "collapsed": false
   },
   "outputs": [
    {
     "data": {
      "text/plain": [
       "(0.0, 1.0)"
      ]
     },
     "execution_count": 72,
     "metadata": {},
     "output_type": "execute_result"
    },
    {
     "data": {
      "image/png": "[encoded data removed]",
      "text/plain": [
       "<matplotlib.figure.Figure at 0x7fbdb0f14eb8>"
      ]
     },
     "metadata": {},
     "output_type": "display_data"
    }
   ],
   "source": [
    "x0_min, x0_max = plt.xlim()\n",
    "x1_min, x1_max = plt.ylim()\n",
    "vX = X_train.values\n",
    "colors = np.array(['b', 'r'])[intY]\n",
    "plt.scatter(vX[:, 0], vX[:, 1], color = colors)\n",
    "plt.ylim((x1_min, x1_max))\n",
    "# draw_sep_curve(svc_model)"
   ]
  },
  {
   "cell_type": "markdown",
   "metadata": {},
   "source": [
    "#### Опорные векторы"
   ]
  },
  {
   "cell_type": "code",
   "execution_count": 105,
   "metadata": {
    "collapsed": false
   },
   "outputs": [
    {
     "name": "stdout",
     "output_type": "stream",
     "text": [
      "X.shape:  (175, 41)\n",
      "len(support_vectors_[i]):  41\n",
      "Number of support vectors for each class:  [50 45]\n",
      "Support vectors:\n",
      " [[-0.55899819 -0.13988381  0.         ...,  0.          0.          0.        ]\n",
      " [-0.91997488 -0.3081405   0.         ...,  0.          0.          0.        ]\n",
      " [-0.55899819  0.53314297  0.         ...,  0.          0.          1.        ]\n",
      " ..., \n",
      " [ 1.24588526  0.39292906  0.         ...,  0.          0.          0.        ]\n",
      " [-0.1980215  -0.22401216  0.         ...,  1.          0.          1.        ]\n",
      " [-0.1980215  -0.3081405   0.         ...,  0.          0.          1.        ]]\n"
     ]
    }
   ],
   "source": [
    "print(\"X.shape: \", X.shape)\n",
    "print(\"len(support_vectors_[i]): \", len(svc_model.support_vectors_[0]))\n",
    "print(\"Number of support vectors for each class: \", svc_model.n_support_)\n",
    "print(\"Support vectors:\\n\", svc_model.support_vectors_)"
   ]
  },
  {
   "cell_type": "markdown",
   "metadata": {},
   "source": [
    "### Ядро\n",
    "\n",
    "Ядро задает скалярное произведение в спрямленном пространстве.\n",
    "\n",
    "___Линейное ядро___ – это обычное скалярное произведение: $k(x, x') = x^{\\top} x'$ – спрямленное пространство совпадает с исходным.\n",
    "\n",
    "___Радиальное ядро___: $k(x, x') = e^{-\\gamma \\|x-x'\\|^2}$ задается _радиальной функцией_ (Radial Basis Function): $r = e^{-\\gamma(x_1^2 + x_2^2 + \\dots + x_d^2)}$\n",
    "\n",
    "___Полиномиальное ядро___: $k(x, x') = (\\gamma\\, x^{\\top} x' + c_0)^{\\delta}$\n",
    "\n",
    "___Сигмоидальное ядро___: $k(x, x') = \\mathop{\\rm th}(\\gamma x^{\\top} x' + c_0),\n",
    "\\qquad \\mathop{\\rm th} x = \\frac{e^x- e^{-x}}{e^x + e^{-x}}$, где\n",
    "_гиперболический тангенс_ $\\mathop{\\rm th} x$ – это тот же элементарный сигмоид, только сдвинутый и растянутый по вертикальной оси."
   ]
  },
  {
   "cell_type": "markdown",
   "metadata": {},
   "source": [
    "#### Ошибки для разных ядер при разной регуляризации"
   ]
  },
  {
   "cell_type": "code",
   "execution_count": 162,
   "metadata": {
    "collapsed": false
   },
   "outputs": [
    {
     "data": {
      "application/vnd.jupyter.widget-view+json": {
       "model_id": "46ddff2404ac4ac0b7cedf7c624e4e0e"
      }
     },
     "metadata": {},
     "output_type": "display_data"
    }
   ],
   "source": [
    "from ipywidgets import interact\n",
    "\n",
    "_, n_features = X.shape\n",
    "def print_svc_data(kernel='linear', C=1.0):\n",
    "    svc_model_modified = SVC(kernel=kernel, C=C, probability=True)\n",
    "    svc_model_modified.fit(X_train, Y_train)\n",
    "    print(\"Number of support vectors for each class: \", svc_model_modified.n_support_)\n",
    "    err_train = np.mean(Y_train != svc_model_modified.predict(X_train))\n",
    "    err_test = np.mean(Y_test != svc_model_modified.predict(X_test))\n",
    "    print(f\"Errors: train - {err_train} | test - {err_test}\")\n",
    "    print(\"Constants in decision function: \", svc_model_modified.intercept_)\n",
    "    pass\n",
    "\n",
    "interact(print_svc_data, kernel=['linear', 'poly', 'rbf', 'sigmoid'], C=(0.01, 20.01, 0.1))\n",
    "pass"
   ]
  },
  {
   "cell_type": "markdown",
   "metadata": {},
   "source": [
    "#### Для большей наглядности рассмотрим пример со сгенерированными данными"
   ]
  },
  {
   "cell_type": "code",
   "execution_count": 161,
   "metadata": {
    "collapsed": false,
    "scrolled": true
   },
   "outputs": [
    {
     "data": {
      "application/vnd.jupyter.widget-view+json": {
       "model_id": "7a71ac5081e94924a6e3142601783d3c"
      }
     },
     "metadata": {},
     "output_type": "display_data"
    },
    {
     "data": {
      "image/png": "[encoded data removed]",
      "text/plain": [
       "<matplotlib.figure.Figure at 0x7fbdb11e8b00>"
      ]
     },
     "metadata": {},
     "output_type": "display_data"
    }
   ],
   "source": [
    "import mysk\n",
    "from IPython import display\n",
    "\n",
    "X, y = mysk.generate_points(seed = 0)\n",
    "X_tst, y_tst = mysk.generate_points(seed = 7)\n",
    "def print_svc_gen(kernel='linear', C=1.0):\n",
    "    svc_model_gen = SVC(kernel=kernel, C=C, probability=True)\n",
    "    svc_model_gen.fit(X, y)\n",
    "    print(\"Number of support vectors for each class: \", svc_model_gen.n_support_)\n",
    "    err_train = np.mean(y != svc_model_gen.predict(X))\n",
    "    err_test = np.mean(y_tst != svc_model_gen.predict(X_tst))\n",
    "    print(f\"Errors: train - {err_train} | test - {err_test}\")\n",
    "    print(\"Constants in decision function: \", svc_model_gen.intercept_)\n",
    "    plt.scatter(X[:, 0], X[:, 1], color = np.array(['g', 'r'])[y])\n",
    "    draw_sep_curve(svc_model_gen)\n",
    "    plt.scatter(svc_model_gen.support_vectors_[:, 0], svc_model_gen.support_vectors_[:, 1],\n",
    "                s = 15, facecolors = 'k')\n",
    "    pass\n",
    "\n",
    "interact(print_svc_gen, kernel=['linear', 'poly', 'rbf', 'sigmoid'], C=(0.01, 20.01, 0.1))\n",
    "pass"
   ]
  },
  {
   "cell_type": "markdown",
   "metadata": {},
   "source": [
    "Черным обозначены опорные векторы"
   ]
  }
 ],
 "metadata": {
  "kernelspec": {
   "display_name": "Python 3",
   "language": "python",
   "name": "python3"
  },
  "language_info": {
   "codemirror_mode": {
    "name": "ipython",
    "version": 3
   },
   "file_extension": ".py",
   "mimetype": "text/x-python",
   "name": "python",
   "nbconvert_exporter": "python",
   "pygments_lexer": "ipython3",
   "version": "3.6.3"
  }
 },
 "nbformat": 4,
 "nbformat_minor": 2
}
