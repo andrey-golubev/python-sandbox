{
 "cells": [
  {
   "cell_type": "markdown",
   "metadata": {},
   "source": [
    "# Курс по анализу данных\n",
    "\n",
    "На этой странице будут представлены домашние задания и занятия по курсу Анализа данных в ВШЭ\n",
    "\n",
    "Данная страница подготовлена студентом Андреем Голубевым\n",
    "\n",
    "Вы можете увидеть следующие пометки - \" *примеч.* \" от автора страницы, поясняющие некоторую информацию из третьих источников\n",
    "\n",
    "#### Примечания:\n",
    "\n",
    "1. В данной работе будет часто использоваться слово pub (*перевод*: паб, бар)\n",
    "2. Комментарии к коду (и не только) в данной работе могут быть на анлийском языке\n",
    "\n",
    "\n",
    "\n",
    "### Dataset\n",
    "\n",
    "Ссылка на dataset: [armenian pubs](https://www.kaggle.com/erikhambardzumyan/pubs)\n",
    "\n",
    "Краткое описание (переведено с описания на странице kaggle):\n",
    "\n",
    "> Данные собраны из онлайн опроса про Армянские пабы\n",
    "\n",
    "> Данный dataset включает поведенческую, психографическую, географическую и демографическую информацию о пабах в Армении\n",
    "\n",
    "> Эти данные предназначались лишь в образовательных целях в рамках независимого проекта, организованного студентами Американского Университета Армении, \n",
    "\n",
    "> Представленные данные уникальны, так как сектор пабов в Армении не подвергался исследованию на текущий момент (*примеч.:* подозреваю, на момент первого выкладывания этого датасета в kaggle)\n",
    "\n",
    "Данные были собраны и подготовлены:\n",
    "> [Erik Hambardzumyan](https://www.kaggle.com/erikhambardzumyan)\n",
    "\n",
    "\n",
    "\n",
    "#### Описание датасета:\n",
    "\n",
    "- `Timestamp (string)` - дата и время проводимого опроса\n",
    "\n",
    "- `Age (numeric)` - возраст опрашиваемого \n",
    "\n",
    "- `Gender (string)` - пол\n",
    "\n",
    "- `Income (numeric)` - примерный месячный доход (в валюте Армении)\n",
    "\n",
    "- `Occupation (string)` - должность\n",
    "\n",
    "- `Fav_Pub (string)` - любимый бар опрашиваемого\n",
    "\n",
    "- `WTS (numeric)` - максимальная готовность (*примеч.:* в денежном эквиваленте) потратить деньги в баре (*примеч.:* от willingness to spend)\n",
    "\n",
    "- `Freq (string)` - частота посещения баров\n",
    "\n",
    "- `Prim_Imp (string)` - главная компонента (feature) для опрашиваемого при посещении бара\n",
    "\n",
    "- `Sec_Imp (string)` - вторичная компонента (feature) для опрашиваемого при посещении бара\n",
    "\n",
    "- `Stratum (string)` - \"страта\" опрашиваемого (*примеч.:* имеется в виду \"региональное\" место жительства, например, столица, сельская местность)\n",
    "\n",
    "- `Lifestyle (string)` - стиль жизни\n",
    "\n",
    "- `Occasions (string)` - событие, которое побуждает опрашиваемого ходить в бар чаще всего\n",
    "\n",
    "\n",
    "#### Заметки:\n",
    "\n",
    "Предложенный датасет содержал проблему, связанную с наличием пробелов после названий некоторых колонок ([ссылка на kaggle discussions](https://www.kaggle.com/erikhambardzumyan/pubs/discussion/39950))\n",
    "\n",
    "> Оригинальный датасет был изменен **вручную** для исправления этого недостатка. Сам измененный датасет расположен в одной директории с этим файлом\n",
    "\n",
    "> Из личных предпочтений: я больше предпочитаю имена колонок с маленькой буквы, поэтому все колонки были изменены **через python на \"lowercase\"**"
   ]
  },
  {
   "cell_type": "code",
   "execution_count": 796,
   "metadata": {
    "collapsed": true,
    "scrolled": true
   },
   "outputs": [],
   "source": [
    "import numpy as np\n",
    "import matplotlib.pyplot as plt\n",
    "import pandas as pd\n",
    "%matplotlib inline"
   ]
  },
  {
   "cell_type": "markdown",
   "metadata": {},
   "source": [
    "Прочтение данных из `.csv`:"
   ]
  },
  {
   "cell_type": "code",
   "execution_count": 797,
   "metadata": {
    "collapsed": false
   },
   "outputs": [
    {
     "data": {
      "text/plain": [
       "pandas.core.frame.DataFrame"
      ]
     },
     "execution_count": 797,
     "metadata": {},
     "output_type": "execute_result"
    }
   ],
   "source": [
    "raw_data = pd.read_csv(\"armenian_pubs.csv\", sep=\",\", engine=\"python\")\n",
    "raw_data.columns = map(str.lower, raw_data.columns) # all columns to lower case\n",
    "type(raw_data)"
   ]
  },
  {
   "cell_type": "markdown",
   "metadata": {},
   "source": [
    "Проверка:"
   ]
  },
  {
   "cell_type": "code",
   "execution_count": 798,
   "metadata": {
    "collapsed": false,
    "scrolled": true
   },
   "outputs": [
    {
     "data": {
      "text/html": [
       "<div>\n",
       "<style>\n",
       "    .dataframe thead tr:only-child th {\n",
       "        text-align: right;\n",
       "    }\n",
       "\n",
       "    .dataframe thead th {\n",
       "        text-align: left;\n",
       "    }\n",
       "\n",
       "    .dataframe tbody tr th {\n",
       "        vertical-align: top;\n",
       "    }\n",
       "</style>\n",
       "<table border=\"1\" class=\"dataframe\">\n",
       "  <thead>\n",
       "    <tr style=\"text-align: right;\">\n",
       "      <th></th>\n",
       "      <th>timestamp</th>\n",
       "      <th>age</th>\n",
       "      <th>gender</th>\n",
       "      <th>income</th>\n",
       "      <th>occupation</th>\n",
       "      <th>fav_pub</th>\n",
       "      <th>wts</th>\n",
       "      <th>freq</th>\n",
       "      <th>prim_imp</th>\n",
       "      <th>sec_imp</th>\n",
       "      <th>stratum</th>\n",
       "      <th>lifestyle</th>\n",
       "      <th>occasions</th>\n",
       "    </tr>\n",
       "  </thead>\n",
       "  <tbody>\n",
       "    <tr>\n",
       "      <th>0</th>\n",
       "      <td>2017/02/25 10:52:03 PM GMT+4</td>\n",
       "      <td>19</td>\n",
       "      <td>Male</td>\n",
       "      <td>100000.0</td>\n",
       "      <td>Student</td>\n",
       "      <td>Station</td>\n",
       "      <td>2000.0</td>\n",
       "      <td>Several times in a month</td>\n",
       "      <td>Environment</td>\n",
       "      <td>Menu</td>\n",
       "      <td>Capital</td>\n",
       "      <td>Nightlife</td>\n",
       "      <td>Hang outs with friends</td>\n",
       "    </tr>\n",
       "    <tr>\n",
       "      <th>1</th>\n",
       "      <td>2017/02/25 10:53:19 PM GMT+4</td>\n",
       "      <td>19</td>\n",
       "      <td>Female</td>\n",
       "      <td>50000.0</td>\n",
       "      <td>Student</td>\n",
       "      <td>Calumet</td>\n",
       "      <td>2000.0</td>\n",
       "      <td>rarely (once two week/or a month)</td>\n",
       "      <td>Music</td>\n",
       "      <td>Pricing</td>\n",
       "      <td>Capital</td>\n",
       "      <td>Adventure/traveling/exploring</td>\n",
       "      <td>Hang outs with friends</td>\n",
       "    </tr>\n",
       "    <tr>\n",
       "      <th>2</th>\n",
       "      <td>2017/02/25 10:54:05 PM GMT+4</td>\n",
       "      <td>20</td>\n",
       "      <td>Male</td>\n",
       "      <td>100000.0</td>\n",
       "      <td>Student</td>\n",
       "      <td>Liberty</td>\n",
       "      <td>3000.0</td>\n",
       "      <td>rarely (once two week/or a month)</td>\n",
       "      <td>Environment</td>\n",
       "      <td>Music</td>\n",
       "      <td>Capital</td>\n",
       "      <td>Busy(student life, work)</td>\n",
       "      <td>Hang outs with friends</td>\n",
       "    </tr>\n",
       "    <tr>\n",
       "      <th>3</th>\n",
       "      <td>2017/02/25 10:55:09 PM GMT+4</td>\n",
       "      <td>18</td>\n",
       "      <td>Male</td>\n",
       "      <td>0.0</td>\n",
       "      <td>Student</td>\n",
       "      <td>Calumet</td>\n",
       "      <td>3000.0</td>\n",
       "      <td>Several times in a month</td>\n",
       "      <td>Environment</td>\n",
       "      <td>Music</td>\n",
       "      <td>Capital</td>\n",
       "      <td>Art</td>\n",
       "      <td>Hang outs with friends</td>\n",
       "    </tr>\n",
       "    <tr>\n",
       "      <th>4</th>\n",
       "      <td>2017/02/25 10:55:38 PM GMT+4</td>\n",
       "      <td>19</td>\n",
       "      <td>Female</td>\n",
       "      <td>130000.0</td>\n",
       "      <td>Student + working</td>\n",
       "      <td>Liberty</td>\n",
       "      <td>10000.0</td>\n",
       "      <td>rarely (once two week/or a month)</td>\n",
       "      <td>Pricing</td>\n",
       "      <td>Environment</td>\n",
       "      <td>Capital</td>\n",
       "      <td>NaN</td>\n",
       "      <td>Hang outs with friends</td>\n",
       "    </tr>\n",
       "    <tr>\n",
       "      <th>5</th>\n",
       "      <td>2017/02/25 10:55:39 PM GMT+4</td>\n",
       "      <td>19</td>\n",
       "      <td>Male</td>\n",
       "      <td>90000.0</td>\n",
       "      <td>Student</td>\n",
       "      <td>Station</td>\n",
       "      <td>2000.0</td>\n",
       "      <td>Several times a week</td>\n",
       "      <td>Environment</td>\n",
       "      <td>Menu</td>\n",
       "      <td>Capital</td>\n",
       "      <td>Adventure/traveling/exploring</td>\n",
       "      <td>Hang outs with friends</td>\n",
       "    </tr>\n",
       "    <tr>\n",
       "      <th>6</th>\n",
       "      <td>2017/02/25 10:55:41 PM GMT+4</td>\n",
       "      <td>18</td>\n",
       "      <td>Female</td>\n",
       "      <td>0.0</td>\n",
       "      <td>Student</td>\n",
       "      <td>Irish</td>\n",
       "      <td>1000.0</td>\n",
       "      <td>Several times in a month</td>\n",
       "      <td>Environment</td>\n",
       "      <td>Music</td>\n",
       "      <td>Capital</td>\n",
       "      <td>Art</td>\n",
       "      <td>Hang outs with friends</td>\n",
       "    </tr>\n",
       "    <tr>\n",
       "      <th>7</th>\n",
       "      <td>2017/02/25 10:55:45 PM GMT+4</td>\n",
       "      <td>19</td>\n",
       "      <td>Female</td>\n",
       "      <td>0.0</td>\n",
       "      <td>Student</td>\n",
       "      <td>Station</td>\n",
       "      <td>2000.0</td>\n",
       "      <td>Several times in a month</td>\n",
       "      <td>Environment</td>\n",
       "      <td>Pricing</td>\n",
       "      <td>Capital</td>\n",
       "      <td>Busy(student life, work)</td>\n",
       "      <td>Hang outs with friends</td>\n",
       "    </tr>\n",
       "    <tr>\n",
       "      <th>8</th>\n",
       "      <td>2017/02/25 10:56:17 PM GMT+4</td>\n",
       "      <td>19</td>\n",
       "      <td>Male</td>\n",
       "      <td>80000.0</td>\n",
       "      <td>Student + working</td>\n",
       "      <td>I don't like pubs</td>\n",
       "      <td>10000.0</td>\n",
       "      <td>rarely (once two week/or a month)</td>\n",
       "      <td>Environment</td>\n",
       "      <td>Music</td>\n",
       "      <td>Capital</td>\n",
       "      <td>Adventure/traveling/exploring</td>\n",
       "      <td>Hang outs with friends</td>\n",
       "    </tr>\n",
       "    <tr>\n",
       "      <th>9</th>\n",
       "      <td>2017/02/25 10:56:45 PM GMT+4</td>\n",
       "      <td>19</td>\n",
       "      <td>Male</td>\n",
       "      <td>150000.0</td>\n",
       "      <td>Student</td>\n",
       "      <td>Irish</td>\n",
       "      <td>3000.0</td>\n",
       "      <td>Several times in a month</td>\n",
       "      <td>Environment</td>\n",
       "      <td>Music</td>\n",
       "      <td>Capital</td>\n",
       "      <td>Nightlife</td>\n",
       "      <td>Hang outs with friends</td>\n",
       "    </tr>\n",
       "    <tr>\n",
       "      <th>10</th>\n",
       "      <td>2017/02/25 10:56:52 PM GMT+4</td>\n",
       "      <td>20</td>\n",
       "      <td>Female</td>\n",
       "      <td>80000.0</td>\n",
       "      <td>Student</td>\n",
       "      <td>I don't like pubs</td>\n",
       "      <td>3000.0</td>\n",
       "      <td>rarely (once two week/or a month)</td>\n",
       "      <td>Environment</td>\n",
       "      <td>Menu</td>\n",
       "      <td>Capital</td>\n",
       "      <td>Art</td>\n",
       "      <td>Special events/parties</td>\n",
       "    </tr>\n",
       "    <tr>\n",
       "      <th>11</th>\n",
       "      <td>2017/02/25 10:56:56 PM GMT+4</td>\n",
       "      <td>18</td>\n",
       "      <td>Male</td>\n",
       "      <td>90000.0</td>\n",
       "      <td>Student</td>\n",
       "      <td>Venue</td>\n",
       "      <td>0.0</td>\n",
       "      <td>rarely (once two week/or a month)</td>\n",
       "      <td>Environment</td>\n",
       "      <td>Music</td>\n",
       "      <td>Capital</td>\n",
       "      <td>Sport</td>\n",
       "      <td>Hang outs with friends</td>\n",
       "    </tr>\n",
       "    <tr>\n",
       "      <th>12</th>\n",
       "      <td>2017/02/25 10:57:00 PM GMT+4</td>\n",
       "      <td>18</td>\n",
       "      <td>Female</td>\n",
       "      <td>0.0</td>\n",
       "      <td>Student</td>\n",
       "      <td>Calumet</td>\n",
       "      <td>2000.0</td>\n",
       "      <td>Several times a week</td>\n",
       "      <td>Environment</td>\n",
       "      <td>Music</td>\n",
       "      <td>Capital</td>\n",
       "      <td>Adventure/traveling/exploring</td>\n",
       "      <td>Hang outs with friends</td>\n",
       "    </tr>\n",
       "    <tr>\n",
       "      <th>13</th>\n",
       "      <td>2017/02/25 10:57:58 PM GMT+4</td>\n",
       "      <td>19</td>\n",
       "      <td>Male</td>\n",
       "      <td>200000.0</td>\n",
       "      <td>Working</td>\n",
       "      <td>VOID</td>\n",
       "      <td>5000.0</td>\n",
       "      <td>Several times in a month</td>\n",
       "      <td>Environment</td>\n",
       "      <td>Pricing</td>\n",
       "      <td>Capital</td>\n",
       "      <td>Nightlife</td>\n",
       "      <td>Special events/parties</td>\n",
       "    </tr>\n",
       "    <tr>\n",
       "      <th>14</th>\n",
       "      <td>2017/02/25 10:58:12 PM GMT+4</td>\n",
       "      <td>19</td>\n",
       "      <td>Male</td>\n",
       "      <td>120000.0</td>\n",
       "      <td>Student</td>\n",
       "      <td>DAS</td>\n",
       "      <td>2000.0</td>\n",
       "      <td>Several times in a month</td>\n",
       "      <td>Environment</td>\n",
       "      <td>Pricing</td>\n",
       "      <td>Urban</td>\n",
       "      <td>Art</td>\n",
       "      <td>Hang outs with friends</td>\n",
       "    </tr>\n",
       "    <tr>\n",
       "      <th>15</th>\n",
       "      <td>2017/02/25 10:58:19 PM GMT+4</td>\n",
       "      <td>17</td>\n",
       "      <td>Female</td>\n",
       "      <td>30000.0</td>\n",
       "      <td>Student</td>\n",
       "      <td>Station</td>\n",
       "      <td>5000.0</td>\n",
       "      <td>Several times in a month</td>\n",
       "      <td>Music</td>\n",
       "      <td>Pricing</td>\n",
       "      <td>Capital</td>\n",
       "      <td>Adventure/traveling/exploring</td>\n",
       "      <td>Hang outs with friends</td>\n",
       "    </tr>\n",
       "    <tr>\n",
       "      <th>16</th>\n",
       "      <td>2017/02/25 10:59:18 PM GMT+4</td>\n",
       "      <td>18</td>\n",
       "      <td>Male</td>\n",
       "      <td>0.0</td>\n",
       "      <td>Student</td>\n",
       "      <td>Station</td>\n",
       "      <td>2000.0</td>\n",
       "      <td>Several times in a month</td>\n",
       "      <td>Environment</td>\n",
       "      <td>Music</td>\n",
       "      <td>Capital</td>\n",
       "      <td>Sport</td>\n",
       "      <td>Hang outs with friends</td>\n",
       "    </tr>\n",
       "    <tr>\n",
       "      <th>17</th>\n",
       "      <td>2017/02/25 10:59:25 PM GMT+4</td>\n",
       "      <td>19</td>\n",
       "      <td>Female</td>\n",
       "      <td>50000.0</td>\n",
       "      <td>Student</td>\n",
       "      <td>I don't like pubs</td>\n",
       "      <td>8000.0</td>\n",
       "      <td>rarely (once two week/or a month)</td>\n",
       "      <td>Environment</td>\n",
       "      <td>Music</td>\n",
       "      <td>Rural</td>\n",
       "      <td>Sport, art, traveling</td>\n",
       "      <td>Birthdays</td>\n",
       "    </tr>\n",
       "    <tr>\n",
       "      <th>18</th>\n",
       "      <td>2017/02/25 10:59:28 PM GMT+4</td>\n",
       "      <td>17</td>\n",
       "      <td>Female</td>\n",
       "      <td>0.0</td>\n",
       "      <td>Student</td>\n",
       "      <td>37 pub</td>\n",
       "      <td>5000.0</td>\n",
       "      <td>rarely (once two week/or a month)</td>\n",
       "      <td>Environment</td>\n",
       "      <td>Pricing</td>\n",
       "      <td>Urban</td>\n",
       "      <td>Art</td>\n",
       "      <td>Hang outs with friends</td>\n",
       "    </tr>\n",
       "    <tr>\n",
       "      <th>19</th>\n",
       "      <td>2017/02/25 10:59:52 PM GMT+4</td>\n",
       "      <td>19</td>\n",
       "      <td>Female</td>\n",
       "      <td>200000.0</td>\n",
       "      <td>Student + working</td>\n",
       "      <td>I don't like pubs</td>\n",
       "      <td>2000.0</td>\n",
       "      <td>rarely (once two week/or a month)</td>\n",
       "      <td>Environment</td>\n",
       "      <td>Music</td>\n",
       "      <td>Urban</td>\n",
       "      <td>Adventure/traveling/exploring</td>\n",
       "      <td>Birthdays</td>\n",
       "    </tr>\n",
       "    <tr>\n",
       "      <th>20</th>\n",
       "      <td>2017/02/25 10:59:59 PM GMT+4</td>\n",
       "      <td>17</td>\n",
       "      <td>Male</td>\n",
       "      <td>0.0</td>\n",
       "      <td>Student</td>\n",
       "      <td>37 pub</td>\n",
       "      <td>7000.0</td>\n",
       "      <td>rarely (once two week/or a month)</td>\n",
       "      <td>Environment</td>\n",
       "      <td>Music</td>\n",
       "      <td>Capital</td>\n",
       "      <td>Busy(student life, work)</td>\n",
       "      <td>Hang outs with friends</td>\n",
       "    </tr>\n",
       "    <tr>\n",
       "      <th>21</th>\n",
       "      <td>2017/02/25 11:01:22 PM GMT+4</td>\n",
       "      <td>19</td>\n",
       "      <td>Male</td>\n",
       "      <td>0.0</td>\n",
       "      <td>Student</td>\n",
       "      <td>Venue</td>\n",
       "      <td>10000.0</td>\n",
       "      <td>Several times a week</td>\n",
       "      <td>Environment</td>\n",
       "      <td>Music</td>\n",
       "      <td>Capital</td>\n",
       "      <td>Nightlife</td>\n",
       "      <td>Hang outs with friends</td>\n",
       "    </tr>\n",
       "    <tr>\n",
       "      <th>22</th>\n",
       "      <td>2017/02/25 11:02:07 PM GMT+4</td>\n",
       "      <td>21</td>\n",
       "      <td>Male</td>\n",
       "      <td>130000.0</td>\n",
       "      <td>Student</td>\n",
       "      <td>37 pub</td>\n",
       "      <td>2000.0</td>\n",
       "      <td>rarely (once two week/or a month)</td>\n",
       "      <td>Environment</td>\n",
       "      <td>Pricing</td>\n",
       "      <td>Urban</td>\n",
       "      <td>Sport</td>\n",
       "      <td>Hang outs with friends</td>\n",
       "    </tr>\n",
       "    <tr>\n",
       "      <th>23</th>\n",
       "      <td>2017/02/25 11:02:13 PM GMT+4</td>\n",
       "      <td>18</td>\n",
       "      <td>Male</td>\n",
       "      <td>100000.0</td>\n",
       "      <td>Student + working</td>\n",
       "      <td>Irish</td>\n",
       "      <td>3000.0</td>\n",
       "      <td>Several times in a month</td>\n",
       "      <td>Environment</td>\n",
       "      <td>Menu</td>\n",
       "      <td>Capital</td>\n",
       "      <td>NaN</td>\n",
       "      <td>Hang outs with friends</td>\n",
       "    </tr>\n",
       "    <tr>\n",
       "      <th>24</th>\n",
       "      <td>2017/02/25 11:02:28 PM GMT+4</td>\n",
       "      <td>18</td>\n",
       "      <td>Female</td>\n",
       "      <td>50000.0</td>\n",
       "      <td>Student</td>\n",
       "      <td>Cantaloupe</td>\n",
       "      <td>2000.0</td>\n",
       "      <td>rarely (once two week/or a month)</td>\n",
       "      <td>Music</td>\n",
       "      <td>Environment</td>\n",
       "      <td>Capital</td>\n",
       "      <td>Adventure/traveling/exploring</td>\n",
       "      <td>Hang outs with friends</td>\n",
       "    </tr>\n",
       "    <tr>\n",
       "      <th>25</th>\n",
       "      <td>2017/02/25 11:05:04 PM GMT+4</td>\n",
       "      <td>18</td>\n",
       "      <td>Female</td>\n",
       "      <td>40000.0</td>\n",
       "      <td>Student</td>\n",
       "      <td>Irish</td>\n",
       "      <td>2000.0</td>\n",
       "      <td>Several times in a month</td>\n",
       "      <td>Menu</td>\n",
       "      <td>Pricing</td>\n",
       "      <td>Capital</td>\n",
       "      <td>Art</td>\n",
       "      <td>Hang outs with friends</td>\n",
       "    </tr>\n",
       "    <tr>\n",
       "      <th>26</th>\n",
       "      <td>2017/02/25 11:05:10 PM GMT+4</td>\n",
       "      <td>20</td>\n",
       "      <td>Female</td>\n",
       "      <td>100000.0</td>\n",
       "      <td>Student</td>\n",
       "      <td>Cantaloupe</td>\n",
       "      <td>2000.0</td>\n",
       "      <td>Several times in a month</td>\n",
       "      <td>Environment</td>\n",
       "      <td>Menu</td>\n",
       "      <td>Capital</td>\n",
       "      <td>Busy(student life, work)</td>\n",
       "      <td>Hang outs with friends</td>\n",
       "    </tr>\n",
       "    <tr>\n",
       "      <th>27</th>\n",
       "      <td>2017/02/25 11:05:29 PM GMT+4</td>\n",
       "      <td>18</td>\n",
       "      <td>Female</td>\n",
       "      <td>80000.0</td>\n",
       "      <td>Student</td>\n",
       "      <td>Irish</td>\n",
       "      <td>5000.0</td>\n",
       "      <td>rarely (once two week/or a month)</td>\n",
       "      <td>Environment</td>\n",
       "      <td>Menu</td>\n",
       "      <td>Capital</td>\n",
       "      <td>Adventure/traveling/exploring</td>\n",
       "      <td>Hang outs with friends</td>\n",
       "    </tr>\n",
       "    <tr>\n",
       "      <th>28</th>\n",
       "      <td>2017/02/25 11:05:32 PM GMT+4</td>\n",
       "      <td>18</td>\n",
       "      <td>Male</td>\n",
       "      <td>25000.0</td>\n",
       "      <td>Student</td>\n",
       "      <td>Station</td>\n",
       "      <td>3500.0</td>\n",
       "      <td>rarely (once two week/or a month)</td>\n",
       "      <td>Menu</td>\n",
       "      <td>Music</td>\n",
       "      <td>Urban</td>\n",
       "      <td>Adventure/traveling/exploring</td>\n",
       "      <td>Special events/parties</td>\n",
       "    </tr>\n",
       "    <tr>\n",
       "      <th>29</th>\n",
       "      <td>2017/02/25 11:06:08 PM GMT+4</td>\n",
       "      <td>20</td>\n",
       "      <td>Male</td>\n",
       "      <td>60000.0</td>\n",
       "      <td>Student</td>\n",
       "      <td>Cantaloupe</td>\n",
       "      <td>20000.0</td>\n",
       "      <td>rarely (once two week/or a month)</td>\n",
       "      <td>Environment</td>\n",
       "      <td>Music</td>\n",
       "      <td>Capital</td>\n",
       "      <td>Art</td>\n",
       "      <td>Hang outs with friends</td>\n",
       "    </tr>\n",
       "    <tr>\n",
       "      <th>...</th>\n",
       "      <td>...</td>\n",
       "      <td>...</td>\n",
       "      <td>...</td>\n",
       "      <td>...</td>\n",
       "      <td>...</td>\n",
       "      <td>...</td>\n",
       "      <td>...</td>\n",
       "      <td>...</td>\n",
       "      <td>...</td>\n",
       "      <td>...</td>\n",
       "      <td>...</td>\n",
       "      <td>...</td>\n",
       "      <td>...</td>\n",
       "    </tr>\n",
       "    <tr>\n",
       "      <th>145</th>\n",
       "      <td>2017/03/02 3:40:49 AM GMT+4</td>\n",
       "      <td>21</td>\n",
       "      <td>Female</td>\n",
       "      <td>30000.0</td>\n",
       "      <td>Student</td>\n",
       "      <td>Station</td>\n",
       "      <td>5000.0</td>\n",
       "      <td>Several times in a month</td>\n",
       "      <td>Environment</td>\n",
       "      <td>Music</td>\n",
       "      <td>Capital</td>\n",
       "      <td>Busy(student life, work)</td>\n",
       "      <td>Hang outs with friends</td>\n",
       "    </tr>\n",
       "    <tr>\n",
       "      <th>146</th>\n",
       "      <td>2017/03/02 4:04:39 AM GMT+4</td>\n",
       "      <td>21</td>\n",
       "      <td>Female</td>\n",
       "      <td>120000.0</td>\n",
       "      <td>Student + working</td>\n",
       "      <td>Cantaloupe</td>\n",
       "      <td>5000.0</td>\n",
       "      <td>rarely (once two week/or a month)</td>\n",
       "      <td>Music</td>\n",
       "      <td>Environment</td>\n",
       "      <td>Capital</td>\n",
       "      <td>Busy(student life, work)</td>\n",
       "      <td>Hang outs with friends</td>\n",
       "    </tr>\n",
       "    <tr>\n",
       "      <th>147</th>\n",
       "      <td>2017/03/02 6:58:43 AM GMT+4</td>\n",
       "      <td>20</td>\n",
       "      <td>Male</td>\n",
       "      <td>10000.0</td>\n",
       "      <td>Student</td>\n",
       "      <td>Fiction</td>\n",
       "      <td>2500.0</td>\n",
       "      <td>Several times in a month</td>\n",
       "      <td>Environment</td>\n",
       "      <td>Pricing</td>\n",
       "      <td>Capital</td>\n",
       "      <td>Busy(student life, work)</td>\n",
       "      <td>Hang outs with friends</td>\n",
       "    </tr>\n",
       "    <tr>\n",
       "      <th>148</th>\n",
       "      <td>2017/03/02 7:07:55 AM GMT+4</td>\n",
       "      <td>18</td>\n",
       "      <td>Female</td>\n",
       "      <td>0.0</td>\n",
       "      <td>Student</td>\n",
       "      <td>Calumet</td>\n",
       "      <td>2000.0</td>\n",
       "      <td>Several times in a month</td>\n",
       "      <td>Environment</td>\n",
       "      <td>Music</td>\n",
       "      <td>Capital</td>\n",
       "      <td>Busy(student life, work)</td>\n",
       "      <td>Hang outs with friends</td>\n",
       "    </tr>\n",
       "    <tr>\n",
       "      <th>149</th>\n",
       "      <td>2017/03/02 7:54:28 AM GMT+4</td>\n",
       "      <td>21</td>\n",
       "      <td>Male</td>\n",
       "      <td>100000.0</td>\n",
       "      <td>Student + working</td>\n",
       "      <td>Irish</td>\n",
       "      <td>10000.0</td>\n",
       "      <td>rarely (once two week/or a month)</td>\n",
       "      <td>Environment</td>\n",
       "      <td>Music</td>\n",
       "      <td>Capital</td>\n",
       "      <td>Busy(student life, work)</td>\n",
       "      <td>Hang outs with friends</td>\n",
       "    </tr>\n",
       "    <tr>\n",
       "      <th>150</th>\n",
       "      <td>2017/03/02 8:11:53 AM GMT+4</td>\n",
       "      <td>18</td>\n",
       "      <td>Female</td>\n",
       "      <td>20000.0</td>\n",
       "      <td>Student</td>\n",
       "      <td>Pepper</td>\n",
       "      <td>1000.0</td>\n",
       "      <td>Several times in a month</td>\n",
       "      <td>Environment</td>\n",
       "      <td>Pricing</td>\n",
       "      <td>Capital</td>\n",
       "      <td>Busy(student life, work)</td>\n",
       "      <td>Special events/parties</td>\n",
       "    </tr>\n",
       "    <tr>\n",
       "      <th>151</th>\n",
       "      <td>2017/03/02 8:36:37 AM GMT+4</td>\n",
       "      <td>20</td>\n",
       "      <td>Male</td>\n",
       "      <td>200000.0</td>\n",
       "      <td>Student + working</td>\n",
       "      <td>Ulixanyan art club</td>\n",
       "      <td>4000.0</td>\n",
       "      <td>Several times a week</td>\n",
       "      <td>Environment</td>\n",
       "      <td>Music</td>\n",
       "      <td>Capital</td>\n",
       "      <td>Rock, punk</td>\n",
       "      <td>Hang outs with friends</td>\n",
       "    </tr>\n",
       "    <tr>\n",
       "      <th>152</th>\n",
       "      <td>2017/03/02 9:34:40 AM GMT+4</td>\n",
       "      <td>20</td>\n",
       "      <td>Female</td>\n",
       "      <td>30000.0</td>\n",
       "      <td>Student</td>\n",
       "      <td>Simona</td>\n",
       "      <td>5000.0</td>\n",
       "      <td>Several times in a month</td>\n",
       "      <td>Environment</td>\n",
       "      <td>Pricing</td>\n",
       "      <td>Capital</td>\n",
       "      <td>Busy(student life, work)</td>\n",
       "      <td>Hang outs with friends</td>\n",
       "    </tr>\n",
       "    <tr>\n",
       "      <th>153</th>\n",
       "      <td>2017/03/02 10:31:46 AM GMT+4</td>\n",
       "      <td>20</td>\n",
       "      <td>Male</td>\n",
       "      <td>40000.0</td>\n",
       "      <td>Student</td>\n",
       "      <td>Station</td>\n",
       "      <td>3000.0</td>\n",
       "      <td>rarely (once two week/or a month)</td>\n",
       "      <td>Environment</td>\n",
       "      <td>Pricing</td>\n",
       "      <td>Capital</td>\n",
       "      <td>Busy(student life, work)</td>\n",
       "      <td>Hang outs with friends</td>\n",
       "    </tr>\n",
       "    <tr>\n",
       "      <th>154</th>\n",
       "      <td>2017/03/02 11:26:42 AM GMT+4</td>\n",
       "      <td>20</td>\n",
       "      <td>Female</td>\n",
       "      <td>150000.0</td>\n",
       "      <td>Student</td>\n",
       "      <td>I don't like pubs</td>\n",
       "      <td>NaN</td>\n",
       "      <td>rarely (once two week/or a month)</td>\n",
       "      <td>Environment</td>\n",
       "      <td>Music</td>\n",
       "      <td>Capital</td>\n",
       "      <td>Adventure/traveling/exploring</td>\n",
       "      <td>Hang outs with friends</td>\n",
       "    </tr>\n",
       "    <tr>\n",
       "      <th>155</th>\n",
       "      <td>2017/03/02 11:58:38 AM GMT+4</td>\n",
       "      <td>19</td>\n",
       "      <td>Female</td>\n",
       "      <td>0.0</td>\n",
       "      <td>Student</td>\n",
       "      <td>Liberty</td>\n",
       "      <td>3000.0</td>\n",
       "      <td>Several times in a month</td>\n",
       "      <td>Music</td>\n",
       "      <td>Menu</td>\n",
       "      <td>Capital</td>\n",
       "      <td>Adventure/traveling/exploring</td>\n",
       "      <td>Hang outs with friends</td>\n",
       "    </tr>\n",
       "    <tr>\n",
       "      <th>156</th>\n",
       "      <td>2017/03/02 1:02:41 PM GMT+4</td>\n",
       "      <td>18</td>\n",
       "      <td>Female</td>\n",
       "      <td>300000.0</td>\n",
       "      <td>Student</td>\n",
       "      <td>Speak Easy</td>\n",
       "      <td>2000.0</td>\n",
       "      <td>rarely (once two week/or a month)</td>\n",
       "      <td>Music</td>\n",
       "      <td>Environment</td>\n",
       "      <td>Capital</td>\n",
       "      <td>Busy(student life, work)</td>\n",
       "      <td>For listening  good music</td>\n",
       "    </tr>\n",
       "    <tr>\n",
       "      <th>157</th>\n",
       "      <td>2017/03/02 1:36:47 PM GMT+4</td>\n",
       "      <td>18</td>\n",
       "      <td>Female</td>\n",
       "      <td>5000.0</td>\n",
       "      <td>Student</td>\n",
       "      <td>Irish</td>\n",
       "      <td>10000.0</td>\n",
       "      <td>Several times in a month</td>\n",
       "      <td>Music</td>\n",
       "      <td>Pricing</td>\n",
       "      <td>Capital</td>\n",
       "      <td>Art</td>\n",
       "      <td>Birthdays</td>\n",
       "    </tr>\n",
       "    <tr>\n",
       "      <th>158</th>\n",
       "      <td>2017/03/02 2:11:25 PM GMT+4</td>\n",
       "      <td>20</td>\n",
       "      <td>Male</td>\n",
       "      <td>50000.0</td>\n",
       "      <td>Student</td>\n",
       "      <td>Irish</td>\n",
       "      <td>5000.0</td>\n",
       "      <td>rarely (once two week/or a month)</td>\n",
       "      <td>Environment</td>\n",
       "      <td>Menu</td>\n",
       "      <td>Capital</td>\n",
       "      <td>Sport</td>\n",
       "      <td>Special events/parties</td>\n",
       "    </tr>\n",
       "    <tr>\n",
       "      <th>159</th>\n",
       "      <td>2017/03/02 4:19:55 PM GMT+4</td>\n",
       "      <td>18</td>\n",
       "      <td>Female</td>\n",
       "      <td>35000.0</td>\n",
       "      <td>Student</td>\n",
       "      <td>Station</td>\n",
       "      <td>10000.0</td>\n",
       "      <td>rarely (once two week/or a month)</td>\n",
       "      <td>Music</td>\n",
       "      <td>Environment</td>\n",
       "      <td>Capital</td>\n",
       "      <td>Busy(student life, work)</td>\n",
       "      <td>Special events/parties</td>\n",
       "    </tr>\n",
       "    <tr>\n",
       "      <th>160</th>\n",
       "      <td>2017/03/02 5:27:32 PM GMT+4</td>\n",
       "      <td>19</td>\n",
       "      <td>Female</td>\n",
       "      <td>0.0</td>\n",
       "      <td>Student</td>\n",
       "      <td>I don't like pubs</td>\n",
       "      <td>15000.0</td>\n",
       "      <td>rarely (once two week/or a month)</td>\n",
       "      <td>Environment</td>\n",
       "      <td>Music</td>\n",
       "      <td>Capital</td>\n",
       "      <td>Adventure/traveling/exploring</td>\n",
       "      <td>Birthdays</td>\n",
       "    </tr>\n",
       "    <tr>\n",
       "      <th>161</th>\n",
       "      <td>2017/03/02 7:01:50 PM GMT+4</td>\n",
       "      <td>17</td>\n",
       "      <td>Male</td>\n",
       "      <td>0.0</td>\n",
       "      <td>Student</td>\n",
       "      <td>Liberty</td>\n",
       "      <td>3000.0</td>\n",
       "      <td>rarely (once two week/or a month)</td>\n",
       "      <td>Music</td>\n",
       "      <td>Environment</td>\n",
       "      <td>Capital</td>\n",
       "      <td>Busy(student life, work)</td>\n",
       "      <td>Hang outs with friends</td>\n",
       "    </tr>\n",
       "    <tr>\n",
       "      <th>162</th>\n",
       "      <td>2017/03/02 7:14:56 PM GMT+4</td>\n",
       "      <td>19</td>\n",
       "      <td>Male</td>\n",
       "      <td>30000.0</td>\n",
       "      <td>Student</td>\n",
       "      <td>Beer Academy</td>\n",
       "      <td>5000.0</td>\n",
       "      <td>Several times in a month</td>\n",
       "      <td>Environment</td>\n",
       "      <td>Menu</td>\n",
       "      <td>Capital</td>\n",
       "      <td>Adventure/traveling/exploring</td>\n",
       "      <td>Hang outs with friends</td>\n",
       "    </tr>\n",
       "    <tr>\n",
       "      <th>163</th>\n",
       "      <td>2017/03/02 7:27:21 PM GMT+4</td>\n",
       "      <td>18</td>\n",
       "      <td>Female</td>\n",
       "      <td>60000.0</td>\n",
       "      <td>Student</td>\n",
       "      <td>Station</td>\n",
       "      <td>3000.0</td>\n",
       "      <td>rarely (once two week/or a month)</td>\n",
       "      <td>Music</td>\n",
       "      <td>Environment</td>\n",
       "      <td>Rural</td>\n",
       "      <td>Busy(student life, work)</td>\n",
       "      <td>Birthdays</td>\n",
       "    </tr>\n",
       "    <tr>\n",
       "      <th>164</th>\n",
       "      <td>2017/03/02 9:51:00 PM GMT+4</td>\n",
       "      <td>18</td>\n",
       "      <td>Female</td>\n",
       "      <td>0.0</td>\n",
       "      <td>Student</td>\n",
       "      <td>Ulixanyan art club</td>\n",
       "      <td>1500.0</td>\n",
       "      <td>Several times in a month</td>\n",
       "      <td>Music</td>\n",
       "      <td>Environment</td>\n",
       "      <td>Capital</td>\n",
       "      <td>Busy(student life, work)</td>\n",
       "      <td>Hang outs with friends</td>\n",
       "    </tr>\n",
       "    <tr>\n",
       "      <th>165</th>\n",
       "      <td>2017/03/02 10:07:08 PM GMT+4</td>\n",
       "      <td>17</td>\n",
       "      <td>Female</td>\n",
       "      <td>20000.0</td>\n",
       "      <td>Student</td>\n",
       "      <td>Pepper</td>\n",
       "      <td>3000.0</td>\n",
       "      <td>rarely (once two week/or a month)</td>\n",
       "      <td>Music</td>\n",
       "      <td>Menu</td>\n",
       "      <td>Urban</td>\n",
       "      <td>Busy(student life, work)</td>\n",
       "      <td>Hang outs with friends</td>\n",
       "    </tr>\n",
       "    <tr>\n",
       "      <th>166</th>\n",
       "      <td>2017/03/02 10:16:53 PM GMT+4</td>\n",
       "      <td>19</td>\n",
       "      <td>Male</td>\n",
       "      <td>40000.0</td>\n",
       "      <td>Student</td>\n",
       "      <td>Yankee</td>\n",
       "      <td>10000.0</td>\n",
       "      <td>Several times in a month</td>\n",
       "      <td>Environment</td>\n",
       "      <td>Music</td>\n",
       "      <td>Urban</td>\n",
       "      <td>Busy(student life, work)</td>\n",
       "      <td>Hang outs with friends</td>\n",
       "    </tr>\n",
       "    <tr>\n",
       "      <th>167</th>\n",
       "      <td>2017/03/02 10:20:02 PM GMT+4</td>\n",
       "      <td>26</td>\n",
       "      <td>Male</td>\n",
       "      <td>190000.0</td>\n",
       "      <td>Working</td>\n",
       "      <td>NaN</td>\n",
       "      <td>10000.0</td>\n",
       "      <td>Several times in a month</td>\n",
       "      <td>Music</td>\n",
       "      <td>Environment</td>\n",
       "      <td>Capital</td>\n",
       "      <td>Busy(student life, work)</td>\n",
       "      <td>Hang outs with friends</td>\n",
       "    </tr>\n",
       "    <tr>\n",
       "      <th>168</th>\n",
       "      <td>2017/03/02 11:07:52 PM GMT+4</td>\n",
       "      <td>19</td>\n",
       "      <td>Female</td>\n",
       "      <td>40000.0</td>\n",
       "      <td>Student + working</td>\n",
       "      <td>Liberty</td>\n",
       "      <td>2000.0</td>\n",
       "      <td>Several times a week</td>\n",
       "      <td>Environment</td>\n",
       "      <td>Music</td>\n",
       "      <td>Capital</td>\n",
       "      <td>Busy(student life, work)</td>\n",
       "      <td>Hang outs with friends</td>\n",
       "    </tr>\n",
       "    <tr>\n",
       "      <th>169</th>\n",
       "      <td>2017/03/03 1:11:01 AM GMT+4</td>\n",
       "      <td>20</td>\n",
       "      <td>Female</td>\n",
       "      <td>70000.0</td>\n",
       "      <td>Student + working</td>\n",
       "      <td>Calumet</td>\n",
       "      <td>3000.0</td>\n",
       "      <td>rarely (once two week/or a month)</td>\n",
       "      <td>Environment</td>\n",
       "      <td>Pricing</td>\n",
       "      <td>Capital</td>\n",
       "      <td>Busy(student life, work)</td>\n",
       "      <td>Hang outs with friends</td>\n",
       "    </tr>\n",
       "    <tr>\n",
       "      <th>170</th>\n",
       "      <td>2017/03/03 8:50:35 AM GMT+4</td>\n",
       "      <td>19</td>\n",
       "      <td>Female</td>\n",
       "      <td>10000.0</td>\n",
       "      <td>Student</td>\n",
       "      <td>Station</td>\n",
       "      <td>2000.0</td>\n",
       "      <td>rarely (once two week/or a month)</td>\n",
       "      <td>Environment</td>\n",
       "      <td>Music</td>\n",
       "      <td>Capital</td>\n",
       "      <td>Busy(student life, work)</td>\n",
       "      <td>Hang outs with friends</td>\n",
       "    </tr>\n",
       "    <tr>\n",
       "      <th>171</th>\n",
       "      <td>2017/03/03 9:08:33 AM GMT+4</td>\n",
       "      <td>20</td>\n",
       "      <td>Female</td>\n",
       "      <td>0.0</td>\n",
       "      <td>Student</td>\n",
       "      <td>Station</td>\n",
       "      <td>0.0</td>\n",
       "      <td>Several times in a month</td>\n",
       "      <td>Environment</td>\n",
       "      <td>Music</td>\n",
       "      <td>Capital</td>\n",
       "      <td>Busy(student life, work)</td>\n",
       "      <td>Hang outs with friends</td>\n",
       "    </tr>\n",
       "    <tr>\n",
       "      <th>172</th>\n",
       "      <td>2017/03/03 8:59:05 PM GMT+4</td>\n",
       "      <td>20</td>\n",
       "      <td>Female</td>\n",
       "      <td>80000.0</td>\n",
       "      <td>Student + working</td>\n",
       "      <td>Tom Collins</td>\n",
       "      <td>5000.0</td>\n",
       "      <td>rarely (once two week/or a month)</td>\n",
       "      <td>Environment</td>\n",
       "      <td>Music</td>\n",
       "      <td>Capital</td>\n",
       "      <td>Busy(student life, work)</td>\n",
       "      <td>Hang outs with friends</td>\n",
       "    </tr>\n",
       "    <tr>\n",
       "      <th>173</th>\n",
       "      <td>2017/03/04 3:32:37 AM GMT+4</td>\n",
       "      <td>19</td>\n",
       "      <td>Male</td>\n",
       "      <td>0.0</td>\n",
       "      <td>Student</td>\n",
       "      <td>Fiction</td>\n",
       "      <td>5500.0</td>\n",
       "      <td>Several times a week</td>\n",
       "      <td>Pricing</td>\n",
       "      <td>Music</td>\n",
       "      <td>Capital</td>\n",
       "      <td>Rock, punk</td>\n",
       "      <td>Hang outs with friends</td>\n",
       "    </tr>\n",
       "    <tr>\n",
       "      <th>174</th>\n",
       "      <td>2017/03/05 9:45:11 PM GMT+4</td>\n",
       "      <td>22</td>\n",
       "      <td>Female</td>\n",
       "      <td>120000.0</td>\n",
       "      <td>Student + working</td>\n",
       "      <td>Beatles</td>\n",
       "      <td>5000.0</td>\n",
       "      <td>Several times in a month</td>\n",
       "      <td>Environment</td>\n",
       "      <td>Music</td>\n",
       "      <td>Capital</td>\n",
       "      <td>Busy(student life, work)</td>\n",
       "      <td>Hang outs with friends</td>\n",
       "    </tr>\n",
       "  </tbody>\n",
       "</table>\n",
       "<p>175 rows × 13 columns</p>\n",
       "</div>"
      ],
      "text/plain": [
       "                        timestamp  age  gender    income         occupation  \\\n",
       "0    2017/02/25 10:52:03 PM GMT+4   19    Male  100000.0            Student   \n",
       "1    2017/02/25 10:53:19 PM GMT+4   19  Female   50000.0            Student   \n",
       "2    2017/02/25 10:54:05 PM GMT+4   20    Male  100000.0            Student   \n",
       "3    2017/02/25 10:55:09 PM GMT+4   18    Male       0.0            Student   \n",
       "4    2017/02/25 10:55:38 PM GMT+4   19  Female  130000.0  Student + working   \n",
       "5    2017/02/25 10:55:39 PM GMT+4   19    Male   90000.0            Student   \n",
       "6    2017/02/25 10:55:41 PM GMT+4   18  Female       0.0            Student   \n",
       "7    2017/02/25 10:55:45 PM GMT+4   19  Female       0.0            Student   \n",
       "8    2017/02/25 10:56:17 PM GMT+4   19    Male   80000.0  Student + working   \n",
       "9    2017/02/25 10:56:45 PM GMT+4   19    Male  150000.0            Student   \n",
       "10   2017/02/25 10:56:52 PM GMT+4   20  Female   80000.0            Student   \n",
       "11   2017/02/25 10:56:56 PM GMT+4   18    Male   90000.0            Student   \n",
       "12   2017/02/25 10:57:00 PM GMT+4   18  Female       0.0            Student   \n",
       "13   2017/02/25 10:57:58 PM GMT+4   19    Male  200000.0            Working   \n",
       "14   2017/02/25 10:58:12 PM GMT+4   19    Male  120000.0            Student   \n",
       "15   2017/02/25 10:58:19 PM GMT+4   17  Female   30000.0            Student   \n",
       "16   2017/02/25 10:59:18 PM GMT+4   18    Male       0.0            Student   \n",
       "17   2017/02/25 10:59:25 PM GMT+4   19  Female   50000.0            Student   \n",
       "18   2017/02/25 10:59:28 PM GMT+4   17  Female       0.0            Student   \n",
       "19   2017/02/25 10:59:52 PM GMT+4   19  Female  200000.0  Student + working   \n",
       "20   2017/02/25 10:59:59 PM GMT+4   17    Male       0.0            Student   \n",
       "21   2017/02/25 11:01:22 PM GMT+4   19    Male       0.0            Student   \n",
       "22   2017/02/25 11:02:07 PM GMT+4   21    Male  130000.0            Student   \n",
       "23   2017/02/25 11:02:13 PM GMT+4   18    Male  100000.0  Student + working   \n",
       "24   2017/02/25 11:02:28 PM GMT+4   18  Female   50000.0            Student   \n",
       "25   2017/02/25 11:05:04 PM GMT+4   18  Female   40000.0            Student   \n",
       "26   2017/02/25 11:05:10 PM GMT+4   20  Female  100000.0            Student   \n",
       "27   2017/02/25 11:05:29 PM GMT+4   18  Female   80000.0            Student   \n",
       "28   2017/02/25 11:05:32 PM GMT+4   18    Male   25000.0            Student   \n",
       "29   2017/02/25 11:06:08 PM GMT+4   20    Male   60000.0            Student   \n",
       "..                            ...  ...     ...       ...                ...   \n",
       "145   2017/03/02 3:40:49 AM GMT+4   21  Female   30000.0            Student   \n",
       "146   2017/03/02 4:04:39 AM GMT+4   21  Female  120000.0  Student + working   \n",
       "147   2017/03/02 6:58:43 AM GMT+4   20    Male   10000.0            Student   \n",
       "148   2017/03/02 7:07:55 AM GMT+4   18  Female       0.0            Student   \n",
       "149   2017/03/02 7:54:28 AM GMT+4   21    Male  100000.0  Student + working   \n",
       "150   2017/03/02 8:11:53 AM GMT+4   18  Female   20000.0            Student   \n",
       "151   2017/03/02 8:36:37 AM GMT+4   20    Male  200000.0  Student + working   \n",
       "152   2017/03/02 9:34:40 AM GMT+4   20  Female   30000.0            Student   \n",
       "153  2017/03/02 10:31:46 AM GMT+4   20    Male   40000.0            Student   \n",
       "154  2017/03/02 11:26:42 AM GMT+4   20  Female  150000.0            Student   \n",
       "155  2017/03/02 11:58:38 AM GMT+4   19  Female       0.0            Student   \n",
       "156   2017/03/02 1:02:41 PM GMT+4   18  Female  300000.0            Student   \n",
       "157   2017/03/02 1:36:47 PM GMT+4   18  Female    5000.0            Student   \n",
       "158   2017/03/02 2:11:25 PM GMT+4   20    Male   50000.0            Student   \n",
       "159   2017/03/02 4:19:55 PM GMT+4   18  Female   35000.0            Student   \n",
       "160   2017/03/02 5:27:32 PM GMT+4   19  Female       0.0            Student   \n",
       "161   2017/03/02 7:01:50 PM GMT+4   17    Male       0.0            Student   \n",
       "162   2017/03/02 7:14:56 PM GMT+4   19    Male   30000.0            Student   \n",
       "163   2017/03/02 7:27:21 PM GMT+4   18  Female   60000.0            Student   \n",
       "164   2017/03/02 9:51:00 PM GMT+4   18  Female       0.0            Student   \n",
       "165  2017/03/02 10:07:08 PM GMT+4   17  Female   20000.0            Student   \n",
       "166  2017/03/02 10:16:53 PM GMT+4   19    Male   40000.0            Student   \n",
       "167  2017/03/02 10:20:02 PM GMT+4   26    Male  190000.0           Working    \n",
       "168  2017/03/02 11:07:52 PM GMT+4   19  Female   40000.0  Student + working   \n",
       "169   2017/03/03 1:11:01 AM GMT+4   20  Female   70000.0  Student + working   \n",
       "170   2017/03/03 8:50:35 AM GMT+4   19  Female   10000.0            Student   \n",
       "171   2017/03/03 9:08:33 AM GMT+4   20  Female       0.0            Student   \n",
       "172   2017/03/03 8:59:05 PM GMT+4   20  Female   80000.0  Student + working   \n",
       "173   2017/03/04 3:32:37 AM GMT+4   19    Male       0.0            Student   \n",
       "174   2017/03/05 9:45:11 PM GMT+4   22  Female  120000.0  Student + working   \n",
       "\n",
       "                fav_pub      wts                               freq  \\\n",
       "0               Station   2000.0           Several times in a month   \n",
       "1               Calumet   2000.0  rarely (once two week/or a month)   \n",
       "2               Liberty   3000.0  rarely (once two week/or a month)   \n",
       "3               Calumet   3000.0           Several times in a month   \n",
       "4               Liberty  10000.0  rarely (once two week/or a month)   \n",
       "5               Station   2000.0               Several times a week   \n",
       "6                 Irish   1000.0           Several times in a month   \n",
       "7               Station   2000.0           Several times in a month   \n",
       "8     I don't like pubs  10000.0  rarely (once two week/or a month)   \n",
       "9                 Irish   3000.0           Several times in a month   \n",
       "10    I don't like pubs   3000.0  rarely (once two week/or a month)   \n",
       "11                Venue      0.0  rarely (once two week/or a month)   \n",
       "12              Calumet   2000.0               Several times a week   \n",
       "13                 VOID   5000.0           Several times in a month   \n",
       "14                  DAS   2000.0           Several times in a month   \n",
       "15              Station   5000.0           Several times in a month   \n",
       "16              Station   2000.0           Several times in a month   \n",
       "17    I don't like pubs   8000.0  rarely (once two week/or a month)   \n",
       "18               37 pub   5000.0  rarely (once two week/or a month)   \n",
       "19    I don't like pubs   2000.0  rarely (once two week/or a month)   \n",
       "20               37 pub   7000.0  rarely (once two week/or a month)   \n",
       "21               Venue   10000.0               Several times a week   \n",
       "22               37 pub   2000.0  rarely (once two week/or a month)   \n",
       "23                Irish   3000.0           Several times in a month   \n",
       "24           Cantaloupe   2000.0  rarely (once two week/or a month)   \n",
       "25                Irish   2000.0           Several times in a month   \n",
       "26           Cantaloupe   2000.0           Several times in a month   \n",
       "27                Irish   5000.0  rarely (once two week/or a month)   \n",
       "28              Station   3500.0  rarely (once two week/or a month)   \n",
       "29           Cantaloupe  20000.0  rarely (once two week/or a month)   \n",
       "..                  ...      ...                                ...   \n",
       "145             Station   5000.0           Several times in a month   \n",
       "146          Cantaloupe   5000.0  rarely (once two week/or a month)   \n",
       "147             Fiction   2500.0           Several times in a month   \n",
       "148             Calumet   2000.0           Several times in a month   \n",
       "149               Irish  10000.0  rarely (once two week/or a month)   \n",
       "150              Pepper   1000.0           Several times in a month   \n",
       "151  Ulixanyan art club   4000.0               Several times a week   \n",
       "152              Simona   5000.0           Several times in a month   \n",
       "153             Station   3000.0  rarely (once two week/or a month)   \n",
       "154   I don't like pubs      NaN  rarely (once two week/or a month)   \n",
       "155            Liberty    3000.0           Several times in a month   \n",
       "156         Speak Easy    2000.0  rarely (once two week/or a month)   \n",
       "157               Irish  10000.0           Several times in a month   \n",
       "158               Irish   5000.0  rarely (once two week/or a month)   \n",
       "159             Station  10000.0  rarely (once two week/or a month)   \n",
       "160   I don't like pubs  15000.0  rarely (once two week/or a month)   \n",
       "161             Liberty   3000.0  rarely (once two week/or a month)   \n",
       "162        Beer Academy   5000.0           Several times in a month   \n",
       "163             Station   3000.0  rarely (once two week/or a month)   \n",
       "164  Ulixanyan art club   1500.0           Several times in a month   \n",
       "165              Pepper   3000.0  rarely (once two week/or a month)   \n",
       "166              Yankee  10000.0           Several times in a month   \n",
       "167                 NaN  10000.0           Several times in a month   \n",
       "168            Liberty    2000.0               Several times a week   \n",
       "169             Calumet   3000.0  rarely (once two week/or a month)   \n",
       "170             Station   2000.0  rarely (once two week/or a month)   \n",
       "171             Station      0.0           Several times in a month   \n",
       "172         Tom Collins   5000.0  rarely (once two week/or a month)   \n",
       "173             Fiction   5500.0               Several times a week   \n",
       "174             Beatles   5000.0           Several times in a month   \n",
       "\n",
       "        prim_imp      sec_imp  stratum                      lifestyle  \\\n",
       "0    Environment         Menu  Capital                      Nightlife   \n",
       "1          Music      Pricing  Capital  Adventure/traveling/exploring   \n",
       "2    Environment        Music  Capital       Busy(student life, work)   \n",
       "3    Environment        Music  Capital                            Art   \n",
       "4        Pricing  Environment  Capital                            NaN   \n",
       "5    Environment         Menu  Capital  Adventure/traveling/exploring   \n",
       "6    Environment        Music  Capital                            Art   \n",
       "7    Environment      Pricing  Capital       Busy(student life, work)   \n",
       "8    Environment        Music  Capital  Adventure/traveling/exploring   \n",
       "9    Environment        Music  Capital                      Nightlife   \n",
       "10   Environment         Menu  Capital                            Art   \n",
       "11   Environment        Music  Capital                          Sport   \n",
       "12   Environment        Music  Capital  Adventure/traveling/exploring   \n",
       "13   Environment      Pricing  Capital                      Nightlife   \n",
       "14   Environment      Pricing    Urban                            Art   \n",
       "15         Music      Pricing  Capital  Adventure/traveling/exploring   \n",
       "16   Environment        Music  Capital                          Sport   \n",
       "17   Environment        Music    Rural          Sport, art, traveling   \n",
       "18   Environment      Pricing    Urban                            Art   \n",
       "19   Environment        Music    Urban  Adventure/traveling/exploring   \n",
       "20   Environment        Music  Capital       Busy(student life, work)   \n",
       "21   Environment        Music  Capital                      Nightlife   \n",
       "22   Environment      Pricing    Urban                          Sport   \n",
       "23   Environment         Menu  Capital                            NaN   \n",
       "24         Music  Environment  Capital  Adventure/traveling/exploring   \n",
       "25          Menu      Pricing  Capital                            Art   \n",
       "26   Environment         Menu  Capital       Busy(student life, work)   \n",
       "27   Environment         Menu  Capital  Adventure/traveling/exploring   \n",
       "28          Menu        Music    Urban  Adventure/traveling/exploring   \n",
       "29   Environment        Music  Capital                            Art   \n",
       "..           ...          ...      ...                            ...   \n",
       "145  Environment        Music  Capital       Busy(student life, work)   \n",
       "146        Music  Environment  Capital       Busy(student life, work)   \n",
       "147  Environment      Pricing  Capital       Busy(student life, work)   \n",
       "148  Environment        Music  Capital       Busy(student life, work)   \n",
       "149  Environment        Music  Capital       Busy(student life, work)   \n",
       "150  Environment      Pricing  Capital       Busy(student life, work)   \n",
       "151  Environment        Music  Capital                     Rock, punk   \n",
       "152  Environment      Pricing  Capital       Busy(student life, work)   \n",
       "153  Environment      Pricing  Capital       Busy(student life, work)   \n",
       "154  Environment        Music  Capital  Adventure/traveling/exploring   \n",
       "155        Music         Menu  Capital  Adventure/traveling/exploring   \n",
       "156        Music  Environment  Capital       Busy(student life, work)   \n",
       "157        Music      Pricing  Capital                            Art   \n",
       "158  Environment         Menu  Capital                          Sport   \n",
       "159        Music  Environment  Capital       Busy(student life, work)   \n",
       "160  Environment        Music  Capital  Adventure/traveling/exploring   \n",
       "161        Music  Environment  Capital       Busy(student life, work)   \n",
       "162  Environment         Menu  Capital  Adventure/traveling/exploring   \n",
       "163        Music  Environment    Rural       Busy(student life, work)   \n",
       "164        Music  Environment  Capital       Busy(student life, work)   \n",
       "165        Music         Menu    Urban       Busy(student life, work)   \n",
       "166  Environment        Music    Urban       Busy(student life, work)   \n",
       "167        Music  Environment  Capital       Busy(student life, work)   \n",
       "168  Environment        Music  Capital       Busy(student life, work)   \n",
       "169  Environment      Pricing  Capital       Busy(student life, work)   \n",
       "170  Environment        Music  Capital       Busy(student life, work)   \n",
       "171  Environment        Music  Capital       Busy(student life, work)   \n",
       "172  Environment        Music  Capital       Busy(student life, work)   \n",
       "173      Pricing        Music  Capital                     Rock, punk   \n",
       "174  Environment        Music  Capital       Busy(student life, work)   \n",
       "\n",
       "                      occasions  \n",
       "0        Hang outs with friends  \n",
       "1        Hang outs with friends  \n",
       "2        Hang outs with friends  \n",
       "3        Hang outs with friends  \n",
       "4        Hang outs with friends  \n",
       "5        Hang outs with friends  \n",
       "6        Hang outs with friends  \n",
       "7        Hang outs with friends  \n",
       "8        Hang outs with friends  \n",
       "9        Hang outs with friends  \n",
       "10       Special events/parties  \n",
       "11       Hang outs with friends  \n",
       "12       Hang outs with friends  \n",
       "13       Special events/parties  \n",
       "14       Hang outs with friends  \n",
       "15       Hang outs with friends  \n",
       "16       Hang outs with friends  \n",
       "17                    Birthdays  \n",
       "18       Hang outs with friends  \n",
       "19                    Birthdays  \n",
       "20       Hang outs with friends  \n",
       "21       Hang outs with friends  \n",
       "22       Hang outs with friends  \n",
       "23       Hang outs with friends  \n",
       "24       Hang outs with friends  \n",
       "25       Hang outs with friends  \n",
       "26       Hang outs with friends  \n",
       "27       Hang outs with friends  \n",
       "28       Special events/parties  \n",
       "29       Hang outs with friends  \n",
       "..                          ...  \n",
       "145      Hang outs with friends  \n",
       "146      Hang outs with friends  \n",
       "147      Hang outs with friends  \n",
       "148      Hang outs with friends  \n",
       "149      Hang outs with friends  \n",
       "150      Special events/parties  \n",
       "151      Hang outs with friends  \n",
       "152      Hang outs with friends  \n",
       "153      Hang outs with friends  \n",
       "154      Hang outs with friends  \n",
       "155      Hang outs with friends  \n",
       "156  For listening  good music   \n",
       "157                   Birthdays  \n",
       "158      Special events/parties  \n",
       "159      Special events/parties  \n",
       "160                   Birthdays  \n",
       "161      Hang outs with friends  \n",
       "162      Hang outs with friends  \n",
       "163                   Birthdays  \n",
       "164      Hang outs with friends  \n",
       "165      Hang outs with friends  \n",
       "166      Hang outs with friends  \n",
       "167      Hang outs with friends  \n",
       "168      Hang outs with friends  \n",
       "169      Hang outs with friends  \n",
       "170      Hang outs with friends  \n",
       "171      Hang outs with friends  \n",
       "172      Hang outs with friends  \n",
       "173      Hang outs with friends  \n",
       "174      Hang outs with friends  \n",
       "\n",
       "[175 rows x 13 columns]"
      ]
     },
     "execution_count": 798,
     "metadata": {},
     "output_type": "execute_result"
    }
   ],
   "source": [
    "raw_data"
   ]
  },
  {
   "cell_type": "markdown",
   "metadata": {},
   "source": [
    "Размер таблицы:"
   ]
  },
  {
   "cell_type": "code",
   "execution_count": 799,
   "metadata": {
    "collapsed": false,
    "scrolled": true
   },
   "outputs": [
    {
     "name": "stdout",
     "output_type": "stream",
     "text": [
      "rows: 175 columns: 13\n"
     ]
    }
   ],
   "source": [
    "rows, cols = raw_data.shape\n",
    "print(\"rows: {} columns: {}\".format(rows, cols))"
   ]
  },
  {
   "cell_type": "markdown",
   "metadata": {},
   "source": [
    "Тип каждой колонки:"
   ]
  },
  {
   "cell_type": "code",
   "execution_count": 800,
   "metadata": {
    "collapsed": false
   },
   "outputs": [
    {
     "data": {
      "text/plain": [
       "{'age': 'int64',\n",
       " 'fav_pub': 'object',\n",
       " 'freq': 'object',\n",
       " 'gender': 'object',\n",
       " 'income': 'float64',\n",
       " 'lifestyle': 'object',\n",
       " 'occasions': 'object',\n",
       " 'occupation': 'object',\n",
       " 'prim_imp': 'object',\n",
       " 'sec_imp': 'object',\n",
       " 'stratum': 'object',\n",
       " 'timestamp': 'object',\n",
       " 'wts': 'float64'}"
      ]
     },
     "execution_count": 800,
     "metadata": {},
     "output_type": "execute_result"
    }
   ],
   "source": [
    "cols = list(raw_data.columns)\n",
    "types = {}\n",
    "for col in cols:\n",
    "    types[col] = raw_data[col].dtype.name #type(raw_data[col][0])\n",
    "    pass\n",
    "types"
   ]
  },
  {
   "cell_type": "code",
   "execution_count": 801,
   "metadata": {
    "collapsed": false
   },
   "outputs": [
    {
     "data": {
      "text/html": [
       "<div>\n",
       "<style>\n",
       "    .dataframe thead tr:only-child th {\n",
       "        text-align: right;\n",
       "    }\n",
       "\n",
       "    .dataframe thead th {\n",
       "        text-align: left;\n",
       "    }\n",
       "\n",
       "    .dataframe tbody tr th {\n",
       "        vertical-align: top;\n",
       "    }\n",
       "</style>\n",
       "<table border=\"1\" class=\"dataframe\">\n",
       "  <thead>\n",
       "    <tr style=\"text-align: right;\">\n",
       "      <th></th>\n",
       "      <th>income</th>\n",
       "      <th>fav_pub</th>\n",
       "    </tr>\n",
       "  </thead>\n",
       "  <tbody>\n",
       "    <tr>\n",
       "      <th>0</th>\n",
       "      <td>100000.0</td>\n",
       "      <td>Station</td>\n",
       "    </tr>\n",
       "    <tr>\n",
       "      <th>1</th>\n",
       "      <td>50000.0</td>\n",
       "      <td>Calumet</td>\n",
       "    </tr>\n",
       "    <tr>\n",
       "      <th>2</th>\n",
       "      <td>100000.0</td>\n",
       "      <td>Liberty</td>\n",
       "    </tr>\n",
       "    <tr>\n",
       "      <th>3</th>\n",
       "      <td>0.0</td>\n",
       "      <td>Calumet</td>\n",
       "    </tr>\n",
       "    <tr>\n",
       "      <th>4</th>\n",
       "      <td>130000.0</td>\n",
       "      <td>Liberty</td>\n",
       "    </tr>\n",
       "    <tr>\n",
       "      <th>5</th>\n",
       "      <td>90000.0</td>\n",
       "      <td>Station</td>\n",
       "    </tr>\n",
       "    <tr>\n",
       "      <th>6</th>\n",
       "      <td>0.0</td>\n",
       "      <td>Irish</td>\n",
       "    </tr>\n",
       "    <tr>\n",
       "      <th>7</th>\n",
       "      <td>0.0</td>\n",
       "      <td>Station</td>\n",
       "    </tr>\n",
       "    <tr>\n",
       "      <th>8</th>\n",
       "      <td>80000.0</td>\n",
       "      <td>I don't like pubs</td>\n",
       "    </tr>\n",
       "    <tr>\n",
       "      <th>9</th>\n",
       "      <td>150000.0</td>\n",
       "      <td>Irish</td>\n",
       "    </tr>\n",
       "  </tbody>\n",
       "</table>\n",
       "</div>"
      ],
      "text/plain": [
       "     income            fav_pub\n",
       "0  100000.0            Station\n",
       "1   50000.0            Calumet\n",
       "2  100000.0            Liberty\n",
       "3       0.0            Calumet\n",
       "4  130000.0            Liberty\n",
       "5   90000.0            Station\n",
       "6       0.0              Irish\n",
       "7       0.0            Station\n",
       "8   80000.0  I don't like pubs\n",
       "9  150000.0              Irish"
      ]
     },
     "execution_count": 801,
     "metadata": {},
     "output_type": "execute_result"
    }
   ],
   "source": [
    "raw_data[['income', 'fav_pub']][:10]"
   ]
  },
  {
   "cell_type": "markdown",
   "metadata": {},
   "source": [
    "Базовая статистика для числовых колонок:"
   ]
  },
  {
   "cell_type": "code",
   "execution_count": 802,
   "metadata": {
    "collapsed": false
   },
   "outputs": [
    {
     "data": {
      "text/html": [
       "<div>\n",
       "<style>\n",
       "    .dataframe thead tr:only-child th {\n",
       "        text-align: right;\n",
       "    }\n",
       "\n",
       "    .dataframe thead th {\n",
       "        text-align: left;\n",
       "    }\n",
       "\n",
       "    .dataframe tbody tr th {\n",
       "        vertical-align: top;\n",
       "    }\n",
       "</style>\n",
       "<table border=\"1\" class=\"dataframe\">\n",
       "  <thead>\n",
       "    <tr style=\"text-align: right;\">\n",
       "      <th></th>\n",
       "      <th>age</th>\n",
       "      <th>income</th>\n",
       "      <th>wts</th>\n",
       "    </tr>\n",
       "  </thead>\n",
       "  <tbody>\n",
       "    <tr>\n",
       "      <th>count</th>\n",
       "      <td>175.000000</td>\n",
       "      <td>1.740000e+02</td>\n",
       "      <td>172.000000</td>\n",
       "    </tr>\n",
       "    <tr>\n",
       "      <th>mean</th>\n",
       "      <td>19.548571</td>\n",
       "      <td>1.101977e+05</td>\n",
       "      <td>4831.395349</td>\n",
       "    </tr>\n",
       "    <tr>\n",
       "      <th>std</th>\n",
       "      <td>2.770262</td>\n",
       "      <td>3.576027e+05</td>\n",
       "      <td>4323.951020</td>\n",
       "    </tr>\n",
       "    <tr>\n",
       "      <th>min</th>\n",
       "      <td>16.000000</td>\n",
       "      <td>0.000000e+00</td>\n",
       "      <td>0.000000</td>\n",
       "    </tr>\n",
       "    <tr>\n",
       "      <th>25%</th>\n",
       "      <td>18.000000</td>\n",
       "      <td>1.000000e+02</td>\n",
       "      <td>2000.000000</td>\n",
       "    </tr>\n",
       "    <tr>\n",
       "      <th>50%</th>\n",
       "      <td>19.000000</td>\n",
       "      <td>5.500000e+04</td>\n",
       "      <td>4000.000000</td>\n",
       "    </tr>\n",
       "    <tr>\n",
       "      <th>75%</th>\n",
       "      <td>20.000000</td>\n",
       "      <td>1.000000e+05</td>\n",
       "      <td>5000.000000</td>\n",
       "    </tr>\n",
       "    <tr>\n",
       "      <th>max</th>\n",
       "      <td>41.000000</td>\n",
       "      <td>4.500000e+06</td>\n",
       "      <td>30000.000000</td>\n",
       "    </tr>\n",
       "  </tbody>\n",
       "</table>\n",
       "</div>"
      ],
      "text/plain": [
       "              age        income           wts\n",
       "count  175.000000  1.740000e+02    172.000000\n",
       "mean    19.548571  1.101977e+05   4831.395349\n",
       "std      2.770262  3.576027e+05   4323.951020\n",
       "min     16.000000  0.000000e+00      0.000000\n",
       "25%     18.000000  1.000000e+02   2000.000000\n",
       "50%     19.000000  5.500000e+04   4000.000000\n",
       "75%     20.000000  1.000000e+05   5000.000000\n",
       "max     41.000000  4.500000e+06  30000.000000"
      ]
     },
     "execution_count": 802,
     "metadata": {},
     "output_type": "execute_result"
    }
   ],
   "source": [
    "raw_data.describe()"
   ]
  },
  {
   "cell_type": "markdown",
   "metadata": {},
   "source": [
    "Базовая статистика для не числовых колонок:"
   ]
  },
  {
   "cell_type": "code",
   "execution_count": 803,
   "metadata": {
    "collapsed": false
   },
   "outputs": [
    {
     "data": {
      "text/html": [
       "<div>\n",
       "<style>\n",
       "    .dataframe thead tr:only-child th {\n",
       "        text-align: right;\n",
       "    }\n",
       "\n",
       "    .dataframe thead th {\n",
       "        text-align: left;\n",
       "    }\n",
       "\n",
       "    .dataframe tbody tr th {\n",
       "        vertical-align: top;\n",
       "    }\n",
       "</style>\n",
       "<table border=\"1\" class=\"dataframe\">\n",
       "  <thead>\n",
       "    <tr style=\"text-align: right;\">\n",
       "      <th></th>\n",
       "      <th>timestamp</th>\n",
       "      <th>gender</th>\n",
       "      <th>occupation</th>\n",
       "      <th>fav_pub</th>\n",
       "      <th>freq</th>\n",
       "      <th>prim_imp</th>\n",
       "      <th>sec_imp</th>\n",
       "      <th>stratum</th>\n",
       "      <th>lifestyle</th>\n",
       "      <th>occasions</th>\n",
       "    </tr>\n",
       "  </thead>\n",
       "  <tbody>\n",
       "    <tr>\n",
       "      <th>count</th>\n",
       "      <td>175</td>\n",
       "      <td>175</td>\n",
       "      <td>175</td>\n",
       "      <td>168</td>\n",
       "      <td>175</td>\n",
       "      <td>175</td>\n",
       "      <td>175</td>\n",
       "      <td>175</td>\n",
       "      <td>169</td>\n",
       "      <td>173</td>\n",
       "    </tr>\n",
       "    <tr>\n",
       "      <th>unique</th>\n",
       "      <td>175</td>\n",
       "      <td>2</td>\n",
       "      <td>7</td>\n",
       "      <td>44</td>\n",
       "      <td>3</td>\n",
       "      <td>4</td>\n",
       "      <td>4</td>\n",
       "      <td>3</td>\n",
       "      <td>10</td>\n",
       "      <td>7</td>\n",
       "    </tr>\n",
       "    <tr>\n",
       "      <th>top</th>\n",
       "      <td>2017/02/25 11:22:14 PM GMT+4</td>\n",
       "      <td>Female</td>\n",
       "      <td>Student</td>\n",
       "      <td>Calumet</td>\n",
       "      <td>rarely (once two week/or a month)</td>\n",
       "      <td>Environment</td>\n",
       "      <td>Music</td>\n",
       "      <td>Capital</td>\n",
       "      <td>Busy(student life, work)</td>\n",
       "      <td>Hang outs with friends</td>\n",
       "    </tr>\n",
       "    <tr>\n",
       "      <th>freq</th>\n",
       "      <td>1</td>\n",
       "      <td>102</td>\n",
       "      <td>122</td>\n",
       "      <td>27</td>\n",
       "      <td>94</td>\n",
       "      <td>122</td>\n",
       "      <td>66</td>\n",
       "      <td>139</td>\n",
       "      <td>78</td>\n",
       "      <td>138</td>\n",
       "    </tr>\n",
       "  </tbody>\n",
       "</table>\n",
       "</div>"
      ],
      "text/plain": [
       "                           timestamp  gender occupation  fav_pub  \\\n",
       "count                            175     175        175      168   \n",
       "unique                           175       2          7       44   \n",
       "top     2017/02/25 11:22:14 PM GMT+4  Female    Student  Calumet   \n",
       "freq                               1     102        122       27   \n",
       "\n",
       "                                     freq     prim_imp sec_imp  stratum  \\\n",
       "count                                 175          175     175      175   \n",
       "unique                                  3            4       4        3   \n",
       "top     rarely (once two week/or a month)  Environment   Music  Capital   \n",
       "freq                                   94          122      66      139   \n",
       "\n",
       "                       lifestyle               occasions  \n",
       "count                        169                     173  \n",
       "unique                        10                       7  \n",
       "top     Busy(student life, work)  Hang outs with friends  \n",
       "freq                          78                     138  "
      ]
     },
     "execution_count": 803,
     "metadata": {},
     "output_type": "execute_result"
    }
   ],
   "source": [
    "raw_data.describe(include=[\"object\"])"
   ]
  },
  {
   "cell_type": "markdown",
   "metadata": {
    "collapsed": true
   },
   "source": [
    "Построение scatter matrix:"
   ]
  },
  {
   "cell_type": "code",
   "execution_count": 804,
   "metadata": {
    "collapsed": false
   },
   "outputs": [
    {
     "data": {
      "image/png": "[encoded data removed]",
      "text/plain": [
       "<matplotlib.figure.Figure at 0x7f39bb4216d8>"
      ]
     },
     "metadata": {},
     "output_type": "display_data"
    }
   ],
   "source": [
    "from pandas.plotting import scatter_matrix\n",
    "scatter_matrix(raw_data, alpha=0.1, figsize=(15, 15))\n",
    "pass"
   ]
  },
  {
   "cell_type": "markdown",
   "metadata": {},
   "source": [
    "Корреляция между данными (числовые колонки):"
   ]
  },
  {
   "cell_type": "code",
   "execution_count": 805,
   "metadata": {
    "collapsed": false
   },
   "outputs": [
    {
     "data": {
      "text/html": [
       "<div>\n",
       "<style>\n",
       "    .dataframe thead tr:only-child th {\n",
       "        text-align: right;\n",
       "    }\n",
       "\n",
       "    .dataframe thead th {\n",
       "        text-align: left;\n",
       "    }\n",
       "\n",
       "    .dataframe tbody tr th {\n",
       "        vertical-align: top;\n",
       "    }\n",
       "</style>\n",
       "<table border=\"1\" class=\"dataframe\">\n",
       "  <thead>\n",
       "    <tr style=\"text-align: right;\">\n",
       "      <th></th>\n",
       "      <th>age</th>\n",
       "      <th>income</th>\n",
       "      <th>wts</th>\n",
       "    </tr>\n",
       "  </thead>\n",
       "  <tbody>\n",
       "    <tr>\n",
       "      <th>age</th>\n",
       "      <td>1.000000</td>\n",
       "      <td>0.163399</td>\n",
       "      <td>0.134111</td>\n",
       "    </tr>\n",
       "    <tr>\n",
       "      <th>income</th>\n",
       "      <td>0.163399</td>\n",
       "      <td>1.000000</td>\n",
       "      <td>0.228340</td>\n",
       "    </tr>\n",
       "    <tr>\n",
       "      <th>wts</th>\n",
       "      <td>0.134111</td>\n",
       "      <td>0.228340</td>\n",
       "      <td>1.000000</td>\n",
       "    </tr>\n",
       "  </tbody>\n",
       "</table>\n",
       "</div>"
      ],
      "text/plain": [
       "             age    income       wts\n",
       "age     1.000000  0.163399  0.134111\n",
       "income  0.163399  1.000000  0.228340\n",
       "wts     0.134111  0.228340  1.000000"
      ]
     },
     "execution_count": 805,
     "metadata": {},
     "output_type": "execute_result"
    }
   ],
   "source": [
    "raw_data.corr()"
   ]
  },
  {
   "cell_type": "markdown",
   "metadata": {},
   "source": [
    "Из полученной корреляции: возраст, доход и готовность потратить деньги слабо связаны между собой (корреляция по модулю <= 0.25)\n",
    "\n",
    "*Примеч.* немного странно, что нет сильной корреляции, ведь логично предположить:\n",
    "\n",
    "- С возрастом заработок вырастает -> прямая зависимость\n",
    "\n",
    "- Большая сумма трат в баре должна как-то коррелировать с молодостью (или же с высоким доходом) -> обратная/прямая зависимость"
   ]
  },
  {
   "cell_type": "markdown",
   "metadata": {},
   "source": [
    "Посмотрим отдельно на зависимость между возрастом и доходом:"
   ]
  },
  {
   "cell_type": "code",
   "execution_count": 806,
   "metadata": {
    "collapsed": false
   },
   "outputs": [
    {
     "data": {
      "image/png": "[encoded data removed]",
      "text/plain": [
       "<matplotlib.figure.Figure at 0x7f399a336e80>"
      ]
     },
     "metadata": {},
     "output_type": "display_data"
    }
   ],
   "source": [
    "plt.plot(raw_data['age'], raw_data['income'], 'o', alpha = 0.5)\n",
    "plt.xlabel('Age')\n",
    "plt.ylabel('Income')\n",
    "pass"
   ]
  },
  {
   "cell_type": "markdown",
   "metadata": {},
   "source": [
    "Смущает то, что возраст колеблется в интервале [15; 27] (с некоторыми, предположим, выбросами)\n",
    "\n",
    "Посчитаем средние возраст и доход отдельно:"
   ]
  },
  {
   "cell_type": "code",
   "execution_count": 807,
   "metadata": {
    "collapsed": false
   },
   "outputs": [
    {
     "name": "stdout",
     "output_type": "stream",
     "text": [
      "{'age': 19.548571428571428, 'income': 110197.70114942528, 'income_rub': 13292.84694202959}\n"
     ]
    }
   ],
   "source": [
    "mean_values = {}\n",
    "mean_values[\"age\"] = raw_data['age'].mean()\n",
    "mean_values[\"income\"] = raw_data['income'].mean()\n",
    "# convert income to rubles:\n",
    "mean_values[\"income_rub\"] = mean_values[\"income\"] / 8.29\n",
    "print(mean_values)"
   ]
  },
  {
   "cell_type": "markdown",
   "metadata": {},
   "source": [
    "Итак, средний возраст - 19,5 лет; доход - 13 тыс. руб\n",
    "\n",
    "Похоже, что данные и правда собраны силами \"университета\" и, вероятно, их родственниками\n",
    "\n",
    "> По проведенному \"эксперименту\" можно предположить, почему корреляция не дала каких-либо ожидаемых результатов:\n",
    "> 1. Данных слишком мало\n",
    "> 2. Все данные \"сгруппированы\" вокруг 20 лет\n",
    "\n",
    "> \\* Полагаем, что у нас \"умный\" аппарат корреляционного анализа, который не дает псевдо-корректных результатов при наличии различного рода ошибок, допущенных при сборе данных"
   ]
  },
  {
   "cell_type": "markdown",
   "metadata": {},
   "source": [
    "Посмотрим на графики, показывающие как место жительства влияет на количество денег, которые человек готов потратить в баре, в связке с возрастом"
   ]
  },
  {
   "cell_type": "code",
   "execution_count": 808,
   "metadata": {
    "collapsed": false
   },
   "outputs": [
    {
     "name": "stdout",
     "output_type": "stream",
     "text": [
      "Index(['timestamp', 'age', 'gender', 'income', 'occupation', 'fav_pub', 'wts',\n",
      "       'freq', 'prim_imp', 'sec_imp', 'stratum', 'lifestyle', 'occasions'],\n",
      "      dtype='object')\n",
      "Stratum unique: ['Capital' 'Urban' 'Rural']\n"
     ]
    },
    {
     "data": {
      "image/png": "[encoded data removed]",
      "text/plain": [
       "<matplotlib.figure.Figure at 0x7f399a275a58>"
      ]
     },
     "metadata": {},
     "output_type": "display_data"
    }
   ],
   "source": [
    "print(raw_data.columns)\n",
    "print(\"Stratum unique: \" + str(raw_data['stratum'].unique()))\n",
    "\n",
    "plt.figure(figsize = (10, 6))\n",
    "\n",
    "cap = str('Capital')\n",
    "urb = str('Urban')\n",
    "rur = str('Rural')\n",
    "\n",
    "plt.scatter([val / 8.29 for val in raw_data[raw_data['stratum'] == cap]['wts']],\n",
    "            raw_data[raw_data['stratum'] == cap]['age'],\n",
    "            alpha = 0.5,\n",
    "            label = cap,\n",
    "            color = 'r')\n",
    "\n",
    "plt.scatter([val / 8.29 for val in raw_data[raw_data['stratum'] == rur]['wts']],\n",
    "            raw_data[raw_data['stratum'] == rur]['age'],\n",
    "            alpha = 0.5,\n",
    "            label = rur,\n",
    "            color = 'g')\n",
    "\n",
    "plt.scatter([val / 8.29 for val in raw_data[raw_data['stratum'] == urb]['wts']],\n",
    "            raw_data[raw_data['stratum'] == urb]['age'],\n",
    "            alpha = 0.5,\n",
    "            label = urb,\n",
    "            color = 'b')\n",
    "\n",
    "\n",
    "plt.xlabel('WTS (in rubles)')\n",
    "plt.ylabel('Age')\n",
    "plt.legend()\n",
    "plt.grid()"
   ]
  },
  {
   "cell_type": "code",
   "execution_count": 809,
   "metadata": {
    "collapsed": false
   },
   "outputs": [
    {
     "data": {
      "image/png": "[encoded data removed]",
      "text/plain": [
       "<matplotlib.figure.Figure at 0x7f39bb772e80>"
      ]
     },
     "metadata": {},
     "output_type": "display_data"
    }
   ],
   "source": [
    "import copy\n",
    "raw_data_cp = copy.deepcopy(raw_data)\n",
    "wts_mean = np.mean(raw_data_cp['wts'])\n",
    "raw_data_cp['wts'] = pd.Series(['C1' if val <= wts_mean else 'C2' for val in raw_data_cp['income']])\n",
    "\n",
    "plt.figure(figsize = (10, 6))\n",
    "\n",
    "plt.scatter([val for val in raw_data_cp[raw_data_cp['wts'] == \"C1\"]['income']],\n",
    "            raw_data_cp[raw_data_cp['wts'] == \"C1\"]['age'],\n",
    "            alpha = 0.5,\n",
    "            label = \"<= mean WTS\",\n",
    "            color = 'r')\n",
    "\n",
    "plt.scatter([val for val in raw_data_cp[raw_data_cp['wts'] == \"C2\"]['income']],\n",
    "            raw_data_cp[raw_data_cp['wts'] == \"C2\"]['age'],\n",
    "            alpha = 0.5,\n",
    "            label = \"> mean WTS\",\n",
    "            color = 'b')\n",
    "\n",
    "\n",
    "plt.xlabel('Income')\n",
    "plt.ylabel('Age')\n",
    "plt.legend()\n",
    "plt.grid()"
   ]
  },
  {
   "cell_type": "code",
   "execution_count": 810,
   "metadata": {
    "collapsed": false
   },
   "outputs": [
    {
     "data": {
      "image/png": "[encoded data removed]",
      "text/plain": [
       "<matplotlib.figure.Figure at 0x7f39bca0c080>"
      ]
     },
     "metadata": {},
     "output_type": "display_data"
    }
   ],
   "source": [
    "np.random.seed(0)\n",
    "age_num_rnd = raw_data_cp['age'] + np.random.rand(raw_data_cp.shape[0]) - .5\n",
    "\n",
    "plt.figure(figsize = (10, 8))\n",
    "\n",
    "plt.scatter([val for val in raw_data_cp[raw_data_cp['wts'] == \"C1\"]['income']],\n",
    "            age_num_rnd[raw_data_cp['wts'] == \"C1\"],\n",
    "            alpha = 0.5,\n",
    "            label = \"<= mean WTS\",\n",
    "            color = 'r')\n",
    "\n",
    "plt.scatter([val for val in raw_data_cp[raw_data_cp['wts'] == \"C2\"]['income']],\n",
    "            age_num_rnd[raw_data_cp['wts'] == \"C2\"],\n",
    "            alpha = 0.5,\n",
    "            label = \"> mean WTS\",\n",
    "            color = 'b')\n",
    "\n",
    "\n",
    "plt.xlabel('Income')\n",
    "plt.ylabel('Age')\n",
    "plt.legend()\n",
    "plt.grid()"
   ]
  },
  {
   "cell_type": "markdown",
   "metadata": {},
   "source": [
    "## Задача\n",
    "\n",
    "Будем искать как зависит WTS (число денег, которые можно потратить в баре) от других факторов.\n",
    "\n",
    "WTS - интересующий нас параметр, так как хочется понять, что именно имеет решающее значение для каждого человека при формировании \n",
    "\n",
    "> Для примера использования на практике: через WTS мы потенциально можем влиять на прибыль нашего бара"
   ]
  },
  {
   "cell_type": "markdown",
   "metadata": {
    "collapsed": true
   },
   "source": [
    "## Подготовка данных"
   ]
  },
  {
   "cell_type": "markdown",
   "metadata": {},
   "source": [
    "Пожалуй, можно выбросить колонку timestamp за ненадобностью в нашей задаче.\n",
    "\n",
    "Так же выбросить можно и колонку любимых баров:\n",
    "- в ней приведены только названия баров, а не какие-то качественные или количественные признаки\n",
    "- при дальнейшей векторизации, мы рискуем получить большое количество малозначащих признаков\n",
    "- косвенно все бары характеризуются другими параметрами, которые мы оставляем (например, место жительства - место расположения бара или атмосфера бара [как пример значения из первичных/вторичных компонент])"
   ]
  },
  {
   "cell_type": "code",
   "execution_count": 811,
   "metadata": {
    "collapsed": true
   },
   "outputs": [],
   "source": [
    "data = raw_data.drop('timestamp', axis=1)\n",
    "data = data.drop('fav_pub', axis=1)"
   ]
  },
  {
   "cell_type": "code",
   "execution_count": 812,
   "metadata": {
    "collapsed": false
   },
   "outputs": [
    {
     "name": "stdout",
     "output_type": "stream",
     "text": [
      "Categorical: \n",
      "['gender', 'occupation', 'freq', 'prim_imp', 'sec_imp', 'stratum', 'lifestyle', 'occasions']\n",
      "Numerical: \n",
      "['age', 'income', 'wts']\n",
      "\n",
      "Size of table: (175, 13)\n"
     ]
    }
   ],
   "source": [
    "categorical_cols = [col for col in data.columns if data[col].dtype.name == \"object\"]\n",
    "numerical_cols = [col for col in data.columns if data[col].dtype.name != \"object\"]\n",
    "print(\"Categorical: \\n\" + str(categorical_cols))\n",
    "print(\"Numerical: \\n\" + str(numerical_cols))\n",
    "print(\"\\nSize of table: \" + str(raw_data.shape))"
   ]
  },
  {
   "cell_type": "markdown",
   "metadata": {},
   "source": [
    "### Обработка пропусков\n",
    "\n",
    "Для наших данных будем использовать подстановки для устранения пропусков:\n",
    "\n",
    "- самое популярное значение - для категориальных признаков\n",
    "- медиана - для количественных признаков\n",
    "\n",
    "Делаем имеенно таким образом, так как объем исходных данных уже и без нашего вмешательства невообразимо мал."
   ]
  },
  {
   "cell_type": "code",
   "execution_count": 813,
   "metadata": {
    "collapsed": false
   },
   "outputs": [
    {
     "name": "stdout",
     "output_type": "stream",
     "text": [
      "Numerical:\n",
      "age       175\n",
      "income    174\n",
      "wts       172\n",
      "dtype: int64\n",
      "\n",
      "Categorical:\n",
      "gender        175\n",
      "occupation    175\n",
      "freq          175\n",
      "prim_imp      175\n",
      "sec_imp       175\n",
      "stratum       175\n",
      "lifestyle     169\n",
      "occasions     173\n",
      "dtype: int64\n"
     ]
    }
   ],
   "source": [
    "print(\"Numerical:\")\n",
    "print(data[numerical_cols].count())\n",
    "print(\"\\nCategorical:\")\n",
    "print(data[categorical_cols].count())\n",
    "\n",
    "# copy-pasted code for possible future reuse:\n",
    "data = data.fillna(data.median(axis = 0), axis = 0)"
   ]
  },
  {
   "cell_type": "markdown",
   "metadata": {},
   "source": [
    "Для количественных признаков все данные заполнены, для категорийных - нет. Надо заполнить пропуски лишь для категорийных признаков."
   ]
  },
  {
   "cell_type": "code",
   "execution_count": 814,
   "metadata": {
    "collapsed": false
   },
   "outputs": [
    {
     "name": "stdout",
     "output_type": "stream",
     "text": [
      "gender        175\n",
      "occupation    175\n",
      "freq          175\n",
      "prim_imp      175\n",
      "sec_imp       175\n",
      "stratum       175\n",
      "lifestyle     175\n",
      "occasions     175\n",
      "dtype: int64\n"
     ]
    }
   ],
   "source": [
    "for col in data[categorical_cols]:\n",
    "    raw_data[col] = data[col].fillna(data[col].describe().top)\n",
    "    pass\n",
    "print(raw_data[categorical_cols].count())"
   ]
  },
  {
   "cell_type": "code",
   "execution_count": 815,
   "metadata": {
    "collapsed": false
   },
   "outputs": [
    {
     "data": {
      "text/html": [
       "<div>\n",
       "<style>\n",
       "    .dataframe thead tr:only-child th {\n",
       "        text-align: right;\n",
       "    }\n",
       "\n",
       "    .dataframe thead th {\n",
       "        text-align: left;\n",
       "    }\n",
       "\n",
       "    .dataframe tbody tr th {\n",
       "        vertical-align: top;\n",
       "    }\n",
       "</style>\n",
       "<table border=\"1\" class=\"dataframe\">\n",
       "  <thead>\n",
       "    <tr style=\"text-align: right;\">\n",
       "      <th></th>\n",
       "      <th>gender</th>\n",
       "      <th>occupation</th>\n",
       "      <th>freq</th>\n",
       "      <th>prim_imp</th>\n",
       "      <th>sec_imp</th>\n",
       "      <th>stratum</th>\n",
       "      <th>lifestyle</th>\n",
       "      <th>occasions</th>\n",
       "    </tr>\n",
       "  </thead>\n",
       "  <tbody>\n",
       "    <tr>\n",
       "      <th>count</th>\n",
       "      <td>175</td>\n",
       "      <td>175</td>\n",
       "      <td>175</td>\n",
       "      <td>175</td>\n",
       "      <td>175</td>\n",
       "      <td>175</td>\n",
       "      <td>169</td>\n",
       "      <td>173</td>\n",
       "    </tr>\n",
       "    <tr>\n",
       "      <th>unique</th>\n",
       "      <td>2</td>\n",
       "      <td>7</td>\n",
       "      <td>3</td>\n",
       "      <td>4</td>\n",
       "      <td>4</td>\n",
       "      <td>3</td>\n",
       "      <td>10</td>\n",
       "      <td>7</td>\n",
       "    </tr>\n",
       "    <tr>\n",
       "      <th>top</th>\n",
       "      <td>Female</td>\n",
       "      <td>Student</td>\n",
       "      <td>rarely (once two week/or a month)</td>\n",
       "      <td>Environment</td>\n",
       "      <td>Music</td>\n",
       "      <td>Capital</td>\n",
       "      <td>Busy(student life, work)</td>\n",
       "      <td>Hang outs with friends</td>\n",
       "    </tr>\n",
       "    <tr>\n",
       "      <th>freq</th>\n",
       "      <td>102</td>\n",
       "      <td>122</td>\n",
       "      <td>94</td>\n",
       "      <td>122</td>\n",
       "      <td>66</td>\n",
       "      <td>139</td>\n",
       "      <td>78</td>\n",
       "      <td>138</td>\n",
       "    </tr>\n",
       "  </tbody>\n",
       "</table>\n",
       "</div>"
      ],
      "text/plain": [
       "        gender occupation                               freq     prim_imp  \\\n",
       "count      175        175                                175          175   \n",
       "unique       2          7                                  3            4   \n",
       "top     Female    Student  rarely (once two week/or a month)  Environment   \n",
       "freq       102        122                                 94          122   \n",
       "\n",
       "       sec_imp  stratum                 lifestyle               occasions  \n",
       "count      175      175                       169                     173  \n",
       "unique       4        3                        10                       7  \n",
       "top      Music  Capital  Busy(student life, work)  Hang outs with friends  \n",
       "freq        66      139                        78                     138  "
      ]
     },
     "execution_count": 815,
     "metadata": {},
     "output_type": "execute_result"
    }
   ],
   "source": [
    "data.describe(include = [object])"
   ]
  },
  {
   "cell_type": "markdown",
   "metadata": {},
   "source": [
    "### Векторизация категориальных признаков\n",
    "\n",
    "Будет сделано следующее:\n",
    "\n",
    "1. Для небинарных категориальных признаков:\n",
    "    - Вместо *N* значений признака будет использоваться *N* признаков со значением 0 или 1 (в зависимости от значения исходного признака), таким образом, получив вектор сумма элементов которого всегда равна 1 (в силу того, что пропуски уже устранены)\n",
    "\n",
    "2. Для бинарных категориальных признаков:\n",
    "    - Вместо категории будем использовать число - 0 или 1 соответственно\n",
    "    \n",
    "Бинарные:"
   ]
  },
  {
   "cell_type": "code",
   "execution_count": 816,
   "metadata": {
    "collapsed": false
   },
   "outputs": [
    {
     "name": "stdout",
     "output_type": "stream",
     "text": [
      "Binary:\n",
      "['gender']\n",
      "Non-binary:\n",
      "['occupation', 'freq', 'prim_imp', 'sec_imp', 'stratum', 'lifestyle', 'occasions']\n"
     ]
    }
   ],
   "source": [
    "# store categorical data descriptor:\n",
    "categorical_descr = data.describe(include=[object])\n",
    "binary_cols = [col for col in categorical_cols if categorical_descr[col]['unique'] == 2]\n",
    "print(\"Binary:\")\n",
    "print(binary_cols)\n",
    "nonbinary_cols = [col for col in categorical_cols if categorical_descr[col]['unique'] > 2]\n",
    "print(\"Non-binary:\")\n",
    "print(nonbinary_cols)"
   ]
  },
  {
   "cell_type": "code",
   "execution_count": 817,
   "metadata": {
    "collapsed": false
   },
   "outputs": [
    {
     "data": {
      "text/plain": [
       "count     175\n",
       "unique      2\n",
       "top         1\n",
       "freq      102\n",
       "Name: gender, dtype: int64"
      ]
     },
     "execution_count": 817,
     "metadata": {},
     "output_type": "execute_result"
    }
   ],
   "source": [
    "data.at[data['gender']=='Male', 'gender'] = 0\n",
    "data.at[data['gender']=='Female', 'gender'] = 1\n",
    "data['gender'].describe() # dtype is now int64"
   ]
  },
  {
   "cell_type": "markdown",
   "metadata": {},
   "source": [
    "Небинарные:"
   ]
  },
  {
   "cell_type": "code",
   "execution_count": 818,
   "metadata": {
    "collapsed": false
   },
   "outputs": [
    {
     "name": "stdout",
     "output_type": "stream",
     "text": [
      "Index(['occupation_CEO', 'occupation_Entrepreneur / Software Engineer',\n",
      "       'occupation_Student', 'occupation_Student + working',\n",
      "       'occupation_Working', 'occupation_Working ', 'occupation_army',\n",
      "       'freq_Several times a week', 'freq_Several times in a month',\n",
      "       'freq_rarely (once two week/or a month)', 'prim_imp_Environment',\n",
      "       'prim_imp_Menu', 'prim_imp_Music', 'prim_imp_Pricing',\n",
      "       'sec_imp_Environment', 'sec_imp_Menu', 'sec_imp_Music',\n",
      "       'sec_imp_Pricing', 'stratum_Capital', 'stratum_Rural', 'stratum_Urban',\n",
      "       'lifestyle_Adventure/traveling/exploring', 'lifestyle_Art',\n",
      "       'lifestyle_Business, sports, dance',\n",
      "       'lifestyle_Busy(student life, work)', 'lifestyle_Nightlife',\n",
      "       'lifestyle_Passive ', 'lifestyle_Rock, punk', 'lifestyle_Sport',\n",
      "       'lifestyle_Sport, art, traveling', 'lifestyle_Student',\n",
      "       'occasions_Birthdays', 'occasions_For listening  good music ',\n",
      "       'occasions_Hang outs with friends', 'occasions_Never',\n",
      "       'occasions_Nowere', 'occasions_Special events/parties',\n",
      "       'occasions_chem aycelum'],\n",
      "      dtype='object')\n"
     ]
    }
   ],
   "source": [
    "data_nonbinary = pd.get_dummies(data[nonbinary_cols])\n",
    "print(data_nonbinary.columns)"
   ]
  },
  {
   "cell_type": "markdown",
   "metadata": {},
   "source": [
    "После вызова `get_dummies` можно заметить, что некоторые колонки не совсем корректны:\n",
    "- содержат пробелы, запятые и `'`\n",
    "- содержат символы `(`, `)`, `/`\n",
    "\n",
    "Попробуем с этим что-то сделать, чтобы избежать дальнейших проблем:\n",
    "- заменим пробелы на `_`\n",
    "- удалим все, что идет после `(`\n",
    "- удалим запятые и `'`"
   ]
  },
  {
   "cell_type": "code",
   "execution_count": 819,
   "metadata": {
    "collapsed": false
   },
   "outputs": [
    {
     "name": "stdout",
     "output_type": "stream",
     "text": [
      "Index(['occupation_CEO', 'occupation_Entrepreneur_/_Software_Engineer',\n",
      "       'occupation_Student', 'occupation_Student_+_working',\n",
      "       'occupation_Working', 'occupation_Working', 'occupation_army',\n",
      "       'freq_Several_times_a_week', 'freq_Several_times_in_a_month',\n",
      "       'freq_rarely', 'prim_imp_Environment', 'prim_imp_Menu',\n",
      "       'prim_imp_Music', 'prim_imp_Pricing', 'sec_imp_Environment',\n",
      "       'sec_imp_Menu', 'sec_imp_Music', 'sec_imp_Pricing', 'stratum_Capital',\n",
      "       'stratum_Rural', 'stratum_Urban',\n",
      "       'lifestyle_Adventure/traveling/exploring', 'lifestyle_Art',\n",
      "       'lifestyle_Business_sports_dance', 'lifestyle_Busy',\n",
      "       'lifestyle_Nightlife', 'lifestyle_Passive', 'lifestyle_Rock_punk',\n",
      "       'lifestyle_Sport', 'lifestyle_Sport_art_traveling', 'lifestyle_Student',\n",
      "       'occasions_Birthdays', 'occasions_For_listening__good_music',\n",
      "       'occasions_Hang_outs_with_friends', 'occasions_Never',\n",
      "       'occasions_Nowere', 'occasions_Special_events/parties',\n",
      "       'occasions_chem_aycelum'],\n",
      "      dtype='object')\n"
     ]
    }
   ],
   "source": [
    "# data_nonbinary.columns\n",
    "data_nonbinary.columns = map(lambda col: col.split(\"(\")[0], data_nonbinary.columns)\n",
    "data_nonbinary.columns = map(lambda col: col.strip(), data_nonbinary.columns)\n",
    "data_nonbinary.columns = map(lambda col: col.replace(\" \", \"_\"), data_nonbinary.columns)\n",
    "data_nonbinary.columns = map(lambda col: col.replace(\"'\", \"\"), data_nonbinary.columns)\n",
    "data_nonbinary.columns = map(lambda col: col.replace(\",\", \"\"), data_nonbinary.columns)\n",
    "print(data_nonbinary.columns)"
   ]
  },
  {
   "cell_type": "markdown",
   "metadata": {},
   "source": [
    "После всех этих операций, удалим возможные дупликаты: они могли получиться как и в ходе генерации векторов из признаков, так и после \"очистки\" названий"
   ]
  },
  {
   "cell_type": "code",
   "execution_count": 820,
   "metadata": {
    "collapsed": false
   },
   "outputs": [
    {
     "data": {
      "text/plain": [
       "Index(['occupation_CEO', 'occupation_Entrepreneur_/_Software_Engineer',\n",
       "       'occupation_Student', 'occupation_Student_+_working',\n",
       "       'occupation_Working', 'occupation_army', 'freq_Several_times_a_week',\n",
       "       'freq_Several_times_in_a_month', 'freq_rarely', 'prim_imp_Environment',\n",
       "       'prim_imp_Menu', 'prim_imp_Music', 'prim_imp_Pricing',\n",
       "       'sec_imp_Environment', 'sec_imp_Menu', 'sec_imp_Music',\n",
       "       'sec_imp_Pricing', 'stratum_Capital', 'stratum_Rural', 'stratum_Urban',\n",
       "       'lifestyle_Adventure/traveling/exploring', 'lifestyle_Art',\n",
       "       'lifestyle_Business_sports_dance', 'lifestyle_Busy',\n",
       "       'lifestyle_Nightlife', 'lifestyle_Passive', 'lifestyle_Rock_punk',\n",
       "       'lifestyle_Sport', 'lifestyle_Sport_art_traveling', 'lifestyle_Student',\n",
       "       'occasions_Birthdays', 'occasions_For_listening__good_music',\n",
       "       'occasions_Hang_outs_with_friends', 'occasions_Never',\n",
       "       'occasions_Nowere', 'occasions_Special_events/parties',\n",
       "       'occasions_chem_aycelum'],\n",
       "      dtype='object')"
      ]
     },
     "execution_count": 820,
     "metadata": {},
     "output_type": "execute_result"
    }
   ],
   "source": [
    "# verify we don't have non-unique columns:\n",
    "# from collections import Counter\n",
    "# non_uniques = [k for k, v in Counter(data_nonbinary.columns).items() if v > 1]\n",
    "\n",
    "# print(\"Non uniques:\")\n",
    "# print(non_uniques)\n",
    "\n",
    "# # check that all values are unique:\n",
    "# if len(data_nonbinary.columns) == len(set(data_nonbinary.columns)):\n",
    "#     print(\"All values left are unique\")\n",
    "#     pass\n",
    "\n",
    "data_nonbinary.columns.drop_duplicates()"
   ]
  },
  {
   "cell_type": "markdown",
   "metadata": {},
   "source": [
    "### Нормализация количественных признаков\n",
    "\n",
    "Многие алгоритмы машинного обучения чувствительны к масштабированию данных.\n",
    "К таким алгоритмам, например, относится метод ближайших соседей, машина опорных векторов и др.\n",
    "\n",
    "В этом случае количественные признаки полезно _нормализовать_.\n",
    "Это можно делать разными способами.\n",
    "Например, каждый количественный признак приведем к нулевому среднему и единичному среднеквадратичному отклонению:"
   ]
  },
  {
   "cell_type": "code",
   "execution_count": 821,
   "metadata": {
    "collapsed": false
   },
   "outputs": [
    {
     "data": {
      "text/html": [
       "<div>\n",
       "<style>\n",
       "    .dataframe thead tr:only-child th {\n",
       "        text-align: right;\n",
       "    }\n",
       "\n",
       "    .dataframe thead th {\n",
       "        text-align: left;\n",
       "    }\n",
       "\n",
       "    .dataframe tbody tr th {\n",
       "        vertical-align: top;\n",
       "    }\n",
       "</style>\n",
       "<table border=\"1\" class=\"dataframe\">\n",
       "  <thead>\n",
       "    <tr style=\"text-align: right;\">\n",
       "      <th></th>\n",
       "      <th>age</th>\n",
       "      <th>income</th>\n",
       "    </tr>\n",
       "  </thead>\n",
       "  <tbody>\n",
       "    <tr>\n",
       "      <th>count</th>\n",
       "      <td>175.000000</td>\n",
       "      <td>1.750000e+02</td>\n",
       "    </tr>\n",
       "    <tr>\n",
       "      <th>mean</th>\n",
       "      <td>19.548571</td>\n",
       "      <td>1.098823e+05</td>\n",
       "    </tr>\n",
       "    <tr>\n",
       "      <th>std</th>\n",
       "      <td>2.770262</td>\n",
       "      <td>3.565980e+05</td>\n",
       "    </tr>\n",
       "    <tr>\n",
       "      <th>min</th>\n",
       "      <td>16.000000</td>\n",
       "      <td>0.000000e+00</td>\n",
       "    </tr>\n",
       "    <tr>\n",
       "      <th>25%</th>\n",
       "      <td>18.000000</td>\n",
       "      <td>2.000000e+02</td>\n",
       "    </tr>\n",
       "    <tr>\n",
       "      <th>50%</th>\n",
       "      <td>19.000000</td>\n",
       "      <td>5.500000e+04</td>\n",
       "    </tr>\n",
       "    <tr>\n",
       "      <th>75%</th>\n",
       "      <td>20.000000</td>\n",
       "      <td>1.000000e+05</td>\n",
       "    </tr>\n",
       "    <tr>\n",
       "      <th>max</th>\n",
       "      <td>41.000000</td>\n",
       "      <td>4.500000e+06</td>\n",
       "    </tr>\n",
       "  </tbody>\n",
       "</table>\n",
       "</div>"
      ],
      "text/plain": [
       "              age        income\n",
       "count  175.000000  1.750000e+02\n",
       "mean    19.548571  1.098823e+05\n",
       "std      2.770262  3.565980e+05\n",
       "min     16.000000  0.000000e+00\n",
       "25%     18.000000  2.000000e+02\n",
       "50%     19.000000  5.500000e+04\n",
       "75%     20.000000  1.000000e+05\n",
       "max     41.000000  4.500000e+06"
      ]
     },
     "execution_count": 821,
     "metadata": {},
     "output_type": "execute_result"
    }
   ],
   "source": [
    "data_without_y = data[['age', 'income']] # исключаем WTS так как он \"Y\" - не нормализуем\n",
    "numerical_cols.remove('wts')\n",
    "data_numerical = data_without_y[numerical_cols]\n",
    "data_numerical.describe()"
   ]
  },
  {
   "cell_type": "code",
   "execution_count": 822,
   "metadata": {
    "collapsed": false
   },
   "outputs": [
    {
     "data": {
      "text/html": [
       "<div>\n",
       "<style>\n",
       "    .dataframe thead tr:only-child th {\n",
       "        text-align: right;\n",
       "    }\n",
       "\n",
       "    .dataframe thead th {\n",
       "        text-align: left;\n",
       "    }\n",
       "\n",
       "    .dataframe tbody tr th {\n",
       "        vertical-align: top;\n",
       "    }\n",
       "</style>\n",
       "<table border=\"1\" class=\"dataframe\">\n",
       "  <thead>\n",
       "    <tr style=\"text-align: right;\">\n",
       "      <th></th>\n",
       "      <th>age</th>\n",
       "      <th>income</th>\n",
       "    </tr>\n",
       "  </thead>\n",
       "  <tbody>\n",
       "    <tr>\n",
       "      <th>count</th>\n",
       "      <td>1.750000e+02</td>\n",
       "      <td>1.750000e+02</td>\n",
       "    </tr>\n",
       "    <tr>\n",
       "      <th>mean</th>\n",
       "      <td>2.804106e-16</td>\n",
       "      <td>2.882615e-17</td>\n",
       "    </tr>\n",
       "    <tr>\n",
       "      <th>std</th>\n",
       "      <td>1.000000e+00</td>\n",
       "      <td>1.000000e+00</td>\n",
       "    </tr>\n",
       "    <tr>\n",
       "      <th>min</th>\n",
       "      <td>-1.280952e+00</td>\n",
       "      <td>-3.081405e-01</td>\n",
       "    </tr>\n",
       "    <tr>\n",
       "      <th>25%</th>\n",
       "      <td>-5.589982e-01</td>\n",
       "      <td>-3.075796e-01</td>\n",
       "    </tr>\n",
       "    <tr>\n",
       "      <th>50%</th>\n",
       "      <td>-1.980215e-01</td>\n",
       "      <td>-1.539052e-01</td>\n",
       "    </tr>\n",
       "    <tr>\n",
       "      <th>75%</th>\n",
       "      <td>1.629552e-01</td>\n",
       "      <td>-2.771268e-02</td>\n",
       "    </tr>\n",
       "    <tr>\n",
       "      <th>max</th>\n",
       "      <td>7.743466e+00</td>\n",
       "      <td>1.231111e+01</td>\n",
       "    </tr>\n",
       "  </tbody>\n",
       "</table>\n",
       "</div>"
      ],
      "text/plain": [
       "                age        income\n",
       "count  1.750000e+02  1.750000e+02\n",
       "mean   2.804106e-16  2.882615e-17\n",
       "std    1.000000e+00  1.000000e+00\n",
       "min   -1.280952e+00 -3.081405e-01\n",
       "25%   -5.589982e-01 -3.075796e-01\n",
       "50%   -1.980215e-01 -1.539052e-01\n",
       "75%    1.629552e-01 -2.771268e-02\n",
       "max    7.743466e+00  1.231111e+01"
      ]
     },
     "execution_count": 822,
     "metadata": {},
     "output_type": "execute_result"
    }
   ],
   "source": [
    "data_numerical = (data_numerical - data_numerical.mean(axis = 0))/data_numerical.std(axis = 0)\n",
    "data_numerical.describe()"
   ]
  },
  {
   "cell_type": "markdown",
   "metadata": {},
   "source": [
    "### Объединение всех признаков в одну таблицу"
   ]
  },
  {
   "cell_type": "code",
   "execution_count": 823,
   "metadata": {
    "collapsed": false
   },
   "outputs": [
    {
     "data": {
      "text/plain": [
       "175"
      ]
     },
     "execution_count": 823,
     "metadata": {},
     "output_type": "execute_result"
    }
   ],
   "source": [
    "data['wts'].count()"
   ]
  },
  {
   "cell_type": "code",
   "execution_count": 824,
   "metadata": {
    "collapsed": false
   },
   "outputs": [
    {
     "name": "stdout",
     "output_type": "stream",
     "text": [
      "(175, 11)\n"
     ]
    }
   ],
   "source": [
    "data_concat = pd.concat((data_numerical, data_nonbinary, data[binary_cols]), axis=1)\n",
    "print(data.shape)"
   ]
  },
  {
   "cell_type": "code",
   "execution_count": 825,
   "metadata": {
    "collapsed": false
   },
   "outputs": [
    {
     "data": {
      "text/html": [
       "<div>\n",
       "<style>\n",
       "    .dataframe thead tr:only-child th {\n",
       "        text-align: right;\n",
       "    }\n",
       "\n",
       "    .dataframe thead th {\n",
       "        text-align: left;\n",
       "    }\n",
       "\n",
       "    .dataframe tbody tr th {\n",
       "        vertical-align: top;\n",
       "    }\n",
       "</style>\n",
       "<table border=\"1\" class=\"dataframe\">\n",
       "  <thead>\n",
       "    <tr style=\"text-align: right;\">\n",
       "      <th></th>\n",
       "      <th>age</th>\n",
       "      <th>income</th>\n",
       "      <th>occupation_CEO</th>\n",
       "      <th>occupation_Entrepreneur_/_Software_Engineer</th>\n",
       "      <th>occupation_Student</th>\n",
       "      <th>occupation_Student_+_working</th>\n",
       "      <th>occupation_Working</th>\n",
       "      <th>occupation_Working</th>\n",
       "      <th>occupation_army</th>\n",
       "      <th>freq_Several_times_a_week</th>\n",
       "      <th>...</th>\n",
       "      <th>lifestyle_Sport</th>\n",
       "      <th>lifestyle_Sport_art_traveling</th>\n",
       "      <th>lifestyle_Student</th>\n",
       "      <th>occasions_Birthdays</th>\n",
       "      <th>occasions_For_listening__good_music</th>\n",
       "      <th>occasions_Hang_outs_with_friends</th>\n",
       "      <th>occasions_Never</th>\n",
       "      <th>occasions_Nowere</th>\n",
       "      <th>occasions_Special_events/parties</th>\n",
       "      <th>occasions_chem_aycelum</th>\n",
       "    </tr>\n",
       "  </thead>\n",
       "  <tbody>\n",
       "    <tr>\n",
       "      <th>count</th>\n",
       "      <td>1.750000e+02</td>\n",
       "      <td>1.750000e+02</td>\n",
       "      <td>175.000000</td>\n",
       "      <td>175.000000</td>\n",
       "      <td>175.000000</td>\n",
       "      <td>175.000000</td>\n",
       "      <td>175.000000</td>\n",
       "      <td>175.000000</td>\n",
       "      <td>175.000000</td>\n",
       "      <td>175.000000</td>\n",
       "      <td>...</td>\n",
       "      <td>175.000000</td>\n",
       "      <td>175.000000</td>\n",
       "      <td>175.000000</td>\n",
       "      <td>175.000000</td>\n",
       "      <td>175.000000</td>\n",
       "      <td>175.000000</td>\n",
       "      <td>175.000000</td>\n",
       "      <td>175.000000</td>\n",
       "      <td>175.000000</td>\n",
       "      <td>175.000000</td>\n",
       "    </tr>\n",
       "    <tr>\n",
       "      <th>mean</th>\n",
       "      <td>2.804106e-16</td>\n",
       "      <td>2.882615e-17</td>\n",
       "      <td>0.005714</td>\n",
       "      <td>0.005714</td>\n",
       "      <td>0.697143</td>\n",
       "      <td>0.228571</td>\n",
       "      <td>0.051429</td>\n",
       "      <td>0.005714</td>\n",
       "      <td>0.005714</td>\n",
       "      <td>0.114286</td>\n",
       "      <td>...</td>\n",
       "      <td>0.062857</td>\n",
       "      <td>0.005714</td>\n",
       "      <td>0.005714</td>\n",
       "      <td>0.080000</td>\n",
       "      <td>0.005714</td>\n",
       "      <td>0.788571</td>\n",
       "      <td>0.011429</td>\n",
       "      <td>0.005714</td>\n",
       "      <td>0.091429</td>\n",
       "      <td>0.005714</td>\n",
       "    </tr>\n",
       "    <tr>\n",
       "      <th>std</th>\n",
       "      <td>1.000000e+00</td>\n",
       "      <td>1.000000e+00</td>\n",
       "      <td>0.075593</td>\n",
       "      <td>0.075593</td>\n",
       "      <td>0.460812</td>\n",
       "      <td>0.421117</td>\n",
       "      <td>0.221504</td>\n",
       "      <td>0.075593</td>\n",
       "      <td>0.075593</td>\n",
       "      <td>0.319071</td>\n",
       "      <td>...</td>\n",
       "      <td>0.243402</td>\n",
       "      <td>0.075593</td>\n",
       "      <td>0.075593</td>\n",
       "      <td>0.272072</td>\n",
       "      <td>0.075593</td>\n",
       "      <td>0.409493</td>\n",
       "      <td>0.106597</td>\n",
       "      <td>0.075593</td>\n",
       "      <td>0.289045</td>\n",
       "      <td>0.075593</td>\n",
       "    </tr>\n",
       "    <tr>\n",
       "      <th>min</th>\n",
       "      <td>-1.280952e+00</td>\n",
       "      <td>-3.081405e-01</td>\n",
       "      <td>0.000000</td>\n",
       "      <td>0.000000</td>\n",
       "      <td>0.000000</td>\n",
       "      <td>0.000000</td>\n",
       "      <td>0.000000</td>\n",
       "      <td>0.000000</td>\n",
       "      <td>0.000000</td>\n",
       "      <td>0.000000</td>\n",
       "      <td>...</td>\n",
       "      <td>0.000000</td>\n",
       "      <td>0.000000</td>\n",
       "      <td>0.000000</td>\n",
       "      <td>0.000000</td>\n",
       "      <td>0.000000</td>\n",
       "      <td>0.000000</td>\n",
       "      <td>0.000000</td>\n",
       "      <td>0.000000</td>\n",
       "      <td>0.000000</td>\n",
       "      <td>0.000000</td>\n",
       "    </tr>\n",
       "    <tr>\n",
       "      <th>25%</th>\n",
       "      <td>-5.589982e-01</td>\n",
       "      <td>-3.075796e-01</td>\n",
       "      <td>0.000000</td>\n",
       "      <td>0.000000</td>\n",
       "      <td>0.000000</td>\n",
       "      <td>0.000000</td>\n",
       "      <td>0.000000</td>\n",
       "      <td>0.000000</td>\n",
       "      <td>0.000000</td>\n",
       "      <td>0.000000</td>\n",
       "      <td>...</td>\n",
       "      <td>0.000000</td>\n",
       "      <td>0.000000</td>\n",
       "      <td>0.000000</td>\n",
       "      <td>0.000000</td>\n",
       "      <td>0.000000</td>\n",
       "      <td>1.000000</td>\n",
       "      <td>0.000000</td>\n",
       "      <td>0.000000</td>\n",
       "      <td>0.000000</td>\n",
       "      <td>0.000000</td>\n",
       "    </tr>\n",
       "    <tr>\n",
       "      <th>50%</th>\n",
       "      <td>-1.980215e-01</td>\n",
       "      <td>-1.539052e-01</td>\n",
       "      <td>0.000000</td>\n",
       "      <td>0.000000</td>\n",
       "      <td>1.000000</td>\n",
       "      <td>0.000000</td>\n",
       "      <td>0.000000</td>\n",
       "      <td>0.000000</td>\n",
       "      <td>0.000000</td>\n",
       "      <td>0.000000</td>\n",
       "      <td>...</td>\n",
       "      <td>0.000000</td>\n",
       "      <td>0.000000</td>\n",
       "      <td>0.000000</td>\n",
       "      <td>0.000000</td>\n",
       "      <td>0.000000</td>\n",
       "      <td>1.000000</td>\n",
       "      <td>0.000000</td>\n",
       "      <td>0.000000</td>\n",
       "      <td>0.000000</td>\n",
       "      <td>0.000000</td>\n",
       "    </tr>\n",
       "    <tr>\n",
       "      <th>75%</th>\n",
       "      <td>1.629552e-01</td>\n",
       "      <td>-2.771268e-02</td>\n",
       "      <td>0.000000</td>\n",
       "      <td>0.000000</td>\n",
       "      <td>1.000000</td>\n",
       "      <td>0.000000</td>\n",
       "      <td>0.000000</td>\n",
       "      <td>0.000000</td>\n",
       "      <td>0.000000</td>\n",
       "      <td>0.000000</td>\n",
       "      <td>...</td>\n",
       "      <td>0.000000</td>\n",
       "      <td>0.000000</td>\n",
       "      <td>0.000000</td>\n",
       "      <td>0.000000</td>\n",
       "      <td>0.000000</td>\n",
       "      <td>1.000000</td>\n",
       "      <td>0.000000</td>\n",
       "      <td>0.000000</td>\n",
       "      <td>0.000000</td>\n",
       "      <td>0.000000</td>\n",
       "    </tr>\n",
       "    <tr>\n",
       "      <th>max</th>\n",
       "      <td>7.743466e+00</td>\n",
       "      <td>1.231111e+01</td>\n",
       "      <td>1.000000</td>\n",
       "      <td>1.000000</td>\n",
       "      <td>1.000000</td>\n",
       "      <td>1.000000</td>\n",
       "      <td>1.000000</td>\n",
       "      <td>1.000000</td>\n",
       "      <td>1.000000</td>\n",
       "      <td>1.000000</td>\n",
       "      <td>...</td>\n",
       "      <td>1.000000</td>\n",
       "      <td>1.000000</td>\n",
       "      <td>1.000000</td>\n",
       "      <td>1.000000</td>\n",
       "      <td>1.000000</td>\n",
       "      <td>1.000000</td>\n",
       "      <td>1.000000</td>\n",
       "      <td>1.000000</td>\n",
       "      <td>1.000000</td>\n",
       "      <td>1.000000</td>\n",
       "    </tr>\n",
       "  </tbody>\n",
       "</table>\n",
       "<p>8 rows × 40 columns</p>\n",
       "</div>"
      ],
      "text/plain": [
       "                age        income  occupation_CEO  \\\n",
       "count  1.750000e+02  1.750000e+02      175.000000   \n",
       "mean   2.804106e-16  2.882615e-17        0.005714   \n",
       "std    1.000000e+00  1.000000e+00        0.075593   \n",
       "min   -1.280952e+00 -3.081405e-01        0.000000   \n",
       "25%   -5.589982e-01 -3.075796e-01        0.000000   \n",
       "50%   -1.980215e-01 -1.539052e-01        0.000000   \n",
       "75%    1.629552e-01 -2.771268e-02        0.000000   \n",
       "max    7.743466e+00  1.231111e+01        1.000000   \n",
       "\n",
       "       occupation_Entrepreneur_/_Software_Engineer  occupation_Student  \\\n",
       "count                                   175.000000          175.000000   \n",
       "mean                                      0.005714            0.697143   \n",
       "std                                       0.075593            0.460812   \n",
       "min                                       0.000000            0.000000   \n",
       "25%                                       0.000000            0.000000   \n",
       "50%                                       0.000000            1.000000   \n",
       "75%                                       0.000000            1.000000   \n",
       "max                                       1.000000            1.000000   \n",
       "\n",
       "       occupation_Student_+_working  occupation_Working  occupation_Working  \\\n",
       "count                    175.000000          175.000000          175.000000   \n",
       "mean                       0.228571            0.051429            0.005714   \n",
       "std                        0.421117            0.221504            0.075593   \n",
       "min                        0.000000            0.000000            0.000000   \n",
       "25%                        0.000000            0.000000            0.000000   \n",
       "50%                        0.000000            0.000000            0.000000   \n",
       "75%                        0.000000            0.000000            0.000000   \n",
       "max                        1.000000            1.000000            1.000000   \n",
       "\n",
       "       occupation_army  freq_Several_times_a_week           ...            \\\n",
       "count       175.000000                 175.000000           ...             \n",
       "mean          0.005714                   0.114286           ...             \n",
       "std           0.075593                   0.319071           ...             \n",
       "min           0.000000                   0.000000           ...             \n",
       "25%           0.000000                   0.000000           ...             \n",
       "50%           0.000000                   0.000000           ...             \n",
       "75%           0.000000                   0.000000           ...             \n",
       "max           1.000000                   1.000000           ...             \n",
       "\n",
       "       lifestyle_Sport  lifestyle_Sport_art_traveling  lifestyle_Student  \\\n",
       "count       175.000000                     175.000000         175.000000   \n",
       "mean          0.062857                       0.005714           0.005714   \n",
       "std           0.243402                       0.075593           0.075593   \n",
       "min           0.000000                       0.000000           0.000000   \n",
       "25%           0.000000                       0.000000           0.000000   \n",
       "50%           0.000000                       0.000000           0.000000   \n",
       "75%           0.000000                       0.000000           0.000000   \n",
       "max           1.000000                       1.000000           1.000000   \n",
       "\n",
       "       occasions_Birthdays  occasions_For_listening__good_music  \\\n",
       "count           175.000000                           175.000000   \n",
       "mean              0.080000                             0.005714   \n",
       "std               0.272072                             0.075593   \n",
       "min               0.000000                             0.000000   \n",
       "25%               0.000000                             0.000000   \n",
       "50%               0.000000                             0.000000   \n",
       "75%               0.000000                             0.000000   \n",
       "max               1.000000                             1.000000   \n",
       "\n",
       "       occasions_Hang_outs_with_friends  occasions_Never  occasions_Nowere  \\\n",
       "count                        175.000000       175.000000        175.000000   \n",
       "mean                           0.788571         0.011429          0.005714   \n",
       "std                            0.409493         0.106597          0.075593   \n",
       "min                            0.000000         0.000000          0.000000   \n",
       "25%                            1.000000         0.000000          0.000000   \n",
       "50%                            1.000000         0.000000          0.000000   \n",
       "75%                            1.000000         0.000000          0.000000   \n",
       "max                            1.000000         1.000000          1.000000   \n",
       "\n",
       "       occasions_Special_events/parties  occasions_chem_aycelum  \n",
       "count                        175.000000              175.000000  \n",
       "mean                           0.091429                0.005714  \n",
       "std                            0.289045                0.075593  \n",
       "min                            0.000000                0.000000  \n",
       "25%                            0.000000                0.000000  \n",
       "50%                            0.000000                0.000000  \n",
       "75%                            0.000000                0.000000  \n",
       "max                            1.000000                1.000000  \n",
       "\n",
       "[8 rows x 40 columns]"
      ]
     },
     "execution_count": 825,
     "metadata": {},
     "output_type": "execute_result"
    }
   ],
   "source": [
    "data_concat.describe()"
   ]
  },
  {
   "cell_type": "markdown",
   "metadata": {},
   "source": [
    "## Формирование X и Y\n",
    "\n",
    "Так как у нас не было классов изначально, \"разобьем\" наш параметр WTS на два класса:\n",
    "\n",
    "Класс 1: WTS <= среднего значения (\"мало/средне-тратящие в барах\" люди)\n",
    "\n",
    "Класс 2: WTS > среднего значения (\"многотратящие в барах\" люди)"
   ]
  },
  {
   "cell_type": "code",
   "execution_count": 826,
   "metadata": {
    "collapsed": false
   },
   "outputs": [
    {
     "name": "stdout",
     "output_type": "stream",
     "text": [
      "Index(['age', 'income', 'occupation_CEO',\n",
      "       'occupation_Entrepreneur_/_Software_Engineer', 'occupation_Student',\n",
      "       'occupation_Student_+_working', 'occupation_Working',\n",
      "       'occupation_Working', 'occupation_army', 'freq_Several_times_a_week',\n",
      "       'freq_Several_times_in_a_month', 'freq_rarely', 'prim_imp_Environment',\n",
      "       'prim_imp_Menu', 'prim_imp_Music', 'prim_imp_Pricing',\n",
      "       'sec_imp_Environment', 'sec_imp_Menu', 'sec_imp_Music',\n",
      "       'sec_imp_Pricing', 'stratum_Capital', 'stratum_Rural', 'stratum_Urban',\n",
      "       'lifestyle_Adventure/traveling/exploring', 'lifestyle_Art',\n",
      "       'lifestyle_Business_sports_dance', 'lifestyle_Busy',\n",
      "       'lifestyle_Nightlife', 'lifestyle_Passive', 'lifestyle_Rock_punk',\n",
      "       'lifestyle_Sport', 'lifestyle_Sport_art_traveling', 'lifestyle_Student',\n",
      "       'occasions_Birthdays', 'occasions_For_listening__good_music',\n",
      "       'occasions_Hang_outs_with_friends', 'occasions_Never',\n",
      "       'occasions_Nowere', 'occasions_Special_events/parties',\n",
      "       'occasions_chem_aycelum', 'gender'],\n",
      "      dtype='object')\n"
     ]
    }
   ],
   "source": [
    "X = data_concat\n",
    "Y = None\n",
    "Y_numeric = data['wts']\n",
    "Y_mean = np.mean(Y_numeric)\n",
    "Y = pd.Series(['C1' if val <= Y_mean else 'C2' for val in Y_numeric])\n",
    "feature_names = X.columns\n",
    "print(feature_names)"
   ]
  },
  {
   "cell_type": "code",
   "execution_count": 827,
   "metadata": {
    "collapsed": false
   },
   "outputs": [
    {
     "name": "stdout",
     "output_type": "stream",
     "text": [
      "(175, 41)\n",
      "(175,)\n"
     ]
    }
   ],
   "source": [
    "print(X.shape)\n",
    "print(Y.shape)"
   ]
  },
  {
   "cell_type": "code",
   "execution_count": 828,
   "metadata": {
    "collapsed": false
   },
   "outputs": [
    {
     "data": {
      "text/plain": [
       "pandas.core.series.Series"
      ]
     },
     "execution_count": 828,
     "metadata": {},
     "output_type": "execute_result"
    }
   ],
   "source": [
    "type(Y)"
   ]
  },
  {
   "cell_type": "markdown",
   "metadata": {},
   "source": [
    "#### Разбиение на обучающую и тестовую выборки"
   ]
  },
  {
   "cell_type": "code",
   "execution_count": 829,
   "metadata": {
    "collapsed": false
   },
   "outputs": [
    {
     "name": "stdout",
     "output_type": "stream",
     "text": [
      "122 53\n"
     ]
    }
   ],
   "source": [
    "from sklearn.model_selection import train_test_split\n",
    "# constant random_state to have repeatability\n",
    "X_train, X_test, Y_train, Y_test = train_test_split(X, Y, train_size=0.7, random_state=7)\n",
    "N_train, _ = X_train.shape\n",
    "N_test, _ = X_test.shape\n",
    "print(N_train, N_test)"
   ]
  },
  {
   "cell_type": "markdown",
   "metadata": {},
   "source": [
    "*Примеч.:* скопировано на будущее\n",
    "\n",
    "В библиотеке scikit-learn реализована масса алгоритмов машинного обучения.\n",
    "\n",
    "#### Некоторые алгоритмы машинного обучения, реализованные в scikit-learn:\n",
    "\n",
    " Метод                                     |  Класс\n",
    "-------------------------------------------|--------------------------------------------         \n",
    " kNN – $k$ ближайших соседей               | `sklearn.neighbors.KNeighborsClassifier`\n",
    " LDA – линейный дискриминантный анализ     | `sklearn.discriminant_analysis.LinearDiscriminantAnalysis`\n",
    " QDA – квадратичный дискриминантный анализ | `sklearn.discriminant_analysis.QuadraticDiscriminantAnalysis`\n",
    " Logistic – логистическая регрессия        | `sklearn.linear_model.LogisticRegression`\n",
    " SVC – машина опорных векторов             | `sklearn.svm.SVC`\n",
    " Tree – деревья решений                    | `sklearn.tree.DecisionTreeClassifier`\n",
    " RF – случайный лес                        | `sklearn.ensemble.RandomForestClassifier`\n",
    " ExtrRF – экстремально случайный лес       | ` `\n",
    " AdaBoost – алгоритм AdaBoost              | `sklearn.ensemble.AdaBoostClassifier`\n",
    " GBT – градиентный бустинг деревьев решений| `sklearn.ensemble.GradientBoostingClassifier`\n",
    " Нейронные сети                            | ` `\n",
    " \n",
    "\n",
    "\n",
    "\n",
    "#### Основные методы классов, реализующих алгоритмы машинного обучения\n",
    "Все алгоритмы выполнены в виде классов, обладающих по крайней мере следующими методами:\n",
    "\n",
    "\n",
    "\n",
    "   Метод класса            |  Описание     \n",
    " --------------------------|-------------------------------------------------------------\n",
    "  `fit(X, y)`              |  обучение (тренировка) модели на обучающей выборке `X`, `y`\n",
    "  `predict(X)`             |  предсказание на данных `X`\n",
    "  `set_params(**params)`   |  установка параметров алгоритма\n",
    "  `get_params()`           |  чтение параметров алгоритма\n",
    " \n",
    " Заметим, что параметры алгоритмов обучения можно задавать как в конструкторе класса, так и с помощью метода `set_params(**params)`.\n",
    " \n",
    " #### Таблица наличия/отсутствия методов для основных алгоритмов машинного обучения:\n",
    " \n",
    "    \n",
    "   Методы класса               | kNN | LDA | QDA | Logistic | SVC | Tree | RF | AdaBoost | GBT     \n",
    " ------------------------------|-----|-----|-----|----------|-----|------|----|----------|------\n",
    "  `fit(X, y)`                  |  +  |  +  |  +  |    +     |  +  |  +   | +  |    +     |  +\n",
    "  `predict(X)`                 |  +  |  +  |  +  |    +     |  +  |  +   | +  |    +     |  +\n",
    "  `predict_proba(X)`           |  +  |  +  |  +  |    +     |     |  +   | +  |    +     |  +\n",
    "  `predict_log_proba(X)`       |     |  +  |  +  |    +     |     |  +   | +  |    +     |  +\n",
    "  `score(X, y)`                |  +  |  +  |  +  |    +     |  +  |  +   | +  |    +     |  +\n",
    "  `decision_function(X)`       |     |  +  |  +  |    +     |  +  |      |    |    +     |  +\n",
    "  `transform(X)`               |     |  +  |     |    +     |     |  +   | +  |          |  +\n",
    "  `staged_decision_function(X)`|     |     |     |          |     |      |    |    +     |  +    \n",
    "  `staged_predict(X)`          |     |     |     |          |     |      |    |    +     |  +\n",
    "  `staged_predict_proba(X)`    |     |     |     |          |     |      |    |    +     |  +\n",
    "  `staged_score(X, y)`         |     |     |     |          |     |      |    |    +     |  +\n",
    "  `set_params(**params)`       |  +  |  +  |  +  |    +     |  +  |  +   | +  |    +     |  +\n",
    "  `get_params()`               |  +  |  +  |  +  |    +     |  +  |  +   | +  |    +     |  +\n",
    "    "
   ]
  },
  {
   "cell_type": "markdown",
   "metadata": {},
   "source": [
    "# $k$NN"
   ]
  },
  {
   "cell_type": "code",
   "execution_count": 830,
   "metadata": {
    "collapsed": false
   },
   "outputs": [
    {
     "data": {
      "text/plain": [
       "KNeighborsClassifier(algorithm='auto', leaf_size=30, metric='minkowski',\n",
       "           metric_params=None, n_jobs=1, n_neighbors=10, p=2,\n",
       "           weights='uniform')"
      ]
     },
     "execution_count": 830,
     "metadata": {},
     "output_type": "execute_result"
    }
   ],
   "source": [
    "from sklearn.neighbors import KNeighborsClassifier\n",
    "knn = KNeighborsClassifier(n_neighbors = 10) # run default\n",
    "knn.fit(X_train, Y_train)"
   ]
  },
  {
   "cell_type": "code",
   "execution_count": 831,
   "metadata": {
    "collapsed": false
   },
   "outputs": [
    {
     "data": {
      "text/plain": [
       "KNeighborsClassifier(algorithm='auto', leaf_size=30, metric='minkowski',\n",
       "           metric_params=None, n_jobs=1, n_neighbors=10, p=2,\n",
       "           weights='uniform')"
      ]
     },
     "execution_count": 831,
     "metadata": {},
     "output_type": "execute_result"
    }
   ],
   "source": [
    "knn"
   ]
  },
  {
   "cell_type": "code",
   "execution_count": 832,
   "metadata": {
    "collapsed": false
   },
   "outputs": [
    {
     "name": "stdout",
     "output_type": "stream",
     "text": [
      "0.377049180328 0.566037735849\n",
      "0.566037735849\n"
     ]
    }
   ],
   "source": [
    "Y_train_predict = knn.predict(X_train)\n",
    "Y_test_predict = knn.predict(X_test)\n",
    "\n",
    "err_train = np.mean(Y_train != Y_train_predict)\n",
    "err_test = np.mean(Y_test != Y_test_predict)\n",
    "\n",
    "print(err_train, err_test)\n",
    "\n",
    "err_test2 = 1 - knn.score(X_test, Y_test) # Другой способ\n",
    "print(err_test2)"
   ]
  },
  {
   "cell_type": "markdown",
   "metadata": {},
   "source": [
    "###### Получилась большая ошибка:\n",
    "\n",
    "- Плохо подобраны параметры алгоритма\n",
    "- Исходная выборка очень маленькая (175 записей), в принципе не стоит ожидать, что алгоритм сможет хорошо предсказывать результат на таком ничтожно малом наборе данных, особенно если мы заходим действительно спрогнозировать какую-то величину (которая не входит в изначальную выборку и находится \"далеко\" за пределами наших значений)"
   ]
  },
  {
   "cell_type": "code",
   "execution_count": 833,
   "metadata": {
    "collapsed": false
   },
   "outputs": [
    {
     "name": "stdout",
     "output_type": "stream",
     "text": [
      "[[18  5]\n",
      " [25  5]]\n"
     ]
    }
   ],
   "source": [
    "from sklearn.metrics import confusion_matrix\n",
    "\n",
    "print(confusion_matrix(Y_test, Y_test_predict))"
   ]
  },
  {
   "cell_type": "markdown",
   "metadata": {},
   "source": [
    "Из документации о confusion_matrix:\n",
    "\n",
    "> Thus in binary classification, the count of true negatives is C_{0,0}, false negatives is C_{1,0}, true positives is C_{1,1} and false positives is C_{0,1}.\n",
    "\n",
    "Таким образом,\n",
    "\n",
    "$k$NN нашел:\n",
    "- 9 \"true negatives\"\n",
    "- 16 \"false negatives\"\n",
    "- 4 \"true positives\"\n",
    "- 6 \"false positives\"\n",
    "\n",
    "Получается, что с параметрами по умолчанию, наш алгоритм чаще ошибается, чем оказывается прав"
   ]
  },
  {
   "cell_type": "markdown",
   "metadata": {},
   "source": [
    "#### Подбор параметров"
   ]
  },
  {
   "cell_type": "code",
   "execution_count": 834,
   "metadata": {
    "collapsed": false
   },
   "outputs": [
    {
     "data": {
      "text/plain": [
       "[1, 3, 5, 7, 9, 11, 13, 15, 17, 19]"
      ]
     },
     "execution_count": 834,
     "metadata": {},
     "output_type": "execute_result"
    }
   ],
   "source": [
    "from sklearn.model_selection import GridSearchCV\n",
    "\n",
    "n_neighbours = []\n",
    "for i in range(20):\n",
    "    if (i % 2 != 0):\n",
    "        n_neighbours.append(i)\n",
    "        pass\n",
    "    pass\n",
    "n_neighbours"
   ]
  },
  {
   "cell_type": "code",
   "execution_count": 835,
   "metadata": {
    "collapsed": false
   },
   "outputs": [
    {
     "data": {
      "text/plain": [
       "GridSearchCV(cv=None, error_score='raise',\n",
       "       estimator=KNeighborsClassifier(algorithm='auto', leaf_size=30, metric='minkowski',\n",
       "           metric_params=None, n_jobs=1, n_neighbors=5, p=2,\n",
       "           weights='uniform'),\n",
       "       fit_params={}, iid=True, n_jobs=1,\n",
       "       param_grid={'n_neighbors': [1, 3, 5, 7, 9, 11, 13, 15, 17, 19]},\n",
       "       pre_dispatch='2*n_jobs', refit=True, return_train_score=True,\n",
       "       scoring=None, verbose=0)"
      ]
     },
     "execution_count": 835,
     "metadata": {},
     "output_type": "execute_result"
    }
   ],
   "source": [
    "knn_default = KNeighborsClassifier()\n",
    "# using default cross-validation\n",
    "grid = GridSearchCV(knn_default, param_grid = {'n_neighbors': n_neighbours}, cv=None)\n",
    "grid.fit(X_train, Y_train)"
   ]
  },
  {
   "cell_type": "code",
   "execution_count": 836,
   "metadata": {
    "collapsed": false
   },
   "outputs": [
    {
     "name": "stdout",
     "output_type": "stream",
     "text": [
      "0.418032786885 5\n"
     ]
    }
   ],
   "source": [
    "best_cv_err = 1 - grid.best_score_\n",
    "best_n_neighbours = grid.best_estimator_.n_neighbors\n",
    "print(best_cv_err, best_n_neighbours)"
   ]
  },
  {
   "cell_type": "code",
   "execution_count": 837,
   "metadata": {
    "collapsed": false
   },
   "outputs": [
    {
     "name": "stdout",
     "output_type": "stream",
     "text": [
      "0.245901639344 0.566037735849\n"
     ]
    }
   ],
   "source": [
    "knn_smart = KNeighborsClassifier(n_neighbors=best_n_neighbours).fit(X_train, Y_train)\n",
    "\n",
    "err_train_smart = np.mean(Y_train != knn_smart.predict(X_train))\n",
    "err_test_smart  = np.mean(Y_test  != knn_smart.predict(X_test))\n",
    "\n",
    "print(err_train_smart, err_test_smart)"
   ]
  },
  {
   "cell_type": "markdown",
   "metadata": {},
   "source": [
    "# LDA & QDA: дискриминантный анализ\n",
    "\n",
    "Dataset: [armenian pubs](https://www.kaggle.com/erikhambardzumyan/pubs)\n",
    "\n",
    "Подробнее о данных можно узнать в [предыдущей работе](https://github.com/andrgolubev/python-sandbox/blob/master/data_analysis_1.ipynb)\n"
   ]
  },
  {
   "cell_type": "markdown",
   "metadata": {},
   "source": [
    "## Плюсы и минусы методов LDA и QDA\n",
    "\n",
    "**Плюсы**\n",
    "\n",
    "* Простые методы\n",
    "* Показывают хорошие результаты, когда данные имеют нормальное распределение или близки к нему\n",
    "* Достаточно устойчивы к выбросам \n",
    "* Можно использовать для понижения размерности\n",
    "\n",
    "**Минусы**\n",
    "\n",
    "* Показывают плохие результаты, когда разделяющие поверхности слишком сложные\n",
    "* Работают только с числовыми признаками\n",
    "* Нет естественного способа обработки пропущенных значений\n",
    "* Чувствительны к масштабированию"
   ]
  },
  {
   "cell_type": "code",
   "execution_count": 1,
   "metadata": {
    "collapsed": true
   },
   "outputs": [],
   "source": [
    "import numpy as np\n",
    "import matplotlib.pyplot as plt\n",
    "import pandas as pd\n",
    "%matplotlib inline"
   ]
  },
  {
   "cell_type": "markdown",
   "metadata": {},
   "source": [
    "Предобработка данных (подробнее процесс описан в работе №1)\n",
    "\n",
    "Используем собственную функцию для получения и обработки данных - все до момента разделения на X и Y"
   ]
  },
  {
   "cell_type": "code",
   "execution_count": 2,
   "metadata": {
    "collapsed": true
   },
   "outputs": [],
   "source": [
    "import data_retrieve as dr"
   ]
  },
  {
   "cell_type": "code",
   "execution_count": 3,
   "metadata": {
    "collapsed": true
   },
   "outputs": [],
   "source": [
    "X, data = dr.parse_and_prepare(\"armenian_pubs.csv\", sep=\",\", engine=\"python\")"
   ]
  },
  {
   "cell_type": "markdown",
   "metadata": {},
   "source": [
    "#### Формируем X и Y\n",
    "\n",
    "Для простоты дальнейшего использования в визуализации добавим Y, где классы представляются целочисленными значениями:\n",
    "- 'C1' <=> 0\n",
    "- 'C2' <=> 1"
   ]
  },
  {
   "cell_type": "code",
   "execution_count": 4,
   "metadata": {
    "collapsed": false
   },
   "outputs": [
    {
     "name": "stdout",
     "output_type": "stream",
     "text": [
      "Index(['age', 'income', 'occupation_CEO',\n",
      "       'occupation_Entrepreneur_/_Software_Engineer', 'occupation_Student',\n",
      "       'occupation_Student_+_working', 'occupation_Working',\n",
      "       'occupation_Working', 'occupation_army', 'freq_Several_times_a_week',\n",
      "       'freq_Several_times_in_a_month', 'freq_rarely', 'prim_imp_Environment',\n",
      "       'prim_imp_Menu', 'prim_imp_Music', 'prim_imp_Pricing',\n",
      "       'sec_imp_Environment', 'sec_imp_Menu', 'sec_imp_Music',\n",
      "       'sec_imp_Pricing', 'stratum_Capital', 'stratum_Rural', 'stratum_Urban',\n",
      "       'lifestyle_Adventure/traveling/exploring', 'lifestyle_Art',\n",
      "       'lifestyle_Business_sports_dance', 'lifestyle_Busy',\n",
      "       'lifestyle_Nightlife', 'lifestyle_Passive', 'lifestyle_Rock_punk',\n",
      "       'lifestyle_Sport', 'lifestyle_Sport_art_traveling', 'lifestyle_Student',\n",
      "       'occasions_Birthdays', 'occasions_For_listening__good_music',\n",
      "       'occasions_Hang_outs_with_friends', 'occasions_Never',\n",
      "       'occasions_Nowere', 'occasions_Special_events/parties',\n",
      "       'occasions_chem_aycelum', 'gender'],\n",
      "      dtype='object')\n"
     ]
    }
   ],
   "source": [
    "Y = None\n",
    "Y_numeric = data['wts']\n",
    "Y_mean = np.mean(Y_numeric)\n",
    "Y = pd.Series(['C1' if val <= Y_mean else 'C2' for val in Y_numeric])\n",
    "intY = pd.Series([0 if val is 'C1' else 1 for val in Y])\n",
    "feature_names = X.columns\n",
    "print(feature_names)\n",
    "# print(\"Y:\\n\", Y[:5])\n",
    "# print(\"Y в виде целочисленных значений:\\n\", intY[:5])"
   ]
  },
  {
   "cell_type": "code",
   "execution_count": 5,
   "metadata": {
    "collapsed": false
   },
   "outputs": [
    {
     "name": "stdout",
     "output_type": "stream",
     "text": [
      "(175, 41)\n",
      "(175,)\n"
     ]
    }
   ],
   "source": [
    "print(X.shape)\n",
    "print(Y.shape)"
   ]
  },
  {
   "cell_type": "markdown",
   "metadata": {},
   "source": [
    "#### Разбиение на обучающую и тестовую выборки"
   ]
  },
  {
   "cell_type": "code",
   "execution_count": 6,
   "metadata": {
    "collapsed": false
   },
   "outputs": [
    {
     "name": "stdout",
     "output_type": "stream",
     "text": [
      "122 53\n"
     ]
    }
   ],
   "source": [
    "from sklearn.model_selection import train_test_split\n",
    "# constant random_state to have repeatability\n",
    "X_train, X_test, Y_train, Y_test = train_test_split(X, Y, train_size=0.7, random_state=7)\n",
    "N_train, _ = X_train.shape\n",
    "N_test, _ = X_test.shape\n",
    "intY = pd.Series([0 if val is 'C1' else 1 for val in Y_train])\n",
    "print(N_train, N_test)"
   ]
  },
  {
   "cell_type": "markdown",
   "metadata": {},
   "source": [
    "## Линейный дискриминантный анализ\n",
    "\n",
    "_Априорная вероятность_:\n",
    "\n",
    "$$\n",
    "{\\rm Pr\\,} y\n",
    "$$\n",
    "\n",
    "_Апостериорная вероятность_:\n",
    "\n",
    "$$\n",
    "{\\rm Pr\\,}(y \\mid x) = \\frac{p(x\\mid y)\\, {\\rm Pr\\,} y}{p(x)}\\ \n",
    "$$\n",
    "\n",
    "Линейный дискриминантный анализ (LDA) делает два предположения:\n",
    "\n",
    " - объекты каждого класса распределены по нормальному закону:\n",
    "\n",
    "$$\n",
    "p(x\\mid y) = \\frac{1}{\\sqrt{(2\\pi)^d\\det\\Sigma_y}}e^{-\\frac{1}{2}(x-\\mu_y)^{\\top}\\Sigma_y^{-1}(x-\\mu_y)}\n",
    "$$\n",
    "\n",
    " - матрицы ковариации $\\Sigma = \\Sigma_y$ одинаковы для всех классов\n",
    " \n",
    " \n",
    "Нам нужно сравнить две апостериорные вероятности:\n",
    "\n",
    "$$\n",
    "{\\rm Pr\\,}(y \\mid x) > {\\rm Pr\\,}(y' \\mid x)\n",
    "$$\n",
    "\n",
    "Подставляя выражения для $p(x\\mid y)$ и $p(x\\mid y')$ и логарифмируя, приходим к неравенству:\n",
    "\n",
    "$$\n",
    "{-\\frac{1}{2}(x-\\mu_y)^{\\top}\\Sigma^{-1}(x-\\mu_y)} + \\ln {\\rm Pr\\,} y\n",
    ">\n",
    "{-\\frac{1}{2}(x-\\mu_{y'})^{\\top}\\Sigma^{-1}(x-\\mu_{y'})} + \\ln {\\rm Pr\\,} y'\n",
    "$$\n",
    "\n",
    "Откуда\n",
    "\n",
    "$$\n",
    "(\\mu_y - \\mu_{y'})^{\\top} \\Sigma^{-1} x >\n",
    "\\frac{1}{2}\\mu_{y}^{\\top}\\Sigma^{-1}\\mu_{y} - \\frac{1}{2}\\mu_{y'}^{\\top}\\Sigma^{-1}\\mu_{y'}\n",
    "- \\ln {\\rm Pr\\,} y+ \\ln {\\rm Pr\\,} y'\n",
    "$$\n",
    "т. е.\n",
    "$$\n",
    "w^{\\top} x > c,\n",
    "$$\n",
    "где $w = (\\mu_y - \\mu_{y'})^{\\top} \\Sigma^{-1}$, а $c$ – некоторая константа.\n",
    "\n",
    "Таким образом, \n",
    "\n",
    "* уравнение $w^{\\top} x = c$ задает разделяющую гиперплоскость между классами $y$ и $y'$\n",
    "* важна линейная комбинация признаков $x$ с коэффициентами $w$\n",
    "\n",
    "Введем _линейную дискриминантную функцию_:\n",
    "$$\n",
    "\\delta_y(x) = \n",
    "- \\frac{1}{2}(x-\\mu_y)^{\\top}\\Sigma^{-1}(x-\\mu_y) + \\frac{1}{2}x^{\\top}\\Sigma^{-1}x + \\ln {\\rm Pr}\\,y\n",
    "= \\mu_y^{\\top} \\Sigma^{-1} x  - \\frac{1}{2}\\mu_y^{\\top}\\Sigma^{-1}\\mu_y + \\ln {\\rm Pr}\\,y\n",
    "$$\n",
    "\n",
    "Классификатор: объект $x$ относим к тому классу $y$, для которого $\\delta_y(x)$ максимальна.\n",
    "\n",
    "Здесь \n",
    "$$\n",
    "\\rho(x,x') = \\sqrt{(x-x')^{\\top}\\Sigma^{-1}(x-x')}\n",
    "$$\n",
    "– это _расстояние Махаланобиса_.\n"
   ]
  },
  {
   "cell_type": "markdown",
   "metadata": {},
   "source": [
    "### Пример данных и LDA"
   ]
  },
  {
   "cell_type": "code",
   "execution_count": 7,
   "metadata": {
    "collapsed": false
   },
   "outputs": [
    {
     "data": {
      "image/png": "[encoded data removed]",
      "text/plain": [
       "<matplotlib.figure.Figure at 0x7f2abf315048>"
      ]
     },
     "metadata": {},
     "output_type": "display_data"
    }
   ],
   "source": [
    "import mysk\n",
    "Z, r = mysk.generate_points(seed = 5)\n",
    "mysk.draw_points(Z, r)\n",
    "mysk.draw_centers()\n",
    "mysk.draw_bayes_sep_curve()"
   ]
  },
  {
   "cell_type": "code",
   "execution_count": 8,
   "metadata": {
    "collapsed": false
   },
   "outputs": [
    {
     "data": {
      "text/plain": [
       "<matplotlib.collections.PathCollection at 0x7f2aab7d4278>"
      ]
     },
     "execution_count": 8,
     "metadata": {},
     "output_type": "execute_result"
    },
    {
     "data": {
      "image/png": "[encoded data removed]",
      "text/plain": [
       "<matplotlib.figure.Figure at 0x7f2ab511bb70>"
      ]
     },
     "metadata": {},
     "output_type": "display_data"
    }
   ],
   "source": [
    "from sklearn import discriminant_analysis\n",
    "lda_model_ex = discriminant_analysis.LinearDiscriminantAnalysis()\n",
    "lda_model_ex.fit(Z, r)\n",
    "\n",
    "mysk.draw_points(Z, r)\n",
    "mysk.draw_sep_curve(lda_model_ex)\n",
    "mysk.draw_bayes()\n",
    "plt.scatter(lda_model_ex.means_[:, 0], lda_model_ex.means_[:, 1], color = ['b', 'r'], s = 100)"
   ]
  },
  {
   "cell_type": "markdown",
   "metadata": {},
   "source": [
    "### LDA: наши данные"
   ]
  },
  {
   "cell_type": "code",
   "execution_count": 9,
   "metadata": {
    "collapsed": false
   },
   "outputs": [
    {
     "name": "stderr",
     "output_type": "stream",
     "text": [
      "/home/abay/anaconda3/lib/python3.6/site-packages/sklearn/discriminant_analysis.py:387: UserWarning: Variables are collinear.\n",
      "  warnings.warn(\"Variables are collinear.\")\n"
     ]
    },
    {
     "data": {
      "text/plain": [
       "LinearDiscriminantAnalysis(n_components=None, priors=None, shrinkage=None,\n",
       "              solver='svd', store_covariance=False, tol=0.0001)"
      ]
     },
     "execution_count": 9,
     "metadata": {},
     "output_type": "execute_result"
    }
   ],
   "source": [
    "from sklearn import discriminant_analysis\n",
    "lda_model = discriminant_analysis.LinearDiscriminantAnalysis()\n",
    "lda_model.fit(X_train, Y_train)"
   ]
  },
  {
   "cell_type": "markdown",
   "metadata": {},
   "source": [
    "#### Важно\n",
    "\n",
    "Для наших данных LDA выдает следующее предупреждение: \"Variables are collinear\"\n",
    "\n",
    "Что это означает?\n",
    "Между данными векорами признаков есть корреляция:\n",
    "\n",
    " - LDA вычисляет обратную матрицу в ходе регрессионного анализа. В случае, если несколько признаков образуют линейную комбинацию (или почти образуют), определитель матрицы будет принимать значения близкие к 0 или 0, что означает, что нельзя посчитать обратную матрицу\n",
    " \n",
    " - Более того, тяжелее становится проинтерпретировать полученные коэффициенты. Например: если увеличение X1 влечет за собой снижение X2, но при этом X1 & X2 увеличивают выходное значение Y: каждое изменение в X1 будет \"сглаживаться\" изменением X2 и эффект влияния X1 на Y будет неявно уменьшен"
   ]
  },
  {
   "cell_type": "code",
   "execution_count": 10,
   "metadata": {
    "collapsed": false
   },
   "outputs": [
    {
     "data": {
      "text/plain": [
       "(0.0, 1.0)"
      ]
     },
     "execution_count": 10,
     "metadata": {},
     "output_type": "execute_result"
    },
    {
     "data": {
      "image/png": "[encoded data removed]",
      "text/plain": [
       "<matplotlib.figure.Figure at 0x7f2aab768208>"
      ]
     },
     "metadata": {},
     "output_type": "display_data"
    }
   ],
   "source": [
    "from numpy import array\n",
    "from matplotlib.pyplot import scatter\n",
    "xx0_min, xx0_max = plt.xlim()\n",
    "xx1_min, xx1_max = plt.ylim()\n",
    "vX = X_train.values # taking raw values from DataFrame for visualization\n",
    "mysk.draw_points(vX, intY)\n",
    "mysk.draw_bayes()\n",
    "# plt.xlim((xx0_min, xx0_max))\n",
    "plt.ylim((xx1_min, xx1_max))"
   ]
  },
  {
   "cell_type": "markdown",
   "metadata": {},
   "source": [
    "#### Замечание\n",
    "\n",
    "Так как размерность наших признаков - 41 (число столбцов), невозможно построить график в 41-мерном пространстве"
   ]
  },
  {
   "cell_type": "markdown",
   "metadata": {},
   "source": [
    "На графике видно, что классы тесно пересекаются:"
   ]
  },
  {
   "cell_type": "code",
   "execution_count": 11,
   "metadata": {
    "collapsed": false
   },
   "outputs": [
    {
     "data": {
      "text/plain": [
       "<matplotlib.collections.PathCollection at 0x7f2aab215ba8>"
      ]
     },
     "execution_count": 11,
     "metadata": {},
     "output_type": "execute_result"
    },
    {
     "data": {
      "image/png": "[encoded data removed]",
      "text/plain": [
       "<matplotlib.figure.Figure at 0x7f2aab292d30>"
      ]
     },
     "metadata": {},
     "output_type": "display_data"
    }
   ],
   "source": [
    "vX = X_train.values # taking raw values from DataFrame for visualization\n",
    "mysk.draw_points(vX, intY)\n",
    "mysk.draw_bayes()\n",
    "plt.scatter(lda_model.means_[:, 0], lda_model.means_[:, 1], color = ['b', 'r'], s = Y.shape)\n",
    "# _, features_number = X.shape\n",
    "# dr.draw_sep_curve_and_reshape(model=lda_model, n_dims=features_number)"
   ]
  },
  {
   "cell_type": "markdown",
   "metadata": {},
   "source": [
    "#### Средние значения признаков в получившейся модели для заданных классов"
   ]
  },
  {
   "cell_type": "code",
   "execution_count": 12,
   "metadata": {
    "collapsed": false
   },
   "outputs": [
    {
     "data": {
      "text/plain": [
       "array([[ 0.12333333,  0.01308642,  0.        ,  0.        ,  0.77777778,\n",
       "         0.19444444,  0.01388889,  0.        ,  0.01388889,  0.09722222,\n",
       "         0.48611111,  0.41666667,  0.69444444,  0.04166667,  0.20833333,\n",
       "         0.05555556,  0.16666667,  0.19444444,  0.38888889,  0.25      ,\n",
       "         0.81944444,  0.        ,  0.18055556,  0.20833333,  0.18055556,\n",
       "         0.        ,  0.41666667,  0.04166667,  0.01388889,  0.02777778,\n",
       "         0.05555556,  0.        ,  0.        ,  0.04166667,  0.01388889,\n",
       "         0.77777778,  0.01388889,  0.01388889,  0.09722222,  0.01388889,\n",
       "         0.65277778],\n",
       "       [ 0.1624    ,  0.03806844,  0.02      ,  0.02      ,  0.56      ,\n",
       "         0.3       ,  0.08      ,  0.02      ,  0.        ,  0.06      ,\n",
       "         0.32      ,  0.62      ,  0.76      ,  0.        ,  0.2       ,\n",
       "         0.04      ,  0.14      ,  0.3       ,  0.36      ,  0.2       ,\n",
       "         0.82      ,  0.        ,  0.18      ,  0.2       ,  0.08      ,\n",
       "         0.02      ,  0.5       ,  0.02      ,  0.        ,  0.06      ,\n",
       "         0.08      ,  0.        ,  0.02      ,  0.1       ,  0.        ,\n",
       "         0.82      ,  0.        ,  0.        ,  0.08      ,  0.        ,\n",
       "         0.44      ]])"
      ]
     },
     "execution_count": 12,
     "metadata": {},
     "output_type": "execute_result"
    }
   ],
   "source": [
    "lda_model.means_"
   ]
  },
  {
   "cell_type": "markdown",
   "metadata": {},
   "source": [
    "#### Подсчет ошибок"
   ]
  },
  {
   "cell_type": "code",
   "execution_count": 13,
   "metadata": {
    "collapsed": false
   },
   "outputs": [
    {
     "name": "stdout",
     "output_type": "stream",
     "text": [
      "0.245901639344 0.547169811321\n"
     ]
    }
   ],
   "source": [
    "err_train = np.mean(Y_train != lda_model.predict(X_train))\n",
    "err_test = np.mean(Y_test != lda_model.predict(X_test))\n",
    "print(err_train, err_test)"
   ]
  },
  {
   "cell_type": "markdown",
   "metadata": {},
   "source": [
    "#### Априорные вероятности\n",
    "\n",
    "Так как Y - бинарный: \"C1\" или \"C2\", то вероятностей 2:\n",
    "\n",
    "${\\rm Pr\\,}(y=\"C1\")$ и ${\\rm Pr\\,}(y=\"C2\")$\n"
   ]
  },
  {
   "cell_type": "code",
   "execution_count": 14,
   "metadata": {
    "collapsed": false
   },
   "outputs": [
    {
     "name": "stdout",
     "output_type": "stream",
     "text": [
      "[ 0.59016393  0.40983607]\n"
     ]
    }
   ],
   "source": [
    "print(lda_model.priors_)"
   ]
  },
  {
   "cell_type": "markdown",
   "metadata": {},
   "source": [
    "#### Коэффициенты\n",
    "\n",
    "Получившиеся коэффициенты: $w^{\\top}$\n",
    "\n",
    "Например, из уравнения: $w^{\\top} x = c$\n",
    "\n",
    "Их количество должно быть равно количеству признаков"
   ]
  },
  {
   "cell_type": "code",
   "execution_count": 15,
   "metadata": {
    "collapsed": false
   },
   "outputs": [
    {
     "name": "stdout",
     "output_type": "stream",
     "text": [
      "[[  2.37075776e+00  -4.58128645e+00   2.10767816e+00   5.17232886e+00\n",
      "   -7.41749883e-01   1.99646192e-01   1.21301496e+00   3.04227860e+00\n",
      "   -1.77944363e+00  -3.31664977e-01  -6.57247031e-01   7.51482222e-01\n",
      "    1.05001210e-01  -5.40917019e-01  -2.21385970e-01   5.95563132e-01\n",
      "   -3.79666938e-01   9.13463047e-01  -2.73701594e-01  -2.77886053e-01\n",
      "   -2.10969343e-01  -1.86863504e-16   2.10969343e-01   1.23220214e+00\n",
      "    8.90492983e-01   2.10767816e+00   1.62332323e+00   2.63104288e-01\n",
      "   -4.99555485e-01   2.67989597e+00   1.20127762e+00   6.66996963e-17\n",
      "    4.41092418e+00   4.92057144e+00   2.03745760e+00   3.56888495e+00\n",
      "   -1.19991176e+00   1.15680894e+00   3.23290407e+00  -5.62234062e-01\n",
      "   -1.05538478e+00]]\n",
      "LDA coeffs. size:  41\n",
      "Features size:  41\n"
     ]
    }
   ],
   "source": [
    "print(lda_model.coef_)\n",
    "_, features_number = X.shape\n",
    "print(\"LDA coeffs. size: \", len(lda_model.coef_[0]))\n",
    "print(\"Features size: \", features_number)"
   ]
  },
  {
   "cell_type": "markdown",
   "metadata": {},
   "source": [
    "## Квадратичный дискриминантный анализ"
   ]
  },
  {
   "cell_type": "markdown",
   "metadata": {},
   "source": [
    "### Пример данных и QDA"
   ]
  },
  {
   "cell_type": "code",
   "execution_count": 16,
   "metadata": {
    "collapsed": false
   },
   "outputs": [
    {
     "data": {
      "text/plain": [
       "<matplotlib.collections.PathCollection at 0x7f2aab147ac8>"
      ]
     },
     "execution_count": 16,
     "metadata": {},
     "output_type": "execute_result"
    },
    {
     "data": {
      "image/png": "[encoded data removed]",
      "text/plain": [
       "<matplotlib.figure.Figure at 0x7f2aab2bafd0>"
      ]
     },
     "metadata": {},
     "output_type": "display_data"
    }
   ],
   "source": [
    "qda_model_ex = discriminant_analysis.QuadraticDiscriminantAnalysis()\n",
    "qda_model_ex.fit(Z, r)\n",
    "\n",
    "mysk.draw_points(Z, r)\n",
    "mysk.draw_sep_curve(qda_model_ex)\n",
    "mysk.draw_bayes()\n",
    "plt.scatter(qda_model_ex.means_[:, 0], qda_model_ex.means_[:, 1], color = ['b', 'r'], s = 100)"
   ]
  },
  {
   "cell_type": "markdown",
   "metadata": {},
   "source": [
    "### QDA: наши данные"
   ]
  },
  {
   "cell_type": "code",
   "execution_count": 17,
   "metadata": {
    "collapsed": false
   },
   "outputs": [
    {
     "name": "stderr",
     "output_type": "stream",
     "text": [
      "/home/abay/anaconda3/lib/python3.6/site-packages/sklearn/discriminant_analysis.py:695: UserWarning: Variables are collinear\n",
      "  warnings.warn(\"Variables are collinear\")\n"
     ]
    },
    {
     "data": {
      "text/plain": [
       "QuadraticDiscriminantAnalysis(priors=None, reg_param=0.0,\n",
       "               store_covariances=False, tol=0.0001)"
      ]
     },
     "execution_count": 17,
     "metadata": {},
     "output_type": "execute_result"
    }
   ],
   "source": [
    "qda_model = discriminant_analysis.QuadraticDiscriminantAnalysis()\n",
    "qda_model.fit(X, Y)"
   ]
  },
  {
   "cell_type": "code",
   "execution_count": 18,
   "metadata": {
    "collapsed": false
   },
   "outputs": [
    {
     "data": {
      "text/plain": [
       "<matplotlib.collections.PathCollection at 0x7f2aab0dfcc0>"
      ]
     },
     "execution_count": 18,
     "metadata": {},
     "output_type": "execute_result"
    },
    {
     "data": {
      "image/png": "[encoded data removed]",
      "text/plain": [
       "<matplotlib.figure.Figure at 0x7f2aab2ba2b0>"
      ]
     },
     "metadata": {},
     "output_type": "display_data"
    }
   ],
   "source": [
    "mysk.draw_points(vX, intY)\n",
    "mysk.draw_bayes()\n",
    "plt.scatter(qda_model.means_[:, 0], qda_model.means_[:, 1], color = ['b', 'r'], s = Y.shape)"
   ]
  },
  {
   "cell_type": "markdown",
   "metadata": {},
   "source": [
    "#### Ошибки"
   ]
  },
  {
   "cell_type": "code",
   "execution_count": 19,
   "metadata": {
    "collapsed": false
   },
   "outputs": [
    {
     "name": "stdout",
     "output_type": "stream",
     "text": [
      "0.337142857143 0.547169811321\n"
     ]
    }
   ],
   "source": [
    "err_train = np.mean(Y != lda_model.predict(X))\n",
    "err_test = np.mean(Y_test != lda_model.predict(X_test))\n",
    "print(err_train, err_test)"
   ]
  },
  {
   "cell_type": "markdown",
   "metadata": {},
   "source": [
    "## LDA для понижения размерности"
   ]
  },
  {
   "cell_type": "markdown",
   "metadata": {},
   "source": [
    "### Пример данных"
   ]
  },
  {
   "cell_type": "code",
   "execution_count": 20,
   "metadata": {
    "collapsed": true
   },
   "outputs": [],
   "source": [
    "from sklearn import datasets\n",
    "iris = datasets.load_iris()\n",
    "\n",
    "X_iris = iris.data\n",
    "y_iris = iris.target\n",
    "names = iris.target_names\n",
    "\n",
    "lda_model = discriminant_analysis.LinearDiscriminantAnalysis(n_components = 2)\n",
    "lda_model.fit(X_iris, y_iris)\n",
    "X_iris_lda = lda_model.transform(X_iris) # projected data"
   ]
  },
  {
   "cell_type": "code",
   "execution_count": 21,
   "metadata": {
    "collapsed": false
   },
   "outputs": [
    {
     "data": {
      "image/png": "[encoded data removed]",
      "text/plain": [
       "<matplotlib.figure.Figure at 0x7f2aab1ff0f0>"
      ]
     },
     "metadata": {},
     "output_type": "display_data"
    }
   ],
   "source": [
    "plt.scatter(X_iris[y_iris == 0, 0], X_iris[y_iris == 0, 3], color = 'b', label = names[0], alpha = 0.7)\n",
    "plt.scatter(X_iris[y_iris == 1, 0], X_iris[y_iris == 1, 3], color = 'r', label = names[1], alpha = 0.7)\n",
    "plt.scatter(X_iris[y_iris == 2, 0], X_iris[y_iris == 2, 3], color = 'g', label = names[2], alpha = 0.7)\n",
    "\n",
    "plt.legend(loc = 4)\n",
    "pass"
   ]
  },
  {
   "cell_type": "code",
   "execution_count": 22,
   "metadata": {
    "collapsed": false
   },
   "outputs": [
    {
     "data": {
      "image/png": "[encoded data removed]",
      "text/plain": [
       "<matplotlib.figure.Figure at 0x7f2aab0f8160>"
      ]
     },
     "metadata": {},
     "output_type": "display_data"
    }
   ],
   "source": [
    "plt.scatter(X_iris_lda[y_iris == 0, 0], X_iris_lda[y_iris == 0, 1], color = 'b', label = names[0], alpha = 0.7)\n",
    "plt.scatter(X_iris_lda[y_iris == 1, 0], X_iris_lda[y_iris == 1, 1], color = 'r', label = names[1], alpha = 0.7)\n",
    "plt.scatter(X_iris_lda[y_iris == 2, 0], X_iris_lda[y_iris == 2, 1], color = 'g', label = names[2], alpha = 0.7)\n",
    "\n",
    "plt.legend(loc = 9)\n",
    "pass"
   ]
  },
  {
   "cell_type": "markdown",
   "metadata": {},
   "source": [
    "### Наши данные"
   ]
  },
  {
   "cell_type": "code",
   "execution_count": 23,
   "metadata": {
    "collapsed": false
   },
   "outputs": [
    {
     "name": "stderr",
     "output_type": "stream",
     "text": [
      "/home/abay/anaconda3/lib/python3.6/site-packages/sklearn/discriminant_analysis.py:387: UserWarning: Variables are collinear.\n",
      "  warnings.warn(\"Variables are collinear.\")\n"
     ]
    }
   ],
   "source": [
    "data_names = [\"C1\", \"C2\"]\n",
    "\n",
    "lda_model2 = discriminant_analysis.LinearDiscriminantAnalysis(n_components = 2)\n",
    "lda_model2.fit(X, Y)\n",
    "X_projected = lda_model2.transform(X)"
   ]
  },
  {
   "cell_type": "code",
   "execution_count": 24,
   "metadata": {
    "collapsed": false
   },
   "outputs": [
    {
     "name": "stdout",
     "output_type": "stream",
     "text": [
      "X.shape:  (175, 41)\n",
      "X_projected.shape:  (175, 1)\n",
      "Y.shape:  (175,)\n"
     ]
    }
   ],
   "source": [
    "print(\"X.shape: \", X.shape)\n",
    "print(\"X_projected.shape: \", X_projected.shape)\n",
    "print(\"Y.shape: \", Y.shape)"
   ]
  },
  {
   "cell_type": "markdown",
   "metadata": {},
   "source": [
    "На графике ниже видно, что данные не отличимы"
   ]
  },
  {
   "cell_type": "code",
   "execution_count": 25,
   "metadata": {
    "collapsed": false
   },
   "outputs": [
    {
     "data": {
      "image/png": "[encoded data removed]",
      "text/plain": [
       "<matplotlib.figure.Figure at 0x7f2aab2d0e80>"
      ]
     },
     "metadata": {},
     "output_type": "display_data"
    }
   ],
   "source": [
    "X_arr = X.values\n",
    "plt.scatter(X_arr[Y == 'C1', 0], X_arr[Y == 'C1', 40], color = 'b', label = data_names[0], alpha = 0.3)\n",
    "plt.scatter(X_arr[Y == 'C2', 0], X_arr[Y == 'C2', 40], color = 'r', label = data_names[1], alpha = 0.3)\n",
    "\n",
    "plt.legend(loc = 4)\n",
    "pass"
   ]
  },
  {
   "cell_type": "code",
   "execution_count": 26,
   "metadata": {
    "collapsed": false
   },
   "outputs": [
    {
     "data": {
      "image/png": "[encoded data removed]",
      "text/plain": [
       "<matplotlib.figure.Figure at 0x7f2aab79e978>"
      ]
     },
     "metadata": {},
     "output_type": "display_data"
    }
   ],
   "source": [
    "plt.scatter(X_projected[Y == 'C1', 0], X_projected[Y == 'C1', 0], color = 'b', label = data_names[0], alpha = 0.3)\n",
    "plt.scatter(X_projected[Y == 'C2', 0], X_projected[Y == 'C2', 0], color = 'r', label = data_names[1], alpha = 0.3)\n",
    "\n",
    "plt.legend(loc = 4)\n",
    "pass"
   ]
  },
  {
   "cell_type": "markdown",
   "metadata": {},
   "source": [
    "После применения проекции (LDA.transform(...)) стало возможным различить (хотя бы как-то) множество признаков:\n",
    "- Y = 'C1': стремится к нижнему левому углу \n",
    "- Y = 'C2': стремится к верхнему правому углу"
   ]
  },
  {
   "cell_type": "markdown",
   "metadata": {},
   "source": [
    "## Логистическая регрессия\n",
    "\n",
    "Dataset: [armenian pubs](https://www.kaggle.com/erikhambardzumyan/pubs)\n",
    "\n",
    "Подробнее о данных можно узнать в [первой работе](https://github.com/andrgolubev/python-sandbox/blob/master/data_analysis_1.ipynb)"
   ]
  },
  {
   "cell_type": "code",
   "execution_count": 1,
   "metadata": {
    "collapsed": true
   },
   "outputs": [],
   "source": [
    "import numpy as np\n",
    "import matplotlib.pyplot as plt\n",
    "import pandas as pd\n",
    "%matplotlib inline"
   ]
  },
  {
   "cell_type": "markdown",
   "metadata": {},
   "source": [
    "## Плюсы и минусы метода логистической регрессии\n",
    "\n",
    "**Плюсы**\n",
    "\n",
    "* Простой метод\n",
    "* Показывают хорошие результаты, когда данные линейно разделимы\n",
    "* Более устойчивый к выбросам, чем LDA\n",
    "\n",
    "**Минусы**\n",
    "\n",
    "* Показывают плохие результаты, когда разделяющие поверхности слишком сложные (но можно попытаться расширить пространство признаков)\n",
    "* Работают только с числовыми признаками\n",
    "* Не работают напрямую с пропущенными значениями"
   ]
  },
  {
   "cell_type": "markdown",
   "metadata": {},
   "source": [
    "## Логистическая регрессия для $K$ классов\n",
    "\n",
    "\n",
    "Пусть\n",
    "\n",
    "$$\n",
    "{\\rm Pr}(Y=k \\mid X=x) = \\frac{e^{\\beta_{k0} + \\beta_{k1} x_1 + \\dots + \\beta_{kd} x_d}}{\\sum_{\\ell=1}^K e^{\\beta_{\\ell 0} + \\beta_{\\ell 1} x_1 + \\dots + \\beta_{\\ell d} x_d}} \n",
    "=\n",
    "\\frac{e^{\\beta_{k0} + \\beta_k^{\\rm T} x}}{\\sum_{\\ell=1}^K e^{\\beta_{\\ell 0} + \\beta_{\\ell}^{\\rm T} x}}\n",
    "\\qquad\n",
    "(k = 1,2,\\dots,K)\n",
    "$$\n",
    "\n",
    "Преобразуем и переобозначим:\n",
    "\n",
    "$$\n",
    "{\\rm Pr}(Y=k \\mid X=x) = \n",
    "\\frac{e^{\\beta_{k0} + \\beta_k^{\\rm T} x}}{1 + \\sum_{\\ell=1}^{K-1} e^{\\beta_{\\ell 0} + \\beta_{\\ell}^{\\rm T} x}}\n",
    "\\qquad\n",
    "(k = 1,2,\\dots,K-1),\n",
    "\\qquad\n",
    "{\\rm Pr}(Y=K \\mid X=x) = \n",
    "\\frac{1}{1 + \\sum_{\\ell=1}^{K-1} e^{\\beta_{\\ell 0} + \\beta_{\\ell}^{\\rm T} x}}\n",
    "$$\n",
    "\n",
    "Разделяющие поверхности линейные:\n",
    "\n",
    "$$\n",
    "{\\rm Pr}(Y=k \\mid X=x) = {\\rm Pr}(Y=K \\mid X=x) \n",
    "\\quad\\Leftrightarrow\\quad \n",
    "e^{\\beta_{k0} + \\beta_k^{\\rm T} x} = 1\n",
    "\\quad\\Leftrightarrow\\quad \n",
    "\\beta_{k0} + \\beta_k^{\\rm T} x = 0\n",
    "$$\n",
    "\n",
    "$$\n",
    "{\\rm Pr}(Y=k \\mid X=x) = {\\rm Pr}(Y=k' \\mid X=x)\n",
    "\\quad\\Leftrightarrow\\quad \n",
    "e^{\\beta_{k0} + \\beta_k^{\\rm T} x} = e^{\\beta_{k'0} + \\beta_{k'}^{\\rm T} x}\n",
    "\\quad\\Leftrightarrow\\quad \n",
    "\\beta_{k0} + \\beta_k^{\\rm T} x = \\beta_{k'0} + \\beta_{k'}^{\\rm T} x\n",
    "$$\n",
    "\n",
    "\n",
    "В логистической регрессии параметры обычно подбираются с помощью метода максимального правдоподобия. \n",
    "\n",
    "_Логарифмическая функция правдоподобия_\n",
    "$$\n",
    "\\ell(\\beta) = \\sum_{i=1}^N \\ln {\\rm Pr}\\{Y = y^{(i)} \\mid X = x^{(i)}, \\beta\\} \\to \\max,\n",
    "$$\n",
    "где\n",
    "$$\n",
    "\\beta = (\\beta_{10},\\beta_1,\\beta_{20},\\beta_2,\\dots,\\beta_{K-1,0},\\beta_{K-1}),\n",
    "\\quad\n",
    "\\Pr(Y = k\\mid X = x, \\beta) = \\Pr(Y=k\\mid X=x).\n",
    "$$\n",
    "\n",
    "\n",
    "Подробно рассмотрим случай $K=2$: ${\\cal Y} =\\{0,1\\}$.\n",
    "\n",
    "\n",
    "$$\n",
    "g(x,\\beta) = \\Pr\\{Y = 1\\mid X = x, \\beta\\} = \\frac{1}{1+e^{-\\beta_0 - \\beta^{\\rm T} x}}.\n",
    "$$\n",
    "\n",
    "Требуется максимизировать логарифмическую функцию правдоподобия \n",
    "$$\n",
    "\\ell(\\beta) = \\sum_{i=1}^N \\Bigl( y^{(i)} \\ln g(x^{(i)},\\beta) + (1-y^{(i)})\\ln\\bigl(1-g(x^{(i)},\\beta)\\bigr)\\Bigr).\n",
    "$$\n",
    "\n",
    "Легко доказать, что\n",
    "$$\n",
    "\\frac{\\partial\\ell(\\beta)}{\\partial\\beta_0} = \\sum_{i=1}^N \\left(y^{(i)} - f(x^{(i)},\\beta)\\right),\n",
    "\\qquad\n",
    "\\frac{\\partial\\ell(\\beta)}{\\partial\\beta_j} = \\sum_{i=1}^N \\left(y^{(i)} - f(x^{(i)},\\beta)\\right) x_j^{(i)}.\n",
    "$$\n",
    "\n",
    "Теперь можем воспользоваться методом градиентного спуска или более продвинутыми методами оптимизации (сопряженных градиентов, BFGS, L-BFGS и др.)."
   ]
  },
  {
   "cell_type": "markdown",
   "metadata": {},
   "source": [
    "### Логистическая регрессия: пример данных"
   ]
  },
  {
   "cell_type": "markdown",
   "metadata": {},
   "source": [
    "Пусть\n",
    "$$\n",
    "{\\rm Pr}(Y=1 \\mid X=x) = \\frac{1}{1 + e^{-(\\beta_0 + \\beta_1 x_1 + \\dots + \\beta_d x_d)}} \n",
    "                = \\sigma(\\beta_0 + \\beta_1 x_1 + \\dots + \\beta_d x_d)\n",
    "$$\n",
    "\n",
    "Элементарная логистическая функция (элементарный сигмоид):\n",
    "$$\n",
    "\\sigma(z) = \\frac{1}{1 + e^{-z}}\n",
    "$$"
   ]
  },
  {
   "cell_type": "code",
   "execution_count": 2,
   "metadata": {
    "collapsed": false
   },
   "outputs": [
    {
     "data": {
      "text/plain": [
       "[<matplotlib.lines.Line2D at 0x7fe9f0d56f28>]"
      ]
     },
     "execution_count": 2,
     "metadata": {},
     "output_type": "execute_result"
    },
    {
     "data": {
      "image/png": "[encoded data removed]",
      "text/plain": [
       "<matplotlib.figure.Figure at 0x7fe9f0fcaba8>"
      ]
     },
     "metadata": {},
     "output_type": "display_data"
    }
   ],
   "source": [
    "plt.figure(figsize = (10, 2))\n",
    "z = np.linspace(-10, 10, 1000)\n",
    "sigma = 1/(1 + np.exp(-z))\n",
    "plt.plot(z, sigma)"
   ]
  },
  {
   "cell_type": "code",
   "execution_count": 3,
   "metadata": {
    "collapsed": false
   },
   "outputs": [
    {
     "data": {
      "image/png": "[encoded data removed]",
      "text/plain": [
       "<matplotlib.figure.Figure at 0x7fe9f0fca898>"
      ]
     },
     "metadata": {},
     "output_type": "display_data"
    }
   ],
   "source": [
    "import mysk\n",
    "\n",
    "X, y = mysk.generate_points(seed = 1)\n",
    "mysk.draw_points(X, y)\n",
    "mysk.draw_centers()\n",
    "mysk.draw_bayes_sep_curve()"
   ]
  },
  {
   "cell_type": "markdown",
   "metadata": {},
   "source": [
    "Тестовая выборка:"
   ]
  },
  {
   "cell_type": "code",
   "execution_count": 4,
   "metadata": {
    "collapsed": true
   },
   "outputs": [],
   "source": [
    "X_test, y_test = mysk.generate_points(seed = 5)"
   ]
  },
  {
   "cell_type": "markdown",
   "metadata": {},
   "source": [
    "Логистическая регрессия из scikit learn:"
   ]
  },
  {
   "cell_type": "code",
   "execution_count": 5,
   "metadata": {
    "collapsed": false
   },
   "outputs": [
    {
     "data": {
      "text/plain": [
       "LogisticRegression(C=1.0, class_weight=None, dual=False, fit_intercept=True,\n",
       "          intercept_scaling=1, max_iter=100, multi_class='ovr', n_jobs=1,\n",
       "          penalty='l2', random_state=None, solver='liblinear', tol=0.0001,\n",
       "          verbose=0, warm_start=False)"
      ]
     },
     "execution_count": 5,
     "metadata": {},
     "output_type": "execute_result"
    }
   ],
   "source": [
    "from sklearn.linear_model import LogisticRegression\n",
    "logistic_model = LogisticRegression()\n",
    "logistic_model.fit(X, y)"
   ]
  },
  {
   "cell_type": "code",
   "execution_count": 6,
   "metadata": {
    "collapsed": false
   },
   "outputs": [
    {
     "data": {
      "image/png": "[encoded data removed]",
      "text/plain": [
       "<matplotlib.figure.Figure at 0x7fe9e1a6aeb8>"
      ]
     },
     "metadata": {},
     "output_type": "display_data"
    }
   ],
   "source": [
    "mysk.draw_points(X, y)\n",
    "mysk.draw_sep_curve(logistic_model)\n",
    "mysk.draw_bayes()"
   ]
  },
  {
   "cell_type": "code",
   "execution_count": 7,
   "metadata": {
    "collapsed": false
   },
   "outputs": [
    {
     "name": "stdout",
     "output_type": "stream",
     "text": [
      "0.235 0.215\n"
     ]
    }
   ],
   "source": [
    "err_train = np.mean(y != logistic_model.predict(X))\n",
    "err_test = np.mean(y_test != logistic_model.predict(X_test))\n",
    "print(err_train, err_test)"
   ]
  },
  {
   "cell_type": "code",
   "execution_count": 8,
   "metadata": {
    "collapsed": false
   },
   "outputs": [
    {
     "name": "stdout",
     "output_type": "stream",
     "text": [
      "[[-0.6296239 -3.2109123]]\n",
      "[ 1.89895964]\n"
     ]
    }
   ],
   "source": [
    "print(logistic_model.coef_) # Коэффициенты разделяющей гиперплоскости\n",
    "print(logistic_model.intercept_)"
   ]
  },
  {
   "cell_type": "markdown",
   "metadata": {},
   "source": [
    "### Логистическая регрессия: наши данные"
   ]
  },
  {
   "cell_type": "code",
   "execution_count": 9,
   "metadata": {
    "collapsed": false
   },
   "outputs": [
    {
     "name": "stdout",
     "output_type": "stream",
     "text": [
      "Index(['age', 'income', 'occupation_CEO',\n",
      "       'occupation_Entrepreneur_/_Software_Engineer', 'occupation_Student',\n",
      "       'occupation_Student_+_working', 'occupation_Working',\n",
      "       'occupation_Working', 'occupation_army', 'freq_Several_times_a_week',\n",
      "       'freq_Several_times_in_a_month', 'freq_rarely', 'prim_imp_Environment',\n",
      "       'prim_imp_Menu', 'prim_imp_Music', 'prim_imp_Pricing',\n",
      "       'sec_imp_Environment', 'sec_imp_Menu', 'sec_imp_Music',\n",
      "       'sec_imp_Pricing', 'stratum_Capital', 'stratum_Rural', 'stratum_Urban',\n",
      "       'lifestyle_Adventure/traveling/exploring', 'lifestyle_Art',\n",
      "       'lifestyle_Business_sports_dance', 'lifestyle_Busy',\n",
      "       'lifestyle_Nightlife', 'lifestyle_Passive', 'lifestyle_Rock_punk',\n",
      "       'lifestyle_Sport', 'lifestyle_Sport_art_traveling', 'lifestyle_Student',\n",
      "       'occasions_Birthdays', 'occasions_For_listening__good_music',\n",
      "       'occasions_Hang_outs_with_friends', 'occasions_Never',\n",
      "       'occasions_Nowere', 'occasions_Special_events/parties',\n",
      "       'occasions_chem_aycelum', 'gender'],\n",
      "      dtype='object')\n"
     ]
    }
   ],
   "source": [
    "import data_retrieve as dr\n",
    "X, data = dr.parse_and_prepare(\"armenian_pubs.csv\", sep=\",\", engine=\"python\")\n",
    "Y = None\n",
    "Y_numeric = data['wts']\n",
    "Y_mean = np.mean(Y_numeric)\n",
    "Y = pd.Series(['C1' if val <= Y_mean else 'C2' for val in Y_numeric])\n",
    "intY = pd.Series([0 if val is 'C1' else 1 for val in Y])\n",
    "feature_names = X.columns\n",
    "print(feature_names)"
   ]
  },
  {
   "cell_type": "markdown",
   "metadata": {},
   "source": [
    "#### Разбиение на обучающую и тестовую выборки"
   ]
  },
  {
   "cell_type": "code",
   "execution_count": 10,
   "metadata": {
    "collapsed": false
   },
   "outputs": [
    {
     "name": "stdout",
     "output_type": "stream",
     "text": [
      "122 53\n"
     ]
    }
   ],
   "source": [
    "from sklearn.model_selection import train_test_split\n",
    "# constant random_state to have repeatability\n",
    "X_train, X_test, Y_train, Y_test = train_test_split(X, Y, train_size=0.7, random_state=7)\n",
    "N_train, _ = X_train.shape\n",
    "N_test, _ = X_test.shape\n",
    "intY = pd.Series([0 if val is 'C1' else 1 for val in Y_train])\n",
    "print(N_train, N_test)"
   ]
  },
  {
   "cell_type": "code",
   "execution_count": 11,
   "metadata": {
    "collapsed": false
   },
   "outputs": [
    {
     "data": {
      "text/plain": [
       "LogisticRegression(C=0.1, class_weight=None, dual=False, fit_intercept=True,\n",
       "          intercept_scaling=1, max_iter=100, multi_class='ovr', n_jobs=1,\n",
       "          penalty='l2', random_state=None, solver='liblinear', tol=0.0001,\n",
       "          verbose=0, warm_start=False)"
      ]
     },
     "execution_count": 11,
     "metadata": {},
     "output_type": "execute_result"
    }
   ],
   "source": [
    "logreg_model = LogisticRegression(C=0.1)\n",
    "logreg_model.fit(X_train, Y_train)"
   ]
  },
  {
   "cell_type": "code",
   "execution_count": 12,
   "metadata": {
    "collapsed": false
   },
   "outputs": [
    {
     "data": {
      "image/png": "[encoded data removed]",
      "text/plain": [
       "<matplotlib.figure.Figure at 0x7fe9e1a46f98>"
      ]
     },
     "metadata": {},
     "output_type": "display_data"
    }
   ],
   "source": [
    "vX = X_train.values # taking raw values from DataFrame for visualization\n",
    "mysk.draw_points(vX, intY)\n",
    "mysk.draw_bayes()\n",
    "# _, features_number = X.shape\n",
    "# dr.draw_sep_curve_and_reshape(model=lda_model, n_dims=features_number)"
   ]
  },
  {
   "cell_type": "markdown",
   "metadata": {},
   "source": [
    "#### Коэффициенты перед X в decision function"
   ]
  },
  {
   "cell_type": "code",
   "execution_count": 13,
   "metadata": {
    "collapsed": false
   },
   "outputs": [
    {
     "name": "stdout",
     "output_type": "stream",
     "text": [
      "[[  2.54008969e-01   1.58958291e-01   5.09239388e-02   6.89558817e-03\n",
      "   -2.63632721e-01   8.40249901e-02   7.88787165e-02   4.09895246e-02\n",
      "   -5.61658744e-02  -6.55752427e-02  -2.46038965e-01   2.53528370e-01\n",
      "    4.22351318e-02  -7.49410529e-02   1.29202006e-04  -2.55091184e-02\n",
      "   -8.01675847e-02   1.72790955e-01  -6.58613004e-02  -8.48479073e-02\n",
      "   -5.61959343e-02   0.00000000e+00  -1.88990314e-03  -2.74389758e-02\n",
      "   -1.50854311e-01   5.09239388e-02   4.92445238e-02  -5.57883026e-02\n",
      "   -3.63126009e-02   9.37184846e-02   5.38418788e-02   0.00000000e+00\n",
      "    5.73623871e-02   1.64225769e-01  -3.58882151e-02   8.71110309e-02\n",
      "   -6.02542491e-02  -3.76661306e-02  -3.77662441e-02  -4.11295720e-02\n",
      "   -3.32041241e-01]]\n",
      "Logistic Regression coeffs. size:  41\n",
      "Features size:  41\n"
     ]
    }
   ],
   "source": [
    "print(logreg_model.coef_)\n",
    "_, features_number = X.shape\n",
    "print(\"Logistic Regression coeffs. size: \", len(logreg_model.coef_[0]))\n",
    "print(\"Features size: \", features_number)"
   ]
  },
  {
   "cell_type": "markdown",
   "metadata": {},
   "source": [
    "#### Ошибки"
   ]
  },
  {
   "cell_type": "code",
   "execution_count": 14,
   "metadata": {
    "collapsed": false
   },
   "outputs": [
    {
     "name": "stdout",
     "output_type": "stream",
     "text": [
      "0.33606557377 0.509433962264\n"
     ]
    }
   ],
   "source": [
    "err_train = np.mean(Y_train != logreg_model.predict(X_train))\n",
    "err_test = np.mean(Y_test != logreg_model.predict(X_test))\n",
    "print(err_train, err_test)"
   ]
  },
  {
   "cell_type": "markdown",
   "metadata": {},
   "source": [
    "#### Bias значение ($\\beta_0$ из уравнения сигмоиды):"
   ]
  },
  {
   "cell_type": "code",
   "execution_count": 15,
   "metadata": {
    "collapsed": false
   },
   "outputs": [
    {
     "data": {
      "text/plain": [
       "array([-0.05808584])"
      ]
     },
     "execution_count": 15,
     "metadata": {},
     "output_type": "execute_result"
    }
   ],
   "source": [
    "logreg_model.intercept_"
   ]
  },
  {
   "cell_type": "code",
   "execution_count": null,
   "metadata": {
    "collapsed": true
   },
   "outputs": [],
   "source": []
  },
  {
   "cell_type": "markdown",
   "metadata": {},
   "source": [
    "# Машина опорных векторов\n",
    "\n",
    "Dataset: [armenian pubs](https://www.kaggle.com/erikhambardzumyan/pubs)\n",
    "\n",
    "Подробнее о данных можно узнать в [первой работе](https://github.com/andrgolubev/python-sandbox/blob/master/data_analysis_1.ipynb)"
   ]
  },
  {
   "cell_type": "markdown",
   "metadata": {},
   "source": [
    "## Плюсы и минусы машины опорных векторов\n",
    "\n",
    "**Плюсы**\n",
    "\n",
    "* Эффективны в многомерных пространствах\n",
    "* Все еще эффективны, если N в N-мерном пространстве больше, чем количество примеров выборки\n",
    "* Можно использовать различные ядра (kernels) для улучшения результата (в том числе, свои собственные)\n",
    "\n",
    "**Минусы**\n",
    "\n",
    "* Если количество признаков много больше, чем количество примеров, можно ожидать переобучения (overfitting) при выборе ядер. Становится очень важна регуляризация\n",
    "* Сама машина опорных векторов не предоставляет вероятностных оценок"
   ]
  },
  {
   "cell_type": "markdown",
   "metadata": {},
   "source": [
    "#### Перекрывающиеся классы\n",
    "\n",
    "Математическая постановка задачи:\n",
    "$$ \n",
    "\\beta, \\beta_0, \\xi = \\mathop{\\rm argmin}_{\\beta, \\beta_0, \\xi} \\frac{1}{2} \\|\\beta\\|^2 \n",
    "+ C \\sum_{i=1}^N \\xi_i\n",
    "$$\n",
    "при ограничениях\n",
    "$$\n",
    "y^{(i)} (\\beta^{\\top}x^{(i)} + \\beta_0) \\ge 1 - \\xi_i,\n",
    "\\qquad\n",
    "\\xi_i \\ge 0\n",
    "\\qquad\n",
    "(i = 1,2,\\dots, N)\n",
    "$$"
   ]
  },
  {
   "cell_type": "code",
   "execution_count": 1,
   "metadata": {
    "collapsed": true
   },
   "outputs": [],
   "source": [
    "import numpy as np\n",
    "import matplotlib.pyplot as plt\n",
    "import pandas as pd\n",
    "%matplotlib inline"
   ]
  },
  {
   "cell_type": "markdown",
   "metadata": {},
   "source": [
    "### Наши данные"
   ]
  },
  {
   "cell_type": "code",
   "execution_count": 2,
   "metadata": {
    "collapsed": false
   },
   "outputs": [
    {
     "name": "stdout",
     "output_type": "stream",
     "text": [
      "Index(['age', 'income', 'occupation_CEO',\n",
      "       'occupation_Entrepreneur_/_Software_Engineer', 'occupation_Student',\n",
      "       'occupation_Student_+_working', 'occupation_Working',\n",
      "       'occupation_Working', 'occupation_army', 'freq_Several_times_a_week',\n",
      "       'freq_Several_times_in_a_month', 'freq_rarely', 'prim_imp_Environment',\n",
      "       'prim_imp_Menu', 'prim_imp_Music', 'prim_imp_Pricing',\n",
      "       'sec_imp_Environment', 'sec_imp_Menu', 'sec_imp_Music',\n",
      "       'sec_imp_Pricing', 'stratum_Capital', 'stratum_Rural', 'stratum_Urban',\n",
      "       'lifestyle_Adventure/traveling/exploring', 'lifestyle_Art',\n",
      "       'lifestyle_Business_sports_dance', 'lifestyle_Busy',\n",
      "       'lifestyle_Nightlife', 'lifestyle_Passive', 'lifestyle_Rock_punk',\n",
      "       'lifestyle_Sport', 'lifestyle_Sport_art_traveling', 'lifestyle_Student',\n",
      "       'occasions_Birthdays', 'occasions_For_listening__good_music',\n",
      "       'occasions_Hang_outs_with_friends', 'occasions_Never',\n",
      "       'occasions_Nowere', 'occasions_Special_events/parties',\n",
      "       'occasions_chem_aycelum', 'gender'],\n",
      "      dtype='object')\n"
     ]
    }
   ],
   "source": [
    "import data_retrieve as dr\n",
    "X, data = dr.parse_and_prepare(\"armenian_pubs.csv\", sep=\",\", engine=\"python\")\n",
    "Y = None\n",
    "Y_numeric = data['wts']\n",
    "Y_mean = np.mean(Y_numeric)\n",
    "Y = pd.Series(['C1' if val <= Y_mean else 'C2' for val in Y_numeric])\n",
    "intY = pd.Series([0 if val is 'C1' else 1 for val in Y])\n",
    "feature_names = X.columns\n",
    "print(feature_names)"
   ]
  },
  {
   "cell_type": "markdown",
   "metadata": {},
   "source": [
    "#### Разбиение на обучающую и тестовую выборки"
   ]
  },
  {
   "cell_type": "code",
   "execution_count": 4,
   "metadata": {
    "collapsed": false
   },
   "outputs": [
    {
     "name": "stdout",
     "output_type": "stream",
     "text": [
      "122 53\n"
     ]
    }
   ],
   "source": [
    "from sklearn.model_selection import train_test_split\n",
    "# constant random_state to have repeatability\n",
    "X_train, X_test, Y_train, Y_test = train_test_split(X, Y, train_size=0.7, random_state=7)\n",
    "N_train, _ = X_train.shape\n",
    "N_test, _ = X_test.shape\n",
    "intY = pd.Series([0 if val is 'C1' else 1 for val in Y_train])\n",
    "print(N_train, N_test)"
   ]
  },
  {
   "cell_type": "markdown",
   "metadata": {},
   "source": [
    "#### Инициализация"
   ]
  },
  {
   "cell_type": "code",
   "execution_count": 69,
   "metadata": {
    "collapsed": false
   },
   "outputs": [
    {
     "data": {
      "text/plain": [
       "SVC(C=1.0, cache_size=200, class_weight=None, coef0=0.0,\n",
       "  decision_function_shape=None, degree=3, gamma='auto', kernel='linear',\n",
       "  max_iter=-1, probability=False, random_state=None, shrinking=True,\n",
       "  tol=0.001, verbose=False)"
      ]
     },
     "execution_count": 69,
     "metadata": {},
     "output_type": "execute_result"
    }
   ],
   "source": [
    "from sklearn.svm import SVC # \"Support Vector Classifier\"\n",
    "svc_model = SVC(kernel = 'linear')\n",
    "svc_model.fit(X_train, Y_train)"
   ]
  },
  {
   "cell_type": "code",
   "execution_count": 72,
   "metadata": {
    "collapsed": false
   },
   "outputs": [
    {
     "data": {
      "text/plain": [
       "(0.0, 1.0)"
      ]
     },
     "execution_count": 72,
     "metadata": {},
     "output_type": "execute_result"
    },
    {
     "data": {
      "image/png": "[encoded data removed]",
      "text/plain": [
       "<matplotlib.figure.Figure at 0x7fbdb0f14eb8>"
      ]
     },
     "metadata": {},
     "output_type": "display_data"
    }
   ],
   "source": [
    "x0_min, x0_max = plt.xlim()\n",
    "x1_min, x1_max = plt.ylim()\n",
    "vX = X_train.values\n",
    "colors = np.array(['b', 'r'])[intY]\n",
    "plt.scatter(vX[:, 0], vX[:, 1], color = colors)\n",
    "plt.ylim((x1_min, x1_max))\n",
    "# draw_sep_curve(svc_model)"
   ]
  },
  {
   "cell_type": "markdown",
   "metadata": {},
   "source": [
    "#### Опорные векторы"
   ]
  },
  {
   "cell_type": "code",
   "execution_count": 105,
   "metadata": {
    "collapsed": false
   },
   "outputs": [
    {
     "name": "stdout",
     "output_type": "stream",
     "text": [
      "X.shape:  (175, 41)\n",
      "len(support_vectors_[i]):  41\n",
      "Number of support vectors for each class:  [50 45]\n",
      "Support vectors:\n",
      " [[-0.55899819 -0.13988381  0.         ...,  0.          0.          0.        ]\n",
      " [-0.91997488 -0.3081405   0.         ...,  0.          0.          0.        ]\n",
      " [-0.55899819  0.53314297  0.         ...,  0.          0.          1.        ]\n",
      " ..., \n",
      " [ 1.24588526  0.39292906  0.         ...,  0.          0.          0.        ]\n",
      " [-0.1980215  -0.22401216  0.         ...,  1.          0.          1.        ]\n",
      " [-0.1980215  -0.3081405   0.         ...,  0.          0.          1.        ]]\n"
     ]
    }
   ],
   "source": [
    "print(\"X.shape: \", X.shape)\n",
    "print(\"len(support_vectors_[i]): \", len(svc_model.support_vectors_[0]))\n",
    "print(\"Number of support vectors for each class: \", svc_model.n_support_)\n",
    "print(\"Support vectors:\\n\", svc_model.support_vectors_)"
   ]
  },
  {
   "cell_type": "markdown",
   "metadata": {},
   "source": [
    "### Ядро\n",
    "\n",
    "Ядро задает скалярное произведение в спрямленном пространстве.\n",
    "\n",
    "___Линейное ядро___ – это обычное скалярное произведение: $k(x, x') = x^{\\top} x'$ – спрямленное пространство совпадает с исходным.\n",
    "\n",
    "___Радиальное ядро___: $k(x, x') = e^{-\\gamma \\|x-x'\\|^2}$ задается _радиальной функцией_ (Radial Basis Function): $r = e^{-\\gamma(x_1^2 + x_2^2 + \\dots + x_d^2)}$\n",
    "\n",
    "___Полиномиальное ядро___: $k(x, x') = (\\gamma\\, x^{\\top} x' + c_0)^{\\delta}$\n",
    "\n",
    "___Сигмоидальное ядро___: $k(x, x') = \\mathop{\\rm th}(\\gamma x^{\\top} x' + c_0),\n",
    "\\qquad \\mathop{\\rm th} x = \\frac{e^x- e^{-x}}{e^x + e^{-x}}$, где\n",
    "_гиперболический тангенс_ $\\mathop{\\rm th} x$ – это тот же элементарный сигмоид, только сдвинутый и растянутый по вертикальной оси."
   ]
  },
  {
   "cell_type": "markdown",
   "metadata": {},
   "source": [
    "#### Ошибки для разных ядер при разной регуляризации"
   ]
  },
  {
   "cell_type": "code",
   "execution_count": 162,
   "metadata": {
    "collapsed": false
   },
   "outputs": [
    {
     "data": {
      "application/vnd.jupyter.widget-view+json": {
       "model_id": "46ddff2404ac4ac0b7cedf7c624e4e0e"
      }
     },
     "metadata": {},
     "output_type": "display_data"
    }
   ],
   "source": [
    "from ipywidgets import interact\n",
    "\n",
    "_, n_features = X.shape\n",
    "def print_svc_data(kernel='linear', C=1.0):\n",
    "    svc_model_modified = SVC(kernel=kernel, C=C, probability=True)\n",
    "    svc_model_modified.fit(X_train, Y_train)\n",
    "    print(\"Number of support vectors for each class: \", svc_model_modified.n_support_)\n",
    "    err_train = np.mean(Y_train != svc_model_modified.predict(X_train))\n",
    "    err_test = np.mean(Y_test != svc_model_modified.predict(X_test))\n",
    "    print(f\"Errors: train - {err_train} | test - {err_test}\")\n",
    "    print(\"Constants in decision function: \", svc_model_modified.intercept_)\n",
    "    pass\n",
    "\n",
    "interact(print_svc_data, kernel=['linear', 'poly', 'rbf', 'sigmoid'], C=(0.01, 20.01, 0.1))\n",
    "pass"
   ]
  },
  {
   "cell_type": "markdown",
   "metadata": {},
   "source": [
    "#### Для большей наглядности рассмотрим пример со сгенерированными данными"
   ]
  },
  {
   "cell_type": "code",
   "execution_count": 161,
   "metadata": {
    "collapsed": false,
    "scrolled": true
   },
   "outputs": [
    {
     "data": {
      "application/vnd.jupyter.widget-view+json": {
       "model_id": "7a71ac5081e94924a6e3142601783d3c"
      }
     },
     "metadata": {},
     "output_type": "display_data"
    },
    {
     "data": {
      "image/png": "[encoded data removed]",
      "text/plain": [
       "<matplotlib.figure.Figure at 0x7fbdb11e8b00>"
      ]
     },
     "metadata": {},
     "output_type": "display_data"
    }
   ],
   "source": [
    "import mysk\n",
    "from IPython import display\n",
    "\n",
    "X, y = mysk.generate_points(seed = 0)\n",
    "X_tst, y_tst = mysk.generate_points(seed = 7)\n",
    "def print_svc_gen(kernel='linear', C=1.0):\n",
    "    svc_model_gen = SVC(kernel=kernel, C=C, probability=True)\n",
    "    svc_model_gen.fit(X, y)\n",
    "    print(\"Number of support vectors for each class: \", svc_model_gen.n_support_)\n",
    "    err_train = np.mean(y != svc_model_gen.predict(X))\n",
    "    err_test = np.mean(y_tst != svc_model_gen.predict(X_tst))\n",
    "    print(f\"Errors: train - {err_train} | test - {err_test}\")\n",
    "    print(\"Constants in decision function: \", svc_model_gen.intercept_)\n",
    "    plt.scatter(X[:, 0], X[:, 1], color = np.array(['g', 'r'])[y])\n",
    "    draw_sep_curve(svc_model_gen)\n",
    "    plt.scatter(svc_model_gen.support_vectors_[:, 0], svc_model_gen.support_vectors_[:, 1],\n",
    "                s = 15, facecolors = 'k')\n",
    "    pass\n",
    "\n",
    "interact(print_svc_gen, kernel=['linear', 'poly', 'rbf', 'sigmoid'], C=(0.01, 20.01, 0.1))\n",
    "pass"
   ]
  },
  {
   "cell_type": "markdown",
   "metadata": {},
   "source": [
    "Черным обозначены опорные векторы"
   ]
  },
  {
   "cell_type": "markdown",
   "metadata": {},
   "source": [
    "# Наивный байесовский классификатор\n",
    "\n",
    "Dataset: [armenian pubs](https://www.kaggle.com/erikhambardzumyan/pubs)\n",
    "\n",
    "Подробнее о данных можно узнать в [первой работе](https://github.com/andrgolubev/python-sandbox/blob/master/data_analysis_1.ipynb)"
   ]
  },
  {
   "cell_type": "code",
   "execution_count": 1,
   "metadata": {
    "collapsed": true
   },
   "outputs": [],
   "source": [
    "import numpy as np\n",
    "import matplotlib.pyplot as plt\n",
    "import pandas as pd\n",
    "%matplotlib inline"
   ]
  },
  {
   "cell_type": "code",
   "execution_count": 2,
   "metadata": {
    "collapsed": false
   },
   "outputs": [
    {
     "name": "stdout",
     "output_type": "stream",
     "text": [
      "Index(['age', 'income', 'occupation_CEO',\n",
      "       'occupation_Entrepreneur_/_Software_Engineer', 'occupation_Student',\n",
      "       'occupation_Student_+_working', 'occupation_Working',\n",
      "       'occupation_Working', 'occupation_army', 'freq_Several_times_a_week',\n",
      "       'freq_Several_times_in_a_month', 'freq_rarely', 'prim_imp_Environment',\n",
      "       'prim_imp_Menu', 'prim_imp_Music', 'prim_imp_Pricing',\n",
      "       'sec_imp_Environment', 'sec_imp_Menu', 'sec_imp_Music',\n",
      "       'sec_imp_Pricing', 'stratum_Capital', 'stratum_Rural', 'stratum_Urban',\n",
      "       'lifestyle_Adventure/traveling/exploring', 'lifestyle_Art',\n",
      "       'lifestyle_Business_sports_dance', 'lifestyle_Busy',\n",
      "       'lifestyle_Nightlife', 'lifestyle_Passive', 'lifestyle_Rock_punk',\n",
      "       'lifestyle_Sport', 'lifestyle_Sport_art_traveling', 'lifestyle_Student',\n",
      "       'occasions_Birthdays', 'occasions_For_listening__good_music',\n",
      "       'occasions_Hang_outs_with_friends', 'occasions_Never',\n",
      "       'occasions_Nowere', 'occasions_Special_events/parties',\n",
      "       'occasions_chem_aycelum', 'gender'],\n",
      "      dtype='object')\n"
     ]
    }
   ],
   "source": [
    "import data_retrieve as dr\n",
    "X, data = dr.parse_and_prepare(\"armenian_pubs.csv\", sep=\",\", engine=\"python\")\n",
    "Y = None\n",
    "Y_numeric = data['wts']\n",
    "Y_mean = np.mean(Y_numeric)\n",
    "Y = pd.Series(['C1' if val <= Y_mean else 'C2' for val in Y_numeric])\n",
    "intY = pd.Series([0 if val is 'C1' else 1 for val in Y])\n",
    "feature_names = X.columns\n",
    "print(feature_names)"
   ]
  },
  {
   "cell_type": "markdown",
   "metadata": {},
   "source": [
    "#### Разбиение на обучающую и тестовую выборки"
   ]
  },
  {
   "cell_type": "code",
   "execution_count": 3,
   "metadata": {
    "collapsed": false
   },
   "outputs": [
    {
     "name": "stdout",
     "output_type": "stream",
     "text": [
      "122 53\n"
     ]
    }
   ],
   "source": [
    "from sklearn.model_selection import train_test_split\n",
    "# constant random_state to have repeatability\n",
    "X_train, X_test, Y_train, Y_test = train_test_split(X, Y, train_size=0.7, random_state=7)\n",
    "N_train, _ = X_train.shape\n",
    "N_test, _ = X_test.shape\n",
    "intY = pd.Series([0 if val is 'C1' else 1 for val in Y_train])\n",
    "print(N_train, N_test)"
   ]
  },
  {
   "cell_type": "markdown",
   "metadata": {},
   "source": [
    "#### Инициализация"
   ]
  },
  {
   "cell_type": "code",
   "execution_count": 4,
   "metadata": {
    "collapsed": false
   },
   "outputs": [
    {
     "data": {
      "text/plain": [
       "GaussianNB(priors=None)"
      ]
     },
     "execution_count": 4,
     "metadata": {},
     "output_type": "execute_result"
    }
   ],
   "source": [
    "from sklearn.naive_bayes import BernoulliNB, GaussianNB, MultinomialNB\n",
    "gnb_model = GaussianNB()\n",
    "gnb_model.fit(X_train, Y_train)"
   ]
  },
  {
   "cell_type": "code",
   "execution_count": 5,
   "metadata": {
    "collapsed": false
   },
   "outputs": [
    {
     "data": {
      "text/plain": [
       "<matplotlib.collections.PathCollection at 0x7f5e76dea4e0>"
      ]
     },
     "execution_count": 5,
     "metadata": {},
     "output_type": "execute_result"
    },
    {
     "data": {
      "image/png": "[encoded data removed]",
      "text/plain": [
       "<matplotlib.figure.Figure at 0x7f5e76e56630>"
      ]
     },
     "metadata": {},
     "output_type": "display_data"
    }
   ],
   "source": [
    "import mysk\n",
    "\n",
    "vX = X_train.values\n",
    "colors = np.array(['b', 'r'])[intY]\n",
    "plt.scatter(vX[:, 0], vX[:, 1], color = colors)\n",
    "# mysk.draw_sep_curve(gnb_model)\n",
    "# plt.scatter(gnb_model.theta_[:, 0], gnb_model.theta_[:, 40], color = ['b', 'r'], s = 100)"
   ]
  },
  {
   "cell_type": "markdown",
   "metadata": {},
   "source": [
    "#### Средние значения признаков в получившейся модели для заданных классов"
   ]
  },
  {
   "cell_type": "code",
   "execution_count": 6,
   "metadata": {
    "collapsed": false
   },
   "outputs": [
    {
     "data": {
      "text/plain": [
       "array([[ 0.12333333,  0.01308642,  0.        ,  0.        ,  0.77777778,\n",
       "         0.19444444,  0.01388889,  0.        ,  0.01388889,  0.09722222,\n",
       "         0.48611111,  0.41666667,  0.69444444,  0.04166667,  0.20833333,\n",
       "         0.05555556,  0.16666667,  0.19444444,  0.38888889,  0.25      ,\n",
       "         0.81944444,  0.        ,  0.18055556,  0.20833333,  0.18055556,\n",
       "         0.        ,  0.41666667,  0.04166667,  0.01388889,  0.02777778,\n",
       "         0.05555556,  0.        ,  0.        ,  0.04166667,  0.01388889,\n",
       "         0.77777778,  0.01388889,  0.01388889,  0.09722222,  0.01388889,\n",
       "         0.65277778],\n",
       "       [ 0.1624    ,  0.03806844,  0.02      ,  0.02      ,  0.56      ,\n",
       "         0.3       ,  0.08      ,  0.02      ,  0.        ,  0.06      ,\n",
       "         0.32      ,  0.62      ,  0.76      ,  0.        ,  0.2       ,\n",
       "         0.04      ,  0.14      ,  0.3       ,  0.36      ,  0.2       ,\n",
       "         0.82      ,  0.        ,  0.18      ,  0.2       ,  0.08      ,\n",
       "         0.02      ,  0.5       ,  0.02      ,  0.        ,  0.06      ,\n",
       "         0.08      ,  0.        ,  0.02      ,  0.1       ,  0.        ,\n",
       "         0.82      ,  0.        ,  0.        ,  0.08      ,  0.        ,\n",
       "         0.44      ]])"
      ]
     },
     "execution_count": 6,
     "metadata": {},
     "output_type": "execute_result"
    }
   ],
   "source": [
    "gnb_model.theta_"
   ]
  },
  {
   "cell_type": "markdown",
   "metadata": {},
   "source": [
    "#### Ошибки"
   ]
  },
  {
   "cell_type": "code",
   "execution_count": 7,
   "metadata": {
    "collapsed": false
   },
   "outputs": [
    {
     "name": "stdout",
     "output_type": "stream",
     "text": [
      "0.524590163934 0.433962264151\n"
     ]
    }
   ],
   "source": [
    "err_train = np.mean(Y_train != gnb_model.predict(X_train))\n",
    "err_test = np.mean(Y_test != gnb_model.predict(X_test))\n",
    "print(err_train, err_test)"
   ]
  },
  {
   "cell_type": "code",
   "execution_count": 8,
   "metadata": {
    "collapsed": false
   },
   "outputs": [
    {
     "data": {
      "text/plain": [
       "array([[  2.78888914e-03,   2.54671794e-04,   2.50000000e-10,\n",
       "          2.50000000e-10,   1.72839506e-01,   1.56635803e-01,\n",
       "          1.36959879e-02,   2.50000000e-10,   1.36959879e-02,\n",
       "          8.77700620e-02,   2.49807099e-01,   2.43055556e-01,\n",
       "          2.12191358e-01,   3.99305558e-02,   1.64930556e-01,\n",
       "          5.24691361e-02,   1.38888889e-01,   1.56635803e-01,\n",
       "          2.37654321e-01,   1.87500000e-01,   1.47955247e-01,\n",
       "          2.50000000e-10,   1.47955247e-01,   1.64930556e-01,\n",
       "          1.47955247e-01,   2.50000000e-10,   2.43055556e-01,\n",
       "          3.99305558e-02,   1.36959879e-02,   2.70061731e-02,\n",
       "          5.24691361e-02,   2.50000000e-10,   2.50000000e-10,\n",
       "          3.99305558e-02,   1.36959879e-02,   1.72839506e-01,\n",
       "          1.36959879e-02,   1.36959879e-02,   8.77700620e-02,\n",
       "          1.36959879e-02,   2.26658951e-01],\n",
       "       [  2.19142403e-02,   1.92086952e-02,   1.96000002e-02,\n",
       "          1.96000002e-02,   2.46400000e-01,   2.10000000e-01,\n",
       "          7.36000003e-02,   1.96000002e-02,   2.50000000e-10,\n",
       "          5.64000003e-02,   2.17600000e-01,   2.35600000e-01,\n",
       "          1.82400000e-01,   2.50000000e-10,   1.60000000e-01,\n",
       "          3.84000003e-02,   1.20400000e-01,   2.10000000e-01,\n",
       "          2.30400000e-01,   1.60000000e-01,   1.47600000e-01,\n",
       "          2.50000000e-10,   1.47600000e-01,   1.60000000e-01,\n",
       "          7.36000003e-02,   1.96000002e-02,   2.50000000e-01,\n",
       "          1.96000002e-02,   2.50000000e-10,   5.64000003e-02,\n",
       "          7.36000003e-02,   2.50000000e-10,   1.96000002e-02,\n",
       "          9.00000002e-02,   2.50000000e-10,   1.47600000e-01,\n",
       "          2.50000000e-10,   2.50000000e-10,   7.36000003e-02,\n",
       "          2.50000000e-10,   2.46400000e-01]])"
      ]
     },
     "execution_count": 8,
     "metadata": {},
     "output_type": "execute_result"
    }
   ],
   "source": [
    "gnb_model.sigma_"
   ]
  },
  {
   "cell_type": "code",
   "execution_count": 9,
   "metadata": {
    "collapsed": false,
    "scrolled": true
   },
   "outputs": [
    {
     "name": "stdout",
     "output_type": "stream",
     "text": [
      "Class counts:  [ 72.  50.]\n",
      "Priors:  [ 0.59016393  0.40983607]\n"
     ]
    }
   ],
   "source": [
    "print(\"Class counts: \", gnb_model.class_count_)\n",
    "print(\"Priors: \", gnb_model.class_prior_)"
   ]
  },
  {
   "cell_type": "markdown",
   "metadata": {},
   "source": [
    "### Confusion matrix, специфичность, чувствительность"
   ]
  },
  {
   "cell_type": "markdown",
   "metadata": {},
   "source": [
    "Confusion matrix имеет вид (для двух классов):\n",
    "$\n",
    "\\begin{array}{|c|c|}\n",
    "\\hline\n",
    "{\\rm TN} & {\\rm FN} \\\\\n",
    "\\hline\n",
    "{\\rm FP} & {\\rm TP} \\\\\n",
    "\\hline\n",
    "\\end{array}\n",
    "$\n",
    "\n",
    "${\\rm TN}$ – true negative\n",
    "${\\rm FP}$ – false positive\n",
    "${\\rm FN}$ – false negative\n",
    "${\\rm TP}$ – true positive\n",
    "\n",
    "\n",
    "${\\rm FP}$ – _ложные тревоги_ (ошибки 1-го рода или $\\alpha$-ошибки)\n",
    "\n",
    "${\\rm FN}$ – _промахи_ (ошибки 2-го рода или $\\beta$-ошибки)\n",
    "\n",
    "$\\alpha = {\\rm FPR} = \\frac{{\\rm FP}}{{\\rm TN}+{\\rm FP}}$ – вероятность ошибки первого рода (_уровень значимости_)\n",
    "\n",
    "$\\beta = {\\rm FNR} = \\frac{{\\rm FN}}{{\\rm FN}+{\\rm TP}}$ – вероятность ошибки второго рода\n",
    "\n",
    "${\\rm TNR} = \\frac{{\\rm TN}}{{\\rm TN}+{\\rm FP}} = 1 - {\\rm FPR}$ – _специфичность_\n",
    "\n",
    "${\\rm TPR} = {\\rm recall} = \\frac{{\\rm TP}}{{\\rm FN}+{\\rm TP}} = 1 - {\\rm FNR}$ – _чувствительность_\n",
    "\n",
    "\n",
    "Еще:\n",
    "\n",
    "${\\rm error} = \\frac{{\\rm FP} + {\\rm FN}}{{\\rm TP} + {\\rm TN} + {\\rm FP} + {\\rm FN}}$ \n",
    "\n",
    "${\\rm accuracy} = \\frac{{\\rm TP} + {\\rm TN}}{{\\rm TP} + {\\rm TN} + {\\rm FP} + {\\rm FN}} = 1 - {\\rm error}$ \n",
    "\n",
    "${\\rm precision} = \\frac{{\\rm TP}}{{\\rm FP}+{\\rm TP}}$ \n",
    "\n",
    "$F_1 = 2\\cdot\\frac{{\\rm precision}\\cdot{\\rm recall}}{{\\rm precision}+{\\rm recall}}$ \n"
   ]
  },
  {
   "cell_type": "markdown",
   "metadata": {},
   "source": [
    "#### Использование различных классификаторов"
   ]
  },
  {
   "cell_type": "code",
   "execution_count": 11,
   "metadata": {
    "collapsed": false
   },
   "outputs": [
    {
     "data": {
      "application/vnd.jupyter.widget-view+json": {
       "model_id": "5bbdf53032184bec8e96d9ee1034f545"
      }
     },
     "metadata": {},
     "output_type": "display_data"
    },
    {
     "data": {
      "image/png": "[encoded data removed]",
      "text/plain": [
       "<matplotlib.figure.Figure at 0x7f5e733ec400>"
      ]
     },
     "metadata": {},
     "output_type": "display_data"
    },
    {
     "data": {
      "image/png": "[encoded data removed]",
      "text/plain": [
       "<matplotlib.figure.Figure at 0x7f5e73547e10>"
      ]
     },
     "metadata": {},
     "output_type": "display_data"
    }
   ],
   "source": [
    "from ipywidgets import interact\n",
    "\n",
    "\n",
    "defines = {\n",
    "    'gaussian': {\n",
    "        'ctor': GaussianNB,\n",
    "        'priors': True\n",
    "    },\n",
    "    'bernoulli': {\n",
    "        'ctor': BernoulliNB,\n",
    "        'priors': False\n",
    "    },\n",
    "    'multinomial': {\n",
    "        'ctor': MultinomialNB,\n",
    "        'priors': False\n",
    "    }\n",
    "}\n",
    "\n",
    "_, n_features = X.shape\n",
    "intY_test = pd.Series([0 if val is 'C1' else 1 for val in Y_test])\n",
    "def print_svc_data(model='gaussian', graph='hist'):\n",
    "    model_defines = defines[model]\n",
    "    nb_model = model_defines['ctor']()\n",
    "    nb_model.fit(X_train, Y_train)\n",
    "    Y_train_predict = nb_model.predict(X_train)\n",
    "    Y_test_predict = nb_model.predict(X_test)\n",
    "    err_train = np.mean(Y_train != Y_train_predict)\n",
    "    err_test = np.mean(Y_test != Y_test_predict)\n",
    "    print(f\"Errors: train - {err_train} | test - {err_test}\")\n",
    "    print(\"Class counts: \", nb_model.class_count_)\n",
    "    if model_defines['priors']:\n",
    "        print(\"Priors: \", nb_model.class_prior_)\n",
    "        pass\n",
    "    from sklearn.metrics import confusion_matrix\n",
    "    cm_train = confusion_matrix(Y_train_predict, Y_train)\n",
    "    print(\"Train data Confusion Matrix:\\n\", cm_train)\n",
    "    cm_test = confusion_matrix(Y_test_predict, Y_test)\n",
    "    print(\"Test data Confusion Matrix:\\n\", cm_test)\n",
    "    \n",
    "    tnr_tr = 1 - float(cm_train[1, 0])/(cm_train[0, 0] + cm_train[1, 0])\n",
    "    tpr_tr = 1 - float(cm_train[0, 1])/(cm_train[0, 1] + cm_train[1, 1])\n",
    "    print(f\"Train data: Specificity={tnr_tr} | Sensitivity={tpr_tr}\")\n",
    "    tnr_tst = 1 - float(cm_test[1, 0])/(cm_test[0, 0] + cm_test[1, 0])\n",
    "    tpr_tst = 1 - float(cm_test[0, 1])/(cm_test[0, 1] + cm_test[1, 1])\n",
    "    print(f\"Test data: Specificity={tnr_tst} | Sensitivity={tpr_tst}\")\n",
    "    probability = nb_model.predict_proba(X_test)[:, 1]\n",
    "    from sklearn.metrics import roc_curve\n",
    "    fpr, tpr, thresholds = roc_curve(intY_test, probability)\n",
    "    print(\"                   Test data:\\n\")\n",
    "    if graph is 'hist':\n",
    "        plt.hist(probability[Y_test == 'C1'], color = 'b', alpha = 0.4, normed = False)\n",
    "        plt.hist(probability[Y_test == 'C2'], color = 'r', alpha = 0.4, normed = False)\n",
    "        pass\n",
    "    else:\n",
    "        from sklearn.metrics import roc_curve\n",
    "        fpr, tpr, thresholds = roc_curve(intY_test, probability)\n",
    "        plt.title('Receiver Operating Characteristic')\n",
    "        plt.plot(np.concatenate(([0], fpr)), np.concatenate(([0], tpr)))\n",
    "        #plt.plot(fpr, tpr)\n",
    "        plt.xlabel('False Positive Rate (1 - Specificity)')\n",
    "        plt.ylabel('True Positive Rate (Sensitivity)')\n",
    "        plt.plot([0, 1], [0, 1], 'k--')\n",
    "        plt.axis([-0.05, 1.05, -0.05, 1.05])\n",
    "        pass\n",
    "    from sklearn.metrics import auc\n",
    "    print(\"Area Under Curve: \", auc(fpr, tpr))\n",
    "    pass\n",
    "\n",
    "interact(print_svc_data, model=defines.keys(), graph=['hist', 'roc'])\n",
    "pass"
   ]
  },
  {
   "cell_type": "markdown",
   "metadata": {},
   "source": [
    "# Деревья решений\n",
    "\n",
    "Dataset: [armenian pubs](https://www.kaggle.com/erikhambardzumyan/pubs)\n",
    "\n",
    "Подробнее о данных можно узнать в [первой работе](https://github.com/andrgolubev/python-sandbox/blob/master/data_analysis_1.ipynb)"
   ]
  },
  {
   "cell_type": "markdown",
   "metadata": {},
   "source": [
    "## Популярные алгоритмы построения дерева\n",
    " \n",
    "  * See5/C5.0 [Quinlan et., 1997]  ← C4.5 [Quinlan, 1993]  ← ID3 [Quinlan, 1979]  ← CLS [Hunt & Marin & Stone & 1966] \n",
    "  * Classification and Regression Trees [Breiman & Friedman & Olshen & Stone, 1984]  ← CHAID [Kass, 1980]  ← THAID [Morgan & Messenger 1973]  ← AID [Morgan & Sonquist, 1963]\n",
    "\n",
    "– это жадные рекурсивные алгоритмы, на каждом шаге разбивающие очередной ящик, чтобы добиться максимального уменьшения \n",
    "взвешенной _неоднородности_"
   ]
  },
  {
   "cell_type": "markdown",
   "metadata": {},
   "source": [
    "## Плюсы и минусы деревьев решений\n",
    "\n",
    "**Некоторые плюсы**\n",
    "\n",
    "* Возможность интерпретации построенного решающего правила\n",
    "* Не нуждается в большой подготовке данных\n",
    "* Возможно протестировать модель с помощью статистических тестов\n",
    "* Возможность определения значимости признаков\n",
    "* Нечувствительность к монотонным преобразованиям входных переменных\n",
    "* Поддерживают работу с входными переменными разных (смешанных) типов\n",
    "* Достаточно устойчивы к выбросам\n",
    "\n",
    "\n",
    "**Некоторые минусы**\n",
    "\n",
    "* Можно легко создать слишком сложные деревья, которые слишком хорошо описывают выборку и плохо генерализуют проблему (переобучение)\n",
    "* NP-complete проблема поиска оптимального дерева. На практике используют \"жадные\" алгоритмы\n",
    "* Некоторые данные невозможно правильно интерпретировать с помощью деревьев решений (_например_ XOR)"
   ]
  },
  {
   "cell_type": "code",
   "execution_count": 1,
   "metadata": {
    "collapsed": true
   },
   "outputs": [],
   "source": [
    "import numpy as np\n",
    "import matplotlib.pyplot as plt\n",
    "import pandas as pd\n",
    "%matplotlib inline"
   ]
  },
  {
   "cell_type": "markdown",
   "metadata": {},
   "source": [
    "### Ирисы Фишера"
   ]
  },
  {
   "cell_type": "code",
   "execution_count": 3,
   "metadata": {
    "collapsed": false
   },
   "outputs": [
    {
     "data": {
      "text/plain": [
       "<matplotlib.legend.Legend at 0x7f28c7cb8f98>"
      ]
     },
     "execution_count": 3,
     "metadata": {},
     "output_type": "execute_result"
    },
    {
     "data": {
      "image/png": "[encoded data removed]",
      "text/plain": [
       "<matplotlib.figure.Figure at 0x7f28d08002e8>"
      ]
     },
     "metadata": {},
     "output_type": "display_data"
    }
   ],
   "source": [
    "from sklearn import datasets\n",
    "iris = datasets.load_iris()\n",
    "\n",
    "X = iris.data\n",
    "y = iris.target\n",
    "y_names = iris.target_names\n",
    "feature_names = iris.feature_names\n",
    "\n",
    "j1 = 0\n",
    "j2 = 1\n",
    "\n",
    "plt.scatter(X[y == 0, j1], X[y == 0, j2], color = 'b', label = y_names[0], alpha = 0.9)\n",
    "plt.scatter(X[y == 1, j1], X[y == 1, j2], color = 'r', label = y_names[1], alpha = 0.9)\n",
    "plt.scatter(X[y == 2, j1], X[y == 2, j2], color = 'g', label = y_names[2], alpha = 0.9)\n",
    "plt.xlabel(feature_names[j1])\n",
    "plt.ylabel(feature_names[j2])\n",
    "\n",
    "plt.legend(loc = 'best')"
   ]
  },
  {
   "cell_type": "code",
   "execution_count": 4,
   "metadata": {
    "collapsed": false
   },
   "outputs": [
    {
     "data": {
      "text/plain": [
       "DecisionTreeClassifier(class_weight=None, criterion='gini', max_depth=None,\n",
       "            max_features=None, max_leaf_nodes=None,\n",
       "            min_impurity_split=1e-07, min_samples_leaf=1,\n",
       "            min_samples_split=2, min_weight_fraction_leaf=0.0,\n",
       "            presort=False, random_state=None, splitter='best')"
      ]
     },
     "execution_count": 4,
     "metadata": {},
     "output_type": "execute_result"
    }
   ],
   "source": [
    "X = X[:, [j1, j2]]\n",
    "\n",
    "from sklearn import tree\n",
    "tree_model = tree.DecisionTreeClassifier()\n",
    "tree_model.fit(X, y)"
   ]
  },
  {
   "cell_type": "code",
   "execution_count": 7,
   "metadata": {
    "collapsed": true
   },
   "outputs": [],
   "source": [
    "tree.export_graphviz(tree_model, out_file = 'iris_tree.dot', feature_names = [feature_names[j1], feature_names[j2]])   \n",
    "!dot -Tpng iris_tree.dot -o iris_tree.png"
   ]
  },
  {
   "cell_type": "code",
   "execution_count": 9,
   "metadata": {
    "collapsed": false
   },
   "outputs": [
    {
     "data": {
      "text/plain": [
       "<matplotlib.image.AxesImage at 0x7f28c2114c18>"
      ]
     },
     "execution_count": 9,
     "metadata": {},
     "output_type": "execute_result"
    },
    {
     "data": {
      "image/png": "[encoded data removed]",
      "text/plain": [
       "<matplotlib.figure.Figure at 0x7f28c2aa5f60>"
      ]
     },
     "metadata": {},
     "output_type": "display_data"
    }
   ],
   "source": [
    "from scipy import misc\n",
    "i = misc.imread('iris_tree.png')\n",
    "plt.imshow(i)"
   ]
  },
  {
   "cell_type": "markdown",
   "metadata": {},
   "source": [
    "### Наши данные"
   ]
  },
  {
   "cell_type": "code",
   "execution_count": 10,
   "metadata": {
    "collapsed": false
   },
   "outputs": [
    {
     "name": "stdout",
     "output_type": "stream",
     "text": [
      "Index(['age', 'income', 'occupation_CEO',\n",
      "       'occupation_Entrepreneur_/_Software_Engineer', 'occupation_Student',\n",
      "       'occupation_Student_+_working', 'occupation_Working',\n",
      "       'occupation_Working', 'occupation_army', 'freq_Several_times_a_week',\n",
      "       'freq_Several_times_in_a_month', 'freq_rarely', 'prim_imp_Environment',\n",
      "       'prim_imp_Menu', 'prim_imp_Music', 'prim_imp_Pricing',\n",
      "       'sec_imp_Environment', 'sec_imp_Menu', 'sec_imp_Music',\n",
      "       'sec_imp_Pricing', 'stratum_Capital', 'stratum_Rural', 'stratum_Urban',\n",
      "       'lifestyle_Adventure/traveling/exploring', 'lifestyle_Art',\n",
      "       'lifestyle_Business_sports_dance', 'lifestyle_Busy',\n",
      "       'lifestyle_Nightlife', 'lifestyle_Passive', 'lifestyle_Rock_punk',\n",
      "       'lifestyle_Sport', 'lifestyle_Sport_art_traveling', 'lifestyle_Student',\n",
      "       'occasions_Birthdays', 'occasions_For_listening__good_music',\n",
      "       'occasions_Hang_outs_with_friends', 'occasions_Never',\n",
      "       'occasions_Nowere', 'occasions_Special_events/parties',\n",
      "       'occasions_chem_aycelum', 'gender'],\n",
      "      dtype='object')\n"
     ]
    }
   ],
   "source": [
    "import data_retrieve as dr\n",
    "X, data = dr.parse_and_prepare(\"armenian_pubs.csv\", sep=\",\", engine=\"python\")\n",
    "Y = None\n",
    "Y_numeric = data['wts']\n",
    "Y_mean = np.mean(Y_numeric)\n",
    "Y = pd.Series(['C1' if val <= Y_mean else 'C2' for val in Y_numeric])\n",
    "intY = pd.Series([0 if val is 'C1' else 1 for val in Y])\n",
    "feature_names = X.columns\n",
    "print(feature_names)"
   ]
  },
  {
   "cell_type": "markdown",
   "metadata": {},
   "source": [
    "#### Разбиение на обучающую и тестовую выборки"
   ]
  },
  {
   "cell_type": "code",
   "execution_count": 48,
   "metadata": {
    "collapsed": false
   },
   "outputs": [
    {
     "name": "stdout",
     "output_type": "stream",
     "text": [
      "87 88\n"
     ]
    }
   ],
   "source": [
    "from sklearn.model_selection import train_test_split\n",
    "# constant random_state to have repeatability\n",
    "X_train, X_test, Y_train, Y_test = train_test_split(X, Y, train_size=0.5, random_state=7)\n",
    "N_train, _ = X_train.shape\n",
    "N_test, _ = X_test.shape\n",
    "intY = pd.Series([0 if val is 'C1' else 1 for val in Y_train])\n",
    "intY_test = pd.Series([0 if val is 'C1' else 1 for val in Y_test])\n",
    "print(N_train, N_test)"
   ]
  },
  {
   "cell_type": "markdown",
   "metadata": {},
   "source": [
    "#### Инициализация"
   ]
  },
  {
   "cell_type": "code",
   "execution_count": 58,
   "metadata": {
    "collapsed": false
   },
   "outputs": [
    {
     "data": {
      "text/plain": [
       "DecisionTreeClassifier(class_weight=None, criterion='gini', max_depth=None,\n",
       "            max_features=None, max_leaf_nodes=None,\n",
       "            min_impurity_split=1e-07, min_samples_leaf=1,\n",
       "            min_samples_split=2, min_weight_fraction_leaf=0.0,\n",
       "            presort=False, random_state=None, splitter='best')"
      ]
     },
     "execution_count": 58,
     "metadata": {},
     "output_type": "execute_result"
    }
   ],
   "source": [
    "tree_model = tree.DecisionTreeClassifier()\n",
    "tree_model.fit(X_train, Y_train)"
   ]
  },
  {
   "cell_type": "code",
   "execution_count": 59,
   "metadata": {
    "collapsed": false
   },
   "outputs": [
    {
     "data": {
      "text/plain": [
       "<matplotlib.collections.PathCollection at 0x7f28c18dc748>"
      ]
     },
     "execution_count": 59,
     "metadata": {},
     "output_type": "execute_result"
    },
    {
     "data": {
      "image/png": "[encoded data removed]",
      "text/plain": [
       "<matplotlib.figure.Figure at 0x7f28c1f71518>"
      ]
     },
     "metadata": {},
     "output_type": "display_data"
    }
   ],
   "source": [
    "vX = X_train.values\n",
    "colors = np.array(['b', 'r'])[intY]\n",
    "plt.scatter(vX[:, 0], vX[:, 1], color = colors)"
   ]
  },
  {
   "cell_type": "markdown",
   "metadata": {},
   "source": [
    "#### Ошибки"
   ]
  },
  {
   "cell_type": "code",
   "execution_count": 60,
   "metadata": {
    "collapsed": false
   },
   "outputs": [
    {
     "name": "stdout",
     "output_type": "stream",
     "text": [
      "0.0\n",
      "0.488636363636\n"
     ]
    }
   ],
   "source": [
    "Y_train_pred = tree_model.predict(X_train)\n",
    "Y_test_pred = tree_model.predict(X_test)\n",
    "\n",
    "print(np.mean(Y_train_pred != Y_train))\n",
    "print(np.mean(Y_test_pred != Y_test))"
   ]
  },
  {
   "cell_type": "markdown",
   "metadata": {},
   "source": [
    "#### Визуализация"
   ]
  },
  {
   "cell_type": "code",
   "execution_count": 61,
   "metadata": {
    "collapsed": true
   },
   "outputs": [],
   "source": [
    "tree.export_graphviz(tree_model, out_file = 'armenian_pubs_tree.dot', feature_names=X.columns)   \n",
    "!dot -Tpng armenian_pubs_tree.dot -o armenian_pubs_tree.png"
   ]
  },
  {
   "cell_type": "code",
   "execution_count": 62,
   "metadata": {
    "collapsed": false,
    "scrolled": true
   },
   "outputs": [
    {
     "data": {
      "text/plain": [
       "<matplotlib.image.AxesImage at 0x7f28c1deab00>"
      ]
     },
     "execution_count": 62,
     "metadata": {},
     "output_type": "execute_result"
    },
    {
     "data": {
      "image/png": "[encoded data removed]",
      "text/plain": [
       "<matplotlib.figure.Figure at 0x7f28c1764898>"
      ]
     },
     "metadata": {},
     "output_type": "display_data"
    }
   ],
   "source": [
    "i = misc.imread('armenian_pubs_tree.png')\n",
    "plt.imshow(i)"
   ]
  },
  {
   "cell_type": "markdown",
   "metadata": {},
   "source": [
    "## Подбор параметров"
   ]
  },
  {
   "cell_type": "code",
   "execution_count": 63,
   "metadata": {
    "collapsed": false
   },
   "outputs": [
    {
     "name": "stdout",
     "output_type": "stream",
     "text": [
      "0.390804597701\n",
      "20\n"
     ]
    }
   ],
   "source": [
    "from sklearn.model_selection import GridSearchCV\n",
    "depth_array = np.arange(1, 25)\n",
    "tree_model = tree.DecisionTreeClassifier()\n",
    "grid = GridSearchCV(tree_model, param_grid = {'max_depth': depth_array}, cv = 5)\n",
    "grid.fit(X_train, Y_train)\n",
    "min_err_cv = 1 - grid.best_score_\n",
    "argmin_err_cv = grid.best_estimator_.max_depth\n",
    "print(min_err_cv)\n",
    "print(argmin_err_cv)"
   ]
  },
  {
   "cell_type": "code",
   "execution_count": 64,
   "metadata": {
    "collapsed": false
   },
   "outputs": [
    {
     "name": "stderr",
     "output_type": "stream",
     "text": [
      "/home/abay/anaconda3/lib/python3.6/site-packages/sklearn/model_selection/_search.py:667: DeprecationWarning: The grid_scores_ attribute was deprecated in version 0.18 in favor of the more elaborate cv_results_ attribute. The grid_scores_ attribute will not be available from 0.20\n",
      "  DeprecationWarning)\n",
      "/home/abay/anaconda3/lib/python3.6/site-packages/sklearn/model_selection/_search.py:667: DeprecationWarning: The grid_scores_ attribute was deprecated in version 0.18 in favor of the more elaborate cv_results_ attribute. The grid_scores_ attribute will not be available from 0.20\n",
      "  DeprecationWarning)\n"
     ]
    }
   ],
   "source": [
    "err_cv  = 1-np.array([x[1] for x in grid.grid_scores_])\n",
    "err_std = map(np.std, [x[2] for x in grid.grid_scores_])\n",
    "# plt.errorbar(np.arange(1, 25), err_cv, yerr = err_std)\n",
    "# plt.axhline(y = min_err_cv + err_std[argmin_err_cv - 1], color = 'gray')"
   ]
  },
  {
   "cell_type": "code",
   "execution_count": 65,
   "metadata": {
    "collapsed": false
   },
   "outputs": [
    {
     "name": "stdout",
     "output_type": "stream",
     "text": [
      "[[27 24]\n",
      " [19 18]]\n"
     ]
    }
   ],
   "source": [
    "from sklearn.metrics import confusion_matrix\n",
    "CF = confusion_matrix(Y_test_pred, Y_test)\n",
    "print(CF)"
   ]
  },
  {
   "cell_type": "markdown",
   "metadata": {},
   "source": [
    "### ROC-кривая"
   ]
  },
  {
   "cell_type": "code",
   "execution_count": 66,
   "metadata": {
    "collapsed": false
   },
   "outputs": [
    {
     "data": {
      "image/png": "[encoded data removed]",
      "text/plain": [
       "<matplotlib.figure.Figure at 0x7f28c1abe048>"
      ]
     },
     "metadata": {},
     "output_type": "display_data"
    }
   ],
   "source": [
    "from sklearn.metrics import roc_curve\n",
    "tree_model.fit(X_train, Y_train)\n",
    "proba = tree_model.predict_proba(X_test)[:, 1]\n",
    "\n",
    "plt.hist(proba[intY_test == 0], color = 'b', alpha = 0.3, normed = True)\n",
    "plt.hist(proba[intY_test == 1], color = 'r', alpha = 0.3, normed = True)\n",
    "pass"
   ]
  },
  {
   "cell_type": "code",
   "execution_count": 67,
   "metadata": {
    "collapsed": false
   },
   "outputs": [
    {
     "data": {
      "text/plain": [
       "[-0.05, 1.05, -0.05, 1.05]"
      ]
     },
     "execution_count": 67,
     "metadata": {},
     "output_type": "execute_result"
    },
    {
     "data": {
      "image/png": "[encoded data removed]",
      "text/plain": [
       "<matplotlib.figure.Figure at 0x7f28c1951160>"
      ]
     },
     "metadata": {},
     "output_type": "display_data"
    }
   ],
   "source": [
    "fpr, tpr, thresholds = roc_curve(intY_test, proba)\n",
    "plt.title('Receiver Operating Characteristic')\n",
    "plt.plot(np.concatenate(([0], fpr)), np.concatenate(([0], tpr)))\n",
    "plt.ylabel('True Positive Rate (Sensitivity)')\n",
    "plt.xlabel('False Positive Rate (1 - Specificity)')\n",
    "plt.plot([0, 1], [0, 1], 'k--')\n",
    "plt.axis([-0.05, 1.05, -0.05, 1.05])"
   ]
  },
  {
   "cell_type": "markdown",
   "metadata": {},
   "source": [
    "#### Area Under Curve"
   ]
  },
  {
   "cell_type": "code",
   "execution_count": 68,
   "metadata": {
    "collapsed": false
   },
   "outputs": [
    {
     "data": {
      "text/plain": [
       "0.48395445134575565"
      ]
     },
     "execution_count": 68,
     "metadata": {},
     "output_type": "execute_result"
    }
   ],
   "source": [
    "from sklearn.metrics import auc\n",
    "auc(fpr, tpr)"
   ]
  },
  {
   "cell_type": "markdown",
   "metadata": {},
   "source": [
    "### Значимость признаков"
   ]
  },
  {
   "cell_type": "code",
   "execution_count": 69,
   "metadata": {
    "collapsed": false
   },
   "outputs": [
    {
     "name": "stdout",
     "output_type": "stream",
     "text": [
      "Feature ranking:\n",
      " 1. feature 'income' (0.254902)\n",
      " 2. feature '  age' (0.214498)\n",
      " 3. feature 'sec_imp_Music' (0.133497)\n",
      " 4. feature 'lifestyle_Rock_punk' (0.051076)\n",
      " 5. feature 'lifestyle_Busy' (0.045166)\n",
      " 6. feature 'lifestyle_Sport' (0.041605)\n",
      " 7. feature 'occupation_Student' (0.040049)\n",
      " 8. feature 'freq_rarely' (0.037739)\n",
      " 9. feature 'occasions_Hang_outs_with_friends' (0.037379)\n",
      "10. feature 'prim_imp_Pricing' (0.030037)\n"
     ]
    }
   ],
   "source": [
    "importances = tree_model.feature_importances_\n",
    "indices = np.argsort(importances)[:-11:-1]\n",
    "names = X.columns\n",
    "print(\"Feature ranking:\")\n",
    "\n",
    "for f in range(10):\n",
    "    print(\"%2d. feature '%5s' (%f)\" % (f + 1, names[indices[f]], importances[indices[f]]))"
   ]
  },
  {
   "cell_type": "code",
   "execution_count": 86,
   "metadata": {
    "collapsed": false
   },
   "outputs": [
    {
     "data": {
      "text/plain": [
       "(-1, 10)"
      ]
     },
     "execution_count": 86,
     "metadata": {},
     "output_type": "execute_result"
    },
    {
     "data": {
      "image/png": "[encoded data removed]",
      "text/plain": [
       "<matplotlib.figure.Figure at 0x7f28c160d5f8>"
      ]
     },
     "metadata": {},
     "output_type": "display_data"
    }
   ],
   "source": [
    "plt.figure(figsize=(25,10))\n",
    "plt.title(\"Feature importances\")\n",
    "plt.bar(range(10), importances[indices], align = 'center', color = 'r')\n",
    "plt.xticks(range(10), np.array(names)[indices])\n",
    "plt.xlim([-1, 10])"
   ]
  },
  {
   "cell_type": "code",
   "execution_count": null,
   "metadata": {
    "collapsed": true
   },
   "outputs": [],
   "source": []
  },
  {
   "cell_type": "markdown",
   "metadata": {},
   "source": [
    "# Ансамбли решающих функций (классификаторов)\n",
    "\n",
    "На сегодняшний день существуют два подхода:\n",
    "    \n",
    "* Баггинг (построение независимых классификаторов):\n",
    "        - Bagging\n",
    "        - Random Forests\n",
    "        - ...\n",
    "* Бустинг (новые классификаторы знают об ошибках других и учатся на их ошибках):\n",
    "        - AdaBoost\n",
    "        - Gradient Boosting\n",
    "        - ...\n",
    "\n",
    "\n",
    "Dataset: [armenian pubs](https://www.kaggle.com/erikhambardzumyan/pubs)\n",
    "\n",
    "Подробнее о данных можно узнать в [первой работе](https://github.com/andrgolubev/python-sandbox/blob/master/data_analysis_1.ipynb)"
   ]
  },
  {
   "cell_type": "markdown",
   "metadata": {},
   "source": [
    "## Плюсы и минусы ансамблей деревьев решений\n",
    "\n",
    "** Плюсы **:\n",
    "\n",
    "* Все достоинства деревьев решений сохраняются (кроме возможности интерпретации решающего правила - но остается возможность определения значимости признаков)\n",
    "* Хорошее (часто рекордное) качество предсказания\n",
    "* Random Forest (почти) не переобучается (GBT, AdaBoost - чуть похуже)\n",
    "\n",
    "** Минусы **:\n",
    "\n",
    "* GBT, AdaBoost - много параметров, которые надо подбирать\n",
    "* Медленно обучаются (особенно GBT, который требует обычно много деревьев)"
   ]
  },
  {
   "cell_type": "code",
   "execution_count": 1,
   "metadata": {
    "collapsed": false
   },
   "outputs": [],
   "source": [
    "import numpy as np\n",
    "import matplotlib.pyplot as plt\n",
    "import pandas as pd\n",
    "%matplotlib inline"
   ]
  },
  {
   "cell_type": "code",
   "execution_count": 2,
   "metadata": {
    "collapsed": false
   },
   "outputs": [
    {
     "name": "stdout",
     "output_type": "stream",
     "text": [
      "122 53\n"
     ]
    },
    {
     "name": "stderr",
     "output_type": "stream",
     "text": [
      "/home/andrgolubev/.local/lib/python3.6/site-packages/sklearn/model_selection/_split.py:2026: FutureWarning: From version 0.21, test_size will always complement train_size unless both are specified.\n",
      "  FutureWarning)\n"
     ]
    }
   ],
   "source": [
    "import data_retrieve as dr\n",
    "X, data = dr.parse_and_prepare(\"armenian_pubs.csv\", sep=\",\", engine=\"python\")\n",
    "Y = None\n",
    "Y_numeric = data['wts']\n",
    "Y_mean = np.mean(Y_numeric)\n",
    "Y = pd.Series(['C1' if val <= Y_mean else 'C2' for val in Y_numeric])\n",
    "intY = pd.Series([0 if val is 'C1' else 1 for val in Y])\n",
    "feature_names = X.columns\n",
    "\n",
    "from sklearn.model_selection import train_test_split\n",
    "# constant random_state to have repeatability\n",
    "X_train, X_test, Y_train, Y_test = train_test_split(X, Y, train_size=0.7, random_state=7)\n",
    "N_train, _ = X_train.shape\n",
    "N_test, _ = X_test.shape\n",
    "intY = pd.Series([0 if val is 'C1' else 1 for val in Y_train])\n",
    "intY_test = pd.Series([0 if val is 'C1' else 1 for val in Y_test])\n",
    "print(N_train, N_test)"
   ]
  },
  {
   "cell_type": "markdown",
   "metadata": {},
   "source": [
    "## Random Forest\n",
    "\n",
    "Ансамбль параллельно обучаемых «независимых» деревьев решений.\n",
    "\n",
    "Независимое построение определенного количества $M = {}$`n_estimators` (по умолчанию, 10) деревьев:\n",
    "\n",
    "Генерация случайной bootstrap-подвыборки (по умолчанию, ее мощность равна $\\sqrt{N}$) из обучающей выборки и построение дерева решений по данной подвыборке (в каждом\n",
    "новом узле дерева переменная для разбиения выбирается не из всех признаков, а из\n",
    "случайно выбранного их подмножества небольшой мощности)."
   ]
  },
  {
   "cell_type": "code",
   "execution_count": 3,
   "metadata": {
    "collapsed": false
   },
   "outputs": [
    {
     "data": {
      "text/plain": [
       "RandomForestClassifier(bootstrap=True, class_weight=None, criterion='gini',\n",
       "            max_depth=None, max_features='auto', max_leaf_nodes=None,\n",
       "            min_impurity_decrease=0.0, min_impurity_split=None,\n",
       "            min_samples_leaf=1, min_samples_split=2,\n",
       "            min_weight_fraction_leaf=0.0, n_estimators=700, n_jobs=1,\n",
       "            oob_score=False, random_state=None, verbose=0,\n",
       "            warm_start=False)"
      ]
     },
     "execution_count": 3,
     "metadata": {},
     "output_type": "execute_result"
    }
   ],
   "source": [
    "from sklearn.ensemble import RandomForestClassifier\n",
    "rf_model = RandomForestClassifier(n_estimators=700)\n",
    "rf_model.fit(X_train, Y_train)"
   ]
  },
  {
   "cell_type": "code",
   "execution_count": 4,
   "metadata": {
    "collapsed": false
   },
   "outputs": [
    {
     "name": "stdout",
     "output_type": "stream",
     "text": [
      "0.0 0.528301886792\n"
     ]
    }
   ],
   "source": [
    "err_train = np.mean(Y_train != rf_model.predict(X_train))\n",
    "err_test = np.mean(Y_test != rf_model.predict(X_test))\n",
    "print(err_train, err_test)"
   ]
  },
  {
   "cell_type": "code",
   "execution_count": 5,
   "metadata": {
    "collapsed": true
   },
   "outputs": [],
   "source": [
    "n_estimators = []\n",
    "for i in range(1, 700, 10):\n",
    "    n_estimators.append(i)\n",
    "    pass"
   ]
  },
  {
   "cell_type": "markdown",
   "metadata": {
    "collapsed": false
   },
   "source": [
    "Оптимальное число эстиматоров:"
   ]
  },
  {
   "cell_type": "code",
   "execution_count": 6,
   "metadata": {
    "collapsed": false
   },
   "outputs": [
    {
     "name": "stdout",
     "output_type": "stream",
     "text": [
      "0.426229508197 161\n"
     ]
    }
   ],
   "source": [
    "from sklearn.model_selection import GridSearchCV\n",
    "rf_default = RandomForestClassifier()\n",
    "# using cross-validation\n",
    "rf_grid_cv = GridSearchCV(rf_default, param_grid = {'n_estimators': n_estimators}, cv=None, n_jobs=4)\n",
    "rf_grid_cv.fit(X_train, Y_train)\n",
    "best_cv_err = 1 - rf_grid_cv.best_score_\n",
    "best_n_estimators = rf_grid_cv.best_estimator_.n_estimators\n",
    "print(best_cv_err, best_n_estimators)"
   ]
  },
  {
   "cell_type": "markdown",
   "metadata": {},
   "source": [
    "## AdaBoost\n",
    "\n",
    "Будем использовать веса $w_1,w_2, \\dots ,w_N$.\n",
    "\n",
    "На первой итерации $w_i = 1/N$ ($i = 1, 2, \\dots ,N$) и алгоритм построения $f_1$ работает в\n",
    "обычном режиме.\n",
    "На $m$-й итерации увеличиваются веса тех прецедентов, на которых на $(m − 1)$-й\n",
    "итерации была допущена ошибка, и уменьшаются веса тех прецедентов, которые на\n",
    "предыдущей итерации были классифицированы правильно.\n",
    "\n",
    "На $m$-й итерации ищем классификатор $f_m$, минимизирующий ошибку\n",
    "$$\n",
    "{\\rm err}_m = \\sum_{f_m(x^{(i)}) \\ne y^{(i)}} w_i\n",
    "$$\n"
   ]
  },
  {
   "cell_type": "code",
   "execution_count": 7,
   "metadata": {
    "collapsed": false
   },
   "outputs": [
    {
     "data": {
      "text/plain": [
       "AdaBoostClassifier(algorithm='SAMME.R', base_estimator=None,\n",
       "          learning_rate=1.0, n_estimators=700, random_state=None)"
      ]
     },
     "execution_count": 7,
     "metadata": {},
     "output_type": "execute_result"
    }
   ],
   "source": [
    "from sklearn.ensemble import AdaBoostClassifier\n",
    "adab_model = AdaBoostClassifier(n_estimators=700)\n",
    "adab_model.fit(X_train, Y_train)"
   ]
  },
  {
   "cell_type": "code",
   "execution_count": 8,
   "metadata": {
    "collapsed": false
   },
   "outputs": [
    {
     "name": "stdout",
     "output_type": "stream",
     "text": [
      "0.139344262295 0.509433962264\n"
     ]
    }
   ],
   "source": [
    "err_train = np.mean(Y_train != adab_model.predict(X_train))\n",
    "err_test = np.mean(Y_test != adab_model.predict(X_test))\n",
    "print(err_train, err_test)"
   ]
  },
  {
   "cell_type": "markdown",
   "metadata": {},
   "source": [
    "Оптимальное число эстиматоров:"
   ]
  },
  {
   "cell_type": "code",
   "execution_count": 9,
   "metadata": {
    "collapsed": false
   },
   "outputs": [
    {
     "name": "stdout",
     "output_type": "stream",
     "text": [
      "0.434426229508 1\n"
     ]
    }
   ],
   "source": [
    "from sklearn.model_selection import GridSearchCV\n",
    "adab_default = AdaBoostClassifier()\n",
    "# using cross-validation\n",
    "adab_grid_cv = GridSearchCV(adab_default, param_grid = {'n_estimators': n_estimators}, cv=None, n_jobs=4)\n",
    "adab_grid_cv.fit(X_train, Y_train)\n",
    "best_cv_err = 1 - adab_grid_cv.best_score_\n",
    "best_n_estimators = adab_grid_cv.best_estimator_.n_estimators\n",
    "print(best_cv_err, best_n_estimators)"
   ]
  },
  {
   "cell_type": "markdown",
   "metadata": {},
   "source": [
    "## Gradient Boosting\n",
    "\n",
    "На каждой итерации строится новый классификатор, аппроксимирующий значение градиента функции потерь"
   ]
  },
  {
   "cell_type": "code",
   "execution_count": 10,
   "metadata": {
    "collapsed": false
   },
   "outputs": [
    {
     "data": {
      "text/plain": [
       "GradientBoostingClassifier(criterion='friedman_mse', init=None,\n",
       "              learning_rate=0.1, loss='deviance', max_depth=3,\n",
       "              max_features=None, max_leaf_nodes=None,\n",
       "              min_impurity_decrease=0.0, min_impurity_split=None,\n",
       "              min_samples_leaf=1, min_samples_split=2,\n",
       "              min_weight_fraction_leaf=0.0, n_estimators=700,\n",
       "              presort='auto', random_state=None, subsample=1.0, verbose=0,\n",
       "              warm_start=False)"
      ]
     },
     "execution_count": 10,
     "metadata": {},
     "output_type": "execute_result"
    }
   ],
   "source": [
    "from sklearn.ensemble import GradientBoostingClassifier\n",
    "gdb_model = GradientBoostingClassifier(n_estimators=700)\n",
    "gdb_model.fit(X_train, Y_train)"
   ]
  },
  {
   "cell_type": "code",
   "execution_count": 11,
   "metadata": {
    "collapsed": false
   },
   "outputs": [
    {
     "name": "stdout",
     "output_type": "stream",
     "text": [
      "0.0 0.547169811321\n"
     ]
    }
   ],
   "source": [
    "err_train = np.mean(Y_train != gdb_model.predict(X_train))\n",
    "err_test = np.mean(Y_test != gdb_model.predict(X_test))\n",
    "print(err_train, err_test)"
   ]
  },
  {
   "cell_type": "markdown",
   "metadata": {},
   "source": [
    "Оптимальное число эстиматоров:"
   ]
  },
  {
   "cell_type": "code",
   "execution_count": 12,
   "metadata": {
    "collapsed": false
   },
   "outputs": [
    {
     "name": "stdout",
     "output_type": "stream",
     "text": [
      "0.409836065574 1\n"
     ]
    }
   ],
   "source": [
    "from sklearn.model_selection import GridSearchCV\n",
    "gdb_default = GradientBoostingClassifier()\n",
    "# using cross-validation\n",
    "gdb_grid_cv = GridSearchCV(gdb_default, param_grid = {'n_estimators': n_estimators}, cv=None, n_jobs=4)\n",
    "gdb_grid_cv.fit(X_train, Y_train)\n",
    "best_cv_err = 1 - gdb_grid_cv.best_score_\n",
    "best_n_estimators = gdb_grid_cv.best_estimator_.n_estimators\n",
    "print(best_cv_err, best_n_estimators)"
   ]
  },
  {
   "cell_type": "markdown",
   "metadata": {},
   "source": [
    "### Общие параметры для каждого дерева"
   ]
  },
  {
   "cell_type": "code",
   "execution_count": 13,
   "metadata": {
    "collapsed": false
   },
   "outputs": [],
   "source": [
    "from ipywidgets import interact\n",
    "\n",
    "defines = {\n",
    "    'random_forest': {\n",
    "        'ctor': RandomForestClassifier\n",
    "    },\n",
    "    'ada_boost': {\n",
    "        'ctor': AdaBoostClassifier\n",
    "    },\n",
    "    'gradient_boosting': {\n",
    "        'ctor': GradientBoostingClassifier\n",
    "    }\n",
    "}\n",
    "\n",
    "names = X.columns\n",
    "_, n_features = X.shape\n",
    "def print_svc_data(model='random_forest', graph='roc', n_estimators=700):\n",
    "    model_defines = defines[model]\n",
    "    tree_model = model_defines['ctor'](n_estimators=n_estimators)\n",
    "    tree_model.fit(X_train, Y_train)\n",
    "    Y_train_predict = tree_model.predict(X_train)\n",
    "    Y_test_predict = tree_model.predict(X_test)\n",
    "    err_train = np.mean(Y_train != Y_train_predict)\n",
    "    err_test = np.mean(Y_test != Y_test_predict)\n",
    "    print(f\"Errors: train - {err_train} | test - {err_test}\")\n",
    "    from sklearn.metrics import confusion_matrix\n",
    "    cm_train = confusion_matrix(Y_train_predict, Y_train)\n",
    "    print(\"Train data Confusion Matrix:\\n\", cm_train)\n",
    "    cm_test = confusion_matrix(Y_test_predict, Y_test)\n",
    "    print(\"Test data Confusion Matrix:\\n\", cm_test)\n",
    "    \n",
    "    tnr_tr = 1 - float(cm_train[1, 0])/(cm_train[0, 0] + cm_train[1, 0])\n",
    "    tpr_tr = 1 - float(cm_train[0, 1])/(cm_train[0, 1] + cm_train[1, 1])\n",
    "    print(f\"Train data: Specificity={tnr_tr} | Sensitivity={tpr_tr}\")\n",
    "    tnr_tst = 1 - float(cm_test[1, 0])/(cm_test[0, 0] + cm_test[1, 0])\n",
    "    tpr_tst = 1 - float(cm_test[0, 1])/(cm_test[0, 1] + cm_test[1, 1])\n",
    "    print(f\"Test data: Specificity={tnr_tst} | Sensitivity={tpr_tst}\")\n",
    "    probability = tree_model.predict_proba(X_test)[:, 1]\n",
    "    from sklearn.metrics import roc_curve\n",
    "    fpr, tpr, thresholds = roc_curve(intY_test, probability)\n",
    "    \n",
    "    importances = tree_model.feature_importances_\n",
    "    indices = np.argsort(importances)[:-11:-1]\n",
    "    print(\"Feature ranking:\")\n",
    "    for f in range(10):\n",
    "        print(\"%2d. feature '%5s' (%f)\" % (f + 1, names[indices[f]], importances[indices[f]]))\n",
    "        \n",
    "    plt.hist(probability[Y_test == 'C1'], color = 'b', alpha = 0.4, normed = False)\n",
    "    plt.hist(probability[Y_test == 'C2'], color = 'r', alpha = 0.4, normed = False)\n",
    "    \n",
    "    from sklearn.metrics import roc_curve\n",
    "    fpr, tpr, thresholds = roc_curve(intY_test, probability)\n",
    "    plt.title('Receiver Operating Characteristic')\n",
    "    plt.plot(np.concatenate(([0], fpr)), np.concatenate(([0], tpr)))\n",
    "    #plt.plot(fpr, tpr)\n",
    "    plt.xlabel('False Positive Rate (1 - Specificity)')\n",
    "    plt.ylabel('True Positive Rate (Sensitivity)')\n",
    "    plt.plot([0, 1], [0, 1], 'k--')\n",
    "    plt.axis([-0.05, 1.05, -0.05, 1.05])\n",
    "    from sklearn.metrics import auc\n",
    "    print(\"Area Under Curve: \", auc(fpr, tpr))\n",
    "    pass\n",
    "\n",
    "# interact(print_svc_data, model=defines.keys(), graph=['hist', 'roc'], n_estimators=(1, 2500, 1))\n",
    "pass"
   ]
  },
  {
   "cell_type": "markdown",
   "metadata": {
    "collapsed": true
   },
   "source": [
    "RandomForest"
   ]
  },
  {
   "cell_type": "code",
   "execution_count": 14,
   "metadata": {
    "collapsed": false
   },
   "outputs": [
    {
     "name": "stdout",
     "output_type": "stream",
     "text": [
      "Errors: train - 0.0 | test - 0.5660377358490566\n",
      "Train data Confusion Matrix:\n",
      " [[72  0]\n",
      " [ 0 50]]\n",
      "Test data Confusion Matrix:\n",
      " [[16 23]\n",
      " [ 7  7]]\n",
      "Train data: Specificity=1.0 | Sensitivity=1.0\n",
      "Test data: Specificity=0.6956521739130435 | Sensitivity=0.23333333333333328\n",
      "Feature ranking:\n",
      " 1. feature 'income' (0.172544)\n",
      " 2. feature '  age' (0.132673)\n",
      " 3. feature 'gender' (0.053683)\n",
      " 4. feature 'occupation_Student' (0.051004)\n",
      " 5. feature 'sec_imp_Music' (0.042266)\n",
      " 6. feature 'freq_rarely' (0.040926)\n",
      " 7. feature 'sec_imp_Pricing' (0.038409)\n",
      " 8. feature 'freq_Several_times_in_a_month' (0.034144)\n",
      " 9. feature 'sec_imp_Menu' (0.033086)\n",
      "10. feature 'lifestyle_Busy' (0.032829)\n",
      "Area Under Curve:  0.484057971014\n"
     ]
    },
    {
     "data": {
      "image/png": "[encoded data removed]",
      "text/plain": [
       "<matplotlib.figure.Figure at 0x7f6902445358>"
      ]
     },
     "metadata": {},
     "output_type": "display_data"
    }
   ],
   "source": [
    "print_svc_data(model='random_forest', n_estimators=rf_grid_cv.best_estimator_.n_estimators)"
   ]
  },
  {
   "cell_type": "markdown",
   "metadata": {},
   "source": [
    "AdaBoost"
   ]
  },
  {
   "cell_type": "code",
   "execution_count": 15,
   "metadata": {
    "collapsed": false
   },
   "outputs": [
    {
     "name": "stdout",
     "output_type": "stream",
     "text": [
      "Errors: train - 0.36065573770491804 | test - 0.5471698113207547\n",
      "Train data Confusion Matrix:\n",
      " [[71 43]\n",
      " [ 1  7]]\n",
      "Test data Confusion Matrix:\n",
      " [[22 28]\n",
      " [ 1  2]]\n",
      "Train data: Specificity=0.9861111111111112 | Sensitivity=0.14\n",
      "Test data: Specificity=0.9565217391304348 | Sensitivity=0.06666666666666665\n",
      "Feature ranking:\n",
      " 1. feature '  age' (1.000000)\n",
      " 2. feature 'sec_imp_Pricing' (0.000000)\n",
      " 3. feature 'sec_imp_Menu' (0.000000)\n",
      " 4. feature 'sec_imp_Environment' (0.000000)\n",
      " 5. feature 'prim_imp_Pricing' (0.000000)\n",
      " 6. feature 'prim_imp_Music' (0.000000)\n",
      " 7. feature 'prim_imp_Menu' (0.000000)\n",
      " 8. feature 'prim_imp_Environment' (0.000000)\n",
      " 9. feature 'freq_rarely' (0.000000)\n",
      "10. feature 'freq_Several_times_in_a_month' (0.000000)\n",
      "Area Under Curve:  0.511594202899\n"
     ]
    },
    {
     "data": {
      "image/png": "[encoded data removed]",
      "text/plain": [
       "<matplotlib.figure.Figure at 0x7f6903e8f668>"
      ]
     },
     "metadata": {},
     "output_type": "display_data"
    }
   ],
   "source": [
    "print_svc_data(model='ada_boost', n_estimators=adab_grid_cv.best_estimator_.n_estimators)"
   ]
  },
  {
   "cell_type": "markdown",
   "metadata": {},
   "source": [
    "Gradient Boosting"
   ]
  },
  {
   "cell_type": "code",
   "execution_count": 16,
   "metadata": {
    "collapsed": false
   },
   "outputs": [
    {
     "name": "stdout",
     "output_type": "stream",
     "text": [
      "Errors: train - 0.4098360655737705 | test - 0.5660377358490566\n",
      "Train data Confusion Matrix:\n",
      " [[72 50]\n",
      " [ 0  0]]\n",
      "Test data Confusion Matrix:\n",
      " [[23 30]\n",
      " [ 0  0]]\n",
      "Train data: Specificity=1.0 | Sensitivity=0.0\n",
      "Test data: Specificity=1.0 | Sensitivity=0.0\n",
      "Feature ranking:\n",
      " 1. feature '  age' (0.320982)\n",
      " 2. feature 'freq_rarely' (0.227989)\n",
      " 3. feature 'gender' (0.188439)\n",
      " 4. feature 'sec_imp_Music' (0.151611)\n",
      " 5. feature 'sec_imp_Pricing' (0.110979)\n",
      " 6. feature 'income' (0.000000)\n",
      " 7. feature 'freq_Several_times_in_a_month' (0.000000)\n",
      " 8. feature 'sec_imp_Environment' (0.000000)\n",
      " 9. feature 'prim_imp_Pricing' (0.000000)\n",
      "10. feature 'prim_imp_Music' (0.000000)\n",
      "Area Under Curve:  0.495652173913\n"
     ]
    },
    {
     "data": {
      "image/png": "[encoded data removed]",
      "text/plain": [
       "<matplotlib.figure.Figure at 0x7f6900372470>"
      ]
     },
     "metadata": {},
     "output_type": "display_data"
    }
   ],
   "source": [
    "print_svc_data(model='gradient_boosting', n_estimators=gdb_grid_cv.best_estimator_.n_estimators)"
   ]
  },
  {
   "cell_type": "markdown",
   "metadata": {
    "collapsed": true
   },
   "source": [
    "# PCA"
   ]
  },
  {
   "cell_type": "markdown",
   "metadata": {},
   "source": [
    "#### Сначала рассмотрим все компоненты исходной выборки и variance ratio, объясняемый каждой компонентой"
   ]
  },
  {
   "cell_type": "code",
   "execution_count": 17,
   "metadata": {
    "collapsed": false
   },
   "outputs": [
    {
     "name": "stdout",
     "output_type": "stream",
     "text": [
      "Variance ratio: [13.750251926301463, 12.519204425529917, 10.903914690661825, 9.6843632284116747, 7.7391364963116507, 6.586544699922749, 6.2976602381936599, 5.4940469209237301, 4.5040899393102585, 4.0736519915250717, 3.2745385492491756, 2.3274341798427765, 1.9912927426164639, 1.8244584485123641, 1.7380701446250237, 1.4750579733295259, 0.9813248784693539, 0.90863557150003249, 0.82816710352869272, 0.5222752158386379, 0.42652135971759347, 0.39480831518946397, 0.30679214756040435, 0.21615558011842356, 0.20288764502201917, 0.19078998856428925, 0.15074993263867775, 0.13822941603165434, 0.13446490383409765, 0.12629344825484323, 0.11931481135714053, 0.086718661782530598, 0.059325957094657857, 0.016294966910864295, 0.006533501319281927, 2.7117590453997833e-30, 3.9848116094346523e-31, 2.223441382602472e-31, 1.2878440603021875e-31, 9.2418808796832532e-32, 5.1485548338127467e-32]\n"
     ]
    }
   ],
   "source": [
    "from sklearn.decomposition import PCA\n",
    "test_pca = PCA(n_components=41)\n",
    "test_pca.fit(X)\n",
    "print(\"Variance ratio:\", list(map(lambda x: x * 100, test_pca.explained_variance_ratio_)))"
   ]
  },
  {
   "cell_type": "markdown",
   "metadata": {},
   "source": [
    "#### Возьмем только те компоненты, которые имеют порядок 10 и объясняют ~60% общей дисперсии"
   ]
  },
  {
   "cell_type": "markdown",
   "metadata": {},
   "source": [
    "Получим 7 главных компонент"
   ]
  },
  {
   "cell_type": "code",
   "execution_count": 18,
   "metadata": {
    "collapsed": false
   },
   "outputs": [
    {
     "name": "stdout",
     "output_type": "stream",
     "text": [
      "Variance ratio: ['14%', '13%', '11%', '10%', '8%', '7%', '6%']\n",
      "Variance: [ 0.5338941   0.48609505  0.42337666  0.37602397  0.30049481  0.25574203\n",
      "  0.24452524]\n",
      "Singular values: [ 9.63833871  9.19676781  8.58297957  8.08876823  7.23091256  6.67076557\n",
      "  6.52283616]\n"
     ]
    }
   ],
   "source": [
    "import math\n",
    "from sklearn.decomposition import PCA\n",
    "pca = PCA(n_components=7)\n",
    "pca.fit(X)\n",
    "print(\"Variance ratio:\", list(map(lambda x: str(int(x * 100 + 0.5)) + \"%\", pca.explained_variance_ratio_)))\n",
    "print(\"Variance:\", pca.explained_variance_)\n",
    "# print(\"Principal axes:\", pca.components_)\n",
    "print(\"Singular values:\", pca.singular_values_)"
   ]
  },
  {
   "cell_type": "markdown",
   "metadata": {},
   "source": [
    "\"Сожмем\" исходные данные, оставив только главныe компоненты"
   ]
  },
  {
   "cell_type": "code",
   "execution_count": 19,
   "metadata": {
    "collapsed": false
   },
   "outputs": [],
   "source": [
    "X_with_pca = pd.DataFrame(pca.transform(X))"
   ]
  },
  {
   "cell_type": "code",
   "execution_count": 20,
   "metadata": {
    "collapsed": false
   },
   "outputs": [
    {
     "data": {
      "text/plain": [
       "(175, 41)"
      ]
     },
     "execution_count": 20,
     "metadata": {},
     "output_type": "execute_result"
    }
   ],
   "source": [
    "X.shape"
   ]
  },
  {
   "cell_type": "code",
   "execution_count": 21,
   "metadata": {
    "collapsed": false
   },
   "outputs": [
    {
     "name": "stdout",
     "output_type": "stream",
     "text": [
      "(175, 7)\n"
     ]
    },
    {
     "data": {
      "text/html": [
       "<div>\n",
       "<style scoped>\n",
       "    .dataframe tbody tr th:only-of-type {\n",
       "        vertical-align: middle;\n",
       "    }\n",
       "\n",
       "    .dataframe tbody tr th {\n",
       "        vertical-align: top;\n",
       "    }\n",
       "\n",
       "    .dataframe thead th {\n",
       "        text-align: right;\n",
       "    }\n",
       "</style>\n",
       "<table border=\"1\" class=\"dataframe\">\n",
       "  <thead>\n",
       "    <tr style=\"text-align: right;\">\n",
       "      <th></th>\n",
       "      <th>0</th>\n",
       "      <th>1</th>\n",
       "      <th>2</th>\n",
       "      <th>3</th>\n",
       "      <th>4</th>\n",
       "      <th>5</th>\n",
       "      <th>6</th>\n",
       "    </tr>\n",
       "  </thead>\n",
       "  <tbody>\n",
       "    <tr>\n",
       "      <th>0</th>\n",
       "      <td>0.134563</td>\n",
       "      <td>-1.104269</td>\n",
       "      <td>-0.612171</td>\n",
       "      <td>0.159850</td>\n",
       "      <td>0.260709</td>\n",
       "      <td>0.429692</td>\n",
       "      <td>0.034214</td>\n",
       "    </tr>\n",
       "    <tr>\n",
       "      <th>1</th>\n",
       "      <td>0.840335</td>\n",
       "      <td>0.722744</td>\n",
       "      <td>0.148524</td>\n",
       "      <td>-0.673097</td>\n",
       "      <td>0.032362</td>\n",
       "      <td>0.888287</td>\n",
       "      <td>0.306567</td>\n",
       "    </tr>\n",
       "    <tr>\n",
       "      <th>2</th>\n",
       "      <td>-0.916632</td>\n",
       "      <td>0.118781</td>\n",
       "      <td>-0.028603</td>\n",
       "      <td>0.218110</td>\n",
       "      <td>-0.598056</td>\n",
       "      <td>-0.236084</td>\n",
       "      <td>0.538700</td>\n",
       "    </tr>\n",
       "    <tr>\n",
       "      <th>3</th>\n",
       "      <td>-0.362633</td>\n",
       "      <td>-1.052839</td>\n",
       "      <td>-0.554140</td>\n",
       "      <td>-0.584881</td>\n",
       "      <td>-0.074192</td>\n",
       "      <td>-0.337969</td>\n",
       "      <td>0.308242</td>\n",
       "    </tr>\n",
       "    <tr>\n",
       "      <th>4</th>\n",
       "      <td>0.471825</td>\n",
       "      <td>0.463484</td>\n",
       "      <td>1.288841</td>\n",
       "      <td>-0.055789</td>\n",
       "      <td>0.293284</td>\n",
       "      <td>-0.168592</td>\n",
       "      <td>0.271670</td>\n",
       "    </tr>\n",
       "  </tbody>\n",
       "</table>\n",
       "</div>"
      ],
      "text/plain": [
       "          0         1         2         3         4         5         6\n",
       "0  0.134563 -1.104269 -0.612171  0.159850  0.260709  0.429692  0.034214\n",
       "1  0.840335  0.722744  0.148524 -0.673097  0.032362  0.888287  0.306567\n",
       "2 -0.916632  0.118781 -0.028603  0.218110 -0.598056 -0.236084  0.538700\n",
       "3 -0.362633 -1.052839 -0.554140 -0.584881 -0.074192 -0.337969  0.308242\n",
       "4  0.471825  0.463484  1.288841 -0.055789  0.293284 -0.168592  0.271670"
      ]
     },
     "execution_count": 21,
     "metadata": {},
     "output_type": "execute_result"
    }
   ],
   "source": [
    "print(X_with_pca.shape)\n",
    "X_with_pca.head()"
   ]
  },
  {
   "cell_type": "markdown",
   "metadata": {},
   "source": [
    "Разделим сжатые данные таким же образом, как исходные (такие же размеры обучающей и тестовой выборок, то же случайное состояние (seed))"
   ]
  },
  {
   "cell_type": "code",
   "execution_count": 22,
   "metadata": {
    "collapsed": false
   },
   "outputs": [
    {
     "name": "stdout",
     "output_type": "stream",
     "text": [
      "122 53\n"
     ]
    },
    {
     "name": "stderr",
     "output_type": "stream",
     "text": [
      "/home/andrgolubev/.local/lib/python3.6/site-packages/sklearn/model_selection/_split.py:2026: FutureWarning: From version 0.21, test_size will always complement train_size unless both are specified.\n",
      "  FutureWarning)\n"
     ]
    }
   ],
   "source": [
    "X_train_pca, X_test_pca, _, _ = train_test_split(X_with_pca, Y, train_size=0.7, random_state=7)\n",
    "N_train_pca, _ = X_train_pca.shape\n",
    "N_test_pca, _ = X_test_pca.shape\n",
    "print(N_train_pca, N_test_pca)"
   ]
  },
  {
   "cell_type": "markdown",
   "metadata": {},
   "source": [
    "Применим классификатор для новых данных и посмотрим на ошибку"
   ]
  },
  {
   "cell_type": "code",
   "execution_count": 23,
   "metadata": {
    "collapsed": false
   },
   "outputs": [
    {
     "name": "stdout",
     "output_type": "stream",
     "text": [
      "Old data: 0.139344262295 0.509433962264\n",
      "New data: 0.0 0.433962264151\n"
     ]
    }
   ],
   "source": [
    "classifier = AdaBoostClassifier(n_estimators=100)\n",
    "classifier.fit(X_train_pca, Y_train)\n",
    "\n",
    "err_train = np.mean(Y_train != adab_model.predict(X_train))\n",
    "err_test = np.mean(Y_test != adab_model.predict(X_test))\n",
    "print(\"Old data:\", err_train, err_test)\n",
    "\n",
    "err_train = np.mean(Y_train != classifier.predict(X_train_pca))\n",
    "err_test = np.mean(Y_test != classifier.predict(X_test_pca))\n",
    "print(\"New data:\", err_train, err_test)"
   ]
  },
  {
   "cell_type": "markdown",
   "metadata": {},
   "source": [
    "Можно заметить, что ошибка уменьшилась для обеих выборок (traing, test)"
   ]
  },
  {
   "cell_type": "markdown",
   "metadata": {},
   "source": [
    "#### Найдем оптимальное количество главных компонент"
   ]
  },
  {
   "cell_type": "code",
   "execution_count": 24,
   "metadata": {
    "collapsed": false
   },
   "outputs": [
    {
     "data": {
      "text/plain": [
       "Pipeline(memory=None,\n",
       "     steps=[('reduce_dim', PCA(copy=True, iterated_power='auto', n_components=None, random_state=None,\n",
       "  svd_solver='auto', tol=0.0, whiten=False)), ('clf', AdaBoostClassifier(algorithm='SAMME.R', base_estimator=None,\n",
       "          learning_rate=1.0, n_estimators=50, random_state=None))])"
      ]
     },
     "execution_count": 24,
     "metadata": {},
     "output_type": "execute_result"
    }
   ],
   "source": [
    "from sklearn.pipeline import Pipeline\n",
    "pipeline_estimators = [('reduce_dim', PCA()), ('clf', AdaBoostClassifier())]\n",
    "ppl = Pipeline(pipeline_estimators)\n",
    "ppl"
   ]
  },
  {
   "cell_type": "code",
   "execution_count": 25,
   "metadata": {
    "collapsed": false
   },
   "outputs": [
    {
     "name": "stdout",
     "output_type": "stream",
     "text": [
      "[('reduce_dim', PCA(copy=True, iterated_power='auto', n_components=None, random_state=None,\n",
      "  svd_solver='auto', tol=0.0, whiten=False)), ('clf', AdaBoostClassifier(algorithm='SAMME.R', base_estimator=None,\n",
      "          learning_rate=1.0, n_estimators=50, random_state=None))]\n"
     ]
    }
   ],
   "source": [
    "print(ppl.steps)"
   ]
  },
  {
   "cell_type": "code",
   "execution_count": 26,
   "metadata": {
    "collapsed": false
   },
   "outputs": [
    {
     "data": {
      "text/plain": [
       "GridSearchCV(cv=None, error_score='raise',\n",
       "       estimator=Pipeline(memory=None,\n",
       "     steps=[('reduce_dim', PCA(copy=True, iterated_power='auto', n_components=None, random_state=None,\n",
       "  svd_solver='auto', tol=0.0, whiten=False)), ('clf', AdaBoostClassifier(algorithm='SAMME.R', base_estimator=None,\n",
       "          learning_rate=1.0, n_estimators=50, random_state=None))]),\n",
       "       fit_params=None, iid=True, n_jobs=2,\n",
       "       param_grid={'reduce_dim__n_components': [1, 2, 3, 4, 5, 6, 7, 8, 9, 10, 11, 12, 13, 14], 'clf__n_estimators': [1, 11, 21, 31, 41, 51, 61, 71, 81, 91, 101, 111, 121, 131, 141, 151, 161, 171, 181, 191, 201, 211, 221, 231, 241, 251, 261, 271, 281, 291, 301, 311, 321, 331, 341, 351, 361, 371, 381, 391, 401, 411, 421, 431, 441, 451, 461, 471, 481, 491]},\n",
       "       pre_dispatch='2*n_jobs', refit=True, return_train_score='warn',\n",
       "       scoring=None, verbose=0)"
      ]
     },
     "execution_count": 26,
     "metadata": {},
     "output_type": "execute_result"
    }
   ],
   "source": [
    "n_estimators_pca = []\n",
    "for i in range(1, 501, 10):\n",
    "    n_estimators_pca.append(i)\n",
    "    pass\n",
    "\n",
    "n_components_pca = []\n",
    "for i in range(1, 15, 1):\n",
    "    n_components_pca.append(i)\n",
    "    pass\n",
    "\n",
    "param_grid = dict(reduce_dim__n_components=n_components_pca, clf__n_estimators=n_estimators_pca)\n",
    "pca_grid_cv = GridSearchCV(ppl, param_grid, n_jobs=2)\n",
    "pca_grid_cv.fit(X_train, Y_train)"
   ]
  },
  {
   "cell_type": "code",
   "execution_count": 27,
   "metadata": {
    "collapsed": false
   },
   "outputs": [
    {
     "data": {
      "text/plain": [
       "Pipeline(memory=None,\n",
       "     steps=[('reduce_dim', PCA(copy=True, iterated_power='auto', n_components=5, random_state=None,\n",
       "  svd_solver='auto', tol=0.0, whiten=False)), ('clf', AdaBoostClassifier(algorithm='SAMME.R', base_estimator=None,\n",
       "          learning_rate=1.0, n_estimators=1, random_state=None))])"
      ]
     },
     "execution_count": 27,
     "metadata": {},
     "output_type": "execute_result"
    }
   ],
   "source": [
    "pca_grid_cv.best_estimator_"
   ]
  },
  {
   "cell_type": "code",
   "execution_count": 28,
   "metadata": {
    "collapsed": false
   },
   "outputs": [],
   "source": [
    "_, clf = pca_grid_cv.best_estimator_.steps[1]"
   ]
  },
  {
   "cell_type": "code",
   "execution_count": 29,
   "metadata": {
    "collapsed": true
   },
   "outputs": [],
   "source": [
    "_, pca_dim_red = pca_grid_cv.best_estimator_.steps[0]"
   ]
  },
  {
   "cell_type": "code",
   "execution_count": 30,
   "metadata": {
    "collapsed": false
   },
   "outputs": [
    {
     "name": "stdout",
     "output_type": "stream",
     "text": [
      "Optimal number of estimators: 1\n"
     ]
    }
   ],
   "source": [
    "print(\"Optimal number of estimators:\", clf.n_estimators)"
   ]
  },
  {
   "cell_type": "code",
   "execution_count": 31,
   "metadata": {
    "collapsed": false
   },
   "outputs": [
    {
     "name": "stdout",
     "output_type": "stream",
     "text": [
      "Optimal number of principal components: 5\n"
     ]
    }
   ],
   "source": [
    "print(\"Optimal number of principal components:\", pca_dim_red.n_components)"
   ]
  },
  {
   "cell_type": "code",
   "execution_count": 32,
   "metadata": {
    "collapsed": false
   },
   "outputs": [
    {
     "name": "stderr",
     "output_type": "stream",
     "text": [
      "/home/andrgolubev/.local/lib/python3.6/site-packages/sklearn/model_selection/_split.py:2026: FutureWarning: From version 0.21, test_size will always complement train_size unless both are specified.\n",
      "  FutureWarning)\n"
     ]
    },
    {
     "name": "stdout",
     "output_type": "stream",
     "text": [
      "Best number of estimators: 141\n",
      "Optimal result: 0.0 0.471698113208\n"
     ]
    }
   ],
   "source": [
    "opt_pca = PCA(n_components=pca_dim_red.n_components)\n",
    "opt_reduced_X = opt_pca.fit_transform(X)\n",
    "opt_X_train, opt_X_test, _, _ = train_test_split(opt_reduced_X, Y, train_size=0.7, random_state=7)\n",
    "\n",
    "adab_def = AdaBoostClassifier()\n",
    "gdb_grid_cv = GridSearchCV(adab_def, param_grid = {'n_estimators': n_estimators}, cv=None, n_jobs=4)\n",
    "gdb_grid_cv.fit(opt_X_train, Y_train)\n",
    "opt_best_n_estimators = gdb_grid_cv.best_estimator_.n_estimators\n",
    "print(\"Best number of estimators:\", opt_best_n_estimators)\n",
    "opt_clf = AdaBoostClassifier(n_estimators=opt_best_n_estimators)\n",
    "opt_clf.fit(opt_X_train, Y_train)\n",
    "err_train = np.mean(Y_train != opt_clf.predict(opt_X_train))\n",
    "err_test = np.mean(Y_test != opt_clf.predict(opt_X_test))\n",
    "print(\"Optimal result:\", err_train, err_test)"
   ]
  },
  {
   "cell_type": "code",
   "execution_count": null,
   "metadata": {
    "collapsed": true
   },
   "outputs": [],
   "source": []
  },
  {
   "cell_type": "markdown",
   "metadata": {},
   "source": [
    "# Выводы по проделанной работе"
   ]
  },
  {
   "cell_type": "markdown",
   "metadata": {
    "collapsed": true
   },
   "source": [
    "В ходе курса был произведен анализ данных опроса людей о Армянских пабах. Ссылка: [armenian pubs](https://www.kaggle.com/erikhambardzumyan/pubs)\n",
    "\n",
    "**Задача**: определить по выборке зависимость между количеством денег, потраченном в баре, и входными параметрами\n",
    "\n",
    "**Применение**: классифицировать потенциальное количество денег (качественное), которое потратит клиент, по его характеристике\n",
    "\n",
    "**Проблемы в ходе выполнения работы**:\n",
    "\n",
    "* Мало данных, чтобы построить качественный обобщенный классификатор\n",
    "* Некоторые признаки взаимосвязаны\n",
    "* Подавляющее большинство данных сгруппировано около мат. ожидания (получается некий аналог нормального распределения с малой дисперсией), что может плохо сказаться на ошибке и на классификации для данных, далеко расположенных от \"центра масс\"\n",
    "* Слабая корреляция между входными (признаки) и выходным (класс) параметрами\n",
    "* Экземпляры из выборки сильно пересекаются между собой"
   ]
  },
  {
   "cell_type": "markdown",
   "metadata": {},
   "source": [
    "### Получившиеся результаты\n",
    "\n",
    "* Наилучшим классификатором оказались деревья решений\n",
    "* Уменьшение размерности привело к уменьшению ошибки => в данной задаче лучше сократить число признаков, а потом уже проводить классификацию (оптимальное число признаков - 5)"
   ]
  },
  {
   "cell_type": "markdown",
   "metadata": {},
   "source": [
    "### Общие выводы\n",
    "\n",
    "- В различных задачах различные классификаторы будут оптимальными\n",
    "- Необходима предобработка данных в том или ином виде (нормализация, удаление нерелевантных признаков, заполнение пропусков и т.д.)\n",
    "- Для большинства задач полезно использовать методы сокращения размерности для устранения \"шумовых\", слабозначимых признаков\n",
    "- Для достижения наилучшего результата необходим tuning (подбор гиперпараметров алгоритма)\n",
    "- Нельзя забывать о переобучении и недообучении\n",
    "- Очень часто визуализация данных помогает в понимании сути задачи и в поиске оптимального решения"
   ]
  }
 ],
 "metadata": {
  "kernelspec": {
   "display_name": "Python 3",
   "language": "python",
   "name": "python3"
  },
  "language_info": {
   "codemirror_mode": {
    "name": "ipython",
    "version": 3
   },
   "file_extension": ".py",
   "mimetype": "text/x-python",
   "name": "python",
   "nbconvert_exporter": "python",
   "pygments_lexer": "ipython3",
   "version": "3.6.3"
  },
  "name": "_merged"
 },
 "nbformat": 4,
 "nbformat_minor": 2
}
