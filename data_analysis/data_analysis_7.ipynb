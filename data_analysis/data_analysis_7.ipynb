{
 "cells": [
  {
   "cell_type": "markdown",
   "metadata": {},
   "source": [
    "# Ансамбли решающих функций (классификаторов)\n",
    "\n",
    "На сегодняшний день существуют два подхода:\n",
    "    \n",
    "* Баггинг (построение независимых классификаторов):\n",
    "        - Bagging\n",
    "        - Random Forests\n",
    "        - ...\n",
    "* Бустинг (новые классификаторы знают об ошибках других и учатся на их ошибках):\n",
    "        - AdaBoost\n",
    "        - Gradient Boosting\n",
    "        - ...\n",
    "\n",
    "\n",
    "Dataset: [armenian pubs](https://www.kaggle.com/erikhambardzumyan/pubs)\n",
    "\n",
    "Подробнее о данных можно узнать в [первой работе](https://github.com/andrgolubev/python-sandbox/blob/master/data_analysis_1.ipynb)"
   ]
  },
  {
   "cell_type": "markdown",
   "metadata": {},
   "source": [
    "## Плюсы и минусы ансамблей деревьев решений\n",
    "\n",
    "** Плюсы **:\n",
    "\n",
    "* Все достоинства деревьев решений сохраняются (кроме возможности интерпретации решающего правила - но остается возможность определения значимости признаков)\n",
    "* Хорошее (часто рекордное) качество предсказания\n",
    "* Random Forest (почти) не переобучается (GBT, AdaBoost - чуть похуже)\n",
    "\n",
    "** Минусы **:\n",
    "\n",
    "* GBT, AdaBoost - много параметров, которые надо подбирать\n",
    "* Медленно обучаются (особенно GBT, который требует обычно много деревьев)"
   ]
  },
  {
   "cell_type": "code",
   "execution_count": 1,
   "metadata": {
    "collapsed": false
   },
   "outputs": [],
   "source": [
    "import numpy as np\n",
    "import matplotlib.pyplot as plt\n",
    "import pandas as pd\n",
    "%matplotlib inline"
   ]
  },
  {
   "cell_type": "code",
   "execution_count": 2,
   "metadata": {
    "collapsed": false
   },
   "outputs": [
    {
     "name": "stdout",
     "output_type": "stream",
     "text": [
      "122 53\n"
     ]
    },
    {
     "name": "stderr",
     "output_type": "stream",
     "text": [
      "/home/andrgolubev/.local/lib/python3.6/site-packages/sklearn/model_selection/_split.py:2026: FutureWarning: From version 0.21, test_size will always complement train_size unless both are specified.\n",
      "  FutureWarning)\n"
     ]
    }
   ],
   "source": [
    "import data_retrieve as dr\n",
    "X, data = dr.parse_and_prepare(\"armenian_pubs.csv\", sep=\",\", engine=\"python\")\n",
    "Y = None\n",
    "Y_numeric = data['wts']\n",
    "Y_mean = np.mean(Y_numeric)\n",
    "Y = pd.Series(['C1' if val <= Y_mean else 'C2' for val in Y_numeric])\n",
    "intY = pd.Series([0 if val is 'C1' else 1 for val in Y])\n",
    "feature_names = X.columns\n",
    "\n",
    "from sklearn.model_selection import train_test_split\n",
    "# constant random_state to have repeatability\n",
    "X_train, X_test, Y_train, Y_test = train_test_split(X, Y, train_size=0.7, random_state=7)\n",
    "N_train, _ = X_train.shape\n",
    "N_test, _ = X_test.shape\n",
    "intY = pd.Series([0 if val is 'C1' else 1 for val in Y_train])\n",
    "intY_test = pd.Series([0 if val is 'C1' else 1 for val in Y_test])\n",
    "print(N_train, N_test)"
   ]
  },
  {
   "cell_type": "markdown",
   "metadata": {},
   "source": [
    "## Random Forest\n",
    "\n",
    "Ансамбль параллельно обучаемых «независимых» деревьев решений.\n",
    "\n",
    "Независимое построение определенного количества $M = {}$`n_estimators` (по умолчанию, 10) деревьев:\n",
    "\n",
    "Генерация случайной bootstrap-подвыборки (по умолчанию, ее мощность равна $\\sqrt{N}$) из обучающей выборки и построение дерева решений по данной подвыборке (в каждом\n",
    "новом узле дерева переменная для разбиения выбирается не из всех признаков, а из\n",
    "случайно выбранного их подмножества небольшой мощности)."
   ]
  },
  {
   "cell_type": "code",
   "execution_count": 3,
   "metadata": {
    "collapsed": false
   },
   "outputs": [
    {
     "data": {
      "text/plain": [
       "RandomForestClassifier(bootstrap=True, class_weight=None, criterion='gini',\n",
       "            max_depth=None, max_features='auto', max_leaf_nodes=None,\n",
       "            min_impurity_decrease=0.0, min_impurity_split=None,\n",
       "            min_samples_leaf=1, min_samples_split=2,\n",
       "            min_weight_fraction_leaf=0.0, n_estimators=700, n_jobs=1,\n",
       "            oob_score=False, random_state=None, verbose=0,\n",
       "            warm_start=False)"
      ]
     },
     "execution_count": 3,
     "metadata": {},
     "output_type": "execute_result"
    }
   ],
   "source": [
    "from sklearn.ensemble import RandomForestClassifier\n",
    "rf_model = RandomForestClassifier(n_estimators=700)\n",
    "rf_model.fit(X_train, Y_train)"
   ]
  },
  {
   "cell_type": "code",
   "execution_count": 4,
   "metadata": {
    "collapsed": false
   },
   "outputs": [
    {
     "name": "stdout",
     "output_type": "stream",
     "text": [
      "0.0 0.528301886792\n"
     ]
    }
   ],
   "source": [
    "err_train = np.mean(Y_train != rf_model.predict(X_train))\n",
    "err_test = np.mean(Y_test != rf_model.predict(X_test))\n",
    "print(err_train, err_test)"
   ]
  },
  {
   "cell_type": "code",
   "execution_count": 5,
   "metadata": {
    "collapsed": true
   },
   "outputs": [],
   "source": [
    "n_estimators = []\n",
    "for i in range(1, 700, 10):\n",
    "    n_estimators.append(i)\n",
    "    pass"
   ]
  },
  {
   "cell_type": "markdown",
   "metadata": {
    "collapsed": false
   },
   "source": [
    "Оптимальное число эстиматоров:"
   ]
  },
  {
   "cell_type": "code",
   "execution_count": 6,
   "metadata": {
    "collapsed": false
   },
   "outputs": [
    {
     "name": "stdout",
     "output_type": "stream",
     "text": [
      "0.426229508197 161\n"
     ]
    }
   ],
   "source": [
    "from sklearn.model_selection import GridSearchCV\n",
    "rf_default = RandomForestClassifier()\n",
    "# using cross-validation\n",
    "rf_grid_cv = GridSearchCV(rf_default, param_grid = {'n_estimators': n_estimators}, cv=None, n_jobs=4)\n",
    "rf_grid_cv.fit(X_train, Y_train)\n",
    "best_cv_err = 1 - rf_grid_cv.best_score_\n",
    "best_n_estimators = rf_grid_cv.best_estimator_.n_estimators\n",
    "print(best_cv_err, best_n_estimators)"
   ]
  },
  {
   "cell_type": "markdown",
   "metadata": {},
   "source": [
    "## AdaBoost\n",
    "\n",
    "Будем использовать веса $w_1,w_2, \\dots ,w_N$.\n",
    "\n",
    "На первой итерации $w_i = 1/N$ ($i = 1, 2, \\dots ,N$) и алгоритм построения $f_1$ работает в\n",
    "обычном режиме.\n",
    "На $m$-й итерации увеличиваются веса тех прецедентов, на которых на $(m − 1)$-й\n",
    "итерации была допущена ошибка, и уменьшаются веса тех прецедентов, которые на\n",
    "предыдущей итерации были классифицированы правильно.\n",
    "\n",
    "На $m$-й итерации ищем классификатор $f_m$, минимизирующий ошибку\n",
    "$$\n",
    "{\\rm err}_m = \\sum_{f_m(x^{(i)}) \\ne y^{(i)}} w_i\n",
    "$$\n"
   ]
  },
  {
   "cell_type": "code",
   "execution_count": 7,
   "metadata": {
    "collapsed": false
   },
   "outputs": [
    {
     "data": {
      "text/plain": [
       "AdaBoostClassifier(algorithm='SAMME.R', base_estimator=None,\n",
       "          learning_rate=1.0, n_estimators=700, random_state=None)"
      ]
     },
     "execution_count": 7,
     "metadata": {},
     "output_type": "execute_result"
    }
   ],
   "source": [
    "from sklearn.ensemble import AdaBoostClassifier\n",
    "adab_model = AdaBoostClassifier(n_estimators=700)\n",
    "adab_model.fit(X_train, Y_train)"
   ]
  },
  {
   "cell_type": "code",
   "execution_count": 8,
   "metadata": {
    "collapsed": false
   },
   "outputs": [
    {
     "name": "stdout",
     "output_type": "stream",
     "text": [
      "0.139344262295 0.509433962264\n"
     ]
    }
   ],
   "source": [
    "err_train = np.mean(Y_train != adab_model.predict(X_train))\n",
    "err_test = np.mean(Y_test != adab_model.predict(X_test))\n",
    "print(err_train, err_test)"
   ]
  },
  {
   "cell_type": "markdown",
   "metadata": {},
   "source": [
    "Оптимальное число эстиматоров:"
   ]
  },
  {
   "cell_type": "code",
   "execution_count": 9,
   "metadata": {
    "collapsed": false
   },
   "outputs": [
    {
     "name": "stdout",
     "output_type": "stream",
     "text": [
      "0.434426229508 1\n"
     ]
    }
   ],
   "source": [
    "from sklearn.model_selection import GridSearchCV\n",
    "adab_default = AdaBoostClassifier()\n",
    "# using cross-validation\n",
    "adab_grid_cv = GridSearchCV(adab_default, param_grid = {'n_estimators': n_estimators}, cv=None, n_jobs=4)\n",
    "adab_grid_cv.fit(X_train, Y_train)\n",
    "best_cv_err = 1 - adab_grid_cv.best_score_\n",
    "best_n_estimators = adab_grid_cv.best_estimator_.n_estimators\n",
    "print(best_cv_err, best_n_estimators)"
   ]
  },
  {
   "cell_type": "markdown",
   "metadata": {},
   "source": [
    "## Gradient Boosting\n",
    "\n",
    "На каждой итерации строится новый классификатор, аппроксимирующий значение градиента функции потерь"
   ]
  },
  {
   "cell_type": "code",
   "execution_count": 10,
   "metadata": {
    "collapsed": false
   },
   "outputs": [
    {
     "data": {
      "text/plain": [
       "GradientBoostingClassifier(criterion='friedman_mse', init=None,\n",
       "              learning_rate=0.1, loss='deviance', max_depth=3,\n",
       "              max_features=None, max_leaf_nodes=None,\n",
       "              min_impurity_decrease=0.0, min_impurity_split=None,\n",
       "              min_samples_leaf=1, min_samples_split=2,\n",
       "              min_weight_fraction_leaf=0.0, n_estimators=700,\n",
       "              presort='auto', random_state=None, subsample=1.0, verbose=0,\n",
       "              warm_start=False)"
      ]
     },
     "execution_count": 10,
     "metadata": {},
     "output_type": "execute_result"
    }
   ],
   "source": [
    "from sklearn.ensemble import GradientBoostingClassifier\n",
    "gdb_model = GradientBoostingClassifier(n_estimators=700)\n",
    "gdb_model.fit(X_train, Y_train)"
   ]
  },
  {
   "cell_type": "code",
   "execution_count": 11,
   "metadata": {
    "collapsed": false
   },
   "outputs": [
    {
     "name": "stdout",
     "output_type": "stream",
     "text": [
      "0.0 0.547169811321\n"
     ]
    }
   ],
   "source": [
    "err_train = np.mean(Y_train != gdb_model.predict(X_train))\n",
    "err_test = np.mean(Y_test != gdb_model.predict(X_test))\n",
    "print(err_train, err_test)"
   ]
  },
  {
   "cell_type": "markdown",
   "metadata": {},
   "source": [
    "Оптимальное число эстиматоров:"
   ]
  },
  {
   "cell_type": "code",
   "execution_count": 12,
   "metadata": {
    "collapsed": false
   },
   "outputs": [
    {
     "name": "stdout",
     "output_type": "stream",
     "text": [
      "0.409836065574 1\n"
     ]
    }
   ],
   "source": [
    "from sklearn.model_selection import GridSearchCV\n",
    "gdb_default = GradientBoostingClassifier()\n",
    "# using cross-validation\n",
    "gdb_grid_cv = GridSearchCV(gdb_default, param_grid = {'n_estimators': n_estimators}, cv=None, n_jobs=4)\n",
    "gdb_grid_cv.fit(X_train, Y_train)\n",
    "best_cv_err = 1 - gdb_grid_cv.best_score_\n",
    "best_n_estimators = gdb_grid_cv.best_estimator_.n_estimators\n",
    "print(best_cv_err, best_n_estimators)"
   ]
  },
  {
   "cell_type": "markdown",
   "metadata": {},
   "source": [
    "### Общие параметры для каждого дерева"
   ]
  },
  {
   "cell_type": "code",
   "execution_count": 13,
   "metadata": {
    "collapsed": false
   },
   "outputs": [],
   "source": [
    "from ipywidgets import interact\n",
    "\n",
    "defines = {\n",
    "    'random_forest': {\n",
    "        'ctor': RandomForestClassifier\n",
    "    },\n",
    "    'ada_boost': {\n",
    "        'ctor': AdaBoostClassifier\n",
    "    },\n",
    "    'gradient_boosting': {\n",
    "        'ctor': GradientBoostingClassifier\n",
    "    }\n",
    "}\n",
    "\n",
    "names = X.columns\n",
    "_, n_features = X.shape\n",
    "def print_svc_data(model='random_forest', graph='roc', n_estimators=700):\n",
    "    model_defines = defines[model]\n",
    "    tree_model = model_defines['ctor'](n_estimators=n_estimators)\n",
    "    tree_model.fit(X_train, Y_train)\n",
    "    Y_train_predict = tree_model.predict(X_train)\n",
    "    Y_test_predict = tree_model.predict(X_test)\n",
    "    err_train = np.mean(Y_train != Y_train_predict)\n",
    "    err_test = np.mean(Y_test != Y_test_predict)\n",
    "    print(f\"Errors: train - {err_train} | test - {err_test}\")\n",
    "    from sklearn.metrics import confusion_matrix\n",
    "    cm_train = confusion_matrix(Y_train_predict, Y_train)\n",
    "    print(\"Train data Confusion Matrix:\\n\", cm_train)\n",
    "    cm_test = confusion_matrix(Y_test_predict, Y_test)\n",
    "    print(\"Test data Confusion Matrix:\\n\", cm_test)\n",
    "    \n",
    "    tnr_tr = 1 - float(cm_train[1, 0])/(cm_train[0, 0] + cm_train[1, 0])\n",
    "    tpr_tr = 1 - float(cm_train[0, 1])/(cm_train[0, 1] + cm_train[1, 1])\n",
    "    print(f\"Train data: Specificity={tnr_tr} | Sensitivity={tpr_tr}\")\n",
    "    tnr_tst = 1 - float(cm_test[1, 0])/(cm_test[0, 0] + cm_test[1, 0])\n",
    "    tpr_tst = 1 - float(cm_test[0, 1])/(cm_test[0, 1] + cm_test[1, 1])\n",
    "    print(f\"Test data: Specificity={tnr_tst} | Sensitivity={tpr_tst}\")\n",
    "    probability = tree_model.predict_proba(X_test)[:, 1]\n",
    "    from sklearn.metrics import roc_curve\n",
    "    fpr, tpr, thresholds = roc_curve(intY_test, probability)\n",
    "    \n",
    "    importances = tree_model.feature_importances_\n",
    "    indices = np.argsort(importances)[:-11:-1]\n",
    "    print(\"Feature ranking:\")\n",
    "    for f in range(10):\n",
    "        print(\"%2d. feature '%5s' (%f)\" % (f + 1, names[indices[f]], importances[indices[f]]))\n",
    "        \n",
    "    plt.hist(probability[Y_test == 'C1'], color = 'b', alpha = 0.4, normed = False)\n",
    "    plt.hist(probability[Y_test == 'C2'], color = 'r', alpha = 0.4, normed = False)\n",
    "    \n",
    "    from sklearn.metrics import roc_curve\n",
    "    fpr, tpr, thresholds = roc_curve(intY_test, probability)\n",
    "    plt.title('Receiver Operating Characteristic')\n",
    "    plt.plot(np.concatenate(([0], fpr)), np.concatenate(([0], tpr)))\n",
    "    #plt.plot(fpr, tpr)\n",
    "    plt.xlabel('False Positive Rate (1 - Specificity)')\n",
    "    plt.ylabel('True Positive Rate (Sensitivity)')\n",
    "    plt.plot([0, 1], [0, 1], 'k--')\n",
    "    plt.axis([-0.05, 1.05, -0.05, 1.05])\n",
    "    from sklearn.metrics import auc\n",
    "    print(\"Area Under Curve: \", auc(fpr, tpr))\n",
    "    pass\n",
    "\n",
    "# interact(print_svc_data, model=defines.keys(), graph=['hist', 'roc'], n_estimators=(1, 2500, 1))\n",
    "pass"
   ]
  },
  {
   "cell_type": "markdown",
   "metadata": {
    "collapsed": true
   },
   "source": [
    "RandomForest"
   ]
  },
  {
   "cell_type": "code",
   "execution_count": 14,
   "metadata": {
    "collapsed": false
   },
   "outputs": [
    {
     "name": "stdout",
     "output_type": "stream",
     "text": [
      "Errors: train - 0.0 | test - 0.5660377358490566\n",
      "Train data Confusion Matrix:\n",
      " [[72  0]\n",
      " [ 0 50]]\n",
      "Test data Confusion Matrix:\n",
      " [[16 23]\n",
      " [ 7  7]]\n",
      "Train data: Specificity=1.0 | Sensitivity=1.0\n",
      "Test data: Specificity=0.6956521739130435 | Sensitivity=0.23333333333333328\n",
      "Feature ranking:\n",
      " 1. feature 'income' (0.172544)\n",
      " 2. feature '  age' (0.132673)\n",
      " 3. feature 'gender' (0.053683)\n",
      " 4. feature 'occupation_Student' (0.051004)\n",
      " 5. feature 'sec_imp_Music' (0.042266)\n",
      " 6. feature 'freq_rarely' (0.040926)\n",
      " 7. feature 'sec_imp_Pricing' (0.038409)\n",
      " 8. feature 'freq_Several_times_in_a_month' (0.034144)\n",
      " 9. feature 'sec_imp_Menu' (0.033086)\n",
      "10. feature 'lifestyle_Busy' (0.032829)\n",
      "Area Under Curve:  0.484057971014\n"
     ]
    },
    {
     "data": {
      "image/png": "[encoded data removed]",
      "text/plain": [
       "<matplotlib.figure.Figure at 0x7f6902445358>"
      ]
     },
     "metadata": {},
     "output_type": "display_data"
    }
   ],
   "source": [
    "print_svc_data(model='random_forest', n_estimators=rf_grid_cv.best_estimator_.n_estimators)"
   ]
  },
  {
   "cell_type": "markdown",
   "metadata": {},
   "source": [
    "AdaBoost"
   ]
  },
  {
   "cell_type": "code",
   "execution_count": 15,
   "metadata": {
    "collapsed": false
   },
   "outputs": [
    {
     "name": "stdout",
     "output_type": "stream",
     "text": [
      "Errors: train - 0.36065573770491804 | test - 0.5471698113207547\n",
      "Train data Confusion Matrix:\n",
      " [[71 43]\n",
      " [ 1  7]]\n",
      "Test data Confusion Matrix:\n",
      " [[22 28]\n",
      " [ 1  2]]\n",
      "Train data: Specificity=0.9861111111111112 | Sensitivity=0.14\n",
      "Test data: Specificity=0.9565217391304348 | Sensitivity=0.06666666666666665\n",
      "Feature ranking:\n",
      " 1. feature '  age' (1.000000)\n",
      " 2. feature 'sec_imp_Pricing' (0.000000)\n",
      " 3. feature 'sec_imp_Menu' (0.000000)\n",
      " 4. feature 'sec_imp_Environment' (0.000000)\n",
      " 5. feature 'prim_imp_Pricing' (0.000000)\n",
      " 6. feature 'prim_imp_Music' (0.000000)\n",
      " 7. feature 'prim_imp_Menu' (0.000000)\n",
      " 8. feature 'prim_imp_Environment' (0.000000)\n",
      " 9. feature 'freq_rarely' (0.000000)\n",
      "10. feature 'freq_Several_times_in_a_month' (0.000000)\n",
      "Area Under Curve:  0.511594202899\n"
     ]
    },
    {
     "data": {
      "image/png": "[encoded data removed]",
      "text/plain": [
       "<matplotlib.figure.Figure at 0x7f6903e8f668>"
      ]
     },
     "metadata": {},
     "output_type": "display_data"
    }
   ],
   "source": [
    "print_svc_data(model='ada_boost', n_estimators=adab_grid_cv.best_estimator_.n_estimators)"
   ]
  },
  {
   "cell_type": "markdown",
   "metadata": {},
   "source": [
    "Gradient Boosting"
   ]
  },
  {
   "cell_type": "code",
   "execution_count": 16,
   "metadata": {
    "collapsed": false
   },
   "outputs": [
    {
     "name": "stdout",
     "output_type": "stream",
     "text": [
      "Errors: train - 0.4098360655737705 | test - 0.5660377358490566\n",
      "Train data Confusion Matrix:\n",
      " [[72 50]\n",
      " [ 0  0]]\n",
      "Test data Confusion Matrix:\n",
      " [[23 30]\n",
      " [ 0  0]]\n",
      "Train data: Specificity=1.0 | Sensitivity=0.0\n",
      "Test data: Specificity=1.0 | Sensitivity=0.0\n",
      "Feature ranking:\n",
      " 1. feature '  age' (0.320982)\n",
      " 2. feature 'freq_rarely' (0.227989)\n",
      " 3. feature 'gender' (0.188439)\n",
      " 4. feature 'sec_imp_Music' (0.151611)\n",
      " 5. feature 'sec_imp_Pricing' (0.110979)\n",
      " 6. feature 'income' (0.000000)\n",
      " 7. feature 'freq_Several_times_in_a_month' (0.000000)\n",
      " 8. feature 'sec_imp_Environment' (0.000000)\n",
      " 9. feature 'prim_imp_Pricing' (0.000000)\n",
      "10. feature 'prim_imp_Music' (0.000000)\n",
      "Area Under Curve:  0.495652173913\n"
     ]
    },
    {
     "data": {
      "image/png": "[encoded data removed]",
      "text/plain": [
       "<matplotlib.figure.Figure at 0x7f6900372470>"
      ]
     },
     "metadata": {},
     "output_type": "display_data"
    }
   ],
   "source": [
    "print_svc_data(model='gradient_boosting', n_estimators=gdb_grid_cv.best_estimator_.n_estimators)"
   ]
  },
  {
   "cell_type": "markdown",
   "metadata": {
    "collapsed": true
   },
   "source": [
    "# PCA"
   ]
  },
  {
   "cell_type": "markdown",
   "metadata": {},
   "source": [
    "#### Сначала рассмотрим все компоненты исходной выборки и variance ratio, объясняемый каждой компонентой"
   ]
  },
  {
   "cell_type": "code",
   "execution_count": 17,
   "metadata": {
    "collapsed": false
   },
   "outputs": [
    {
     "name": "stdout",
     "output_type": "stream",
     "text": [
      "Variance ratio: [13.750251926301463, 12.519204425529917, 10.903914690661825, 9.6843632284116747, 7.7391364963116507, 6.586544699922749, 6.2976602381936599, 5.4940469209237301, 4.5040899393102585, 4.0736519915250717, 3.2745385492491756, 2.3274341798427765, 1.9912927426164639, 1.8244584485123641, 1.7380701446250237, 1.4750579733295259, 0.9813248784693539, 0.90863557150003249, 0.82816710352869272, 0.5222752158386379, 0.42652135971759347, 0.39480831518946397, 0.30679214756040435, 0.21615558011842356, 0.20288764502201917, 0.19078998856428925, 0.15074993263867775, 0.13822941603165434, 0.13446490383409765, 0.12629344825484323, 0.11931481135714053, 0.086718661782530598, 0.059325957094657857, 0.016294966910864295, 0.006533501319281927, 2.7117590453997833e-30, 3.9848116094346523e-31, 2.223441382602472e-31, 1.2878440603021875e-31, 9.2418808796832532e-32, 5.1485548338127467e-32]\n"
     ]
    }
   ],
   "source": [
    "from sklearn.decomposition import PCA\n",
    "test_pca = PCA(n_components=41)\n",
    "test_pca.fit(X)\n",
    "print(\"Variance ratio:\", list(map(lambda x: x * 100, test_pca.explained_variance_ratio_)))"
   ]
  },
  {
   "cell_type": "markdown",
   "metadata": {},
   "source": [
    "#### Возьмем только те компоненты, которые имеют порядок 10 и объясняют ~60% общей дисперсии"
   ]
  },
  {
   "cell_type": "markdown",
   "metadata": {},
   "source": [
    "Получим 7 главных компонент"
   ]
  },
  {
   "cell_type": "code",
   "execution_count": 18,
   "metadata": {
    "collapsed": false
   },
   "outputs": [
    {
     "name": "stdout",
     "output_type": "stream",
     "text": [
      "Variance ratio: ['14%', '13%', '11%', '10%', '8%', '7%', '6%']\n",
      "Variance: [ 0.5338941   0.48609505  0.42337666  0.37602397  0.30049481  0.25574203\n",
      "  0.24452524]\n",
      "Singular values: [ 9.63833871  9.19676781  8.58297957  8.08876823  7.23091256  6.67076557\n",
      "  6.52283616]\n"
     ]
    }
   ],
   "source": [
    "import math\n",
    "from sklearn.decomposition import PCA\n",
    "pca = PCA(n_components=7)\n",
    "pca.fit(X)\n",
    "print(\"Variance ratio:\", list(map(lambda x: str(int(x * 100 + 0.5)) + \"%\", pca.explained_variance_ratio_)))\n",
    "print(\"Variance:\", pca.explained_variance_)\n",
    "# print(\"Principal axes:\", pca.components_)\n",
    "print(\"Singular values:\", pca.singular_values_)"
   ]
  },
  {
   "cell_type": "markdown",
   "metadata": {},
   "source": [
    "\"Сожмем\" исходные данные, оставив только главныe компоненты"
   ]
  },
  {
   "cell_type": "code",
   "execution_count": 19,
   "metadata": {
    "collapsed": false
   },
   "outputs": [],
   "source": [
    "X_with_pca = pd.DataFrame(pca.transform(X))"
   ]
  },
  {
   "cell_type": "code",
   "execution_count": 20,
   "metadata": {
    "collapsed": false
   },
   "outputs": [
    {
     "data": {
      "text/plain": [
       "(175, 41)"
      ]
     },
     "execution_count": 20,
     "metadata": {},
     "output_type": "execute_result"
    }
   ],
   "source": [
    "X.shape"
   ]
  },
  {
   "cell_type": "code",
   "execution_count": 21,
   "metadata": {
    "collapsed": false
   },
   "outputs": [
    {
     "name": "stdout",
     "output_type": "stream",
     "text": [
      "(175, 7)\n"
     ]
    },
    {
     "data": {
      "text/html": [
       "<div>\n",
       "<style scoped>\n",
       "    .dataframe tbody tr th:only-of-type {\n",
       "        vertical-align: middle;\n",
       "    }\n",
       "\n",
       "    .dataframe tbody tr th {\n",
       "        vertical-align: top;\n",
       "    }\n",
       "\n",
       "    .dataframe thead th {\n",
       "        text-align: right;\n",
       "    }\n",
       "</style>\n",
       "<table border=\"1\" class=\"dataframe\">\n",
       "  <thead>\n",
       "    <tr style=\"text-align: right;\">\n",
       "      <th></th>\n",
       "      <th>0</th>\n",
       "      <th>1</th>\n",
       "      <th>2</th>\n",
       "      <th>3</th>\n",
       "      <th>4</th>\n",
       "      <th>5</th>\n",
       "      <th>6</th>\n",
       "    </tr>\n",
       "  </thead>\n",
       "  <tbody>\n",
       "    <tr>\n",
       "      <th>0</th>\n",
       "      <td>0.134563</td>\n",
       "      <td>-1.104269</td>\n",
       "      <td>-0.612171</td>\n",
       "      <td>0.159850</td>\n",
       "      <td>0.260709</td>\n",
       "      <td>0.429692</td>\n",
       "      <td>0.034214</td>\n",
       "    </tr>\n",
       "    <tr>\n",
       "      <th>1</th>\n",
       "      <td>0.840335</td>\n",
       "      <td>0.722744</td>\n",
       "      <td>0.148524</td>\n",
       "      <td>-0.673097</td>\n",
       "      <td>0.032362</td>\n",
       "      <td>0.888287</td>\n",
       "      <td>0.306567</td>\n",
       "    </tr>\n",
       "    <tr>\n",
       "      <th>2</th>\n",
       "      <td>-0.916632</td>\n",
       "      <td>0.118781</td>\n",
       "      <td>-0.028603</td>\n",
       "      <td>0.218110</td>\n",
       "      <td>-0.598056</td>\n",
       "      <td>-0.236084</td>\n",
       "      <td>0.538700</td>\n",
       "    </tr>\n",
       "    <tr>\n",
       "      <th>3</th>\n",
       "      <td>-0.362633</td>\n",
       "      <td>-1.052839</td>\n",
       "      <td>-0.554140</td>\n",
       "      <td>-0.584881</td>\n",
       "      <td>-0.074192</td>\n",
       "      <td>-0.337969</td>\n",
       "      <td>0.308242</td>\n",
       "    </tr>\n",
       "    <tr>\n",
       "      <th>4</th>\n",
       "      <td>0.471825</td>\n",
       "      <td>0.463484</td>\n",
       "      <td>1.288841</td>\n",
       "      <td>-0.055789</td>\n",
       "      <td>0.293284</td>\n",
       "      <td>-0.168592</td>\n",
       "      <td>0.271670</td>\n",
       "    </tr>\n",
       "  </tbody>\n",
       "</table>\n",
       "</div>"
      ],
      "text/plain": [
       "          0         1         2         3         4         5         6\n",
       "0  0.134563 -1.104269 -0.612171  0.159850  0.260709  0.429692  0.034214\n",
       "1  0.840335  0.722744  0.148524 -0.673097  0.032362  0.888287  0.306567\n",
       "2 -0.916632  0.118781 -0.028603  0.218110 -0.598056 -0.236084  0.538700\n",
       "3 -0.362633 -1.052839 -0.554140 -0.584881 -0.074192 -0.337969  0.308242\n",
       "4  0.471825  0.463484  1.288841 -0.055789  0.293284 -0.168592  0.271670"
      ]
     },
     "execution_count": 21,
     "metadata": {},
     "output_type": "execute_result"
    }
   ],
   "source": [
    "print(X_with_pca.shape)\n",
    "X_with_pca.head()"
   ]
  },
  {
   "cell_type": "markdown",
   "metadata": {},
   "source": [
    "Разделим сжатые данные таким же образом, как исходные (такие же размеры обучающей и тестовой выборок, то же случайное состояние (seed))"
   ]
  },
  {
   "cell_type": "code",
   "execution_count": 22,
   "metadata": {
    "collapsed": false
   },
   "outputs": [
    {
     "name": "stdout",
     "output_type": "stream",
     "text": [
      "122 53\n"
     ]
    },
    {
     "name": "stderr",
     "output_type": "stream",
     "text": [
      "/home/andrgolubev/.local/lib/python3.6/site-packages/sklearn/model_selection/_split.py:2026: FutureWarning: From version 0.21, test_size will always complement train_size unless both are specified.\n",
      "  FutureWarning)\n"
     ]
    }
   ],
   "source": [
    "X_train_pca, X_test_pca, _, _ = train_test_split(X_with_pca, Y, train_size=0.7, random_state=7)\n",
    "N_train_pca, _ = X_train_pca.shape\n",
    "N_test_pca, _ = X_test_pca.shape\n",
    "print(N_train_pca, N_test_pca)"
   ]
  },
  {
   "cell_type": "markdown",
   "metadata": {},
   "source": [
    "Применим классификатор для новых данных и посмотрим на ошибку"
   ]
  },
  {
   "cell_type": "code",
   "execution_count": 23,
   "metadata": {
    "collapsed": false
   },
   "outputs": [
    {
     "name": "stdout",
     "output_type": "stream",
     "text": [
      "Old data: 0.139344262295 0.509433962264\n",
      "New data: 0.0 0.433962264151\n"
     ]
    }
   ],
   "source": [
    "classifier = AdaBoostClassifier(n_estimators=100)\n",
    "classifier.fit(X_train_pca, Y_train)\n",
    "\n",
    "err_train = np.mean(Y_train != adab_model.predict(X_train))\n",
    "err_test = np.mean(Y_test != adab_model.predict(X_test))\n",
    "print(\"Old data:\", err_train, err_test)\n",
    "\n",
    "err_train = np.mean(Y_train != classifier.predict(X_train_pca))\n",
    "err_test = np.mean(Y_test != classifier.predict(X_test_pca))\n",
    "print(\"New data:\", err_train, err_test)"
   ]
  },
  {
   "cell_type": "markdown",
   "metadata": {},
   "source": [
    "Можно заметить, что ошибка уменьшилась для обеих выборок (traing, test)"
   ]
  },
  {
   "cell_type": "markdown",
   "metadata": {},
   "source": [
    "#### Найдем оптимальное количество главных компонент"
   ]
  },
  {
   "cell_type": "code",
   "execution_count": 24,
   "metadata": {
    "collapsed": false
   },
   "outputs": [
    {
     "data": {
      "text/plain": [
       "Pipeline(memory=None,\n",
       "     steps=[('reduce_dim', PCA(copy=True, iterated_power='auto', n_components=None, random_state=None,\n",
       "  svd_solver='auto', tol=0.0, whiten=False)), ('clf', AdaBoostClassifier(algorithm='SAMME.R', base_estimator=None,\n",
       "          learning_rate=1.0, n_estimators=50, random_state=None))])"
      ]
     },
     "execution_count": 24,
     "metadata": {},
     "output_type": "execute_result"
    }
   ],
   "source": [
    "from sklearn.pipeline import Pipeline\n",
    "pipeline_estimators = [('reduce_dim', PCA()), ('clf', AdaBoostClassifier())]\n",
    "ppl = Pipeline(pipeline_estimators)\n",
    "ppl"
   ]
  },
  {
   "cell_type": "code",
   "execution_count": 25,
   "metadata": {
    "collapsed": false
   },
   "outputs": [
    {
     "name": "stdout",
     "output_type": "stream",
     "text": [
      "[('reduce_dim', PCA(copy=True, iterated_power='auto', n_components=None, random_state=None,\n",
      "  svd_solver='auto', tol=0.0, whiten=False)), ('clf', AdaBoostClassifier(algorithm='SAMME.R', base_estimator=None,\n",
      "          learning_rate=1.0, n_estimators=50, random_state=None))]\n"
     ]
    }
   ],
   "source": [
    "print(ppl.steps)"
   ]
  },
  {
   "cell_type": "code",
   "execution_count": 26,
   "metadata": {
    "collapsed": false
   },
   "outputs": [
    {
     "data": {
      "text/plain": [
       "GridSearchCV(cv=None, error_score='raise',\n",
       "       estimator=Pipeline(memory=None,\n",
       "     steps=[('reduce_dim', PCA(copy=True, iterated_power='auto', n_components=None, random_state=None,\n",
       "  svd_solver='auto', tol=0.0, whiten=False)), ('clf', AdaBoostClassifier(algorithm='SAMME.R', base_estimator=None,\n",
       "          learning_rate=1.0, n_estimators=50, random_state=None))]),\n",
       "       fit_params=None, iid=True, n_jobs=2,\n",
       "       param_grid={'reduce_dim__n_components': [1, 2, 3, 4, 5, 6, 7, 8, 9, 10, 11, 12, 13, 14], 'clf__n_estimators': [1, 11, 21, 31, 41, 51, 61, 71, 81, 91, 101, 111, 121, 131, 141, 151, 161, 171, 181, 191, 201, 211, 221, 231, 241, 251, 261, 271, 281, 291, 301, 311, 321, 331, 341, 351, 361, 371, 381, 391, 401, 411, 421, 431, 441, 451, 461, 471, 481, 491]},\n",
       "       pre_dispatch='2*n_jobs', refit=True, return_train_score='warn',\n",
       "       scoring=None, verbose=0)"
      ]
     },
     "execution_count": 26,
     "metadata": {},
     "output_type": "execute_result"
    }
   ],
   "source": [
    "n_estimators_pca = []\n",
    "for i in range(1, 501, 10):\n",
    "    n_estimators_pca.append(i)\n",
    "    pass\n",
    "\n",
    "n_components_pca = []\n",
    "for i in range(1, 15, 1):\n",
    "    n_components_pca.append(i)\n",
    "    pass\n",
    "\n",
    "param_grid = dict(reduce_dim__n_components=n_components_pca, clf__n_estimators=n_estimators_pca)\n",
    "pca_grid_cv = GridSearchCV(ppl, param_grid, n_jobs=2)\n",
    "pca_grid_cv.fit(X_train, Y_train)"
   ]
  },
  {
   "cell_type": "code",
   "execution_count": 27,
   "metadata": {
    "collapsed": false
   },
   "outputs": [
    {
     "data": {
      "text/plain": [
       "Pipeline(memory=None,\n",
       "     steps=[('reduce_dim', PCA(copy=True, iterated_power='auto', n_components=5, random_state=None,\n",
       "  svd_solver='auto', tol=0.0, whiten=False)), ('clf', AdaBoostClassifier(algorithm='SAMME.R', base_estimator=None,\n",
       "          learning_rate=1.0, n_estimators=1, random_state=None))])"
      ]
     },
     "execution_count": 27,
     "metadata": {},
     "output_type": "execute_result"
    }
   ],
   "source": [
    "pca_grid_cv.best_estimator_"
   ]
  },
  {
   "cell_type": "code",
   "execution_count": 28,
   "metadata": {
    "collapsed": false
   },
   "outputs": [],
   "source": [
    "_, clf = pca_grid_cv.best_estimator_.steps[1]"
   ]
  },
  {
   "cell_type": "code",
   "execution_count": 29,
   "metadata": {
    "collapsed": true
   },
   "outputs": [],
   "source": [
    "_, pca_dim_red = pca_grid_cv.best_estimator_.steps[0]"
   ]
  },
  {
   "cell_type": "code",
   "execution_count": 30,
   "metadata": {
    "collapsed": false
   },
   "outputs": [
    {
     "name": "stdout",
     "output_type": "stream",
     "text": [
      "Optimal number of estimators: 1\n"
     ]
    }
   ],
   "source": [
    "print(\"Optimal number of estimators:\", clf.n_estimators)"
   ]
  },
  {
   "cell_type": "code",
   "execution_count": 31,
   "metadata": {
    "collapsed": false
   },
   "outputs": [
    {
     "name": "stdout",
     "output_type": "stream",
     "text": [
      "Optimal number of principal components: 5\n"
     ]
    }
   ],
   "source": [
    "print(\"Optimal number of principal components:\", pca_dim_red.n_components)"
   ]
  },
  {
   "cell_type": "code",
   "execution_count": 32,
   "metadata": {
    "collapsed": false
   },
   "outputs": [
    {
     "name": "stderr",
     "output_type": "stream",
     "text": [
      "/home/andrgolubev/.local/lib/python3.6/site-packages/sklearn/model_selection/_split.py:2026: FutureWarning: From version 0.21, test_size will always complement train_size unless both are specified.\n",
      "  FutureWarning)\n"
     ]
    },
    {
     "name": "stdout",
     "output_type": "stream",
     "text": [
      "Best number of estimators: 141\n",
      "Optimal result: 0.0 0.471698113208\n"
     ]
    }
   ],
   "source": [
    "opt_pca = PCA(n_components=pca_dim_red.n_components)\n",
    "opt_reduced_X = opt_pca.fit_transform(X)\n",
    "opt_X_train, opt_X_test, _, _ = train_test_split(opt_reduced_X, Y, train_size=0.7, random_state=7)\n",
    "\n",
    "adab_def = AdaBoostClassifier()\n",
    "gdb_grid_cv = GridSearchCV(adab_def, param_grid = {'n_estimators': n_estimators}, cv=None, n_jobs=4)\n",
    "gdb_grid_cv.fit(opt_X_train, Y_train)\n",
    "opt_best_n_estimators = gdb_grid_cv.best_estimator_.n_estimators\n",
    "print(\"Best number of estimators:\", opt_best_n_estimators)\n",
    "opt_clf = AdaBoostClassifier(n_estimators=opt_best_n_estimators)\n",
    "opt_clf.fit(opt_X_train, Y_train)\n",
    "err_train = np.mean(Y_train != opt_clf.predict(opt_X_train))\n",
    "err_test = np.mean(Y_test != opt_clf.predict(opt_X_test))\n",
    "print(\"Optimal result:\", err_train, err_test)"
   ]
  },
  {
   "cell_type": "code",
   "execution_count": null,
   "metadata": {
    "collapsed": true
   },
   "outputs": [],
   "source": []
  }
 ],
 "metadata": {
  "kernelspec": {
   "display_name": "Python 3",
   "language": "python",
   "name": "python3"
  },
  "language_info": {
   "codemirror_mode": {
    "name": "ipython",
    "version": 3
   },
   "file_extension": ".py",
   "mimetype": "text/x-python",
   "name": "python",
   "nbconvert_exporter": "python",
   "pygments_lexer": "ipython3",
   "version": "3.6.3"
  }
 },
 "nbformat": 4,
 "nbformat_minor": 2
}
